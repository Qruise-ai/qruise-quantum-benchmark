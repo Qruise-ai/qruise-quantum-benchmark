{
 "cells": [
  {
   "cell_type": "code",
   "execution_count": 68,
   "metadata": {
    "tags": [
     "parameters"
    ]
   },
   "outputs": [],
   "source": [
    "# Physical parameters\n",
    "rabi_frequency = 2.5 * 1e3  # Hz 2pi\n",
    "trapping_frequency = 120 * 1e3  # Trapping frequency Hz 2pi\n",
    "correction = 1.46\n",
    "# Parameter eta: Lamb-Dicke parameter\n",
    "eta = None\n",
    "# Anharmonicity trap\n",
    "anharmonicity = 500 # Hz\n",
    "# Probability to be in the ground state for the motional state\n",
    "p0 = 0.84  # 84\n",
    "# -------------------\n",
    "# Numerical parameters\n",
    "fock_space_dimension = 6  # number of transverse modes\n",
    "resolution = 5e5\n",
    "# -------------------\n",
    "# Simulation\n",
    "equation = \"lindblad\""
   ]
  },
  {
   "cell_type": "code",
   "execution_count": 69,
   "metadata": {},
   "outputs": [],
   "source": [
    "import numpy as np\n",
    "import tensorflow as tf\n",
    "\n",
    "# Mute warning messages\n",
    "tf.get_logger().setLevel(\"FATAL\")"
   ]
  },
  {
   "cell_type": "markdown",
   "metadata": {},
   "source": [
    "# Model for single qubit gate in 1D"
   ]
  },
  {
   "cell_type": "markdown",
   "metadata": {},
   "source": [
    "Main simulation parameters are defined in the first cell and massaged in the following one."
   ]
  },
  {
   "cell_type": "code",
   "execution_count": 70,
   "metadata": {},
   "outputs": [],
   "source": [
    "# Physical parameters\n",
    "from qruise.toolset.libraries.rydberg.utils import get_lamb_dicke_parameter\n",
    "from qruise.toolset.libraries.rydberg.utils import get_anharmonicity_z\n",
    "\n",
    "eta = (\n",
    "    eta if eta is not None else get_lamb_dicke_parameter(2 * np.pi * trapping_frequency)\n",
    ")\n",
    "# Anharmonicity trap\n",
    "anharmonicity = anharmonicity if anharmonicity is not None else get_anharmonicity_z()"
   ]
  },
  {
   "cell_type": "markdown",
   "metadata": {},
   "source": [
    "## Model definition"
   ]
  },
  {
   "cell_type": "code",
   "execution_count": 71,
   "metadata": {},
   "outputs": [],
   "source": [
    "from qruise.toolset.libraries.rydberg import ModelBuilder\n",
    "from qruise.toolset.libraries.rydberg.subsystems import motional_state, spin\n",
    "from qruise.toolset.libraries.rydberg.drives import rydberg_motional_drive\n",
    "\n",
    "# Create the model builder\n",
    "model_builder = ModelBuilder()\n",
    "\n",
    "# Add motional state\n",
    "motional_st = model_builder.add_subsystem(\n",
    "    motional_state,\n",
    "    name=\"motional_state\",\n",
    "    fock_space_dimension=fock_space_dimension,\n",
    "    frequency=trapping_frequency,\n",
    "    anharmonicity=anharmonicity,\n",
    "    p0=p0,\n",
    ")\n",
    "# Add spin\n",
    "spin_st = model_builder.add_subsystem(spin, name=\"spin\", t1=270e-3, t2star=100e-3)\n",
    "# Create the drive\n",
    "drive_xy_0 = model_builder.add_drive(\n",
    "    rydberg_motional_drive,\n",
    "    name=\"drive_xy_0\",\n",
    "    motional_state=motional_st,\n",
    "    spin=spin_st,\n",
    "    omega=rabi_frequency,\n",
    "    eta=eta,\n",
    "    correction=correction,\n",
    "    relative_intensity_error=0.0,\n",
    ")\n",
    "\n",
    "drive_xy_1 = model_builder.add_drive(\n",
    "    rydberg_motional_drive,\n",
    "    name=\"drive_xy_1\",\n",
    "    motional_state=motional_st,\n",
    "    spin=spin_st,\n",
    "    omega=rabi_frequency,\n",
    "    eta=eta,\n",
    "    correction=correction,\n",
    "    relative_intensity_error=0.005,\n",
    ")\n",
    "\n",
    "drive_xy_2 = model_builder.add_drive(\n",
    "    rydberg_motional_drive,\n",
    "    name=\"drive_xy_2\",\n",
    "    motional_state=motional_st,\n",
    "    spin=spin_st,\n",
    "    omega=rabi_frequency,\n",
    "    eta=eta,\n",
    "    correction=correction,\n",
    "    relative_intensity_error=-0.005,\n",
    ")\n",
    "\n",
    "\n",
    "# Get the model and the generator\n",
    "model = model_builder.get_model(equation=equation)\n",
    "generator = model_builder.get_signal_generator()"
   ]
  },
  {
   "cell_type": "code",
   "execution_count": 72,
   "metadata": {},
   "outputs": [],
   "source": [
    "theta = np.pi"
   ]
  },
  {
   "cell_type": "markdown",
   "metadata": {},
   "source": [
    "Define the envelopes for the pulses"
   ]
  },
  {
   "cell_type": "code",
   "execution_count": 73,
   "metadata": {},
   "outputs": [],
   "source": [
    "from qruise.toolset.builders.sequence_builder import SequenceBuilder\n",
    "from qruise.toolset.libraries.rydberg.instructions import r_gate\n",
    "from qruise.toolset.libraries.rydberg.envelopes import rect_envelope\n",
    "from qruise.toolset.objects import Quantity\n",
    "\n",
    "seq_builder = SequenceBuilder()\n",
    "t_pi = np.pi / (2 * np.pi * rabi_frequency)"
   ]
  },
  {
   "cell_type": "code",
   "execution_count": 74,
   "metadata": {},
   "outputs": [],
   "source": [
    "t_pi_2 = (np.pi / 2) / (2 * np.pi * rabi_frequency)\n",
    "R90xp_list = [\n",
    "    seq_builder.add_gate(\n",
    "        r_gate,\n",
    "        name=\"rx90p\" + str(index),\n",
    "        drive=drive_xy,\n",
    "        duration=t_pi_2,\n",
    "        phase_envelope=rect_envelope(name=\"null_pi\", amp=0.0, t_final=t_pi_2),\n",
    "        omega_envelope=rect_envelope(name=\"square_pi\", amp=1.0, t_final=t_pi_2),\n",
    "        targets=[0]\n",
    "    )\n",
    "    for index, drive_xy in enumerate([drive_xy_0, drive_xy_1, drive_xy_2])\n",
    "]\n",
    "\n",
    "R90xm_list = [\n",
    "    seq_builder.add_gate(\n",
    "        r_gate,\n",
    "        name=\"rx90m\" + str(index),\n",
    "        drive=drive_xy,\n",
    "        duration=t_pi_2,\n",
    "        phase_envelope=rect_envelope(name=\"null_pi\", amp=np.pi, t_final=t_pi_2),\n",
    "        omega_envelope=rect_envelope(name=\"square_pi\", amp=1.0, t_final=t_pi),\n",
    "        targets=[0]\n",
    "    )\n",
    "    for index, drive_xy in enumerate([drive_xy_0, drive_xy_1, drive_xy_2])\n",
    "]\n",
    "\n",
    "R90yp_list = [\n",
    "    seq_builder.add_gate(\n",
    "        r_gate,\n",
    "        name=\"ry90p\" + str(index),\n",
    "        drive=drive_xy,\n",
    "        duration=t_pi_2,\n",
    "        phase_envelope=rect_envelope(name=\"null_pi\", amp=np.pi / 2, t_final=t_pi_2),\n",
    "        omega_envelope=rect_envelope(name=\"square_pi\", amp=1.0, t_final=t_pi_2),\n",
    "        targets=[0]\n",
    "    )\n",
    "    for index, drive_xy in enumerate([drive_xy_0, drive_xy_1, drive_xy_2])\n",
    "]\n",
    "\n",
    "R90ym_list = [\n",
    "    seq_builder.add_gate(\n",
    "        r_gate,\n",
    "        name=\"ry90m\" + str(index),\n",
    "        drive=drive_xy,\n",
    "        duration=t_pi_2,\n",
    "        phase_envelope=rect_envelope(name=\"null_pi\", amp=-np.pi / 2, t_final=t_pi_2),\n",
    "        omega_envelope=rect_envelope(name=\"square_pi\", amp=1.0, t_final=t_pi_2),\n",
    "        targets=[0]\n",
    "    )\n",
    "    for index, drive_xy in enumerate([drive_xy_0, drive_xy_1, drive_xy_2])\n",
    "]"
   ]
  },
  {
   "cell_type": "code",
   "execution_count": 75,
   "metadata": {},
   "outputs": [
    {
     "data": {
      "text/plain": [
       "[Instruction(rx90p0[0]),\n",
       " Instruction(rx90p1[0]),\n",
       " Instruction(rx90p2[0]),\n",
       " Instruction(rx90m0[0]),\n",
       " Instruction(rx90m1[0]),\n",
       " Instruction(rx90m2[0]),\n",
       " Instruction(ry90p0[0]),\n",
       " Instruction(ry90p1[0]),\n",
       " Instruction(ry90p2[0]),\n",
       " Instruction(ry90m0[0]),\n",
       " Instruction(ry90m1[0]),\n",
       " Instruction(ry90m2[0])]"
      ]
     },
     "execution_count": 75,
     "metadata": {},
     "output_type": "execute_result"
    }
   ],
   "source": [
    "seq_builder.sequence"
   ]
  },
  {
   "cell_type": "markdown",
   "metadata": {},
   "source": [
    "Create the parameter map and the experiment"
   ]
  },
  {
   "cell_type": "code",
   "execution_count": 76,
   "metadata": {},
   "outputs": [],
   "source": [
    "from qruise.toolset.parametermap import ParameterMap\n",
    "\n",
    "parameter_map = ParameterMap(\n",
    "    instructions=seq_builder.sequence, model=model, generator=generator\n",
    ")\n",
    "gateset_opt_map = []\n",
    "parameter_map.set_opt_map(gateset_opt_map)"
   ]
  },
  {
   "cell_type": "code",
   "execution_count": 77,
   "metadata": {},
   "outputs": [],
   "source": [
    "from qruise.toolset.experiment import Experiment\n",
    "\n",
    "simulation = Experiment(pmap=parameter_map, sim_res=resolution)"
   ]
  },
  {
   "cell_type": "markdown",
   "metadata": {},
   "source": [
    "Draw the dynamics"
   ]
  },
  {
   "cell_type": "code",
   "execution_count": 78,
   "metadata": {},
   "outputs": [],
   "source": [
    "initial_state = model.adjust_init_state(model.get_thermal_state())"
   ]
  },
  {
   "cell_type": "code",
   "execution_count": 79,
   "metadata": {},
   "outputs": [],
   "source": [
    "propagators = simulation.compute_propagators()"
   ]
  },
  {
   "cell_type": "code",
   "execution_count": 80,
   "metadata": {},
   "outputs": [
    {
     "data": {
      "text/plain": [
       "{'rx90m2[0]': TensorPropagator(Instruction(rx90m2[0])),\n",
       " 'ry90p0[0]': TensorPropagator(Instruction(ry90p0[0])),\n",
       " 'ry90p1[0]': TensorPropagator(Instruction(ry90p1[0])),\n",
       " 'rx90p1[0]': TensorPropagator(Instruction(rx90p1[0])),\n",
       " 'rx90p0[0]': TensorPropagator(Instruction(rx90p0[0])),\n",
       " 'ry90m2[0]': TensorPropagator(Instruction(ry90m2[0])),\n",
       " 'ry90p2[0]': TensorPropagator(Instruction(ry90p2[0])),\n",
       " 'ry90m1[0]': TensorPropagator(Instruction(ry90m1[0])),\n",
       " 'rx90m0[0]': TensorPropagator(Instruction(rx90m0[0])),\n",
       " 'rx90p2[0]': TensorPropagator(Instruction(rx90p2[0])),\n",
       " 'rx90m1[0]': TensorPropagator(Instruction(rx90m1[0])),\n",
       " 'ry90m0[0]': TensorPropagator(Instruction(ry90m0[0]))}"
      ]
     },
     "execution_count": 80,
     "metadata": {},
     "output_type": "execute_result"
    }
   ],
   "source": [
    "propagators"
   ]
  },
  {
   "cell_type": "code",
   "execution_count": 81,
   "metadata": {},
   "outputs": [],
   "source": [
    "trace_func_atom = simulation.ptrace_transform(spin_st.name)\n",
    "trace_func_motional_state = simulation.ptrace_transform(motional_st.name)"
   ]
  },
  {
   "cell_type": "code",
   "execution_count": 82,
   "metadata": {},
   "outputs": [
    {
     "data": {
      "text/plain": [
       "[Instruction(rx90p0[0]),\n",
       " Instruction(rx90p1[0]),\n",
       " Instruction(rx90p2[0]),\n",
       " Instruction(rx90m0[0]),\n",
       " Instruction(rx90m1[0]),\n",
       " Instruction(rx90m2[0]),\n",
       " Instruction(ry90p0[0]),\n",
       " Instruction(ry90p1[0]),\n",
       " Instruction(ry90p2[0]),\n",
       " Instruction(ry90m0[0]),\n",
       " Instruction(ry90m1[0]),\n",
       " Instruction(ry90m2[0])]"
      ]
     },
     "execution_count": 82,
     "metadata": {},
     "output_type": "execute_result"
    }
   ],
   "source": [
    "seq_builder.sequence"
   ]
  },
  {
   "cell_type": "markdown",
   "metadata": {},
   "source": [
    "## RB sequence"
   ]
  },
  {
   "cell_type": "code",
   "execution_count": 83,
   "metadata": {},
   "outputs": [],
   "source": [
    "from qruise.toolset.qiskit import QruiseProvider\n",
    "from qiskit import QuantumCircuit"
   ]
  },
  {
   "cell_type": "code",
   "execution_count": 84,
   "metadata": {},
   "outputs": [],
   "source": [
    "qruise_provider = QruiseProvider()\n",
    "qruise_backend = qruise_provider.get_backend(\"qruise_qasm_rydberg_simulator\")\n",
    "qruise_backend._qubit_trace_func = trace_func_atom\n",
    "qiskit_exp = simulation"
   ]
  },
  {
   "cell_type": "code",
   "execution_count": 85,
   "metadata": {},
   "outputs": [],
   "source": [
    "qruise_backend._initial_state_vector = initial_state"
   ]
  },
  {
   "cell_type": "code",
   "execution_count": 86,
   "metadata": {},
   "outputs": [],
   "source": [
    "qruise_backend.set_qruise_experiment(qiskit_exp)"
   ]
  },
  {
   "cell_type": "code",
   "execution_count": 87,
   "metadata": {},
   "outputs": [],
   "source": [
    "def state_transform_function(drive_index: int) -> callable:\n",
    "    def state_transform(\n",
    "        state: tf.Tensor, gate_dict: dict, reshape_after: bool, reshape_before: bool\n",
    "    ):\n",
    "        state = qiskit_exp.lookup_propagator(\n",
    "            **gate_dict,\n",
    "            compute=True,\n",
    "            gate_index=f\"{str(drive_index)}\",\n",
    "        ).propagate_state(\n",
    "            state, reshape_after=reshape_after, reshape_before=reshape_before\n",
    "        )\n",
    "        return state\n",
    "\n",
    "    return state_transform"
   ]
  },
  {
   "cell_type": "code",
   "execution_count": 88,
   "metadata": {},
   "outputs": [],
   "source": [
    "def lookup_transform_function(drive_index: int) -> callable:\n",
    "    def lookup_transform(gate_dict: dict):\n",
    "        gate_name = gate_dict[\"name\"] + str(drive_index)\n",
    "        return {\n",
    "            gate_name: qiskit_exp.lookup_propagator(\n",
    "                **gate_dict, compute=False, gate_index=f\"{str(drive_index)}\"\n",
    "            )\n",
    "        }, [gate_name]\n",
    "\n",
    "    return lookup_transform"
   ]
  },
  {
   "cell_type": "code",
   "execution_count": 89,
   "metadata": {},
   "outputs": [],
   "source": [
    "length = 8\n",
    "num_samples = 4\n",
    "\n",
    "\n",
    "seed = 1010\n",
    "qubits = [0]\n",
    "\n",
    "from qruise.toolset.utils import qt_utils\n",
    "\n",
    "seqs = qt_utils.single_length_RB(RB_number=num_samples, RB_length=length, target=0)"
   ]
  },
  {
   "cell_type": "code",
   "execution_count": 90,
   "metadata": {},
   "outputs": [],
   "source": [
    "from qruise.toolset.qiskit.gates import RX90pGate, RX90mGate, RY90pGate, RY90mGate\n",
    "from qiskit.circuit import Measure\n",
    "\n",
    "QISKIT_GATE_MAP = {\n",
    "    \"rx90p\": RX90pGate,\n",
    "    \"rx90m\": RX90mGate,\n",
    "    \"ry90p\": RY90pGate,\n",
    "    \"ry90m\": RY90mGate,\n",
    "    \"measure\": Measure,\n",
    "}\n",
    "\n",
    "\n",
    "def seqs_to_circuit(\n",
    "    seqs: list[list[str]], n_qubits: int = 1\n",
    ") -> list[list[QuantumCircuit]]:\n",
    "    circuits = []\n",
    "    for seq in seqs:\n",
    "        qc_sec = QuantumCircuit(\n",
    "            n_qubits, n_qubits\n",
    "        )  # will usually be measured so n_cbits=n_qubits\n",
    "        for gate in seq:\n",
    "            qiskit_gate = QISKIT_GATE_MAP[gate[:-3]]\n",
    "            if qiskit_gate != Measure:\n",
    "                qc_sec.append(qiskit_gate(), [int(gate[-2])])\n",
    "            else:\n",
    "                qc_sec.append(qiskit_gate(), [int(gate[-2])], [int(gate[-2])])\n",
    "        circuits.append(qc_sec)\n",
    "    return circuits"
   ]
  },
  {
   "cell_type": "code",
   "execution_count": 91,
   "metadata": {},
   "outputs": [],
   "source": [
    "circuits = seqs_to_circuit(seqs)"
   ]
  },
  {
   "cell_type": "code",
   "execution_count": 94,
   "metadata": {},
   "outputs": [
    {
     "name": "stdout",
     "output_type": "stream",
     "text": [
      "Length: 2, Counts: [[993, 7], [992, 8], [993, 7], [991, 9], [989, 11], [998, 2], [998, 2], [992, 8], [988, 12], [994, 6], [994, 6], [986, 14], [985, 15], [988, 12], [986, 14], [988, 12], [991, 9], [991, 9], [993, 7], [993, 7], [992, 8], [996, 4], [986, 14], [997, 3], [994, 6], [992, 8], [997, 3], [992, 8], [998, 2], [986, 14], [992, 8], [992, 8], [995, 5], [985, 15], [993, 7], [989, 11], [986, 14], [999, 1], [992, 8], [996, 4]]\n",
      "Length: 12, Counts: [[950, 50], [956, 44], [952, 48], [942, 58], [955, 45], [946, 54], [969, 31], [953, 47], [952, 48], [954, 46], [967, 33], [940, 60], [931, 69], [963, 37], [963, 37], [944, 56], [956, 44], [950, 50], [958, 42], [963, 37], [964, 36], [936, 64], [962, 38], [946, 54], [961, 39], [962, 38], [954, 46], [966, 34], [946, 54], [942, 58], [950, 50], [964, 36], [969, 31], [965, 35], [956, 44], [933, 67], [958, 42], [949, 51], [964, 36], [932, 68]]\n",
      "Length: 22, Counts: [[893, 107], [919, 81], [892, 108], [923, 77], [920, 80], [906, 94], [917, 83], [932, 68], [929, 71], [922, 78], [913, 87], [925, 75], [869, 131], [929, 71], [905, 95], [928, 72], [948, 52], [923, 77], [927, 73], [900, 100], [933, 67], [898, 102], [909, 91], [905, 95], [895, 105], [899, 101], [923, 77], [925, 75], [926, 74], [909, 91], [922, 78], [929, 71], [913, 87], [915, 85], [906, 94], [925, 75], [918, 82], [920, 80], [895, 105], [936, 64]]\n",
      "Length: 32, Counts: [[880, 120], [887, 113], [888, 112], [907, 93], [911, 89], [895, 105], [898, 102], [906, 94], [841, 159], [882, 118], [844, 156], [893, 107], [902, 98], [889, 111], [880, 120], [869, 131], [881, 119], [878, 122], [870, 130], [884, 116], [895, 105], [895, 105], [885, 115], [875, 125], [864, 136], [870, 130], [877, 123], [850, 150], [881, 119], [901, 99], [897, 103], [874, 126], [888, 112], [909, 91], [899, 101], [867, 133], [882, 118], [899, 101], [895, 105], [896, 104]]\n",
      "Length: 42, Counts: [[833, 167], [881, 119], [854, 146], [866, 134], [873, 127], [859, 141], [865, 135], [871, 129], [810, 190], [836, 164], [839, 161], [772, 228], [856, 144], [836, 164], [856, 144], [853, 147], [838, 162], [820, 180], [888, 112], [878, 122], [857, 143], [833, 167], [869, 131], [827, 173], [803, 197], [871, 129], [762, 238], [831, 169], [838, 162], [795, 205], [849, 151], [847, 153], [848, 152], [821, 179], [863, 137], [853, 147], [847, 153], [868, 132], [811, 189], [832, 168]]\n",
      "Length: 52, Counts: [[810, 190], [827, 173], [796, 204], [846, 154], [789, 211], [802, 198], [845, 155], [791, 209], [854, 146], [846, 154], [833, 167], [844, 156], [848, 152], [850, 150], [836, 164], [831, 169], [835, 165], [753, 247], [846, 154], [839, 161], [806, 194], [808, 192], [811, 189], [789, 211], [841, 159], [839, 161], [836, 164], [755, 245], [821, 179], [842, 158], [841, 159], [832, 168], [847, 153], [759, 241], [809, 191], [840, 160], [803, 197], [711, 289], [855, 145], [832, 168]]\n",
      "Length: 62, Counts: [[785, 215], [805, 195], [805, 195], [818, 182], [786, 214], [764, 236], [838, 162], [804, 196], [805, 195], [801, 199], [790, 210], [785, 215], [806, 194], [809, 191], [786, 214], [819, 181], [738, 262], [771, 229], [821, 179], [797, 203], [801, 199], [702, 298], [800, 200], [692, 308], [797, 203], [815, 185], [798, 202], [796, 204], [805, 195], [821, 179], [788, 212], [714, 286], [798, 202], [782, 218], [813, 187], [804, 196], [825, 175], [817, 183], [804, 196], [744, 256]]\n",
      "Length: 72, Counts: [[816, 184], [735, 265], [803, 197], [796, 204], [761, 239], [800, 200], [780, 220], [780, 220], [778, 222], [746, 254], [715, 285], [798, 202], [781, 219], [799, 201], [784, 216], [793, 207], [764, 236], [787, 213], [770, 230], [758, 242], [777, 223], [802, 198], [783, 217], [763, 237], [779, 221], [781, 219], [759, 241], [776, 224], [775, 225], [781, 219], [778, 222], [749, 251], [810, 190], [717, 283], [803, 197], [804, 196], [791, 209], [759, 241], [766, 234], [800, 200]]\n",
      "Length: 82, Counts: [[784, 216], [782, 218], [711, 289], [738, 262], [756, 244], [738, 262], [780, 220], [760, 240], [744, 256], [706, 294], [697, 303], [746, 254], [733, 267], [758, 242], [753, 247], [783, 217], [758, 242], [764, 236], [765, 235], [727, 273], [747, 253], [715, 285], [758, 242], [737, 263], [808, 192], [761, 239], [712, 288], [738, 262], [766, 234], [715, 285], [721, 279], [695, 305], [755, 245], [761, 239], [754, 246], [775, 225], [779, 221], [760, 240], [736, 264], [730, 270]]\n",
      "Length: 92, Counts: [[741, 259], [710, 290], [751, 249], [729, 271], [757, 243], [743, 257], [753, 247], [735, 265], [751, 249], [742, 258], [730, 270], [761, 239], [766, 234], [774, 226], [706, 294], [749, 251], [752, 248], [720, 280], [770, 230], [708, 292], [723, 277], [696, 304], [706, 294], [711, 289], [731, 269], [733, 267], [723, 277], [720, 280], [720, 280], [681, 319], [707, 293], [746, 254], [655, 345], [756, 244], [771, 229], [688, 312], [775, 225], [746, 254], [729, 271], [758, 242]]\n"
     ]
    }
   ],
   "source": [
    "lengths = np.arange(2, 100, 10, dtype=int)\n",
    "num_samples = 40\n",
    "\n",
    "pop_0 = []\n",
    "entanglement = []\n",
    "# Loop over different lengths\n",
    "for length in lengths:\n",
    "    # Generate the sequences\n",
    "    seqs = qt_utils.single_length_RB(RB_number=num_samples, RB_length=length, target=0)\n",
    "    # Convert the sequences to circuits\n",
    "    circuits = seqs_to_circuit(seqs)\n",
    "    pop_0_drive = []\n",
    "    ent_drive = []\n",
    "    for drive_index in range(3):\n",
    "        # Populations of the ground state\n",
    "        qruise_backend._experiment_mode = \"populations\"\n",
    "        qruise_backend._state_propagation_function = state_transform_function(\n",
    "            drive_index\n",
    "        )\n",
    "        # Run the circuits\n",
    "        qruise_job = qruise_backend.run(circuits, shots=1000)\n",
    "        # Get the counts\n",
    "        counts = [\n",
    "            list(result.data.counts.values()) for result in qruise_job.result().results\n",
    "        ]\n",
    "        # Get the state populations\n",
    "        state_pops = [result.data.state_pops for result in qruise_job.result().results]\n",
    "        # Get the population of the ground state\n",
    "        pop_0_drive.append([state_pop[\"(0, 0)\"] for state_pop in state_pops])\n",
    "\n",
    "    # Mean over the drives for entanglement\n",
    "    ent = np.mean(np.array(ent_drive), axis=0)\n",
    "    entanglement.append(ent)\n",
    "    # Mean over the drives for populations\n",
    "    state_pops = np.mean(np.array(pop_0_drive), axis=0)\n",
    "    pop_0.append(state_pops)\n",
    "    # Print the results\n",
    "    print(f\"Length: {length}, Counts: {counts}\")"
   ]
  },
  {
   "cell_type": "code",
   "execution_count": 93,
   "metadata": {},
   "outputs": [
    {
     "data": {
      "image/png": "[encoded data removed]",
      "text/plain": [
       "<Figure size 640x480 with 1 Axes>"
      ]
     },
     "metadata": {},
     "output_type": "display_data"
    },
    {
     "name": "stdout",
     "output_type": "stream",
     "text": [
      "Error per Clifford: 0.00182 ± 0.00018\n"
     ]
    }
   ],
   "source": [
    "from qruise.toolset.qiskit.rb_analysis import StandardRBAnalysis\n",
    "results_square = StandardRBAnalysis(\n",
    "    lengths=lengths, pops=pop_0\n",
    ")"
   ]
  }
 ],
 "metadata": {
  "kernelspec": {
   "display_name": "Python 3 (ipykernel)",
   "language": "python",
   "name": "python3"
  },
  "language_info": {
   "codemirror_mode": {
    "name": "ipython",
    "version": 3
   },
   "file_extension": ".py",
   "mimetype": "text/x-python",
   "name": "python",
   "nbconvert_exporter": "python",
   "pygments_lexer": "ipython3",
   "version": "3.10.12"
  },
  "toc": {
   "base_numbering": 1,
   "nav_menu": {},
   "number_sections": true,
   "sideBar": true,
   "skip_h1_title": false,
   "title_cell": "Table of Contents",
   "title_sidebar": "Contents",
   "toc_cell": false,
   "toc_position": {},
   "toc_section_display": true,
   "toc_window_display": false
  },
  "vscode": {
   "interpreter": {
    "hash": "34ef98d32b6eaf12d5aa6c1954416ca797ef4e9beee1cf9529693fc04a597f39"
   }
  }
 },
 "nbformat": 4,
 "nbformat_minor": 4
}
