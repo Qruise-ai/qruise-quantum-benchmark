{
 "cells": [
  {
   "cell_type": "markdown",
   "metadata": {},
   "source": [
    "# Quantum Volume"
   ]
  },
  {
   "cell_type": "code",
   "execution_count": 21,
   "metadata": {},
   "outputs": [],
   "source": [
    "import qiskit"
   ]
  },
  {
   "cell_type": "code",
   "execution_count": 22,
   "metadata": {},
   "outputs": [
    {
     "data": {
      "text/html": [
       "<pre style=\"word-wrap: normal;white-space: pre;background: #fff0;line-height: 1.1;font-family: &quot;Courier New&quot;,Courier,monospace\">     ┌──────────┐            ┌──────────┐            ┌──────────┐┌──────────┐»\n",
       "q_0: ┤0         ├────────────┤0         ├────────────┤1         ├┤0         ├»\n",
       "     │          │┌──────────┐│          │┌──────────┐│  su4_542 ││          │»\n",
       "q_1: ┤  su4_103 ├┤1         ├┤  su4_759 ├┤1         ├┤0         ├┤  su4_272 ├»\n",
       "     │          ││          ││          ││          │├──────────┤│          │»\n",
       "q_2: ┤1         ├┤  su4_799 ├┤1         ├┤  su4_712 ├┤1         ├┤1         ├»\n",
       "     └──────────┘│          │└──────────┘│          ││  su4_487 │└──────────┘»\n",
       "q_3: ────────────┤0         ├────────────┤0         ├┤0         ├────────────»\n",
       "                 └──────────┘            └──────────┘└──────────┘            »\n",
       "«                 \n",
       "«q_0: ────────────\n",
       "«     ┌──────────┐\n",
       "«q_1: ┤1         ├\n",
       "«     │          │\n",
       "«q_2: ┤  su4_441 ├\n",
       "«     │          │\n",
       "«q_3: ┤0         ├\n",
       "«     └──────────┘</pre>"
      ],
      "text/plain": [
       "     ┌──────────┐            ┌──────────┐            ┌──────────┐┌──────────┐»\n",
       "q_0: ┤0         ├────────────┤0         ├────────────┤1         ├┤0         ├»\n",
       "     │          │┌──────────┐│          │┌──────────┐│  su4_542 ││          │»\n",
       "q_1: ┤  su4_103 ├┤1         ├┤  su4_759 ├┤1         ├┤0         ├┤  su4_272 ├»\n",
       "     │          ││          ││          ││          │├──────────┤│          │»\n",
       "q_2: ┤1         ├┤  su4_799 ├┤1         ├┤  su4_712 ├┤1         ├┤1         ├»\n",
       "     └──────────┘│          │└──────────┘│          ││  su4_487 │└──────────┘»\n",
       "q_3: ────────────┤0         ├────────────┤0         ├┤0         ├────────────»\n",
       "                 └──────────┘            └──────────┘└──────────┘            »\n",
       "«                 \n",
       "«q_0: ────────────\n",
       "«     ┌──────────┐\n",
       "«q_1: ┤1         ├\n",
       "«     │          │\n",
       "«q_2: ┤  su4_441 ├\n",
       "«     │          │\n",
       "«q_3: ┤0         ├\n",
       "«     └──────────┘"
      ]
     },
     "execution_count": 22,
     "metadata": {},
     "output_type": "execute_result"
    }
   ],
   "source": [
    "from qiskit.circuit.library import QuantumVolume as QuantumVolumeCircuit\n",
    "qv_circuit = QuantumVolumeCircuit(4)\n",
    "qv_circuit.decompose().draw()  # .decompose() unrolls the circuit one level"
   ]
  },
  {
   "cell_type": "code",
   "execution_count": 23,
   "metadata": {},
   "outputs": [
    {
     "data": {
      "text/html": [
       "<pre style=\"word-wrap: normal;white-space: pre;background: #fff0;line-height: 1.1;font-family: &quot;Courier New&quot;,Courier,monospace\">     ┌───────────────────────────┐\n",
       "q_0: ┤0                          ├\n",
       "     │                           │\n",
       "q_1: ┤1                          ├\n",
       "     │  quantum_volume_[4,4,171] │\n",
       "q_2: ┤2                          ├\n",
       "     │                           │\n",
       "q_3: ┤3                          ├\n",
       "     └───────────────────────────┘</pre>"
      ],
      "text/plain": [
       "     ┌───────────────────────────┐\n",
       "q_0: ┤0                          ├\n",
       "     │                           │\n",
       "q_1: ┤1                          ├\n",
       "     │  quantum_volume_[4,4,171] │\n",
       "q_2: ┤2                          ├\n",
       "     │                           │\n",
       "q_3: ┤3                          ├\n",
       "     └───────────────────────────┘"
      ]
     },
     "execution_count": 23,
     "metadata": {},
     "output_type": "execute_result"
    }
   ],
   "source": [
    "qv_circuit.draw()"
   ]
  },
  {
   "cell_type": "markdown",
   "metadata": {},
   "source": [
    "Transpile the circuit to the native gates"
   ]
  },
  {
   "cell_type": "code",
   "execution_count": 24,
   "metadata": {},
   "outputs": [],
   "source": [
    "from qiskit import transpile\n",
    "from qiskit_aer import Aer"
   ]
  },
  {
   "cell_type": "code",
   "execution_count": 25,
   "metadata": {},
   "outputs": [],
   "source": [
    "backend = Aer.get_backend('aer_simulator')"
   ]
  },
  {
   "cell_type": "markdown",
   "metadata": {},
   "source": [
    "Aer all possible instructions"
   ]
  },
  {
   "cell_type": "code",
   "execution_count": 26,
   "metadata": {},
   "outputs": [],
   "source": [
    "config = backend.configuration()\n",
    "# Allowed gates\n",
    "# config.basis_gates"
   ]
  },
  {
   "cell_type": "code",
   "execution_count": 27,
   "metadata": {},
   "outputs": [],
   "source": [
    "decomposed_circuit = transpile(qv_circuit, basis_gates=['rx', \"ry\", \"rz\", \"cz\"], optimization_level=3)"
   ]
  },
  {
   "cell_type": "code",
   "execution_count": 28,
   "metadata": {},
   "outputs": [
    {
     "data": {
      "text/html": [
       "<pre style=\"word-wrap: normal;white-space: pre;background: #fff0;line-height: 1.1;font-family: &quot;Courier New&quot;,Courier,monospace\">     ┌─────────────┐ ┌────────────┐┌─────────────┐   ┌─────────────┐»\n",
       "q_0: ┤ Rz(-1.9846) ├─┤ Ry(2.4692) ├┤ Rz(-1.4288) ├─■─┤ Rx(0.76182) ├»\n",
       "     └┬────────────┤ ├────────────┤└┬────────────┤ │ └─────────────┘»\n",
       "q_1: ─┤ Rz(-2.387) ├─┤ Ry(1.6178) ├─┤ Rz(1.9871) ├─┼────────■───────»\n",
       "     ┌┴────────────┤┌┴────────────┤┌┴────────────┤ │        │       »\n",
       "q_2: ┤ Rz(-2.3461) ├┤ Ry(0.93845) ├┤ Rz(-3.0217) ├─■────────┼───────»\n",
       "     └┬────────────┤└┬────────────┤└┬────────────┤          │       »\n",
       "q_3: ─┤ Rz(2.2538) ├─┤ Ry(1.0008) ├─┤ Rz(2.4747) ├──────────■───────»\n",
       "      └────────────┘ └────────────┘ └────────────┘                  »\n",
       "«                                      ┌─────────┐┌─────────────┐»\n",
       "«q_0: ───────────────────────────────■─┤ Rz(π/2) ├┤ Ry(0.39887) ├»\n",
       "«     ┌─────────────┐                │ └─────────┘└─┬─────────┬─┘»\n",
       "«q_1: ┤ Rx(0.59082) ├────────────────┼──────■───────┤ Rz(π/2) ├──»\n",
       "«     └─┬─────────┬─┘┌─────────────┐ │      │       ├─────────┴┐ »\n",
       "«q_2: ──┤ Ry(π/2) ├──┤ Rz(-3.0101) ├─■──────┼───────┤ Ry(-π/2) ├─»\n",
       "«       ├─────────┤  └┬────────────┤        │       ├──────────┤ »\n",
       "«q_3: ──┤ Ry(π/2) ├───┤ Rz(-2.821) ├────────■───────┤ Ry(-π/2) ├─»\n",
       "«       └─────────┘   └────────────┘                └──────────┘ »\n",
       "«                        ┌───────────┐ ┌────────────┐┌─────────────┐ »\n",
       "«q_0: ─────────────────■─┤ Rz(3.073) ├─┤ Ry(2.0553) ├┤ Rz(0.29096) ├─»\n",
       "«     ┌──────────────┐ │ └───────────┘┌┴────────────┤└┬────────────┤ »\n",
       "«q_1: ┤ Ry(-0.13544) ├─┼───────■──────┤ Rz(0.67815) ├─┤ Ry(2.7734) ├─»\n",
       "«     ├──────────────┤ │       │      └┬───────────┬┘┌┴────────────┤ »\n",
       "«q_2: ┤ Rz(0.053058) ├─■───────┼───────┤ Ry(2.068) ├─┤ Rz(-2.9474) ├─»\n",
       "«     └┬────────────┬┘         │      ┌┴───────────┴┐├─────────────┴┐»\n",
       "«q_3: ─┤ Rz(4.0623) ├──────────■──────┤ Ry(0.71525) ├┤ Rz(-0.41862) ├»\n",
       "«      └────────────┘                 └─────────────┘└──────────────┘»\n",
       "«                                    ┌─────────────┐                           »\n",
       "«q_0: ───────────────────────■───────┤ Rx(0.76173) ├────────────────────■──────»\n",
       "«     ┌──────────────┐       │       └─┬─────────┬─┘┌─────────────┐     │      »\n",
       "«q_1: ┤ Rz(-0.86945) ├───────■─────────┤ Ry(π/2) ├──┤ Rz(-3.0786) ├─────■──────»\n",
       "«     └──────────────┘┌─────────────┐  └─────────┘  └─────────────┘┌─────────┐ »\n",
       "«q_2: ───────■────────┤ Rx(0.57344) ├──────────────────────■───────┤ Rz(π/2) ├─»\n",
       "«            │        └─┬─────────┬─┘┌─────────────┐       │       ├─────────┴┐»\n",
       "«q_3: ───────■──────────┤ Ry(π/2) ├──┤ Rz(-2.2907) ├───────■───────┤ Ry(-π/2) ├»\n",
       "«                       └─────────┘  └─────────────┘               └──────────┘»\n",
       "«       ┌─────────┐   ┌──────────────┐               ┌──────────────┐»\n",
       "«q_0: ──┤ Rz(π/2) ├───┤ Ry(-0.39515) ├───────■───────┤ Rz(-0.73818) ├»\n",
       "«       ├─────────┴┐  ├─────────────┬┘       │       └┬────────────┬┘»\n",
       "«q_1: ──┤ Ry(-π/2) ├──┤ Rz(-1.5321) ├────────■────────┤ Ry(1.9233) ├─»\n",
       "«     ┌─┴──────────┴─┐└─────────────┘ ┌─────────────┐ ├────────────┤ »\n",
       "«q_2: ┤ Ry(-0.28824) ├───────■────────┤ Rz(-1.1234) ├─┤ Ry(1.1526) ├─»\n",
       "«     └┬────────────┬┘       │        └┬────────────┤┌┴────────────┤ »\n",
       "«q_3: ─┤ Rz(3.1753) ├────────■─────────┤ Ry(1.0307) ├┤ Rz(0.14329) ├─»\n",
       "«      └────────────┘                  └────────────┘└─────────────┘ »\n",
       "«      ┌────────────┐┌────────────┐               ┌─────────────┐»\n",
       "«q_0: ─┤ Ry(2.7001) ├┤ Rz(2.3086) ├───────■───────┤ Rx(0.83161) ├»\n",
       "«     ┌┴────────────┤└────────────┘       │       └─┬─────────┬─┘»\n",
       "«q_1: ┤ Rz(-1.3304) ├──────■──────────────┼─────────┤ Ry(π/2) ├──»\n",
       "«     ├─────────────┤      │              │         ├─────────┤  »\n",
       "«q_2: ┤ Rz(-2.1839) ├──────┼──────────────■─────────┤ Ry(π/2) ├──»\n",
       "«     └─────────────┘      │       ┌─────────────┐  └─────────┘  »\n",
       "«q_3: ─────────────────────■───────┤ Rx(0.77289) ├───────────────»\n",
       "«                                  └─────────────┘               »\n",
       "«                                    ┌─────────┐   ┌─────────────┐    »\n",
       "«q_0: ───────────────────────■───────┤ Rz(π/2) ├───┤ Ry(0.38141) ├────»\n",
       "«     ┌─────────────┐        │       ├─────────┴┐  ├─────────────┴┐   »\n",
       "«q_1: ┤ Rz(-3.0012) ├─■──────┼───────┤ Ry(-π/2) ├──┤ Rz(-0.79529) ├─■─»\n",
       "«     ├─────────────┤ │      │       ├──────────┤  ├──────────────┤ │ »\n",
       "«q_2: ┤ Rz(-2.6227) ├─┼──────■───────┤ Ry(-π/2) ├──┤ Rz(-0.49819) ├─┼─»\n",
       "«     └─────────────┘ │ ┌─────────┐┌─┴──────────┴─┐└──────────────┘ │ »\n",
       "«q_3: ────────────────■─┤ Rz(π/2) ├┤ Ry(-0.37118) ├─────────────────■─»\n",
       "«                       └─────────┘└──────────────┘                   »\n",
       "«                  ┌─────────────┐ ┌────────────┐ ┌─────────────┐\n",
       "«q_0: ──────■──────┤ Rz(-1.0809) ├─┤ Ry(1.7754) ├─┤ Rz(-1.8767) ├\n",
       "«           │      ├─────────────┤ ├────────────┤ └─────────────┘\n",
       "«q_1: ──────┼──────┤ Ry(0.69973) ├─┤ Rz(0.9221) ├────────────────\n",
       "«           │      └┬────────────┤┌┴────────────┤                \n",
       "«q_2: ──────■───────┤ Ry(1.2518) ├┤ Rz(-2.3203) ├────────────────\n",
       "«     ┌───────────┐ ├────────────┤├─────────────┴┐               \n",
       "«q_3: ┤ Rz(1.913) ├─┤ Ry(0.8182) ├┤ Rz(-0.81242) ├───────────────\n",
       "«     └───────────┘ └────────────┘└──────────────┘               </pre>"
      ],
      "text/plain": [
       "     ┌─────────────┐ ┌────────────┐┌─────────────┐   ┌─────────────┐»\n",
       "q_0: ┤ Rz(-1.9846) ├─┤ Ry(2.4692) ├┤ Rz(-1.4288) ├─■─┤ Rx(0.76182) ├»\n",
       "     └┬────────────┤ ├────────────┤└┬────────────┤ │ └─────────────┘»\n",
       "q_1: ─┤ Rz(-2.387) ├─┤ Ry(1.6178) ├─┤ Rz(1.9871) ├─┼────────■───────»\n",
       "     ┌┴────────────┤┌┴────────────┤┌┴────────────┤ │        │       »\n",
       "q_2: ┤ Rz(-2.3461) ├┤ Ry(0.93845) ├┤ Rz(-3.0217) ├─■────────┼───────»\n",
       "     └┬────────────┤└┬────────────┤└┬────────────┤          │       »\n",
       "q_3: ─┤ Rz(2.2538) ├─┤ Ry(1.0008) ├─┤ Rz(2.4747) ├──────────■───────»\n",
       "      └────────────┘ └────────────┘ └────────────┘                  »\n",
       "«                                      ┌─────────┐┌─────────────┐»\n",
       "«q_0: ───────────────────────────────■─┤ Rz(π/2) ├┤ Ry(0.39887) ├»\n",
       "«     ┌─────────────┐                │ └─────────┘└─┬─────────┬─┘»\n",
       "«q_1: ┤ Rx(0.59082) ├────────────────┼──────■───────┤ Rz(π/2) ├──»\n",
       "«     └─┬─────────┬─┘┌─────────────┐ │      │       ├─────────┴┐ »\n",
       "«q_2: ──┤ Ry(π/2) ├──┤ Rz(-3.0101) ├─■──────┼───────┤ Ry(-π/2) ├─»\n",
       "«       ├─────────┤  └┬────────────┤        │       ├──────────┤ »\n",
       "«q_3: ──┤ Ry(π/2) ├───┤ Rz(-2.821) ├────────■───────┤ Ry(-π/2) ├─»\n",
       "«       └─────────┘   └────────────┘                └──────────┘ »\n",
       "«                        ┌───────────┐ ┌────────────┐┌─────────────┐ »\n",
       "«q_0: ─────────────────■─┤ Rz(3.073) ├─┤ Ry(2.0553) ├┤ Rz(0.29096) ├─»\n",
       "«     ┌──────────────┐ │ └───────────┘┌┴────────────┤└┬────────────┤ »\n",
       "«q_1: ┤ Ry(-0.13544) ├─┼───────■──────┤ Rz(0.67815) ├─┤ Ry(2.7734) ├─»\n",
       "«     ├──────────────┤ │       │      └┬───────────┬┘┌┴────────────┤ »\n",
       "«q_2: ┤ Rz(0.053058) ├─■───────┼───────┤ Ry(2.068) ├─┤ Rz(-2.9474) ├─»\n",
       "«     └┬────────────┬┘         │      ┌┴───────────┴┐├─────────────┴┐»\n",
       "«q_3: ─┤ Rz(4.0623) ├──────────■──────┤ Ry(0.71525) ├┤ Rz(-0.41862) ├»\n",
       "«      └────────────┘                 └─────────────┘└──────────────┘»\n",
       "«                                    ┌─────────────┐                           »\n",
       "«q_0: ───────────────────────■───────┤ Rx(0.76173) ├────────────────────■──────»\n",
       "«     ┌──────────────┐       │       └─┬─────────┬─┘┌─────────────┐     │      »\n",
       "«q_1: ┤ Rz(-0.86945) ├───────■─────────┤ Ry(π/2) ├──┤ Rz(-3.0786) ├─────■──────»\n",
       "«     └──────────────┘┌─────────────┐  └─────────┘  └─────────────┘┌─────────┐ »\n",
       "«q_2: ───────■────────┤ Rx(0.57344) ├──────────────────────■───────┤ Rz(π/2) ├─»\n",
       "«            │        └─┬─────────┬─┘┌─────────────┐       │       ├─────────┴┐»\n",
       "«q_3: ───────■──────────┤ Ry(π/2) ├──┤ Rz(-2.2907) ├───────■───────┤ Ry(-π/2) ├»\n",
       "«                       └─────────┘  └─────────────┘               └──────────┘»\n",
       "«       ┌─────────┐   ┌──────────────┐               ┌──────────────┐»\n",
       "«q_0: ──┤ Rz(π/2) ├───┤ Ry(-0.39515) ├───────■───────┤ Rz(-0.73818) ├»\n",
       "«       ├─────────┴┐  ├─────────────┬┘       │       └┬────────────┬┘»\n",
       "«q_1: ──┤ Ry(-π/2) ├──┤ Rz(-1.5321) ├────────■────────┤ Ry(1.9233) ├─»\n",
       "«     ┌─┴──────────┴─┐└─────────────┘ ┌─────────────┐ ├────────────┤ »\n",
       "«q_2: ┤ Ry(-0.28824) ├───────■────────┤ Rz(-1.1234) ├─┤ Ry(1.1526) ├─»\n",
       "«     └┬────────────┬┘       │        └┬────────────┤┌┴────────────┤ »\n",
       "«q_3: ─┤ Rz(3.1753) ├────────■─────────┤ Ry(1.0307) ├┤ Rz(0.14329) ├─»\n",
       "«      └────────────┘                  └────────────┘└─────────────┘ »\n",
       "«      ┌────────────┐┌────────────┐               ┌─────────────┐»\n",
       "«q_0: ─┤ Ry(2.7001) ├┤ Rz(2.3086) ├───────■───────┤ Rx(0.83161) ├»\n",
       "«     ┌┴────────────┤└────────────┘       │       └─┬─────────┬─┘»\n",
       "«q_1: ┤ Rz(-1.3304) ├──────■──────────────┼─────────┤ Ry(π/2) ├──»\n",
       "«     ├─────────────┤      │              │         ├─────────┤  »\n",
       "«q_2: ┤ Rz(-2.1839) ├──────┼──────────────■─────────┤ Ry(π/2) ├──»\n",
       "«     └─────────────┘      │       ┌─────────────┐  └─────────┘  »\n",
       "«q_3: ─────────────────────■───────┤ Rx(0.77289) ├───────────────»\n",
       "«                                  └─────────────┘               »\n",
       "«                                    ┌─────────┐   ┌─────────────┐    »\n",
       "«q_0: ───────────────────────■───────┤ Rz(π/2) ├───┤ Ry(0.38141) ├────»\n",
       "«     ┌─────────────┐        │       ├─────────┴┐  ├─────────────┴┐   »\n",
       "«q_1: ┤ Rz(-3.0012) ├─■──────┼───────┤ Ry(-π/2) ├──┤ Rz(-0.79529) ├─■─»\n",
       "«     ├─────────────┤ │      │       ├──────────┤  ├──────────────┤ │ »\n",
       "«q_2: ┤ Rz(-2.6227) ├─┼──────■───────┤ Ry(-π/2) ├──┤ Rz(-0.49819) ├─┼─»\n",
       "«     └─────────────┘ │ ┌─────────┐┌─┴──────────┴─┐└──────────────┘ │ »\n",
       "«q_3: ────────────────■─┤ Rz(π/2) ├┤ Ry(-0.37118) ├─────────────────■─»\n",
       "«                       └─────────┘└──────────────┘                   »\n",
       "«                  ┌─────────────┐ ┌────────────┐ ┌─────────────┐\n",
       "«q_0: ──────■──────┤ Rz(-1.0809) ├─┤ Ry(1.7754) ├─┤ Rz(-1.8767) ├\n",
       "«           │      ├─────────────┤ ├────────────┤ └─────────────┘\n",
       "«q_1: ──────┼──────┤ Ry(0.69973) ├─┤ Rz(0.9221) ├────────────────\n",
       "«           │      └┬────────────┤┌┴────────────┤                \n",
       "«q_2: ──────■───────┤ Ry(1.2518) ├┤ Rz(-2.3203) ├────────────────\n",
       "«     ┌───────────┐ ├────────────┤├─────────────┴┐               \n",
       "«q_3: ┤ Rz(1.913) ├─┤ Ry(0.8182) ├┤ Rz(-0.81242) ├───────────────\n",
       "«     └───────────┘ └────────────┘└──────────────┘               "
      ]
     },
     "execution_count": 28,
     "metadata": {},
     "output_type": "execute_result"
    }
   ],
   "source": [
    "decomposed_circuit.draw()"
   ]
  },
  {
   "cell_type": "code",
   "execution_count": null,
   "metadata": {},
   "outputs": [],
   "source": [
    "decomposed_circuit."
   ]
  },
  {
   "cell_type": "code",
   "execution_count": 29,
   "metadata": {},
   "outputs": [
    {
     "data": {
      "image/png": "[encoded data removed]",
      "text/plain": [
       "<Figure size 700x500 with 1 Axes>"
      ]
     },
     "execution_count": 29,
     "metadata": {},
     "output_type": "execute_result"
    }
   ],
   "source": [
    "from qiskit.quantum_info import Statevector\n",
    "from qiskit.visualization import plot_histogram\n",
    "ideal_results = Statevector.from_instruction(qv_circuit).probabilities_dict()\n",
    "plot_histogram(ideal_results)"
   ]
  },
  {
   "cell_type": "code",
   "execution_count": 30,
   "metadata": {},
   "outputs": [
    {
     "name": "stdout",
     "output_type": "stream",
     "text": [
      "['0111', '0010', '0001', '0100', '0000', '1001', '1010', '0110']\n"
     ]
    }
   ],
   "source": [
    "def get_heavy_outputs(counts):\n",
    "    \"\"\"Extract heavy outputs from counts dict.\n",
    "    Args:\n",
    "        counts (dict): Output of `.get_counts()`\n",
    "    Returns:\n",
    "        list: All states with measurement probability greater\n",
    "              than the mean.\n",
    "    \"\"\"\n",
    "    # sort the keys of `counts` by value of counts.get(key)\n",
    "    sorted_counts = sorted(counts.keys(), key=counts.get)\n",
    "    # discard results with probability < median\n",
    "    heavy_outputs = sorted_counts[len(sorted_counts)//2:]\n",
    "    return heavy_outputs\n",
    "\n",
    "print(get_heavy_outputs(ideal_results))"
   ]
  },
  {
   "cell_type": "code",
   "execution_count": 31,
   "metadata": {},
   "outputs": [],
   "source": [
    "\n",
    "def check_threshold(nheavies, ncircuits, nshots):\n",
    "    \"\"\"Evaluate adjusted threshold inequality for quantum volume.\n",
    "    Args:\n",
    "        nheavies (int): Total number of heavy outputs measured from device\n",
    "        ncircuits (int): Number of different square circuits run on device\n",
    "        nshots (int): Number of shots per circuit\n",
    "    Returns:\n",
    "        Bool:\n",
    "            True if heavy output probability is > 2/3 with 97% certainty,\n",
    "            otherwise False\n",
    "    \"\"\"\n",
    "    from numpy import sqrt\n",
    "    numerator = nheavies - 2*sqrt(nheavies*(nshots-(nheavies/ncircuits)))\n",
    "    return bool(numerator/(ncircuits*nshots) > 2/3)"
   ]
  },
  {
   "cell_type": "code",
   "execution_count": 32,
   "metadata": {},
   "outputs": [],
   "source": [
    "from qiskit import transpile\n",
    "def test_qv(device, nqubits, ncircuits, nshots):\n",
    "    \"\"\"Try to achieve 2**nqubits quantum volume on device.\n",
    "    Args:\n",
    "        device (qiskit.providers.Backend): Device to test.\n",
    "        nqubits (int): Number of qubits to use for test.\n",
    "        ncircuits (int): Number of different circuits to run on the device.\n",
    "        nshots (int): Number of shots per circuit.\n",
    "    Returns:\n",
    "        Bool\n",
    "            True if device passes test, otherwise False.\n",
    "    \"\"\"\n",
    "    def get_ideal_probabilities(circuit):\n",
    "        \"\"\"Simulates circuit behaviour on a device with no errors.\"\"\"\n",
    "        state_vector = Statevector.from_instruction(\n",
    "                circuit.remove_final_measurements(inplace=False)\n",
    "            )\n",
    "        return state_vector.probabilities_dict()\n",
    "\n",
    "    def get_real_counts(circuit, backend, shots):\n",
    "        \"\"\"Runs circuit on device and returns counts dict.\"\"\"\n",
    "        t_circuit = transpile(circuit, backend)\n",
    "        job = backend.run(t_circuit,\n",
    "                          shots=shots,\n",
    "                          memory=True)\n",
    "        return job.result().get_counts()\n",
    "\n",
    "    # generate set of random circuits\n",
    "    qv_circuits = [\n",
    "        QuantumVolumeCircuit(nqubits) for c in range(ncircuits)\n",
    "    ]\n",
    "\n",
    "    nheavies = 0  # number of measured heavy outputs\n",
    "    for circuit in qv_circuits:\n",
    "        # simulate circuit\n",
    "        ideal_heavy_outputs = get_heavy_outputs(\n",
    "            get_ideal_probabilities(circuit)\n",
    "        )\n",
    "        # run circuit on device\n",
    "        circuit.measure_all()\n",
    "        real_counts = get_real_counts(circuit, device, nshots)\n",
    "        # record whether device result is in the heavy outputs\n",
    "        for output, count in real_counts.items():\n",
    "            if output in ideal_heavy_outputs:\n",
    "                nheavies += count\n",
    "\n",
    "    # do statistical check to see if device passes test\n",
    "    is_pass = check_threshold(nheavies, ncircuits, nshots)\n",
    "    # calculate percentage of measurements that are heavy outputs\n",
    "    percent_heavy_outputs = nheavies*100/(ncircuits * nshots)\n",
    "\n",
    "    print(f\"Quantum Volume: {2**nqubits}\\n\"\n",
    "          f\"Percentage Heavy Outputs: {percent_heavy_outputs:.1f}%\\n\"\n",
    "          f\"Passed?: {is_pass}\\n\")\n",
    "    return is_pass"
   ]
  },
  {
   "cell_type": "code",
   "execution_count": 36,
   "metadata": {},
   "outputs": [
    {
     "name": "stdout",
     "output_type": "stream",
     "text": [
      "Quantum Volume: 16\n",
      "Percentage Heavy Outputs: 81.2%\n",
      "Passed?: True\n",
      "\n"
     ]
    },
    {
     "data": {
      "text/plain": [
       "True"
      ]
     },
     "execution_count": 36,
     "metadata": {},
     "output_type": "execute_result"
    }
   ],
   "source": [
    "from qiskit.providers.fake_provider import GenericBackendV2\n",
    "backend_v2 = GenericBackendV2(num_qubits=4, basis_gates=['rx', 'ry', 'rz', 'cz'])\n",
    "test_qv(backend_v2, 4, ncircuits=150, nshots=50)"
   ]
  },
  {
   "cell_type": "code",
   "execution_count": null,
   "metadata": {},
   "outputs": [],
   "source": []
  }
 ],
 "metadata": {
  "kernelspec": {
   "display_name": "qruise-env",
   "language": "python",
   "name": "python3"
  },
  "language_info": {
   "codemirror_mode": {
    "name": "ipython",
    "version": 3
   },
   "file_extension": ".py",
   "mimetype": "text/x-python",
   "name": "python",
   "nbconvert_exporter": "python",
   "pygments_lexer": "ipython3",
   "version": "3.10.12"
  }
 },
 "nbformat": 4,
 "nbformat_minor": 2
}
