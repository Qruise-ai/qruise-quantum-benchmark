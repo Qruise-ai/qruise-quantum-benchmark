{
 "cells": [
  {
   "cell_type": "code",
   "execution_count": 8,
   "metadata": {},
   "outputs": [],
   "source": [
    "sim_res = 2e9\n",
    "awg_res = 5e8"
   ]
  },
  {
   "cell_type": "markdown",
   "metadata": {},
   "source": [
    "# Quantum Volume"
   ]
  },
  {
   "cell_type": "code",
   "execution_count": 9,
   "metadata": {},
   "outputs": [],
   "source": [
    "import tensorflow as tf"
   ]
  },
  {
   "cell_type": "code",
   "execution_count": 10,
   "metadata": {},
   "outputs": [],
   "source": [
    "from qiskit.circuit.library import QuantumVolume as QuantumVolumeCircuit\n"
   ]
  },
  {
   "cell_type": "code",
   "execution_count": 11,
   "metadata": {},
   "outputs": [
    {
     "data": {
      "text/html": [
       "<pre style=\"word-wrap: normal;white-space: pre;background: #fff0;line-height: 1.1;font-family: &quot;Courier New&quot;,Courier,monospace\">     ┌──────────────────────────┐\n",
       "q_0: ┤0                         ├\n",
       "     │                          │\n",
       "q_1: ┤1                         ├\n",
       "     │  quantum_volume_[4,4,24] │\n",
       "q_2: ┤2                         ├\n",
       "     │                          │\n",
       "q_3: ┤3                         ├\n",
       "     └──────────────────────────┘</pre>"
      ],
      "text/plain": [
       "     ┌──────────────────────────┐\n",
       "q_0: ┤0                         ├\n",
       "     │                          │\n",
       "q_1: ┤1                         ├\n",
       "     │  quantum_volume_[4,4,24] │\n",
       "q_2: ┤2                         ├\n",
       "     │                          │\n",
       "q_3: ┤3                         ├\n",
       "     └──────────────────────────┘"
      ]
     },
     "execution_count": 11,
     "metadata": {},
     "output_type": "execute_result"
    }
   ],
   "source": [
    "qv_circuit = QuantumVolumeCircuit(4, depth=4, seed=24)\n",
    "qv_circuit.draw()"
   ]
  },
  {
   "cell_type": "code",
   "execution_count": 12,
   "metadata": {},
   "outputs": [
    {
     "data": {
      "text/html": [
       "<pre style=\"word-wrap: normal;white-space: pre;background: #fff0;line-height: 1.1;font-family: &quot;Courier New&quot;,Courier,monospace\">                 ┌──────────┐┌──────────┐┌──────────┐┌──────────┐            \n",
       "q_0: ────────────┤0         ├┤1         ├┤0         ├┤0         ├────────────\n",
       "     ┌──────────┐│          ││  su4_751 ││  su4_784 ││          │┌──────────┐\n",
       "q_1: ┤0         ├┤          ├┤0         ├┤1         ├┤  su4_506 ├┤0         ├\n",
       "     │  su4_330 ││  su4_383 │├──────────┤├──────────┤│          ││          │\n",
       "q_2: ┤1         ├┤          ├┤1         ├┤0         ├┤1         ├┤  su4_128 ├\n",
       "     └──────────┘│          ││  su4_405 ││  su4_575 │└──────────┘│          │\n",
       "q_3: ────────────┤1         ├┤0         ├┤1         ├────────────┤1         ├\n",
       "                 └──────────┘└──────────┘└──────────┘            └──────────┘</pre>"
      ],
      "text/plain": [
       "                 ┌──────────┐┌──────────┐┌──────────┐┌──────────┐            \n",
       "q_0: ────────────┤0         ├┤1         ├┤0         ├┤0         ├────────────\n",
       "     ┌──────────┐│          ││  su4_751 ││  su4_784 ││          │┌──────────┐\n",
       "q_1: ┤0         ├┤          ├┤0         ├┤1         ├┤  su4_506 ├┤0         ├\n",
       "     │  su4_330 ││  su4_383 │├──────────┤├──────────┤│          ││          │\n",
       "q_2: ┤1         ├┤          ├┤1         ├┤0         ├┤1         ├┤  su4_128 ├\n",
       "     └──────────┘│          ││  su4_405 ││  su4_575 │└──────────┘│          │\n",
       "q_3: ────────────┤1         ├┤0         ├┤1         ├────────────┤1         ├\n",
       "                 └──────────┘└──────────┘└──────────┘            └──────────┘"
      ]
     },
     "execution_count": 12,
     "metadata": {},
     "output_type": "execute_result"
    }
   ],
   "source": [
    "qv_circuit.decompose().draw()"
   ]
  },
  {
   "cell_type": "markdown",
   "metadata": {},
   "source": [
    "Transpile the circuit to the native gates"
   ]
  },
  {
   "cell_type": "code",
   "execution_count": 13,
   "metadata": {},
   "outputs": [],
   "source": [
    "from qiskit import transpile\n",
    "# from qiskit_aer import Aer"
   ]
  },
  {
   "cell_type": "code",
   "execution_count": 14,
   "metadata": {},
   "outputs": [],
   "source": [
    "# backend = Aer.get_backend('aer_simulator')"
   ]
  },
  {
   "cell_type": "markdown",
   "metadata": {},
   "source": [
    "Aer all possible instructions"
   ]
  },
  {
   "cell_type": "code",
   "execution_count": 15,
   "metadata": {},
   "outputs": [],
   "source": [
    "# config = backend.configuration()\n",
    "# Allowed gates\n",
    "# config.basis_gates"
   ]
  },
  {
   "cell_type": "code",
   "execution_count": 18,
   "metadata": {},
   "outputs": [
    {
     "data": {
      "text/html": [
       "<pre style=\"word-wrap: normal;white-space: pre;background: #fff0;line-height: 1.1;font-family: &quot;Courier New&quot;,Courier,monospace\">global phase: 1.9591\n",
       "     ┌──────────────┐ ┌────────────┐ ┌───────────┐         ┌────────────┐»\n",
       "q_0: ┤ Rx(-0.36694) ├─┤ Ry(2.1235) ├─┤ Rx(1.009) ├──────■──┤ Rx(1.2029) ├»\n",
       "     ├─────────────┬┘┌┴────────────┤┌┴───────────┴┐     │ ┌┴────────────┤»\n",
       "q_1: ┤ Rx(0.24327) ├─┤ Ry(0.50312) ├┤ Rx(-1.3647) ├──■──┼─┤ Rx(0.91141) ├»\n",
       "     ├─────────────┤ └┬────────────┤├─────────────┴┐ │  │ └┬────────────┤»\n",
       "q_2: ┤ Rx(0.41585) ├──┤ Ry(1.8609) ├┤ Rx(0.034328) ├─■──┼──┤ Rx(2.9535) ├»\n",
       "     ├─────────────┴┐ ├────────────┤├─────────────┬┘    │  ├────────────┤»\n",
       "q_3: ┤ Rx(-0.63573) ├─┤ Ry(2.4027) ├┤ Rx(-1.2049) ├─────■──┤ Rx(2.8593) ├»\n",
       "     └──────────────┘ └────────────┘└─────────────┘        └────────────┘»\n",
       "«                      ┌─────────────┐┌─────────┐ ┌─────────┐      »\n",
       "«q_0: ───────────────■─┤ Rx(-2.0895) ├┤ Ry(π/2) ├─┤ Rx(π/2) ├────■─»\n",
       "«                    │ ├─────────────┤├─────────┤ ├─────────┤    │ »\n",
       "«q_1: ────────────■──┼─┤ Rx(-1.0984) ├┤ Ry(π/2) ├─┤ Rx(π/2) ├─■──┼─»\n",
       "«     ┌─────────┐ │  │ └─┬─────────┬─┘├─────────┴┐└─────────┘ │  │ »\n",
       "«q_2: ┤ Ry(π/2) ├─■──┼───┤ Rx(π/2) ├──┤ Ry(-π/2) ├────────────■──┼─»\n",
       "«     ├─────────┤    │   ├─────────┤  ├──────────┤               │ »\n",
       "«q_3: ┤ Ry(π/2) ├────■───┤ Rx(π/2) ├──┤ Ry(-π/2) ├───────────────■─»\n",
       "«     └─────────┘        └─────────┘  └──────────┘                 »\n",
       "«     ┌─────────────┐  ┌────────────┐┌─────────────┐    ┌─────────────┐»\n",
       "«q_0: ┤ Rx(-2.1284) ├──┤ Ry(1.6463) ├┤ Rx(-2.5257) ├──■─┤ Rx(0.82587) ├»\n",
       "«     ├─────────────┴┐┌┴────────────┤└┬────────────┤  │ └┬───────────┬┘»\n",
       "«q_1: ┤ Rx(-0.60476) ├┤ Ry(0.70816) ├─┤ Rx(2.7899) ├──■──┤ Rx(2.968) ├─»\n",
       "«     ├──────────────┤└┬────────────┤┌┴────────────┤    ┌┴───────────┴┐»\n",
       "«q_2: ┤ Rx(-0.16084) ├─┤ Ry(1.4791) ├┤ Rx(0.37687) ├──■─┤ Rx(0.65963) ├»\n",
       "«     └┬────────────┬┘ ├────────────┤├─────────────┴┐ │ └┬────────────┤»\n",
       "«q_3: ─┤ Rx(1.6073) ├──┤ Ry(1.3951) ├┤ Rx(-0.43295) ├─■──┤ Rx(2.7258) ├»\n",
       "«      └────────────┘  └────────────┘└──────────────┘    └────────────┘»\n",
       "«                   ┌─────────────┐┌─────────┐ ┌─────────┐    ┌────────────┐ »\n",
       "«q_0: ────────────■─┤ Rx(-1.9244) ├┤ Ry(π/2) ├─┤ Rx(π/2) ├─■──┤ Rx(2.3076) ├─»\n",
       "«     ┌─────────┐ │ └─┬─────────┬─┘├─────────┴┐└─────────┘ │ ┌┴────────────┤ »\n",
       "«q_1: ┤ Ry(π/2) ├─■───┤ Rx(π/2) ├──┤ Ry(-π/2) ├────────────■─┤ Rx(0.18526) ├─»\n",
       "«     └─────────┘   ┌─┴─────────┴─┐├─────────┬┘┌─────────┐   └┬────────────┤ »\n",
       "«q_2: ────────────■─┤ Rx(-1.0939) ├┤ Ry(π/2) ├─┤ Rx(π/2) ├─■──┤ Rx(-1.806) ├─»\n",
       "«     ┌─────────┐ │ └─┬─────────┬─┘├─────────┴┐└─────────┘ │ ┌┴────────────┴┐»\n",
       "«q_3: ┤ Ry(π/2) ├─■───┤ Rx(π/2) ├──┤ Ry(-π/2) ├────────────■─┤ Rx(-0.16248) ├»\n",
       "«     └─────────┘     └─────────┘  └──────────┘              └──────────────┘»\n",
       "«     ┌─────────────┐ ┌───────────┐     ┌─────────────┐               »\n",
       "«q_0: ┤ Ry(0.98107) ├─┤ Rx(1.585) ├───■─┤ Rx(0.40754) ├───────────────»\n",
       "«     └┬────────────┤┌┴───────────┴┐  │ └─────────────┘┌─────────────┐»\n",
       "«q_1: ─┤ Ry(2.5167) ├┤ Rx(-1.9465) ├──┼────────■───────┤ Rx(0.50866) ├»\n",
       "«      ├────────────┤└┬────────────┤  │        │       └┬────────────┤»\n",
       "«q_2: ─┤ Ry(2.2512) ├─┤ Rx(1.8135) ├──■────────┼────────┤ Rx(2.6092) ├»\n",
       "«     ┌┴────────────┤┌┴────────────┴┐          │        ├────────────┤»\n",
       "«q_3: ┤ Ry(0.47464) ├┤ Rx(0.071919) ├──────────■────────┤ Rx(2.7914) ├»\n",
       "«     └─────────────┘└──────────────┘                   └────────────┘»\n",
       "«                   ┌─────────────┐  ┌─────────┐  ┌─────────┐               »\n",
       "«q_0: ────────────■─┤ Rx(-1.4381) ├──┤ Ry(π/2) ├──┤ Rx(π/2) ├─────────────■─»\n",
       "«                 │ └─────────────┘┌─┴─────────┴─┐├─────────┤ ┌─────────┐ │ »\n",
       "«q_1: ────────────┼────────■───────┤ Rx(-1.7934) ├┤ Ry(π/2) ├─┤ Rx(π/2) ├─┼─»\n",
       "«     ┌─────────┐ │        │       └─┬─────────┬─┘├─────────┴┐└─────────┘ │ »\n",
       "«q_2: ┤ Ry(π/2) ├─■────────┼─────────┤ Rx(π/2) ├──┤ Ry(-π/2) ├────────────■─»\n",
       "«     ├─────────┤          │         ├─────────┤  ├──────────┤              »\n",
       "«q_3: ┤ Ry(π/2) ├──────────■─────────┤ Rx(π/2) ├──┤ Ry(-π/2) ├──────────────»\n",
       "«     └─────────┘                    └─────────┘  └──────────┘              »\n",
       "«     ┌─────────────┐ ┌────────────┐ ┌────────────┐               \n",
       "«q_0: ┤ Rx(-2.5891) ├─┤ Ry(2.8194) ├─┤ Rx(1.5361) ├───────────────\n",
       "«     └─────────────┘┌┴────────────┤ ├────────────┤┌─────────────┐\n",
       "«q_1: ───────■───────┤ Rx(-3.1027) ├─┤ Ry(1.2515) ├┤ Rx(0.79406) ├\n",
       "«            │       ├─────────────┤┌┴────────────┤├─────────────┤\n",
       "«q_2: ───────┼───────┤ Rx(-1.1436) ├┤ Ry(0.46588) ├┤ Rx(-3.0714) ├\n",
       "«            │       ├─────────────┤└┬────────────┤├─────────────┤\n",
       "«q_3: ───────■───────┤ Rx(0.52885) ├─┤ Ry(2.2818) ├┤ Rx(-1.6638) ├\n",
       "«                    └─────────────┘ └────────────┘└─────────────┘</pre>"
      ],
      "text/plain": [
       "global phase: 1.9591\n",
       "     ┌──────────────┐ ┌────────────┐ ┌───────────┐         ┌────────────┐»\n",
       "q_0: ┤ Rx(-0.36694) ├─┤ Ry(2.1235) ├─┤ Rx(1.009) ├──────■──┤ Rx(1.2029) ├»\n",
       "     ├─────────────┬┘┌┴────────────┤┌┴───────────┴┐     │ ┌┴────────────┤»\n",
       "q_1: ┤ Rx(0.24327) ├─┤ Ry(0.50312) ├┤ Rx(-1.3647) ├──■──┼─┤ Rx(0.91141) ├»\n",
       "     ├─────────────┤ └┬────────────┤├─────────────┴┐ │  │ └┬────────────┤»\n",
       "q_2: ┤ Rx(0.41585) ├──┤ Ry(1.8609) ├┤ Rx(0.034328) ├─■──┼──┤ Rx(2.9535) ├»\n",
       "     ├─────────────┴┐ ├────────────┤├─────────────┬┘    │  ├────────────┤»\n",
       "q_3: ┤ Rx(-0.63573) ├─┤ Ry(2.4027) ├┤ Rx(-1.2049) ├─────■──┤ Rx(2.8593) ├»\n",
       "     └──────────────┘ └────────────┘└─────────────┘        └────────────┘»\n",
       "«                      ┌─────────────┐┌─────────┐ ┌─────────┐      »\n",
       "«q_0: ───────────────■─┤ Rx(-2.0895) ├┤ Ry(π/2) ├─┤ Rx(π/2) ├────■─»\n",
       "«                    │ ├─────────────┤├─────────┤ ├─────────┤    │ »\n",
       "«q_1: ────────────■──┼─┤ Rx(-1.0984) ├┤ Ry(π/2) ├─┤ Rx(π/2) ├─■──┼─»\n",
       "«     ┌─────────┐ │  │ └─┬─────────┬─┘├─────────┴┐└─────────┘ │  │ »\n",
       "«q_2: ┤ Ry(π/2) ├─■──┼───┤ Rx(π/2) ├──┤ Ry(-π/2) ├────────────■──┼─»\n",
       "«     ├─────────┤    │   ├─────────┤  ├──────────┤               │ »\n",
       "«q_3: ┤ Ry(π/2) ├────■───┤ Rx(π/2) ├──┤ Ry(-π/2) ├───────────────■─»\n",
       "«     └─────────┘        └─────────┘  └──────────┘                 »\n",
       "«     ┌─────────────┐  ┌────────────┐┌─────────────┐    ┌─────────────┐»\n",
       "«q_0: ┤ Rx(-2.1284) ├──┤ Ry(1.6463) ├┤ Rx(-2.5257) ├──■─┤ Rx(0.82587) ├»\n",
       "«     ├─────────────┴┐┌┴────────────┤└┬────────────┤  │ └┬───────────┬┘»\n",
       "«q_1: ┤ Rx(-0.60476) ├┤ Ry(0.70816) ├─┤ Rx(2.7899) ├──■──┤ Rx(2.968) ├─»\n",
       "«     ├──────────────┤└┬────────────┤┌┴────────────┤    ┌┴───────────┴┐»\n",
       "«q_2: ┤ Rx(-0.16084) ├─┤ Ry(1.4791) ├┤ Rx(0.37687) ├──■─┤ Rx(0.65963) ├»\n",
       "«     └┬────────────┬┘ ├────────────┤├─────────────┴┐ │ └┬────────────┤»\n",
       "«q_3: ─┤ Rx(1.6073) ├──┤ Ry(1.3951) ├┤ Rx(-0.43295) ├─■──┤ Rx(2.7258) ├»\n",
       "«      └────────────┘  └────────────┘└──────────────┘    └────────────┘»\n",
       "«                   ┌─────────────┐┌─────────┐ ┌─────────┐    ┌────────────┐ »\n",
       "«q_0: ────────────■─┤ Rx(-1.9244) ├┤ Ry(π/2) ├─┤ Rx(π/2) ├─■──┤ Rx(2.3076) ├─»\n",
       "«     ┌─────────┐ │ └─┬─────────┬─┘├─────────┴┐└─────────┘ │ ┌┴────────────┤ »\n",
       "«q_1: ┤ Ry(π/2) ├─■───┤ Rx(π/2) ├──┤ Ry(-π/2) ├────────────■─┤ Rx(0.18526) ├─»\n",
       "«     └─────────┘   ┌─┴─────────┴─┐├─────────┬┘┌─────────┐   └┬────────────┤ »\n",
       "«q_2: ────────────■─┤ Rx(-1.0939) ├┤ Ry(π/2) ├─┤ Rx(π/2) ├─■──┤ Rx(-1.806) ├─»\n",
       "«     ┌─────────┐ │ └─┬─────────┬─┘├─────────┴┐└─────────┘ │ ┌┴────────────┴┐»\n",
       "«q_3: ┤ Ry(π/2) ├─■───┤ Rx(π/2) ├──┤ Ry(-π/2) ├────────────■─┤ Rx(-0.16248) ├»\n",
       "«     └─────────┘     └─────────┘  └──────────┘              └──────────────┘»\n",
       "«     ┌─────────────┐ ┌───────────┐     ┌─────────────┐               »\n",
       "«q_0: ┤ Ry(0.98107) ├─┤ Rx(1.585) ├───■─┤ Rx(0.40754) ├───────────────»\n",
       "«     └┬────────────┤┌┴───────────┴┐  │ └─────────────┘┌─────────────┐»\n",
       "«q_1: ─┤ Ry(2.5167) ├┤ Rx(-1.9465) ├──┼────────■───────┤ Rx(0.50866) ├»\n",
       "«      ├────────────┤└┬────────────┤  │        │       └┬────────────┤»\n",
       "«q_2: ─┤ Ry(2.2512) ├─┤ Rx(1.8135) ├──■────────┼────────┤ Rx(2.6092) ├»\n",
       "«     ┌┴────────────┤┌┴────────────┴┐          │        ├────────────┤»\n",
       "«q_3: ┤ Ry(0.47464) ├┤ Rx(0.071919) ├──────────■────────┤ Rx(2.7914) ├»\n",
       "«     └─────────────┘└──────────────┘                   └────────────┘»\n",
       "«                   ┌─────────────┐  ┌─────────┐  ┌─────────┐               »\n",
       "«q_0: ────────────■─┤ Rx(-1.4381) ├──┤ Ry(π/2) ├──┤ Rx(π/2) ├─────────────■─»\n",
       "«                 │ └─────────────┘┌─┴─────────┴─┐├─────────┤ ┌─────────┐ │ »\n",
       "«q_1: ────────────┼────────■───────┤ Rx(-1.7934) ├┤ Ry(π/2) ├─┤ Rx(π/2) ├─┼─»\n",
       "«     ┌─────────┐ │        │       └─┬─────────┬─┘├─────────┴┐└─────────┘ │ »\n",
       "«q_2: ┤ Ry(π/2) ├─■────────┼─────────┤ Rx(π/2) ├──┤ Ry(-π/2) ├────────────■─»\n",
       "«     ├─────────┤          │         ├─────────┤  ├──────────┤              »\n",
       "«q_3: ┤ Ry(π/2) ├──────────■─────────┤ Rx(π/2) ├──┤ Ry(-π/2) ├──────────────»\n",
       "«     └─────────┘                    └─────────┘  └──────────┘              »\n",
       "«     ┌─────────────┐ ┌────────────┐ ┌────────────┐               \n",
       "«q_0: ┤ Rx(-2.5891) ├─┤ Ry(2.8194) ├─┤ Rx(1.5361) ├───────────────\n",
       "«     └─────────────┘┌┴────────────┤ ├────────────┤┌─────────────┐\n",
       "«q_1: ───────■───────┤ Rx(-3.1027) ├─┤ Ry(1.2515) ├┤ Rx(0.79406) ├\n",
       "«            │       ├─────────────┤┌┴────────────┤├─────────────┤\n",
       "«q_2: ───────┼───────┤ Rx(-1.1436) ├┤ Ry(0.46588) ├┤ Rx(-3.0714) ├\n",
       "«            │       ├─────────────┤└┬────────────┤├─────────────┤\n",
       "«q_3: ───────■───────┤ Rx(0.52885) ├─┤ Ry(2.2818) ├┤ Rx(-1.6638) ├\n",
       "«                    └─────────────┘ └────────────┘└─────────────┘"
      ]
     },
     "execution_count": 18,
     "metadata": {},
     "output_type": "execute_result"
    }
   ],
   "source": [
    "decomposed_circuit = transpile(qv_circuit, basis_gates=[\"rx\", \"ry\", \"cz\"], optimization_level=3)\n",
    "decomposed_circuit.draw()"
   ]
  },
  {
   "cell_type": "code",
   "execution_count": 10,
   "metadata": {},
   "outputs": [],
   "source": [
    "decomposed_circuit.measure_all()"
   ]
  },
  {
   "cell_type": "code",
   "execution_count": 11,
   "metadata": {},
   "outputs": [
    {
     "data": {
      "text/plain": [
       "85"
      ]
     },
     "execution_count": 11,
     "metadata": {},
     "output_type": "execute_result"
    }
   ],
   "source": [
    "len(decomposed_circuit)"
   ]
  },
  {
   "cell_type": "markdown",
   "metadata": {},
   "source": [
    "## Create Lattice with qruise-toolset"
   ]
  },
  {
   "cell_type": "code",
   "execution_count": 12,
   "metadata": {},
   "outputs": [
    {
     "data": {
      "application/vnd.plotly.v1+json": {
       "config": {
        "plotlyServerURL": "https://plot.ly"
       },
       "data": [
        {
         "marker": {
          "color": "blue",
          "size": 20
         },
         "mode": "markers",
         "name": "Q0",
         "type": "scatter",
         "x": [
          -4
         ],
         "y": [
          -4
         ]
        },
        {
         "marker": {
          "color": "blue",
          "size": 20
         },
         "mode": "markers",
         "name": "Q1",
         "type": "scatter",
         "x": [
          0
         ],
         "y": [
          -4
         ]
        },
        {
         "marker": {
          "color": "blue",
          "size": 20
         },
         "mode": "markers",
         "name": "Q2",
         "type": "scatter",
         "x": [
          -4
         ],
         "y": [
          0
         ]
        },
        {
         "marker": {
          "color": "blue",
          "size": 20
         },
         "mode": "markers",
         "name": "Q3",
         "type": "scatter",
         "x": [
          0
         ],
         "y": [
          0
         ]
        }
       ],
       "layout": {
        "height": 400,
        "margin": {
         "t": 60
        },
        "showlegend": false,
        "template": {
         "data": {
          "bar": [
           {
            "error_x": {
             "color": "#2a3f5f"
            },
            "error_y": {
             "color": "#2a3f5f"
            },
            "marker": {
             "line": {
              "color": "#E5ECF6",
              "width": 0.5
             },
             "pattern": {
              "fillmode": "overlay",
              "size": 10,
              "solidity": 0.2
             }
            },
            "type": "bar"
           }
          ],
          "barpolar": [
           {
            "marker": {
             "line": {
              "color": "#E5ECF6",
              "width": 0.5
             },
             "pattern": {
              "fillmode": "overlay",
              "size": 10,
              "solidity": 0.2
             }
            },
            "type": "barpolar"
           }
          ],
          "carpet": [
           {
            "aaxis": {
             "endlinecolor": "#2a3f5f",
             "gridcolor": "white",
             "linecolor": "white",
             "minorgridcolor": "white",
             "startlinecolor": "#2a3f5f"
            },
            "baxis": {
             "endlinecolor": "#2a3f5f",
             "gridcolor": "white",
             "linecolor": "white",
             "minorgridcolor": "white",
             "startlinecolor": "#2a3f5f"
            },
            "type": "carpet"
           }
          ],
          "choropleth": [
           {
            "colorbar": {
             "outlinewidth": 0,
             "ticks": ""
            },
            "type": "choropleth"
           }
          ],
          "contour": [
           {
            "colorbar": {
             "outlinewidth": 0,
             "ticks": ""
            },
            "colorscale": [
             [
              0,
              "#0d0887"
             ],
             [
              0.1111111111111111,
              "#46039f"
             ],
             [
              0.2222222222222222,
              "#7201a8"
             ],
             [
              0.3333333333333333,
              "#9c179e"
             ],
             [
              0.4444444444444444,
              "#bd3786"
             ],
             [
              0.5555555555555556,
              "#d8576b"
             ],
             [
              0.6666666666666666,
              "#ed7953"
             ],
             [
              0.7777777777777778,
              "#fb9f3a"
             ],
             [
              0.8888888888888888,
              "#fdca26"
             ],
             [
              1,
              "#f0f921"
             ]
            ],
            "type": "contour"
           }
          ],
          "contourcarpet": [
           {
            "colorbar": {
             "outlinewidth": 0,
             "ticks": ""
            },
            "type": "contourcarpet"
           }
          ],
          "heatmap": [
           {
            "colorbar": {
             "outlinewidth": 0,
             "ticks": ""
            },
            "colorscale": [
             [
              0,
              "#0d0887"
             ],
             [
              0.1111111111111111,
              "#46039f"
             ],
             [
              0.2222222222222222,
              "#7201a8"
             ],
             [
              0.3333333333333333,
              "#9c179e"
             ],
             [
              0.4444444444444444,
              "#bd3786"
             ],
             [
              0.5555555555555556,
              "#d8576b"
             ],
             [
              0.6666666666666666,
              "#ed7953"
             ],
             [
              0.7777777777777778,
              "#fb9f3a"
             ],
             [
              0.8888888888888888,
              "#fdca26"
             ],
             [
              1,
              "#f0f921"
             ]
            ],
            "type": "heatmap"
           }
          ],
          "heatmapgl": [
           {
            "colorbar": {
             "outlinewidth": 0,
             "ticks": ""
            },
            "colorscale": [
             [
              0,
              "#0d0887"
             ],
             [
              0.1111111111111111,
              "#46039f"
             ],
             [
              0.2222222222222222,
              "#7201a8"
             ],
             [
              0.3333333333333333,
              "#9c179e"
             ],
             [
              0.4444444444444444,
              "#bd3786"
             ],
             [
              0.5555555555555556,
              "#d8576b"
             ],
             [
              0.6666666666666666,
              "#ed7953"
             ],
             [
              0.7777777777777778,
              "#fb9f3a"
             ],
             [
              0.8888888888888888,
              "#fdca26"
             ],
             [
              1,
              "#f0f921"
             ]
            ],
            "type": "heatmapgl"
           }
          ],
          "histogram": [
           {
            "marker": {
             "pattern": {
              "fillmode": "overlay",
              "size": 10,
              "solidity": 0.2
             }
            },
            "type": "histogram"
           }
          ],
          "histogram2d": [
           {
            "colorbar": {
             "outlinewidth": 0,
             "ticks": ""
            },
            "colorscale": [
             [
              0,
              "#0d0887"
             ],
             [
              0.1111111111111111,
              "#46039f"
             ],
             [
              0.2222222222222222,
              "#7201a8"
             ],
             [
              0.3333333333333333,
              "#9c179e"
             ],
             [
              0.4444444444444444,
              "#bd3786"
             ],
             [
              0.5555555555555556,
              "#d8576b"
             ],
             [
              0.6666666666666666,
              "#ed7953"
             ],
             [
              0.7777777777777778,
              "#fb9f3a"
             ],
             [
              0.8888888888888888,
              "#fdca26"
             ],
             [
              1,
              "#f0f921"
             ]
            ],
            "type": "histogram2d"
           }
          ],
          "histogram2dcontour": [
           {
            "colorbar": {
             "outlinewidth": 0,
             "ticks": ""
            },
            "colorscale": [
             [
              0,
              "#0d0887"
             ],
             [
              0.1111111111111111,
              "#46039f"
             ],
             [
              0.2222222222222222,
              "#7201a8"
             ],
             [
              0.3333333333333333,
              "#9c179e"
             ],
             [
              0.4444444444444444,
              "#bd3786"
             ],
             [
              0.5555555555555556,
              "#d8576b"
             ],
             [
              0.6666666666666666,
              "#ed7953"
             ],
             [
              0.7777777777777778,
              "#fb9f3a"
             ],
             [
              0.8888888888888888,
              "#fdca26"
             ],
             [
              1,
              "#f0f921"
             ]
            ],
            "type": "histogram2dcontour"
           }
          ],
          "mesh3d": [
           {
            "colorbar": {
             "outlinewidth": 0,
             "ticks": ""
            },
            "type": "mesh3d"
           }
          ],
          "parcoords": [
           {
            "line": {
             "colorbar": {
              "outlinewidth": 0,
              "ticks": ""
             }
            },
            "type": "parcoords"
           }
          ],
          "pie": [
           {
            "automargin": true,
            "type": "pie"
           }
          ],
          "scatter": [
           {
            "fillpattern": {
             "fillmode": "overlay",
             "size": 10,
             "solidity": 0.2
            },
            "type": "scatter"
           }
          ],
          "scatter3d": [
           {
            "line": {
             "colorbar": {
              "outlinewidth": 0,
              "ticks": ""
             }
            },
            "marker": {
             "colorbar": {
              "outlinewidth": 0,
              "ticks": ""
             }
            },
            "type": "scatter3d"
           }
          ],
          "scattercarpet": [
           {
            "marker": {
             "colorbar": {
              "outlinewidth": 0,
              "ticks": ""
             }
            },
            "type": "scattercarpet"
           }
          ],
          "scattergeo": [
           {
            "marker": {
             "colorbar": {
              "outlinewidth": 0,
              "ticks": ""
             }
            },
            "type": "scattergeo"
           }
          ],
          "scattergl": [
           {
            "marker": {
             "colorbar": {
              "outlinewidth": 0,
              "ticks": ""
             }
            },
            "type": "scattergl"
           }
          ],
          "scattermapbox": [
           {
            "marker": {
             "colorbar": {
              "outlinewidth": 0,
              "ticks": ""
             }
            },
            "type": "scattermapbox"
           }
          ],
          "scatterpolar": [
           {
            "marker": {
             "colorbar": {
              "outlinewidth": 0,
              "ticks": ""
             }
            },
            "type": "scatterpolar"
           }
          ],
          "scatterpolargl": [
           {
            "marker": {
             "colorbar": {
              "outlinewidth": 0,
              "ticks": ""
             }
            },
            "type": "scatterpolargl"
           }
          ],
          "scatterternary": [
           {
            "marker": {
             "colorbar": {
              "outlinewidth": 0,
              "ticks": ""
             }
            },
            "type": "scatterternary"
           }
          ],
          "surface": [
           {
            "colorbar": {
             "outlinewidth": 0,
             "ticks": ""
            },
            "colorscale": [
             [
              0,
              "#0d0887"
             ],
             [
              0.1111111111111111,
              "#46039f"
             ],
             [
              0.2222222222222222,
              "#7201a8"
             ],
             [
              0.3333333333333333,
              "#9c179e"
             ],
             [
              0.4444444444444444,
              "#bd3786"
             ],
             [
              0.5555555555555556,
              "#d8576b"
             ],
             [
              0.6666666666666666,
              "#ed7953"
             ],
             [
              0.7777777777777778,
              "#fb9f3a"
             ],
             [
              0.8888888888888888,
              "#fdca26"
             ],
             [
              1,
              "#f0f921"
             ]
            ],
            "type": "surface"
           }
          ],
          "table": [
           {
            "cells": {
             "fill": {
              "color": "#EBF0F8"
             },
             "line": {
              "color": "white"
             }
            },
            "header": {
             "fill": {
              "color": "#C8D4E3"
             },
             "line": {
              "color": "white"
             }
            },
            "type": "table"
           }
          ]
         },
         "layout": {
          "annotationdefaults": {
           "arrowcolor": "#2a3f5f",
           "arrowhead": 0,
           "arrowwidth": 1
          },
          "autotypenumbers": "strict",
          "coloraxis": {
           "colorbar": {
            "outlinewidth": 0,
            "ticks": ""
           }
          },
          "colorscale": {
           "diverging": [
            [
             0,
             "#8e0152"
            ],
            [
             0.1,
             "#c51b7d"
            ],
            [
             0.2,
             "#de77ae"
            ],
            [
             0.3,
             "#f1b6da"
            ],
            [
             0.4,
             "#fde0ef"
            ],
            [
             0.5,
             "#f7f7f7"
            ],
            [
             0.6,
             "#e6f5d0"
            ],
            [
             0.7,
             "#b8e186"
            ],
            [
             0.8,
             "#7fbc41"
            ],
            [
             0.9,
             "#4d9221"
            ],
            [
             1,
             "#276419"
            ]
           ],
           "sequential": [
            [
             0,
             "#0d0887"
            ],
            [
             0.1111111111111111,
             "#46039f"
            ],
            [
             0.2222222222222222,
             "#7201a8"
            ],
            [
             0.3333333333333333,
             "#9c179e"
            ],
            [
             0.4444444444444444,
             "#bd3786"
            ],
            [
             0.5555555555555556,
             "#d8576b"
            ],
            [
             0.6666666666666666,
             "#ed7953"
            ],
            [
             0.7777777777777778,
             "#fb9f3a"
            ],
            [
             0.8888888888888888,
             "#fdca26"
            ],
            [
             1,
             "#f0f921"
            ]
           ],
           "sequentialminus": [
            [
             0,
             "#0d0887"
            ],
            [
             0.1111111111111111,
             "#46039f"
            ],
            [
             0.2222222222222222,
             "#7201a8"
            ],
            [
             0.3333333333333333,
             "#9c179e"
            ],
            [
             0.4444444444444444,
             "#bd3786"
            ],
            [
             0.5555555555555556,
             "#d8576b"
            ],
            [
             0.6666666666666666,
             "#ed7953"
            ],
            [
             0.7777777777777778,
             "#fb9f3a"
            ],
            [
             0.8888888888888888,
             "#fdca26"
            ],
            [
             1,
             "#f0f921"
            ]
           ]
          },
          "colorway": [
           "#636efa",
           "#EF553B",
           "#00cc96",
           "#ab63fa",
           "#FFA15A",
           "#19d3f3",
           "#FF6692",
           "#B6E880",
           "#FF97FF",
           "#FECB52"
          ],
          "font": {
           "color": "#2a3f5f"
          },
          "geo": {
           "bgcolor": "white",
           "lakecolor": "white",
           "landcolor": "#E5ECF6",
           "showlakes": true,
           "showland": true,
           "subunitcolor": "white"
          },
          "hoverlabel": {
           "align": "left"
          },
          "hovermode": "closest",
          "mapbox": {
           "style": "light"
          },
          "paper_bgcolor": "white",
          "plot_bgcolor": "#E5ECF6",
          "polar": {
           "angularaxis": {
            "gridcolor": "white",
            "linecolor": "white",
            "ticks": ""
           },
           "bgcolor": "#E5ECF6",
           "radialaxis": {
            "gridcolor": "white",
            "linecolor": "white",
            "ticks": ""
           }
          },
          "scene": {
           "xaxis": {
            "backgroundcolor": "#E5ECF6",
            "gridcolor": "white",
            "gridwidth": 2,
            "linecolor": "white",
            "showbackground": true,
            "ticks": "",
            "zerolinecolor": "white"
           },
           "yaxis": {
            "backgroundcolor": "#E5ECF6",
            "gridcolor": "white",
            "gridwidth": 2,
            "linecolor": "white",
            "showbackground": true,
            "ticks": "",
            "zerolinecolor": "white"
           },
           "zaxis": {
            "backgroundcolor": "#E5ECF6",
            "gridcolor": "white",
            "gridwidth": 2,
            "linecolor": "white",
            "showbackground": true,
            "ticks": "",
            "zerolinecolor": "white"
           }
          },
          "shapedefaults": {
           "line": {
            "color": "#2a3f5f"
           }
          },
          "ternary": {
           "aaxis": {
            "gridcolor": "white",
            "linecolor": "white",
            "ticks": ""
           },
           "baxis": {
            "gridcolor": "white",
            "linecolor": "white",
            "ticks": ""
           },
           "bgcolor": "#E5ECF6",
           "caxis": {
            "gridcolor": "white",
            "linecolor": "white",
            "ticks": ""
           }
          },
          "title": {
           "x": 0.05
          },
          "xaxis": {
           "automargin": true,
           "gridcolor": "white",
           "linecolor": "white",
           "ticks": "",
           "title": {
            "standoff": 15
           },
           "zerolinecolor": "white",
           "zerolinewidth": 2
          },
          "yaxis": {
           "automargin": true,
           "gridcolor": "white",
           "linecolor": "white",
           "ticks": "",
           "title": {
            "standoff": 15
           },
           "zerolinecolor": "white",
           "zerolinewidth": 2
          }
         }
        },
        "width": 500,
        "xaxis": {
         "title": {
          "text": "X"
         }
        },
        "yaxis": {
         "title": {
          "text": "Y"
         }
        }
       }
      }
     },
     "metadata": {},
     "output_type": "display_data"
    }
   ],
   "source": [
    "from qruise.toolset.libraries.rydberg.lattice import SquareLattice\n",
    "r12 = 4.0\n",
    "lattice = SquareLattice(n_side=2, r_interatomic=r12)\n",
    "lattice.draw()"
   ]
  },
  {
   "cell_type": "code",
   "execution_count": 13,
   "metadata": {},
   "outputs": [],
   "source": [
    "from qruise.toolset.libraries.rydberg.rydbergsystem import RydbergSystem\n",
    "hilbert_dim = 3\n",
    "ryd_system = RydbergSystem(lattice=lattice, hilbert_dim=hilbert_dim)"
   ]
  },
  {
   "cell_type": "code",
   "execution_count": 14,
   "metadata": {},
   "outputs": [
    {
     "data": {
      "text/plain": [
       "[RydbergAtom(name='0', detuning=0.000 2pi Hz),\n",
       " RydbergAtom(name='1', detuning=0.000 2pi Hz),\n",
       " RydbergAtom(name='2', detuning=0.000 2pi Hz),\n",
       " RydbergAtom(name='3', detuning=0.000 2pi Hz)]"
      ]
     },
     "execution_count": 14,
     "metadata": {},
     "output_type": "execute_result"
    }
   ],
   "source": [
    "ryd_system.rydberg_atom_list"
   ]
  },
  {
   "cell_type": "markdown",
   "metadata": {},
   "source": [
    "Create the drives needed in the quantum volume sequence"
   ]
  },
  {
   "cell_type": "markdown",
   "metadata": {},
   "source": [
    "$R_x$ and $R_y$ gates for all the qubits"
   ]
  },
  {
   "cell_type": "code",
   "execution_count": 15,
   "metadata": {},
   "outputs": [],
   "source": [
    "import numpy as np\n",
    "from qruise.toolset.objects import Quantity\n",
    "phase_y = Quantity(value=0.5 * np.pi, unit=\"rads\")\n",
    "phase_x = Quantity(value=0.0, unit=\"rads\")"
   ]
  },
  {
   "cell_type": "code",
   "execution_count": 16,
   "metadata": {},
   "outputs": [],
   "source": [
    "for atom in ryd_system.rydberg_atom_list:\n",
    "    name = atom.name\n",
    "    ryd_system.add_drive(\n",
    "    \"amplitude-phase\",\n",
    "    f\"rx{name}\",\n",
    "    channel=\"raman\",\n",
    "    connected=[name],\n",
    "    phase=phase_x,\n",
    ")\n",
    "    ryd_system.add_drive(\n",
    "    \"amplitude-phase\",\n",
    "    f\"ry{name}\",\n",
    "    channel=\"raman\",\n",
    "    connected=[name],\n",
    "    phase=phase_y,\n",
    ")\n",
    "    ryd_system.add_drive(\n",
    "        \"amplitude-phase\",\n",
    "        f\"rydbergx{name}\",\n",
    "        channel=\"rydberg\",\n",
    "        connected=[name],\n",
    "        phase=phase_x,\n",
    "    )\n"
   ]
  },
  {
   "cell_type": "code",
   "execution_count": 17,
   "metadata": {},
   "outputs": [],
   "source": [
    "rabi_amplitude = 2.5e6 # MHz\n",
    "# t_pi = np.round(1 / (2 * rabi_amplitude) * 1e9) * 1e-9\n",
    "# t_pi_quantity = Quantity(value=t_pi, unit=\"s\")"
   ]
  },
  {
   "cell_type": "code",
   "execution_count": 18,
   "metadata": {},
   "outputs": [],
   "source": [
    "# t_pi"
   ]
  },
  {
   "cell_type": "code",
   "execution_count": 19,
   "metadata": {},
   "outputs": [],
   "source": [
    "# Example single qubit gate\n",
    "# print(\"Name\", decomposed_circuit[13].operation.name)\n",
    "# print(\"Control\", decomposed_circuit[13].qubits[0]._index)\n",
    "# print(\"Target\", decomposed_circuit[13].qubits[1]._index)\n",
    "# print(\"Angle\", decomposed_circuit[13].operation)"
   ]
  },
  {
   "cell_type": "code",
   "execution_count": 20,
   "metadata": {},
   "outputs": [],
   "source": [
    "from qruise_utils import create_instructions, name_rx_gate, name_ry_gate, name_cz_gate"
   ]
  },
  {
   "cell_type": "code",
   "execution_count": 21,
   "metadata": {},
   "outputs": [
    {
     "name": "stderr",
     "output_type": "stream",
     "text": [
      "/home/marco/GitHub_Qruise/qruise-toolset/src/qruise/toolset/signal/gates.py:211: UserWarning:\n",
      "\n",
      "No ideal gate found for gate: rx. Use set_ideal() explicitly.\n",
      "\n",
      "/home/marco/GitHub_Qruise/qruise-toolset/src/qruise/toolset/signal/gates.py:211: UserWarning:\n",
      "\n",
      "No ideal gate found for gate: -0.244421. Use set_ideal() explicitly.\n",
      "\n",
      "/home/marco/GitHub_Qruise/qruise-toolset/src/qruise/toolset/signal/gates.py:211: UserWarning:\n",
      "\n",
      "No ideal gate found for gate: 0. Use set_ideal() explicitly.\n",
      "\n",
      "/home/marco/GitHub_Qruise/qruise-toolset/src/qruise/toolset/signal/gates.py:211: UserWarning:\n",
      "\n",
      "No ideal gate found for gate: ry. Use set_ideal() explicitly.\n",
      "\n",
      "/home/marco/GitHub_Qruise/qruise-toolset/src/qruise/toolset/signal/gates.py:211: UserWarning:\n",
      "\n",
      "No ideal gate found for gate: 1.733845. Use set_ideal() explicitly.\n",
      "\n",
      "/home/marco/GitHub_Qruise/qruise-toolset/src/qruise/toolset/signal/gates.py:211: UserWarning:\n",
      "\n",
      "No ideal gate found for gate: 2.820336. Use set_ideal() explicitly.\n",
      "\n",
      "/home/marco/GitHub_Qruise/qruise-toolset/src/qruise/toolset/signal/gates.py:211: UserWarning:\n",
      "\n",
      "No ideal gate found for gate: -0.224827. Use set_ideal() explicitly.\n",
      "\n",
      "/home/marco/GitHub_Qruise/qruise-toolset/src/qruise/toolset/signal/gates.py:211: UserWarning:\n",
      "\n",
      "No ideal gate found for gate: 1. Use set_ideal() explicitly.\n",
      "\n",
      "/home/marco/GitHub_Qruise/qruise-toolset/src/qruise/toolset/signal/gates.py:211: UserWarning:\n",
      "\n",
      "No ideal gate found for gate: 1.964055. Use set_ideal() explicitly.\n",
      "\n",
      "/home/marco/GitHub_Qruise/qruise-toolset/src/qruise/toolset/signal/gates.py:211: UserWarning:\n",
      "\n",
      "No ideal gate found for gate: 1.380926. Use set_ideal() explicitly.\n",
      "\n",
      "/home/marco/GitHub_Qruise/qruise-toolset/src/qruise/toolset/signal/gates.py:211: UserWarning:\n",
      "\n",
      "No ideal gate found for gate: -2.995232. Use set_ideal() explicitly.\n",
      "\n",
      "/home/marco/GitHub_Qruise/qruise-toolset/src/qruise/toolset/signal/gates.py:211: UserWarning:\n",
      "\n",
      "No ideal gate found for gate: 2. Use set_ideal() explicitly.\n",
      "\n",
      "/home/marco/GitHub_Qruise/qruise-toolset/src/qruise/toolset/signal/gates.py:211: UserWarning:\n",
      "\n",
      "No ideal gate found for gate: 2.030778. Use set_ideal() explicitly.\n",
      "\n",
      "/home/marco/GitHub_Qruise/qruise-toolset/src/qruise/toolset/signal/gates.py:211: UserWarning:\n",
      "\n",
      "No ideal gate found for gate: -1.332986. Use set_ideal() explicitly.\n",
      "\n",
      "/home/marco/GitHub_Qruise/qruise-toolset/src/qruise/toolset/signal/gates.py:211: UserWarning:\n",
      "\n",
      "No ideal gate found for gate: 02. Use set_ideal() explicitly.\n",
      "\n",
      "/home/marco/GitHub_Qruise/qruise-toolset/src/qruise/toolset/signal/gates.py:211: UserWarning:\n",
      "\n",
      "No ideal gate found for gate: 3. Use set_ideal() explicitly.\n",
      "\n",
      "/home/marco/GitHub_Qruise/qruise-toolset/src/qruise/toolset/signal/gates.py:211: UserWarning:\n",
      "\n",
      "No ideal gate found for gate: 0.656951. Use set_ideal() explicitly.\n",
      "\n",
      "/home/marco/GitHub_Qruise/qruise-toolset/src/qruise/toolset/signal/gates.py:211: UserWarning:\n",
      "\n",
      "No ideal gate found for gate: 2.898652. Use set_ideal() explicitly.\n",
      "\n",
      "/home/marco/GitHub_Qruise/qruise-toolset/src/qruise/toolset/signal/gates.py:211: UserWarning:\n",
      "\n",
      "No ideal gate found for gate: 1.570796. Use set_ideal() explicitly.\n",
      "\n",
      "/home/marco/GitHub_Qruise/qruise-toolset/src/qruise/toolset/signal/gates.py:211: UserWarning:\n",
      "\n",
      "No ideal gate found for gate: -1.494957. Use set_ideal() explicitly.\n",
      "\n",
      "/home/marco/GitHub_Qruise/qruise-toolset/src/qruise/toolset/signal/gates.py:211: UserWarning:\n",
      "\n",
      "No ideal gate found for gate: -1.570796. Use set_ideal() explicitly.\n",
      "\n",
      "/home/marco/GitHub_Qruise/qruise-toolset/src/qruise/toolset/signal/gates.py:211: UserWarning:\n",
      "\n",
      "No ideal gate found for gate: 2.972133. Use set_ideal() explicitly.\n",
      "\n",
      "/home/marco/GitHub_Qruise/qruise-toolset/src/qruise/toolset/signal/gates.py:211: UserWarning:\n",
      "\n",
      "No ideal gate found for gate: 1.614811. Use set_ideal() explicitly.\n",
      "\n",
      "/home/marco/GitHub_Qruise/qruise-toolset/src/qruise/toolset/signal/gates.py:211: UserWarning:\n",
      "\n",
      "No ideal gate found for gate: 1.975597. Use set_ideal() explicitly.\n",
      "\n",
      "/home/marco/GitHub_Qruise/qruise-toolset/src/qruise/toolset/signal/gates.py:211: UserWarning:\n",
      "\n",
      "No ideal gate found for gate: -1.557723. Use set_ideal() explicitly.\n",
      "\n",
      "/home/marco/GitHub_Qruise/qruise-toolset/src/qruise/toolset/signal/gates.py:211: UserWarning:\n",
      "\n",
      "No ideal gate found for gate: 2.660799. Use set_ideal() explicitly.\n",
      "\n",
      "/home/marco/GitHub_Qruise/qruise-toolset/src/qruise/toolset/signal/gates.py:211: UserWarning:\n",
      "\n",
      "No ideal gate found for gate: 0.768566. Use set_ideal() explicitly.\n",
      "\n",
      "/home/marco/GitHub_Qruise/qruise-toolset/src/qruise/toolset/signal/gates.py:211: UserWarning:\n",
      "\n",
      "No ideal gate found for gate: 3.094099. Use set_ideal() explicitly.\n",
      "\n",
      "/home/marco/GitHub_Qruise/qruise-toolset/src/qruise/toolset/signal/gates.py:211: UserWarning:\n",
      "\n",
      "No ideal gate found for gate: 2.025474. Use set_ideal() explicitly.\n",
      "\n",
      "/home/marco/GitHub_Qruise/qruise-toolset/src/qruise/toolset/signal/gates.py:211: UserWarning:\n",
      "\n",
      "No ideal gate found for gate: 2.982176. Use set_ideal() explicitly.\n",
      "\n",
      "/home/marco/GitHub_Qruise/qruise-toolset/src/qruise/toolset/signal/gates.py:211: UserWarning:\n",
      "\n",
      "No ideal gate found for gate: 13. Use set_ideal() explicitly.\n",
      "\n",
      "/home/marco/GitHub_Qruise/qruise-toolset/src/qruise/toolset/signal/gates.py:211: UserWarning:\n",
      "\n",
      "No ideal gate found for gate: 1.081942. Use set_ideal() explicitly.\n",
      "\n",
      "/home/marco/GitHub_Qruise/qruise-toolset/src/qruise/toolset/signal/gates.py:211: UserWarning:\n",
      "\n",
      "No ideal gate found for gate: 3.13056. Use set_ideal() explicitly.\n",
      "\n",
      "/home/marco/GitHub_Qruise/qruise-toolset/src/qruise/toolset/signal/gates.py:211: UserWarning:\n",
      "\n",
      "No ideal gate found for gate: -2.266059. Use set_ideal() explicitly.\n",
      "\n"
     ]
    },
    {
     "name": "stdout",
     "output_type": "stream",
     "text": [
      "barrier\n",
      "measure\n",
      "measure\n",
      "measure\n",
      "measure\n"
     ]
    },
    {
     "name": "stderr",
     "output_type": "stream",
     "text": [
      "/home/marco/GitHub_Qruise/qruise-toolset/src/qruise/toolset/signal/gates.py:211: UserWarning:\n",
      "\n",
      "No ideal gate found for gate: 1.382899. Use set_ideal() explicitly.\n",
      "\n",
      "/home/marco/GitHub_Qruise/qruise-toolset/src/qruise/toolset/signal/gates.py:211: UserWarning:\n",
      "\n",
      "No ideal gate found for gate: 1.84174. Use set_ideal() explicitly.\n",
      "\n",
      "/home/marco/GitHub_Qruise/qruise-toolset/src/qruise/toolset/signal/gates.py:211: UserWarning:\n",
      "\n",
      "No ideal gate found for gate: 1.836609. Use set_ideal() explicitly.\n",
      "\n",
      "/home/marco/GitHub_Qruise/qruise-toolset/src/qruise/toolset/signal/gates.py:211: UserWarning:\n",
      "\n",
      "No ideal gate found for gate: 01. Use set_ideal() explicitly.\n",
      "\n",
      "/home/marco/GitHub_Qruise/qruise-toolset/src/qruise/toolset/signal/gates.py:211: UserWarning:\n",
      "\n",
      "No ideal gate found for gate: 0.825933. Use set_ideal() explicitly.\n",
      "\n",
      "/home/marco/GitHub_Qruise/qruise-toolset/src/qruise/toolset/signal/gates.py:211: UserWarning:\n",
      "\n",
      "No ideal gate found for gate: 2.637566. Use set_ideal() explicitly.\n",
      "\n",
      "/home/marco/GitHub_Qruise/qruise-toolset/src/qruise/toolset/signal/gates.py:211: UserWarning:\n",
      "\n",
      "No ideal gate found for gate: -1.266622. Use set_ideal() explicitly.\n",
      "\n",
      "/home/marco/GitHub_Qruise/qruise-toolset/src/qruise/toolset/signal/gates.py:211: UserWarning:\n",
      "\n",
      "No ideal gate found for gate: 1.630259. Use set_ideal() explicitly.\n",
      "\n",
      "/home/marco/GitHub_Qruise/qruise-toolset/src/qruise/toolset/signal/gates.py:211: UserWarning:\n",
      "\n",
      "No ideal gate found for gate: 2.520875. Use set_ideal() explicitly.\n",
      "\n",
      "/home/marco/GitHub_Qruise/qruise-toolset/src/qruise/toolset/signal/gates.py:211: UserWarning:\n",
      "\n",
      "No ideal gate found for gate: 0.812805. Use set_ideal() explicitly.\n",
      "\n",
      "/home/marco/GitHub_Qruise/qruise-toolset/src/qruise/toolset/signal/gates.py:211: UserWarning:\n",
      "\n",
      "No ideal gate found for gate: 0.230817. Use set_ideal() explicitly.\n",
      "\n",
      "/home/marco/GitHub_Qruise/qruise-toolset/src/qruise/toolset/signal/gates.py:211: UserWarning:\n",
      "\n",
      "No ideal gate found for gate: 1.309623. Use set_ideal() explicitly.\n",
      "\n",
      "/home/marco/GitHub_Qruise/qruise-toolset/src/qruise/toolset/signal/gates.py:211: UserWarning:\n",
      "\n",
      "No ideal gate found for gate: 1.938001. Use set_ideal() explicitly.\n",
      "\n",
      "/home/marco/GitHub_Qruise/qruise-toolset/src/qruise/toolset/signal/gates.py:211: UserWarning:\n",
      "\n",
      "No ideal gate found for gate: -2.710646. Use set_ideal() explicitly.\n",
      "\n",
      "/home/marco/GitHub_Qruise/qruise-toolset/src/qruise/toolset/signal/gates.py:211: UserWarning:\n",
      "\n",
      "No ideal gate found for gate: 2.315805. Use set_ideal() explicitly.\n",
      "\n",
      "/home/marco/GitHub_Qruise/qruise-toolset/src/qruise/toolset/signal/gates.py:211: UserWarning:\n",
      "\n",
      "No ideal gate found for gate: -1.544489. Use set_ideal() explicitly.\n",
      "\n",
      "/home/marco/GitHub_Qruise/qruise-toolset/src/qruise/toolset/signal/gates.py:211: UserWarning:\n",
      "\n",
      "No ideal gate found for gate: 23. Use set_ideal() explicitly.\n",
      "\n",
      "/home/marco/GitHub_Qruise/qruise-toolset/src/qruise/toolset/signal/gates.py:211: UserWarning:\n",
      "\n",
      "No ideal gate found for gate: 1.000664. Use set_ideal() explicitly.\n",
      "\n",
      "/home/marco/GitHub_Qruise/qruise-toolset/src/qruise/toolset/signal/gates.py:211: UserWarning:\n",
      "\n",
      "No ideal gate found for gate: 2.900798. Use set_ideal() explicitly.\n",
      "\n",
      "/home/marco/GitHub_Qruise/qruise-toolset/src/qruise/toolset/signal/gates.py:211: UserWarning:\n",
      "\n",
      "No ideal gate found for gate: -1.262326. Use set_ideal() explicitly.\n",
      "\n",
      "/home/marco/GitHub_Qruise/qruise-toolset/src/qruise/toolset/signal/gates.py:211: UserWarning:\n",
      "\n",
      "No ideal gate found for gate: -1.57845. Use set_ideal() explicitly.\n",
      "\n",
      "/home/marco/GitHub_Qruise/qruise-toolset/src/qruise/toolset/signal/gates.py:211: UserWarning:\n",
      "\n",
      "No ideal gate found for gate: 1.842621. Use set_ideal() explicitly.\n",
      "\n",
      "/home/marco/GitHub_Qruise/qruise-toolset/src/qruise/toolset/signal/gates.py:211: UserWarning:\n",
      "\n",
      "No ideal gate found for gate: -1.96749. Use set_ideal() explicitly.\n",
      "\n",
      "/home/marco/GitHub_Qruise/qruise-toolset/src/qruise/toolset/signal/gates.py:211: UserWarning:\n",
      "\n",
      "No ideal gate found for gate: -2.868163. Use set_ideal() explicitly.\n",
      "\n",
      "/home/marco/GitHub_Qruise/qruise-toolset/src/qruise/toolset/signal/gates.py:211: UserWarning:\n",
      "\n",
      "No ideal gate found for gate: 1.403824. Use set_ideal() explicitly.\n",
      "\n",
      "/home/marco/GitHub_Qruise/qruise-toolset/src/qruise/toolset/signal/gates.py:211: UserWarning:\n",
      "\n",
      "No ideal gate found for gate: -2.126859. Use set_ideal() explicitly.\n",
      "\n"
     ]
    }
   ],
   "source": [
    "gate_list = create_instructions(rydberg_system=ryd_system, circuit=decomposed_circuit, rabi_amplitude=rabi_amplitude)"
   ]
  },
  {
   "cell_type": "code",
   "execution_count": 22,
   "metadata": {},
   "outputs": [],
   "source": [
    "# Print all index and information\n",
    "# gates_list = []\n",
    "# for index, circuit in enumerate(decomposed_circuit[:5]):\n",
    "#     # print(f\"Index: {index} , Name: {circuit.operation.name}, Targets: {circuit.qubits}\")\n",
    "#     if circuit.operation.name == \"ry\":\n",
    "#         gates_list.append(create_ry_gate(angle=circuit.operation.params[0], atom=circuit.qubits[0]._index))\n",
    "#     elif circuit.operation.name == \"rx\":\n",
    "#         gates_list.append(create_rx_gate(angle=circuit.operation.params[0], atom=circuit.qubits[0]._index))\n",
    "#     elif circuit.operation.name == \"cz\":\n",
    "#         gates_list.extend(create_cz_gate(atom1=circuit.qubits[0]._index, atom2=circuit.qubits[1]._index))\n",
    "#     else:\n",
    "#         print(circuit.operation.name)"
   ]
  },
  {
   "cell_type": "code",
   "execution_count": 23,
   "metadata": {},
   "outputs": [],
   "source": [
    "qruise_istructions = ryd_system.instruction_list"
   ]
  },
  {
   "cell_type": "code",
   "execution_count": 24,
   "metadata": {},
   "outputs": [
    {
     "data": {
      "text/plain": [
       "[Instruction(rx_-0.244421_0[0]),\n",
       " Instruction(ry_1.733845_0[0]),\n",
       " Instruction(rx_2.820336_0[0]),\n",
       " Instruction(rx_-0.224827_1[1]),\n",
       " Instruction(ry_1.964055_1[1]),\n",
       " Instruction(rx_1.380926_1[1]),\n",
       " Instruction(rx_-2.995232_2[2]),\n",
       " Instruction(ry_2.030778_2[2]),\n",
       " Instruction(rx_-1.332986_2[2]),\n",
       " Instruction(cz_02_1[0,2]),\n",
       " Instruction(cz_02_2[0,2]),\n",
       " Instruction(cz_02_3[0,2]),\n",
       " Instruction(rx_0.656951_0[0]),\n",
       " Instruction(rx_2.898652_2[2]),\n",
       " Instruction(ry_1.570796_2[2]),\n",
       " Instruction(rx_-1.494957_0[0]),\n",
       " Instruction(ry_1.570796_0[0]),\n",
       " Instruction(rx_1.570796_0[0]),\n",
       " Instruction(rx_1.570796_2[2]),\n",
       " Instruction(ry_-1.570796_2[2]),\n",
       " Instruction(rx_2.972133_0[0]),\n",
       " Instruction(ry_1.614811_0[0]),\n",
       " Instruction(rx_1.975597_0[0]),\n",
       " Instruction(rx_-1.557723_2[2]),\n",
       " Instruction(ry_2.660799_2[2]),\n",
       " Instruction(rx_0.768566_2[2]),\n",
       " Instruction(rx_3.094099_3[3]),\n",
       " Instruction(ry_2.025474_3[3]),\n",
       " Instruction(rx_2.982176_3[3]),\n",
       " Instruction(cz_13_1[1,3]),\n",
       " Instruction(cz_13_2[1,3]),\n",
       " Instruction(cz_13_3[1,3]),\n",
       " Instruction(rx_1.081942_1[1]),\n",
       " Instruction(rx_3.13056_3[3]),\n",
       " Instruction(ry_1.570796_3[3]),\n",
       " Instruction(rx_-2.266059_1[1]),\n",
       " Instruction(ry_1.570796_1[1]),\n",
       " Instruction(rx_1.570796_1[1]),\n",
       " Instruction(rx_1.570796_3[3]),\n",
       " Instruction(ry_-1.570796_3[3]),\n",
       " Instruction(rx_1.382899_1[1]),\n",
       " Instruction(ry_1.84174_1[1]),\n",
       " Instruction(rx_1.836609_1[1]),\n",
       " Instruction(cz_01_1[0,1]),\n",
       " Instruction(cz_01_2[0,1]),\n",
       " Instruction(cz_01_3[0,1]),\n",
       " Instruction(rx_0.825933_0[0]),\n",
       " Instruction(rx_2.637566_1[1]),\n",
       " Instruction(rx_-1.266622_0[0]),\n",
       " Instruction(ry_-1.570796_1[1]),\n",
       " Instruction(rx_1.630259_0[0]),\n",
       " Instruction(ry_2.520875_0[0]),\n",
       " Instruction(rx_0.812805_0[0]),\n",
       " Instruction(rx_0.230817_1[1]),\n",
       " Instruction(ry_1.309623_1[1]),\n",
       " Instruction(rx_1.938001_1[1]),\n",
       " Instruction(rx_-2.710646_3[3]),\n",
       " Instruction(ry_2.315805_3[3]),\n",
       " Instruction(rx_-1.544489_3[3]),\n",
       " Instruction(cz_23_1[2,3]),\n",
       " Instruction(cz_23_2[2,3]),\n",
       " Instruction(cz_23_3[2,3]),\n",
       " Instruction(rx_1.000664_2[2]),\n",
       " Instruction(rx_2.900798_3[3]),\n",
       " Instruction(rx_-1.262326_2[2]),\n",
       " Instruction(rx_-1.57845_2[2]),\n",
       " Instruction(ry_1.842621_2[2]),\n",
       " Instruction(rx_-1.96749_2[2]),\n",
       " Instruction(rx_-2.868163_3[3]),\n",
       " Instruction(ry_1.403824_3[3]),\n",
       " Instruction(rx_-2.126859_3[3])]"
      ]
     },
     "execution_count": 24,
     "metadata": {},
     "output_type": "execute_result"
    }
   ],
   "source": [
    "qruise_istructions"
   ]
  },
  {
   "cell_type": "code",
   "execution_count": 25,
   "metadata": {},
   "outputs": [
    {
     "data": {
      "text/plain": [
       "71"
      ]
     },
     "execution_count": 25,
     "metadata": {},
     "output_type": "execute_result"
    }
   ],
   "source": [
    "len(ryd_system.instruction_list)"
   ]
  },
  {
   "cell_type": "code",
   "execution_count": 26,
   "metadata": {},
   "outputs": [
    {
     "data": {
      "text/plain": [
       "85"
      ]
     },
     "execution_count": 26,
     "metadata": {},
     "output_type": "execute_result"
    }
   ],
   "source": [
    "len(decomposed_circuit)"
   ]
  },
  {
   "cell_type": "markdown",
   "metadata": {},
   "source": [
    "Collect the model from the Rydberg system"
   ]
  },
  {
   "cell_type": "code",
   "execution_count": 27,
   "metadata": {},
   "outputs": [],
   "source": [
    "ryd_system.sim_res = sim_res\n",
    "ryd_system.awg_res = awg_res"
   ]
  },
  {
   "cell_type": "code",
   "execution_count": 28,
   "metadata": {},
   "outputs": [],
   "source": [
    "ryd_system.create_model()"
   ]
  },
  {
   "cell_type": "markdown",
   "metadata": {},
   "source": [
    "Set the generator"
   ]
  },
  {
   "cell_type": "code",
   "execution_count": 29,
   "metadata": {},
   "outputs": [],
   "source": [
    "import qruise.toolset.generator.devices as devices\n",
    "from qruise.toolset.generator.generator import Generator\n",
    "\n",
    "awg_res = (\n",
    "    ryd_system.awg_res\n",
    ")  # number of samples per second; realistic limited resolution of an AWG\n",
    "v2hz = 1e6\n",
    "rise_time_value = 100e-9\n",
    "\n",
    "# create a dict of all the devices\n",
    "generator_devices = {\n",
    "    \"AWG\": devices.AWG(name=\"awg\", resolution=ryd_system.awg_res),\n",
    "    \"DigitalToAnalog\": devices.DigitalToAnalog(name=\"dac\"),\n",
    "    \"VoltsToHertz\": devices.VoltsToHertz(\n",
    "        name=\"v_to_hz\", V_to_Hz=Quantity(value=v2hz, unit=\"Hz/V\")\n",
    "    ),\n",
    "}\n",
    "\n",
    "chains = {}\n",
    "for atom in ryd_system.rydberg_atom_list:\n",
    "    name = atom.name\n",
    "    name_rx = f\"rx{name}\"\n",
    "    name_ry = f\"ry{name}\"\n",
    "    name_rydbergx = f\"rydbergx{name}\"\n",
    "    chains[name_rx] = {\n",
    "        \"AWG\": [],\n",
    "        \"DigitalToAnalog\": [\"AWG\"],\n",
    "        \"VoltsToHertz\": [\"DigitalToAnalog\"],\n",
    "    }\n",
    "    chains[name_ry] = {\n",
    "        \"AWG\": [],\n",
    "        \"DigitalToAnalog\": [\"AWG\"],\n",
    "        \"VoltsToHertz\": [\"DigitalToAnalog\"],\n",
    "    }\n",
    "    chains[name_rydbergx] = {\n",
    "        \"AWG\": [],\n",
    "        \"DigitalToAnalog\": [\"AWG\"],\n",
    "        \"VoltsToHertz\": [\"DigitalToAnalog\"],\n",
    "    }\n",
    "device_generator = Generator(\n",
    "    devices=generator_devices,\n",
    "    chains=chains,\n",
    ")\n",
    "\n",
    "ryd_system.set_generator(device_generator)"
   ]
  },
  {
   "cell_type": "code",
   "execution_count": 30,
   "metadata": {},
   "outputs": [
    {
     "data": {
      "application/vnd.plotly.v1+json": {
       "config": {
        "plotlyServerURL": "https://plot.ly"
       },
       "data": [
        {
         "marker": {
          "color": "rgba(0, 0, 250, 0.1)",
          "line": {
           "color": "red",
           "width": 0.1
          }
         },
         "name": "Trace 1",
         "type": "bar",
         "uid": "0f777afd-a4fd-46a8-a972-8798c3918ec4",
         "x": [
          1e-9,
          3.0000000000000004e-9,
          5e-9,
          7.000000000000001e-9,
          9.000000000000001e-9,
          1.1000000000000001e-8,
          1.3000000000000002e-8,
          1.5000000000000002e-8,
          1.7e-8,
          1.9e-8,
          2.1e-8,
          2.3e-8,
          2.5000000000000002e-8,
          2.7e-8,
          2.9e-8,
          3.1000000000000006e-8,
          3.3000000000000004e-8,
          3.5e-8,
          3.700000000000001e-8,
          3.9000000000000005e-8,
          4.1e-8,
          4.300000000000001e-8,
          4.5000000000000006e-8,
          4.7000000000000004e-8,
          4.900000000000001e-8,
          5.100000000000001e-8,
          5.3000000000000005e-8,
          5.5e-8,
          5.700000000000001e-8,
          5.9000000000000006e-8,
          6.1e-8,
          6.3e-8,
          6.5e-8,
          6.7e-8,
          6.9e-8,
          7.1e-8,
          7.3e-8,
          7.5e-8,
          7.7e-8,
          7.9e-8,
          8.1e-8,
          8.3e-8,
          8.500000000000001e-8,
          8.7e-8,
          8.9e-8,
          9.100000000000001e-8,
          9.3e-8,
          9.5e-8,
          9.700000000000001e-8,
          9.9e-8,
          1.01e-7,
          1.03e-7,
          1.05e-7,
          1.07e-7,
          1.09e-7,
          1.11e-7,
          1.13e-7,
          1.15e-7,
          1.17e-7,
          1.1900000000000001e-7,
          1.21e-7,
          1.23e-7,
          1.25e-7,
          1.27e-7,
          1.29e-7,
          1.31e-7,
          1.33e-7,
          1.35e-7
         ],
         "y": [
          -15707963.267948966,
          -15707963.267948966,
          -15707963.267948966,
          -15707963.267948966,
          -15707963.267948966,
          -15707963.267948966,
          -15707963.267948966,
          -15707963.267948966,
          -15707963.267948966,
          -15707963.267948966,
          -15707963.267948966,
          -15707963.267948966,
          -15707963.267948966,
          -15707963.267948966,
          -15707963.267948966,
          -15707963.267948966,
          -15707963.267948966,
          -15707963.267948966,
          -15707963.267948966,
          -15707963.267948966,
          -15707963.267948966,
          -15707963.267948966,
          -15707963.267948966,
          -15707963.267948966,
          -15707963.267948966,
          -15707963.267948966,
          -15707963.267948966,
          -15707963.267948966,
          -15707963.267948966,
          -15707963.267948966,
          -15707963.267948966,
          -15707963.267948966,
          -15707963.267948966,
          -15707963.267948966,
          -15707963.267948966,
          -15707963.267948966,
          -15707963.267948966,
          -15707963.267948966,
          -15707963.267948966,
          -15707963.267948966,
          -15707963.267948966,
          -15707963.267948966,
          -15707963.267948966,
          -15707963.267948966,
          -15707963.267948966,
          -15707963.267948966,
          -15707963.267948966,
          -15707963.267948966,
          -15707963.267948966,
          -15707963.267948966,
          -15707963.267948966,
          -15707963.267948966,
          -15707963.267948966,
          -15707963.267948966,
          -15707963.267948966,
          -15707963.267948966,
          -15707963.267948966,
          -15707963.267948966,
          -15707963.267948966,
          -15707963.267948966,
          -15707963.267948966,
          -15707963.267948966,
          -15707963.267948966,
          -15707963.267948966,
          -15707963.267948966,
          -15707963.267948966,
          -15707963.267948966,
          -15707963.267948966
         ]
        }
       ],
       "layout": {
        "bargap": 0,
        "bargroupgap": 0,
        "barmode": "group",
        "template": {
         "data": {
          "bar": [
           {
            "error_x": {
             "color": "#2a3f5f"
            },
            "error_y": {
             "color": "#2a3f5f"
            },
            "marker": {
             "line": {
              "color": "#E5ECF6",
              "width": 0.5
             },
             "pattern": {
              "fillmode": "overlay",
              "size": 10,
              "solidity": 0.2
             }
            },
            "type": "bar"
           }
          ],
          "barpolar": [
           {
            "marker": {
             "line": {
              "color": "#E5ECF6",
              "width": 0.5
             },
             "pattern": {
              "fillmode": "overlay",
              "size": 10,
              "solidity": 0.2
             }
            },
            "type": "barpolar"
           }
          ],
          "carpet": [
           {
            "aaxis": {
             "endlinecolor": "#2a3f5f",
             "gridcolor": "white",
             "linecolor": "white",
             "minorgridcolor": "white",
             "startlinecolor": "#2a3f5f"
            },
            "baxis": {
             "endlinecolor": "#2a3f5f",
             "gridcolor": "white",
             "linecolor": "white",
             "minorgridcolor": "white",
             "startlinecolor": "#2a3f5f"
            },
            "type": "carpet"
           }
          ],
          "choropleth": [
           {
            "colorbar": {
             "outlinewidth": 0,
             "ticks": ""
            },
            "type": "choropleth"
           }
          ],
          "contour": [
           {
            "colorbar": {
             "outlinewidth": 0,
             "ticks": ""
            },
            "colorscale": [
             [
              0,
              "#0d0887"
             ],
             [
              0.1111111111111111,
              "#46039f"
             ],
             [
              0.2222222222222222,
              "#7201a8"
             ],
             [
              0.3333333333333333,
              "#9c179e"
             ],
             [
              0.4444444444444444,
              "#bd3786"
             ],
             [
              0.5555555555555556,
              "#d8576b"
             ],
             [
              0.6666666666666666,
              "#ed7953"
             ],
             [
              0.7777777777777778,
              "#fb9f3a"
             ],
             [
              0.8888888888888888,
              "#fdca26"
             ],
             [
              1,
              "#f0f921"
             ]
            ],
            "type": "contour"
           }
          ],
          "contourcarpet": [
           {
            "colorbar": {
             "outlinewidth": 0,
             "ticks": ""
            },
            "type": "contourcarpet"
           }
          ],
          "heatmap": [
           {
            "colorbar": {
             "outlinewidth": 0,
             "ticks": ""
            },
            "colorscale": [
             [
              0,
              "#0d0887"
             ],
             [
              0.1111111111111111,
              "#46039f"
             ],
             [
              0.2222222222222222,
              "#7201a8"
             ],
             [
              0.3333333333333333,
              "#9c179e"
             ],
             [
              0.4444444444444444,
              "#bd3786"
             ],
             [
              0.5555555555555556,
              "#d8576b"
             ],
             [
              0.6666666666666666,
              "#ed7953"
             ],
             [
              0.7777777777777778,
              "#fb9f3a"
             ],
             [
              0.8888888888888888,
              "#fdca26"
             ],
             [
              1,
              "#f0f921"
             ]
            ],
            "type": "heatmap"
           }
          ],
          "heatmapgl": [
           {
            "colorbar": {
             "outlinewidth": 0,
             "ticks": ""
            },
            "colorscale": [
             [
              0,
              "#0d0887"
             ],
             [
              0.1111111111111111,
              "#46039f"
             ],
             [
              0.2222222222222222,
              "#7201a8"
             ],
             [
              0.3333333333333333,
              "#9c179e"
             ],
             [
              0.4444444444444444,
              "#bd3786"
             ],
             [
              0.5555555555555556,
              "#d8576b"
             ],
             [
              0.6666666666666666,
              "#ed7953"
             ],
             [
              0.7777777777777778,
              "#fb9f3a"
             ],
             [
              0.8888888888888888,
              "#fdca26"
             ],
             [
              1,
              "#f0f921"
             ]
            ],
            "type": "heatmapgl"
           }
          ],
          "histogram": [
           {
            "marker": {
             "pattern": {
              "fillmode": "overlay",
              "size": 10,
              "solidity": 0.2
             }
            },
            "type": "histogram"
           }
          ],
          "histogram2d": [
           {
            "colorbar": {
             "outlinewidth": 0,
             "ticks": ""
            },
            "colorscale": [
             [
              0,
              "#0d0887"
             ],
             [
              0.1111111111111111,
              "#46039f"
             ],
             [
              0.2222222222222222,
              "#7201a8"
             ],
             [
              0.3333333333333333,
              "#9c179e"
             ],
             [
              0.4444444444444444,
              "#bd3786"
             ],
             [
              0.5555555555555556,
              "#d8576b"
             ],
             [
              0.6666666666666666,
              "#ed7953"
             ],
             [
              0.7777777777777778,
              "#fb9f3a"
             ],
             [
              0.8888888888888888,
              "#fdca26"
             ],
             [
              1,
              "#f0f921"
             ]
            ],
            "type": "histogram2d"
           }
          ],
          "histogram2dcontour": [
           {
            "colorbar": {
             "outlinewidth": 0,
             "ticks": ""
            },
            "colorscale": [
             [
              0,
              "#0d0887"
             ],
             [
              0.1111111111111111,
              "#46039f"
             ],
             [
              0.2222222222222222,
              "#7201a8"
             ],
             [
              0.3333333333333333,
              "#9c179e"
             ],
             [
              0.4444444444444444,
              "#bd3786"
             ],
             [
              0.5555555555555556,
              "#d8576b"
             ],
             [
              0.6666666666666666,
              "#ed7953"
             ],
             [
              0.7777777777777778,
              "#fb9f3a"
             ],
             [
              0.8888888888888888,
              "#fdca26"
             ],
             [
              1,
              "#f0f921"
             ]
            ],
            "type": "histogram2dcontour"
           }
          ],
          "mesh3d": [
           {
            "colorbar": {
             "outlinewidth": 0,
             "ticks": ""
            },
            "type": "mesh3d"
           }
          ],
          "parcoords": [
           {
            "line": {
             "colorbar": {
              "outlinewidth": 0,
              "ticks": ""
             }
            },
            "type": "parcoords"
           }
          ],
          "pie": [
           {
            "automargin": true,
            "type": "pie"
           }
          ],
          "scatter": [
           {
            "fillpattern": {
             "fillmode": "overlay",
             "size": 10,
             "solidity": 0.2
            },
            "type": "scatter"
           }
          ],
          "scatter3d": [
           {
            "line": {
             "colorbar": {
              "outlinewidth": 0,
              "ticks": ""
             }
            },
            "marker": {
             "colorbar": {
              "outlinewidth": 0,
              "ticks": ""
             }
            },
            "type": "scatter3d"
           }
          ],
          "scattercarpet": [
           {
            "marker": {
             "colorbar": {
              "outlinewidth": 0,
              "ticks": ""
             }
            },
            "type": "scattercarpet"
           }
          ],
          "scattergeo": [
           {
            "marker": {
             "colorbar": {
              "outlinewidth": 0,
              "ticks": ""
             }
            },
            "type": "scattergeo"
           }
          ],
          "scattergl": [
           {
            "marker": {
             "colorbar": {
              "outlinewidth": 0,
              "ticks": ""
             }
            },
            "type": "scattergl"
           }
          ],
          "scattermapbox": [
           {
            "marker": {
             "colorbar": {
              "outlinewidth": 0,
              "ticks": ""
             }
            },
            "type": "scattermapbox"
           }
          ],
          "scatterpolar": [
           {
            "marker": {
             "colorbar": {
              "outlinewidth": 0,
              "ticks": ""
             }
            },
            "type": "scatterpolar"
           }
          ],
          "scatterpolargl": [
           {
            "marker": {
             "colorbar": {
              "outlinewidth": 0,
              "ticks": ""
             }
            },
            "type": "scatterpolargl"
           }
          ],
          "scatterternary": [
           {
            "marker": {
             "colorbar": {
              "outlinewidth": 0,
              "ticks": ""
             }
            },
            "type": "scatterternary"
           }
          ],
          "surface": [
           {
            "colorbar": {
             "outlinewidth": 0,
             "ticks": ""
            },
            "colorscale": [
             [
              0,
              "#0d0887"
             ],
             [
              0.1111111111111111,
              "#46039f"
             ],
             [
              0.2222222222222222,
              "#7201a8"
             ],
             [
              0.3333333333333333,
              "#9c179e"
             ],
             [
              0.4444444444444444,
              "#bd3786"
             ],
             [
              0.5555555555555556,
              "#d8576b"
             ],
             [
              0.6666666666666666,
              "#ed7953"
             ],
             [
              0.7777777777777778,
              "#fb9f3a"
             ],
             [
              0.8888888888888888,
              "#fdca26"
             ],
             [
              1,
              "#f0f921"
             ]
            ],
            "type": "surface"
           }
          ],
          "table": [
           {
            "cells": {
             "fill": {
              "color": "#EBF0F8"
             },
             "line": {
              "color": "white"
             }
            },
            "header": {
             "fill": {
              "color": "#C8D4E3"
             },
             "line": {
              "color": "white"
             }
            },
            "type": "table"
           }
          ]
         },
         "layout": {
          "annotationdefaults": {
           "arrowcolor": "#2a3f5f",
           "arrowhead": 0,
           "arrowwidth": 1
          },
          "autotypenumbers": "strict",
          "coloraxis": {
           "colorbar": {
            "outlinewidth": 0,
            "ticks": ""
           }
          },
          "colorscale": {
           "diverging": [
            [
             0,
             "#8e0152"
            ],
            [
             0.1,
             "#c51b7d"
            ],
            [
             0.2,
             "#de77ae"
            ],
            [
             0.3,
             "#f1b6da"
            ],
            [
             0.4,
             "#fde0ef"
            ],
            [
             0.5,
             "#f7f7f7"
            ],
            [
             0.6,
             "#e6f5d0"
            ],
            [
             0.7,
             "#b8e186"
            ],
            [
             0.8,
             "#7fbc41"
            ],
            [
             0.9,
             "#4d9221"
            ],
            [
             1,
             "#276419"
            ]
           ],
           "sequential": [
            [
             0,
             "#0d0887"
            ],
            [
             0.1111111111111111,
             "#46039f"
            ],
            [
             0.2222222222222222,
             "#7201a8"
            ],
            [
             0.3333333333333333,
             "#9c179e"
            ],
            [
             0.4444444444444444,
             "#bd3786"
            ],
            [
             0.5555555555555556,
             "#d8576b"
            ],
            [
             0.6666666666666666,
             "#ed7953"
            ],
            [
             0.7777777777777778,
             "#fb9f3a"
            ],
            [
             0.8888888888888888,
             "#fdca26"
            ],
            [
             1,
             "#f0f921"
            ]
           ],
           "sequentialminus": [
            [
             0,
             "#0d0887"
            ],
            [
             0.1111111111111111,
             "#46039f"
            ],
            [
             0.2222222222222222,
             "#7201a8"
            ],
            [
             0.3333333333333333,
             "#9c179e"
            ],
            [
             0.4444444444444444,
             "#bd3786"
            ],
            [
             0.5555555555555556,
             "#d8576b"
            ],
            [
             0.6666666666666666,
             "#ed7953"
            ],
            [
             0.7777777777777778,
             "#fb9f3a"
            ],
            [
             0.8888888888888888,
             "#fdca26"
            ],
            [
             1,
             "#f0f921"
            ]
           ]
          },
          "colorway": [
           "#636efa",
           "#EF553B",
           "#00cc96",
           "#ab63fa",
           "#FFA15A",
           "#19d3f3",
           "#FF6692",
           "#B6E880",
           "#FF97FF",
           "#FECB52"
          ],
          "font": {
           "color": "#2a3f5f"
          },
          "geo": {
           "bgcolor": "white",
           "lakecolor": "white",
           "landcolor": "#E5ECF6",
           "showlakes": true,
           "showland": true,
           "subunitcolor": "white"
          },
          "hoverlabel": {
           "align": "left"
          },
          "hovermode": "closest",
          "mapbox": {
           "style": "light"
          },
          "paper_bgcolor": "white",
          "plot_bgcolor": "#E5ECF6",
          "polar": {
           "angularaxis": {
            "gridcolor": "white",
            "linecolor": "white",
            "ticks": ""
           },
           "bgcolor": "#E5ECF6",
           "radialaxis": {
            "gridcolor": "white",
            "linecolor": "white",
            "ticks": ""
           }
          },
          "scene": {
           "xaxis": {
            "backgroundcolor": "#E5ECF6",
            "gridcolor": "white",
            "gridwidth": 2,
            "linecolor": "white",
            "showbackground": true,
            "ticks": "",
            "zerolinecolor": "white"
           },
           "yaxis": {
            "backgroundcolor": "#E5ECF6",
            "gridcolor": "white",
            "gridwidth": 2,
            "linecolor": "white",
            "showbackground": true,
            "ticks": "",
            "zerolinecolor": "white"
           },
           "zaxis": {
            "backgroundcolor": "#E5ECF6",
            "gridcolor": "white",
            "gridwidth": 2,
            "linecolor": "white",
            "showbackground": true,
            "ticks": "",
            "zerolinecolor": "white"
           }
          },
          "shapedefaults": {
           "line": {
            "color": "#2a3f5f"
           }
          },
          "ternary": {
           "aaxis": {
            "gridcolor": "white",
            "linecolor": "white",
            "ticks": ""
           },
           "baxis": {
            "gridcolor": "white",
            "linecolor": "white",
            "ticks": ""
           },
           "bgcolor": "#E5ECF6",
           "caxis": {
            "gridcolor": "white",
            "linecolor": "white",
            "ticks": ""
           }
          },
          "title": {
           "x": 0.05
          },
          "xaxis": {
           "automargin": true,
           "gridcolor": "white",
           "linecolor": "white",
           "ticks": "",
           "title": {
            "standoff": 15
           },
           "zerolinecolor": "white",
           "zerolinewidth": 2
          },
          "yaxis": {
           "automargin": true,
           "gridcolor": "white",
           "linecolor": "white",
           "ticks": "",
           "title": {
            "standoff": 15
           },
           "zerolinecolor": "white",
           "zerolinewidth": 2
          }
         }
        },
        "title": {
         "text": "Signal for channel rx3 of instruction rx_-2.126859_3"
        },
        "width": 800,
        "xaxis": {
         "title": {
          "text": "Time [s]"
         }
        }
       }
      }
     },
     "metadata": {},
     "output_type": "display_data"
    }
   ],
   "source": [
    "ryd_system.generator.draw(qruise_istructions[-1], resolution=generator_devices[\"AWG\"].resolution, line_shape=\"vhv\")"
   ]
  },
  {
   "cell_type": "markdown",
   "metadata": {},
   "source": [
    "Create generator"
   ]
  },
  {
   "cell_type": "code",
   "execution_count": 31,
   "metadata": {},
   "outputs": [
    {
     "name": "stdout",
     "output_type": "stream",
     "text": [
      "I am in invalidate_propagators\n"
     ]
    }
   ],
   "source": [
    "ryd_system.create_experiment()"
   ]
  },
  {
   "cell_type": "code",
   "execution_count": 32,
   "metadata": {},
   "outputs": [
    {
     "data": {
      "application/vnd.plotly.v1+json": {
       "config": {
        "plotlyServerURL": "https://plot.ly"
       },
       "data": [
        {
         "marker": {
          "color": "rgba(0, 0, 250, 0.1)",
          "line": {
           "color": "red",
           "width": 0.1
          }
         },
         "name": "Trace 1",
         "type": "bar",
         "uid": "cc0e191e-dcfc-4bd5-9dcc-4acf6961a53a",
         "x": [
          1e-9,
          3.0000000000000004e-9,
          5e-9,
          7.000000000000001e-9,
          9.000000000000001e-9,
          1.1000000000000001e-8,
          1.3000000000000002e-8,
          1.5000000000000002e-8,
          1.7e-8,
          1.9e-8,
          2.1e-8,
          2.3e-8,
          2.5000000000000002e-8,
          2.7e-8,
          2.9e-8,
          3.1000000000000006e-8,
          3.3000000000000004e-8,
          3.5e-8,
          3.700000000000001e-8,
          3.9000000000000005e-8,
          4.1e-8,
          4.300000000000001e-8,
          4.5000000000000006e-8,
          4.7000000000000004e-8,
          4.900000000000001e-8,
          5.100000000000001e-8,
          5.3000000000000005e-8,
          5.5e-8,
          5.700000000000001e-8,
          5.9000000000000006e-8,
          6.1e-8,
          6.3e-8,
          6.5e-8,
          6.7e-8,
          6.9e-8,
          7.1e-8,
          7.3e-8,
          7.5e-8,
          7.7e-8,
          7.9e-8,
          8.1e-8,
          8.3e-8,
          8.500000000000001e-8,
          8.7e-8,
          8.9e-8,
          9.100000000000001e-8,
          9.3e-8,
          9.5e-8,
          9.700000000000001e-8,
          9.9e-8,
          1.01e-7,
          1.03e-7,
          1.05e-7,
          1.07e-7,
          1.09e-7,
          1.11e-7,
          1.13e-7,
          1.15e-7,
          1.17e-7,
          1.1900000000000001e-7,
          1.21e-7,
          1.23e-7,
          1.25e-7,
          1.27e-7,
          1.29e-7,
          1.31e-7,
          1.33e-7,
          1.35e-7
         ],
         "y": [
          -15707963.267948966,
          -15707963.267948966,
          -15707963.267948966,
          -15707963.267948966,
          -15707963.267948966,
          -15707963.267948966,
          -15707963.267948966,
          -15707963.267948966,
          -15707963.267948966,
          -15707963.267948966,
          -15707963.267948966,
          -15707963.267948966,
          -15707963.267948966,
          -15707963.267948966,
          -15707963.267948966,
          -15707963.267948966,
          -15707963.267948966,
          -15707963.267948966,
          -15707963.267948966,
          -15707963.267948966,
          -15707963.267948966,
          -15707963.267948966,
          -15707963.267948966,
          -15707963.267948966,
          -15707963.267948966,
          -15707963.267948966,
          -15707963.267948966,
          -15707963.267948966,
          -15707963.267948966,
          -15707963.267948966,
          -15707963.267948966,
          -15707963.267948966,
          -15707963.267948966,
          -15707963.267948966,
          -15707963.267948966,
          -15707963.267948966,
          -15707963.267948966,
          -15707963.267948966,
          -15707963.267948966,
          -15707963.267948966,
          -15707963.267948966,
          -15707963.267948966,
          -15707963.267948966,
          -15707963.267948966,
          -15707963.267948966,
          -15707963.267948966,
          -15707963.267948966,
          -15707963.267948966,
          -15707963.267948966,
          -15707963.267948966,
          -15707963.267948966,
          -15707963.267948966,
          -15707963.267948966,
          -15707963.267948966,
          -15707963.267948966,
          -15707963.267948966,
          -15707963.267948966,
          -15707963.267948966,
          -15707963.267948966,
          -15707963.267948966,
          -15707963.267948966,
          -15707963.267948966,
          -15707963.267948966,
          -15707963.267948966,
          -15707963.267948966,
          -15707963.267948966,
          -15707963.267948966,
          -15707963.267948966
         ]
        }
       ],
       "layout": {
        "bargap": 0,
        "bargroupgap": 0,
        "barmode": "group",
        "template": {
         "data": {
          "bar": [
           {
            "error_x": {
             "color": "#2a3f5f"
            },
            "error_y": {
             "color": "#2a3f5f"
            },
            "marker": {
             "line": {
              "color": "#E5ECF6",
              "width": 0.5
             },
             "pattern": {
              "fillmode": "overlay",
              "size": 10,
              "solidity": 0.2
             }
            },
            "type": "bar"
           }
          ],
          "barpolar": [
           {
            "marker": {
             "line": {
              "color": "#E5ECF6",
              "width": 0.5
             },
             "pattern": {
              "fillmode": "overlay",
              "size": 10,
              "solidity": 0.2
             }
            },
            "type": "barpolar"
           }
          ],
          "carpet": [
           {
            "aaxis": {
             "endlinecolor": "#2a3f5f",
             "gridcolor": "white",
             "linecolor": "white",
             "minorgridcolor": "white",
             "startlinecolor": "#2a3f5f"
            },
            "baxis": {
             "endlinecolor": "#2a3f5f",
             "gridcolor": "white",
             "linecolor": "white",
             "minorgridcolor": "white",
             "startlinecolor": "#2a3f5f"
            },
            "type": "carpet"
           }
          ],
          "choropleth": [
           {
            "colorbar": {
             "outlinewidth": 0,
             "ticks": ""
            },
            "type": "choropleth"
           }
          ],
          "contour": [
           {
            "colorbar": {
             "outlinewidth": 0,
             "ticks": ""
            },
            "colorscale": [
             [
              0,
              "#0d0887"
             ],
             [
              0.1111111111111111,
              "#46039f"
             ],
             [
              0.2222222222222222,
              "#7201a8"
             ],
             [
              0.3333333333333333,
              "#9c179e"
             ],
             [
              0.4444444444444444,
              "#bd3786"
             ],
             [
              0.5555555555555556,
              "#d8576b"
             ],
             [
              0.6666666666666666,
              "#ed7953"
             ],
             [
              0.7777777777777778,
              "#fb9f3a"
             ],
             [
              0.8888888888888888,
              "#fdca26"
             ],
             [
              1,
              "#f0f921"
             ]
            ],
            "type": "contour"
           }
          ],
          "contourcarpet": [
           {
            "colorbar": {
             "outlinewidth": 0,
             "ticks": ""
            },
            "type": "contourcarpet"
           }
          ],
          "heatmap": [
           {
            "colorbar": {
             "outlinewidth": 0,
             "ticks": ""
            },
            "colorscale": [
             [
              0,
              "#0d0887"
             ],
             [
              0.1111111111111111,
              "#46039f"
             ],
             [
              0.2222222222222222,
              "#7201a8"
             ],
             [
              0.3333333333333333,
              "#9c179e"
             ],
             [
              0.4444444444444444,
              "#bd3786"
             ],
             [
              0.5555555555555556,
              "#d8576b"
             ],
             [
              0.6666666666666666,
              "#ed7953"
             ],
             [
              0.7777777777777778,
              "#fb9f3a"
             ],
             [
              0.8888888888888888,
              "#fdca26"
             ],
             [
              1,
              "#f0f921"
             ]
            ],
            "type": "heatmap"
           }
          ],
          "heatmapgl": [
           {
            "colorbar": {
             "outlinewidth": 0,
             "ticks": ""
            },
            "colorscale": [
             [
              0,
              "#0d0887"
             ],
             [
              0.1111111111111111,
              "#46039f"
             ],
             [
              0.2222222222222222,
              "#7201a8"
             ],
             [
              0.3333333333333333,
              "#9c179e"
             ],
             [
              0.4444444444444444,
              "#bd3786"
             ],
             [
              0.5555555555555556,
              "#d8576b"
             ],
             [
              0.6666666666666666,
              "#ed7953"
             ],
             [
              0.7777777777777778,
              "#fb9f3a"
             ],
             [
              0.8888888888888888,
              "#fdca26"
             ],
             [
              1,
              "#f0f921"
             ]
            ],
            "type": "heatmapgl"
           }
          ],
          "histogram": [
           {
            "marker": {
             "pattern": {
              "fillmode": "overlay",
              "size": 10,
              "solidity": 0.2
             }
            },
            "type": "histogram"
           }
          ],
          "histogram2d": [
           {
            "colorbar": {
             "outlinewidth": 0,
             "ticks": ""
            },
            "colorscale": [
             [
              0,
              "#0d0887"
             ],
             [
              0.1111111111111111,
              "#46039f"
             ],
             [
              0.2222222222222222,
              "#7201a8"
             ],
             [
              0.3333333333333333,
              "#9c179e"
             ],
             [
              0.4444444444444444,
              "#bd3786"
             ],
             [
              0.5555555555555556,
              "#d8576b"
             ],
             [
              0.6666666666666666,
              "#ed7953"
             ],
             [
              0.7777777777777778,
              "#fb9f3a"
             ],
             [
              0.8888888888888888,
              "#fdca26"
             ],
             [
              1,
              "#f0f921"
             ]
            ],
            "type": "histogram2d"
           }
          ],
          "histogram2dcontour": [
           {
            "colorbar": {
             "outlinewidth": 0,
             "ticks": ""
            },
            "colorscale": [
             [
              0,
              "#0d0887"
             ],
             [
              0.1111111111111111,
              "#46039f"
             ],
             [
              0.2222222222222222,
              "#7201a8"
             ],
             [
              0.3333333333333333,
              "#9c179e"
             ],
             [
              0.4444444444444444,
              "#bd3786"
             ],
             [
              0.5555555555555556,
              "#d8576b"
             ],
             [
              0.6666666666666666,
              "#ed7953"
             ],
             [
              0.7777777777777778,
              "#fb9f3a"
             ],
             [
              0.8888888888888888,
              "#fdca26"
             ],
             [
              1,
              "#f0f921"
             ]
            ],
            "type": "histogram2dcontour"
           }
          ],
          "mesh3d": [
           {
            "colorbar": {
             "outlinewidth": 0,
             "ticks": ""
            },
            "type": "mesh3d"
           }
          ],
          "parcoords": [
           {
            "line": {
             "colorbar": {
              "outlinewidth": 0,
              "ticks": ""
             }
            },
            "type": "parcoords"
           }
          ],
          "pie": [
           {
            "automargin": true,
            "type": "pie"
           }
          ],
          "scatter": [
           {
            "fillpattern": {
             "fillmode": "overlay",
             "size": 10,
             "solidity": 0.2
            },
            "type": "scatter"
           }
          ],
          "scatter3d": [
           {
            "line": {
             "colorbar": {
              "outlinewidth": 0,
              "ticks": ""
             }
            },
            "marker": {
             "colorbar": {
              "outlinewidth": 0,
              "ticks": ""
             }
            },
            "type": "scatter3d"
           }
          ],
          "scattercarpet": [
           {
            "marker": {
             "colorbar": {
              "outlinewidth": 0,
              "ticks": ""
             }
            },
            "type": "scattercarpet"
           }
          ],
          "scattergeo": [
           {
            "marker": {
             "colorbar": {
              "outlinewidth": 0,
              "ticks": ""
             }
            },
            "type": "scattergeo"
           }
          ],
          "scattergl": [
           {
            "marker": {
             "colorbar": {
              "outlinewidth": 0,
              "ticks": ""
             }
            },
            "type": "scattergl"
           }
          ],
          "scattermapbox": [
           {
            "marker": {
             "colorbar": {
              "outlinewidth": 0,
              "ticks": ""
             }
            },
            "type": "scattermapbox"
           }
          ],
          "scatterpolar": [
           {
            "marker": {
             "colorbar": {
              "outlinewidth": 0,
              "ticks": ""
             }
            },
            "type": "scatterpolar"
           }
          ],
          "scatterpolargl": [
           {
            "marker": {
             "colorbar": {
              "outlinewidth": 0,
              "ticks": ""
             }
            },
            "type": "scatterpolargl"
           }
          ],
          "scatterternary": [
           {
            "marker": {
             "colorbar": {
              "outlinewidth": 0,
              "ticks": ""
             }
            },
            "type": "scatterternary"
           }
          ],
          "surface": [
           {
            "colorbar": {
             "outlinewidth": 0,
             "ticks": ""
            },
            "colorscale": [
             [
              0,
              "#0d0887"
             ],
             [
              0.1111111111111111,
              "#46039f"
             ],
             [
              0.2222222222222222,
              "#7201a8"
             ],
             [
              0.3333333333333333,
              "#9c179e"
             ],
             [
              0.4444444444444444,
              "#bd3786"
             ],
             [
              0.5555555555555556,
              "#d8576b"
             ],
             [
              0.6666666666666666,
              "#ed7953"
             ],
             [
              0.7777777777777778,
              "#fb9f3a"
             ],
             [
              0.8888888888888888,
              "#fdca26"
             ],
             [
              1,
              "#f0f921"
             ]
            ],
            "type": "surface"
           }
          ],
          "table": [
           {
            "cells": {
             "fill": {
              "color": "#EBF0F8"
             },
             "line": {
              "color": "white"
             }
            },
            "header": {
             "fill": {
              "color": "#C8D4E3"
             },
             "line": {
              "color": "white"
             }
            },
            "type": "table"
           }
          ]
         },
         "layout": {
          "annotationdefaults": {
           "arrowcolor": "#2a3f5f",
           "arrowhead": 0,
           "arrowwidth": 1
          },
          "autotypenumbers": "strict",
          "coloraxis": {
           "colorbar": {
            "outlinewidth": 0,
            "ticks": ""
           }
          },
          "colorscale": {
           "diverging": [
            [
             0,
             "#8e0152"
            ],
            [
             0.1,
             "#c51b7d"
            ],
            [
             0.2,
             "#de77ae"
            ],
            [
             0.3,
             "#f1b6da"
            ],
            [
             0.4,
             "#fde0ef"
            ],
            [
             0.5,
             "#f7f7f7"
            ],
            [
             0.6,
             "#e6f5d0"
            ],
            [
             0.7,
             "#b8e186"
            ],
            [
             0.8,
             "#7fbc41"
            ],
            [
             0.9,
             "#4d9221"
            ],
            [
             1,
             "#276419"
            ]
           ],
           "sequential": [
            [
             0,
             "#0d0887"
            ],
            [
             0.1111111111111111,
             "#46039f"
            ],
            [
             0.2222222222222222,
             "#7201a8"
            ],
            [
             0.3333333333333333,
             "#9c179e"
            ],
            [
             0.4444444444444444,
             "#bd3786"
            ],
            [
             0.5555555555555556,
             "#d8576b"
            ],
            [
             0.6666666666666666,
             "#ed7953"
            ],
            [
             0.7777777777777778,
             "#fb9f3a"
            ],
            [
             0.8888888888888888,
             "#fdca26"
            ],
            [
             1,
             "#f0f921"
            ]
           ],
           "sequentialminus": [
            [
             0,
             "#0d0887"
            ],
            [
             0.1111111111111111,
             "#46039f"
            ],
            [
             0.2222222222222222,
             "#7201a8"
            ],
            [
             0.3333333333333333,
             "#9c179e"
            ],
            [
             0.4444444444444444,
             "#bd3786"
            ],
            [
             0.5555555555555556,
             "#d8576b"
            ],
            [
             0.6666666666666666,
             "#ed7953"
            ],
            [
             0.7777777777777778,
             "#fb9f3a"
            ],
            [
             0.8888888888888888,
             "#fdca26"
            ],
            [
             1,
             "#f0f921"
            ]
           ]
          },
          "colorway": [
           "#636efa",
           "#EF553B",
           "#00cc96",
           "#ab63fa",
           "#FFA15A",
           "#19d3f3",
           "#FF6692",
           "#B6E880",
           "#FF97FF",
           "#FECB52"
          ],
          "font": {
           "color": "#2a3f5f"
          },
          "geo": {
           "bgcolor": "white",
           "lakecolor": "white",
           "landcolor": "#E5ECF6",
           "showlakes": true,
           "showland": true,
           "subunitcolor": "white"
          },
          "hoverlabel": {
           "align": "left"
          },
          "hovermode": "closest",
          "mapbox": {
           "style": "light"
          },
          "paper_bgcolor": "white",
          "plot_bgcolor": "#E5ECF6",
          "polar": {
           "angularaxis": {
            "gridcolor": "white",
            "linecolor": "white",
            "ticks": ""
           },
           "bgcolor": "#E5ECF6",
           "radialaxis": {
            "gridcolor": "white",
            "linecolor": "white",
            "ticks": ""
           }
          },
          "scene": {
           "xaxis": {
            "backgroundcolor": "#E5ECF6",
            "gridcolor": "white",
            "gridwidth": 2,
            "linecolor": "white",
            "showbackground": true,
            "ticks": "",
            "zerolinecolor": "white"
           },
           "yaxis": {
            "backgroundcolor": "#E5ECF6",
            "gridcolor": "white",
            "gridwidth": 2,
            "linecolor": "white",
            "showbackground": true,
            "ticks": "",
            "zerolinecolor": "white"
           },
           "zaxis": {
            "backgroundcolor": "#E5ECF6",
            "gridcolor": "white",
            "gridwidth": 2,
            "linecolor": "white",
            "showbackground": true,
            "ticks": "",
            "zerolinecolor": "white"
           }
          },
          "shapedefaults": {
           "line": {
            "color": "#2a3f5f"
           }
          },
          "ternary": {
           "aaxis": {
            "gridcolor": "white",
            "linecolor": "white",
            "ticks": ""
           },
           "baxis": {
            "gridcolor": "white",
            "linecolor": "white",
            "ticks": ""
           },
           "bgcolor": "#E5ECF6",
           "caxis": {
            "gridcolor": "white",
            "linecolor": "white",
            "ticks": ""
           }
          },
          "title": {
           "x": 0.05
          },
          "xaxis": {
           "automargin": true,
           "gridcolor": "white",
           "linecolor": "white",
           "ticks": "",
           "title": {
            "standoff": 15
           },
           "zerolinecolor": "white",
           "zerolinewidth": 2
          },
          "yaxis": {
           "automargin": true,
           "gridcolor": "white",
           "linecolor": "white",
           "ticks": "",
           "title": {
            "standoff": 15
           },
           "zerolinecolor": "white",
           "zerolinewidth": 2
          }
         }
        },
        "title": {
         "text": "Signal for channel rx3 of instruction rx_-2.126859_3"
        },
        "width": 800,
        "xaxis": {
         "title": {
          "text": "Time [s]"
         }
        }
       }
      }
     },
     "metadata": {},
     "output_type": "display_data"
    }
   ],
   "source": [
    "ryd_system.generator.draw(qruise_istructions[-1], resolution=generator_devices[\"AWG\"].resolution, line_shape=\"vhv\")"
   ]
  },
  {
   "cell_type": "code",
   "execution_count": 33,
   "metadata": {},
   "outputs": [],
   "source": [
    "an_instruction = ryd_system.instruction_list[-1]\n",
    "prop = ryd_system.experiment.compute_propagators(gate_ids=[an_instruction.get_key()])"
   ]
  },
  {
   "cell_type": "code",
   "execution_count": 34,
   "metadata": {},
   "outputs": [],
   "source": [
    "U = prop[an_instruction.get_key()]._tensor"
   ]
  },
  {
   "cell_type": "code",
   "execution_count": 35,
   "metadata": {},
   "outputs": [
    {
     "data": {
      "application/vnd.plotly.v1+json": {
       "config": {
        "plotlyServerURL": "https://plot.ly"
       },
       "data": [
        {
         "line": {
          "shape": "spline"
         },
         "mode": "lines",
         "name": "0000",
         "type": "scatter",
         "x": [
          0,
          5.147058823529412e-10,
          1.0294117647058825e-9,
          1.5441176470588236e-9,
          2.058823529411765e-9,
          2.5735294117647063e-9,
          3.088235294117647e-9,
          3.6029411764705885e-9,
          4.11764705882353e-9,
          4.632352941176471e-9,
          5.1470588235294125e-9,
          5.6617647058823534e-9,
          6.176470588235294e-9,
          6.691176470588236e-9,
          7.205882352941177e-9,
          7.720588235294119e-9,
          8.23529411764706e-9,
          8.75e-9,
          9.264705882352942e-9,
          9.779411764705884e-9,
          1.0294117647058825e-8,
          1.0808823529411766e-8,
          1.1323529411764707e-8,
          1.1838235294117648e-8,
          1.2352941176470589e-8,
          1.2867647058823531e-8,
          1.3382352941176472e-8,
          1.3897058823529413e-8,
          1.4411764705882354e-8,
          1.4926470588235297e-8,
          1.5441176470588238e-8,
          1.595588235294118e-8,
          1.647058823529412e-8,
          1.698529411764706e-8,
          1.75e-8
         ],
         "y": [
          1,
          1,
          0.9999870419165122,
          0.9999433493691874,
          0.9998688179611303,
          0.9997634522897887,
          0.9996272588546137,
          0.999460246056658,
          0.9992624241980578,
          0.9990338054813972,
          0.9987744040089552,
          0.998484235781837,
          0.9981633186989852,
          0.9978116725560773,
          0.9974293190443038,
          0.9970162817490303,
          0.9965725861483431,
          0.9960982596114762,
          0.995593331397125,
          0.9950578326516404,
          0.9944917964071072,
          0.9938952575793072,
          0.9932682529655654,
          0.9926108212424798,
          0.9919230029635357,
          0.9912048405566045,
          0.9904563783213265,
          0.9896776624263778,
          0.9888687409066231,
          0.9880296636601518,
          0.9871604824452008,
          0.9862612508769619,
          0.9853320244242739,
          0.9844539327581465,
          0.9844539327581465
         ]
        },
        {
         "line": {
          "shape": "spline"
         },
         "mode": "lines",
         "name": "1000",
         "type": "scatter",
         "x": [
          0,
          5.147058823529412e-10,
          1.0294117647058825e-9,
          1.5441176470588236e-9,
          2.058823529411765e-9,
          2.5735294117647063e-9,
          3.088235294117647e-9,
          3.6029411764705885e-9,
          4.11764705882353e-9,
          4.632352941176471e-9,
          5.1470588235294125e-9,
          5.6617647058823534e-9,
          6.176470588235294e-9,
          6.691176470588236e-9,
          7.205882352941177e-9,
          7.720588235294119e-9,
          8.23529411764706e-9,
          8.75e-9,
          9.264705882352942e-9,
          9.779411764705884e-9,
          1.0294117647058825e-8,
          1.0808823529411766e-8,
          1.1323529411764707e-8,
          1.1838235294117648e-8,
          1.2352941176470589e-8,
          1.2867647058823531e-8,
          1.3382352941176472e-8,
          1.3897058823529413e-8,
          1.4411764705882354e-8,
          1.4926470588235297e-8,
          1.5441176470588238e-8,
          1.595588235294118e-8,
          1.647058823529412e-8,
          1.698529411764706e-8,
          1.75e-8
         ],
         "y": [
          0,
          0,
          0.000012958083487866159,
          0.00005665063081257168,
          0.00013118203886980818,
          0.00023654771021125245,
          0.00037274114538597946,
          0.0005397539433413793,
          0.0007375758019413734,
          0.0009661945186018995,
          0.0012255959910436234,
          0.001515764218161835,
          0.0018366813010134706,
          0.002188327443921207,
          0.002570680955694547,
          0.002983718250967839,
          0.003427413851655132,
          0.0039017403885217815,
          0.004406668602872715,
          0.00494216734835725,
          0.00550820359289034,
          0.006104742420690152,
          0.006731747034431839,
          0.007389178757517371,
          0.008076997036461286,
          0.008795159443392228,
          0.00954362167867009,
          0.010322337573618626,
          0.011131259093373359,
          0.011970336339844588,
          0.012839517554795343,
          0.013738749123034083,
          0.014667975575721913,
          0.015546067241849433,
          0.015546067241849433
         ]
        },
        {
         "line": {
          "shape": "spline"
         },
         "mode": "lines",
         "name": "0211",
         "type": "scatter",
         "x": [
          0,
          5.147058823529412e-10,
          1.0294117647058825e-9,
          1.5441176470588236e-9,
          2.058823529411765e-9,
          2.5735294117647063e-9,
          3.088235294117647e-9,
          3.6029411764705885e-9,
          4.11764705882353e-9,
          4.632352941176471e-9,
          5.1470588235294125e-9,
          5.6617647058823534e-9,
          6.176470588235294e-9,
          6.691176470588236e-9,
          7.205882352941177e-9,
          7.720588235294119e-9,
          8.23529411764706e-9,
          8.75e-9,
          9.264705882352942e-9,
          9.779411764705884e-9,
          1.0294117647058825e-8,
          1.0808823529411766e-8,
          1.1323529411764707e-8,
          1.1838235294117648e-8,
          1.2352941176470589e-8,
          1.2867647058823531e-8,
          1.3382352941176472e-8,
          1.3897058823529413e-8,
          1.4411764705882354e-8,
          1.4926470588235297e-8,
          1.5441176470588238e-8,
          1.595588235294118e-8,
          1.647058823529412e-8,
          1.698529411764706e-8,
          1.75e-8
         ],
         "y": [
          0,
          0,
          0,
          0,
          0,
          0,
          0,
          0,
          0,
          0,
          0,
          0,
          0,
          0,
          0,
          0,
          0,
          0,
          0,
          0,
          0,
          0,
          0,
          0,
          0,
          0,
          0,
          0,
          0,
          0,
          0,
          0,
          0,
          0,
          0
         ]
        },
        {
         "line": {
          "shape": "spline"
         },
         "mode": "lines",
         "name": "0212",
         "type": "scatter",
         "x": [
          0,
          5.147058823529412e-10,
          1.0294117647058825e-9,
          1.5441176470588236e-9,
          2.058823529411765e-9,
          2.5735294117647063e-9,
          3.088235294117647e-9,
          3.6029411764705885e-9,
          4.11764705882353e-9,
          4.632352941176471e-9,
          5.1470588235294125e-9,
          5.6617647058823534e-9,
          6.176470588235294e-9,
          6.691176470588236e-9,
          7.205882352941177e-9,
          7.720588235294119e-9,
          8.23529411764706e-9,
          8.75e-9,
          9.264705882352942e-9,
          9.779411764705884e-9,
          1.0294117647058825e-8,
          1.0808823529411766e-8,
          1.1323529411764707e-8,
          1.1838235294117648e-8,
          1.2352941176470589e-8,
          1.2867647058823531e-8,
          1.3382352941176472e-8,
          1.3897058823529413e-8,
          1.4411764705882354e-8,
          1.4926470588235297e-8,
          1.5441176470588238e-8,
          1.595588235294118e-8,
          1.647058823529412e-8,
          1.698529411764706e-8,
          1.75e-8
         ],
         "y": [
          0,
          0,
          0,
          0,
          0,
          0,
          0,
          0,
          0,
          0,
          0,
          0,
          0,
          0,
          0,
          0,
          0,
          0,
          0,
          0,
          0,
          0,
          0,
          0,
          0,
          0,
          0,
          0,
          0,
          0,
          0,
          0,
          0,
          0,
          0
         ]
        },
        {
         "line": {
          "shape": "spline"
         },
         "mode": "lines",
         "name": "0220",
         "type": "scatter",
         "x": [
          0,
          5.147058823529412e-10,
          1.0294117647058825e-9,
          1.5441176470588236e-9,
          2.058823529411765e-9,
          2.5735294117647063e-9,
          3.088235294117647e-9,
          3.6029411764705885e-9,
          4.11764705882353e-9,
          4.632352941176471e-9,
          5.1470588235294125e-9,
          5.6617647058823534e-9,
          6.176470588235294e-9,
          6.691176470588236e-9,
          7.205882352941177e-9,
          7.720588235294119e-9,
          8.23529411764706e-9,
          8.75e-9,
          9.264705882352942e-9,
          9.779411764705884e-9,
          1.0294117647058825e-8,
          1.0808823529411766e-8,
          1.1323529411764707e-8,
          1.1838235294117648e-8,
          1.2352941176470589e-8,
          1.2867647058823531e-8,
          1.3382352941176472e-8,
          1.3897058823529413e-8,
          1.4411764705882354e-8,
          1.4926470588235297e-8,
          1.5441176470588238e-8,
          1.595588235294118e-8,
          1.647058823529412e-8,
          1.698529411764706e-8,
          1.75e-8
         ],
         "y": [
          0,
          0,
          0,
          0,
          0,
          0,
          0,
          0,
          0,
          0,
          0,
          0,
          0,
          0,
          0,
          0,
          0,
          0,
          0,
          0,
          0,
          0,
          0,
          0,
          0,
          0,
          0,
          0,
          0,
          0,
          0,
          0,
          0,
          0,
          0
         ]
        },
        {
         "line": {
          "shape": "spline"
         },
         "mode": "lines",
         "name": "0221",
         "type": "scatter",
         "x": [
          0,
          5.147058823529412e-10,
          1.0294117647058825e-9,
          1.5441176470588236e-9,
          2.058823529411765e-9,
          2.5735294117647063e-9,
          3.088235294117647e-9,
          3.6029411764705885e-9,
          4.11764705882353e-9,
          4.632352941176471e-9,
          5.1470588235294125e-9,
          5.6617647058823534e-9,
          6.176470588235294e-9,
          6.691176470588236e-9,
          7.205882352941177e-9,
          7.720588235294119e-9,
          8.23529411764706e-9,
          8.75e-9,
          9.264705882352942e-9,
          9.779411764705884e-9,
          1.0294117647058825e-8,
          1.0808823529411766e-8,
          1.1323529411764707e-8,
          1.1838235294117648e-8,
          1.2352941176470589e-8,
          1.2867647058823531e-8,
          1.3382352941176472e-8,
          1.3897058823529413e-8,
          1.4411764705882354e-8,
          1.4926470588235297e-8,
          1.5441176470588238e-8,
          1.595588235294118e-8,
          1.647058823529412e-8,
          1.698529411764706e-8,
          1.75e-8
         ],
         "y": [
          0,
          0,
          0,
          0,
          0,
          0,
          0,
          0,
          0,
          0,
          0,
          0,
          0,
          0,
          0,
          0,
          0,
          0,
          0,
          0,
          0,
          0,
          0,
          0,
          0,
          0,
          0,
          0,
          0,
          0,
          0,
          0,
          0,
          0,
          0
         ]
        },
        {
         "line": {
          "shape": "spline"
         },
         "mode": "lines",
         "name": "0222",
         "type": "scatter",
         "x": [
          0,
          5.147058823529412e-10,
          1.0294117647058825e-9,
          1.5441176470588236e-9,
          2.058823529411765e-9,
          2.5735294117647063e-9,
          3.088235294117647e-9,
          3.6029411764705885e-9,
          4.11764705882353e-9,
          4.632352941176471e-9,
          5.1470588235294125e-9,
          5.6617647058823534e-9,
          6.176470588235294e-9,
          6.691176470588236e-9,
          7.205882352941177e-9,
          7.720588235294119e-9,
          8.23529411764706e-9,
          8.75e-9,
          9.264705882352942e-9,
          9.779411764705884e-9,
          1.0294117647058825e-8,
          1.0808823529411766e-8,
          1.1323529411764707e-8,
          1.1838235294117648e-8,
          1.2352941176470589e-8,
          1.2867647058823531e-8,
          1.3382352941176472e-8,
          1.3897058823529413e-8,
          1.4411764705882354e-8,
          1.4926470588235297e-8,
          1.5441176470588238e-8,
          1.595588235294118e-8,
          1.647058823529412e-8,
          1.698529411764706e-8,
          1.75e-8
         ],
         "y": [
          0,
          0,
          0,
          0,
          0,
          0,
          0,
          0,
          0,
          0,
          0,
          0,
          0,
          0,
          0,
          0,
          0,
          0,
          0,
          0,
          0,
          0,
          0,
          0,
          0,
          0,
          0,
          0,
          0,
          0,
          0,
          0,
          0,
          0,
          0
         ]
        },
        {
         "line": {
          "shape": "spline"
         },
         "mode": "lines",
         "name": "1001",
         "type": "scatter",
         "x": [
          0,
          5.147058823529412e-10,
          1.0294117647058825e-9,
          1.5441176470588236e-9,
          2.058823529411765e-9,
          2.5735294117647063e-9,
          3.088235294117647e-9,
          3.6029411764705885e-9,
          4.11764705882353e-9,
          4.632352941176471e-9,
          5.1470588235294125e-9,
          5.6617647058823534e-9,
          6.176470588235294e-9,
          6.691176470588236e-9,
          7.205882352941177e-9,
          7.720588235294119e-9,
          8.23529411764706e-9,
          8.75e-9,
          9.264705882352942e-9,
          9.779411764705884e-9,
          1.0294117647058825e-8,
          1.0808823529411766e-8,
          1.1323529411764707e-8,
          1.1838235294117648e-8,
          1.2352941176470589e-8,
          1.2867647058823531e-8,
          1.3382352941176472e-8,
          1.3897058823529413e-8,
          1.4411764705882354e-8,
          1.4926470588235297e-8,
          1.5441176470588238e-8,
          1.595588235294118e-8,
          1.647058823529412e-8,
          1.698529411764706e-8,
          1.75e-8
         ],
         "y": [
          0,
          0,
          0,
          0,
          0,
          0,
          0,
          0,
          0,
          0,
          0,
          0,
          0,
          0,
          0,
          0,
          0,
          0,
          0,
          0,
          0,
          0,
          0,
          0,
          0,
          0,
          0,
          0,
          0,
          0,
          0,
          0,
          0,
          0,
          0
         ]
        },
        {
         "line": {
          "shape": "spline"
         },
         "mode": "lines",
         "name": "1002",
         "type": "scatter",
         "x": [
          0,
          5.147058823529412e-10,
          1.0294117647058825e-9,
          1.5441176470588236e-9,
          2.058823529411765e-9,
          2.5735294117647063e-9,
          3.088235294117647e-9,
          3.6029411764705885e-9,
          4.11764705882353e-9,
          4.632352941176471e-9,
          5.1470588235294125e-9,
          5.6617647058823534e-9,
          6.176470588235294e-9,
          6.691176470588236e-9,
          7.205882352941177e-9,
          7.720588235294119e-9,
          8.23529411764706e-9,
          8.75e-9,
          9.264705882352942e-9,
          9.779411764705884e-9,
          1.0294117647058825e-8,
          1.0808823529411766e-8,
          1.1323529411764707e-8,
          1.1838235294117648e-8,
          1.2352941176470589e-8,
          1.2867647058823531e-8,
          1.3382352941176472e-8,
          1.3897058823529413e-8,
          1.4411764705882354e-8,
          1.4926470588235297e-8,
          1.5441176470588238e-8,
          1.595588235294118e-8,
          1.647058823529412e-8,
          1.698529411764706e-8,
          1.75e-8
         ],
         "y": [
          0,
          0,
          0,
          0,
          0,
          0,
          0,
          0,
          0,
          0,
          0,
          0,
          0,
          0,
          0,
          0,
          0,
          0,
          0,
          0,
          0,
          0,
          0,
          0,
          0,
          0,
          0,
          0,
          0,
          0,
          0,
          0,
          0,
          0,
          0
         ]
        },
        {
         "line": {
          "shape": "spline"
         },
         "mode": "lines",
         "name": "1010",
         "type": "scatter",
         "x": [
          0,
          5.147058823529412e-10,
          1.0294117647058825e-9,
          1.5441176470588236e-9,
          2.058823529411765e-9,
          2.5735294117647063e-9,
          3.088235294117647e-9,
          3.6029411764705885e-9,
          4.11764705882353e-9,
          4.632352941176471e-9,
          5.1470588235294125e-9,
          5.6617647058823534e-9,
          6.176470588235294e-9,
          6.691176470588236e-9,
          7.205882352941177e-9,
          7.720588235294119e-9,
          8.23529411764706e-9,
          8.75e-9,
          9.264705882352942e-9,
          9.779411764705884e-9,
          1.0294117647058825e-8,
          1.0808823529411766e-8,
          1.1323529411764707e-8,
          1.1838235294117648e-8,
          1.2352941176470589e-8,
          1.2867647058823531e-8,
          1.3382352941176472e-8,
          1.3897058823529413e-8,
          1.4411764705882354e-8,
          1.4926470588235297e-8,
          1.5441176470588238e-8,
          1.595588235294118e-8,
          1.647058823529412e-8,
          1.698529411764706e-8,
          1.75e-8
         ],
         "y": [
          0,
          0,
          0,
          0,
          0,
          0,
          0,
          0,
          0,
          0,
          0,
          0,
          0,
          0,
          0,
          0,
          0,
          0,
          0,
          0,
          0,
          0,
          0,
          0,
          0,
          0,
          0,
          0,
          0,
          0,
          0,
          0,
          0,
          0,
          0
         ]
        },
        {
         "line": {
          "shape": "spline"
         },
         "mode": "lines",
         "name": "0001",
         "type": "scatter",
         "x": [
          0,
          5.147058823529412e-10,
          1.0294117647058825e-9,
          1.5441176470588236e-9,
          2.058823529411765e-9,
          2.5735294117647063e-9,
          3.088235294117647e-9,
          3.6029411764705885e-9,
          4.11764705882353e-9,
          4.632352941176471e-9,
          5.1470588235294125e-9,
          5.6617647058823534e-9,
          6.176470588235294e-9,
          6.691176470588236e-9,
          7.205882352941177e-9,
          7.720588235294119e-9,
          8.23529411764706e-9,
          8.75e-9,
          9.264705882352942e-9,
          9.779411764705884e-9,
          1.0294117647058825e-8,
          1.0808823529411766e-8,
          1.1323529411764707e-8,
          1.1838235294117648e-8,
          1.2352941176470589e-8,
          1.2867647058823531e-8,
          1.3382352941176472e-8,
          1.3897058823529413e-8,
          1.4411764705882354e-8,
          1.4926470588235297e-8,
          1.5441176470588238e-8,
          1.595588235294118e-8,
          1.647058823529412e-8,
          1.698529411764706e-8,
          1.75e-8
         ],
         "y": [
          0,
          0,
          0,
          0,
          0,
          0,
          0,
          0,
          0,
          0,
          0,
          0,
          0,
          0,
          0,
          0,
          0,
          0,
          0,
          0,
          0,
          0,
          0,
          0,
          0,
          0,
          0,
          0,
          0,
          0,
          0,
          0,
          0,
          0,
          0
         ]
        },
        {
         "line": {
          "shape": "spline"
         },
         "mode": "lines",
         "name": "1012",
         "type": "scatter",
         "x": [
          0,
          5.147058823529412e-10,
          1.0294117647058825e-9,
          1.5441176470588236e-9,
          2.058823529411765e-9,
          2.5735294117647063e-9,
          3.088235294117647e-9,
          3.6029411764705885e-9,
          4.11764705882353e-9,
          4.632352941176471e-9,
          5.1470588235294125e-9,
          5.6617647058823534e-9,
          6.176470588235294e-9,
          6.691176470588236e-9,
          7.205882352941177e-9,
          7.720588235294119e-9,
          8.23529411764706e-9,
          8.75e-9,
          9.264705882352942e-9,
          9.779411764705884e-9,
          1.0294117647058825e-8,
          1.0808823529411766e-8,
          1.1323529411764707e-8,
          1.1838235294117648e-8,
          1.2352941176470589e-8,
          1.2867647058823531e-8,
          1.3382352941176472e-8,
          1.3897058823529413e-8,
          1.4411764705882354e-8,
          1.4926470588235297e-8,
          1.5441176470588238e-8,
          1.595588235294118e-8,
          1.647058823529412e-8,
          1.698529411764706e-8,
          1.75e-8
         ],
         "y": [
          0,
          0,
          0,
          0,
          0,
          0,
          0,
          0,
          0,
          0,
          0,
          0,
          0,
          0,
          0,
          0,
          0,
          0,
          0,
          0,
          0,
          0,
          0,
          0,
          0,
          0,
          0,
          0,
          0,
          0,
          0,
          0,
          0,
          0,
          0
         ]
        },
        {
         "line": {
          "shape": "spline"
         },
         "mode": "lines",
         "name": "1020",
         "type": "scatter",
         "x": [
          0,
          5.147058823529412e-10,
          1.0294117647058825e-9,
          1.5441176470588236e-9,
          2.058823529411765e-9,
          2.5735294117647063e-9,
          3.088235294117647e-9,
          3.6029411764705885e-9,
          4.11764705882353e-9,
          4.632352941176471e-9,
          5.1470588235294125e-9,
          5.6617647058823534e-9,
          6.176470588235294e-9,
          6.691176470588236e-9,
          7.205882352941177e-9,
          7.720588235294119e-9,
          8.23529411764706e-9,
          8.75e-9,
          9.264705882352942e-9,
          9.779411764705884e-9,
          1.0294117647058825e-8,
          1.0808823529411766e-8,
          1.1323529411764707e-8,
          1.1838235294117648e-8,
          1.2352941176470589e-8,
          1.2867647058823531e-8,
          1.3382352941176472e-8,
          1.3897058823529413e-8,
          1.4411764705882354e-8,
          1.4926470588235297e-8,
          1.5441176470588238e-8,
          1.595588235294118e-8,
          1.647058823529412e-8,
          1.698529411764706e-8,
          1.75e-8
         ],
         "y": [
          0,
          0,
          0,
          0,
          0,
          0,
          0,
          0,
          0,
          0,
          0,
          0,
          0,
          0,
          0,
          0,
          0,
          0,
          0,
          0,
          0,
          0,
          0,
          0,
          0,
          0,
          0,
          0,
          0,
          0,
          0,
          0,
          0,
          0,
          0
         ]
        },
        {
         "line": {
          "shape": "spline"
         },
         "mode": "lines",
         "name": "1021",
         "type": "scatter",
         "x": [
          0,
          5.147058823529412e-10,
          1.0294117647058825e-9,
          1.5441176470588236e-9,
          2.058823529411765e-9,
          2.5735294117647063e-9,
          3.088235294117647e-9,
          3.6029411764705885e-9,
          4.11764705882353e-9,
          4.632352941176471e-9,
          5.1470588235294125e-9,
          5.6617647058823534e-9,
          6.176470588235294e-9,
          6.691176470588236e-9,
          7.205882352941177e-9,
          7.720588235294119e-9,
          8.23529411764706e-9,
          8.75e-9,
          9.264705882352942e-9,
          9.779411764705884e-9,
          1.0294117647058825e-8,
          1.0808823529411766e-8,
          1.1323529411764707e-8,
          1.1838235294117648e-8,
          1.2352941176470589e-8,
          1.2867647058823531e-8,
          1.3382352941176472e-8,
          1.3897058823529413e-8,
          1.4411764705882354e-8,
          1.4926470588235297e-8,
          1.5441176470588238e-8,
          1.595588235294118e-8,
          1.647058823529412e-8,
          1.698529411764706e-8,
          1.75e-8
         ],
         "y": [
          0,
          0,
          0,
          0,
          0,
          0,
          0,
          0,
          0,
          0,
          0,
          0,
          0,
          0,
          0,
          0,
          0,
          0,
          0,
          0,
          0,
          0,
          0,
          0,
          0,
          0,
          0,
          0,
          0,
          0,
          0,
          0,
          0,
          0,
          0
         ]
        },
        {
         "line": {
          "shape": "spline"
         },
         "mode": "lines",
         "name": "1022",
         "type": "scatter",
         "x": [
          0,
          5.147058823529412e-10,
          1.0294117647058825e-9,
          1.5441176470588236e-9,
          2.058823529411765e-9,
          2.5735294117647063e-9,
          3.088235294117647e-9,
          3.6029411764705885e-9,
          4.11764705882353e-9,
          4.632352941176471e-9,
          5.1470588235294125e-9,
          5.6617647058823534e-9,
          6.176470588235294e-9,
          6.691176470588236e-9,
          7.205882352941177e-9,
          7.720588235294119e-9,
          8.23529411764706e-9,
          8.75e-9,
          9.264705882352942e-9,
          9.779411764705884e-9,
          1.0294117647058825e-8,
          1.0808823529411766e-8,
          1.1323529411764707e-8,
          1.1838235294117648e-8,
          1.2352941176470589e-8,
          1.2867647058823531e-8,
          1.3382352941176472e-8,
          1.3897058823529413e-8,
          1.4411764705882354e-8,
          1.4926470588235297e-8,
          1.5441176470588238e-8,
          1.595588235294118e-8,
          1.647058823529412e-8,
          1.698529411764706e-8,
          1.75e-8
         ],
         "y": [
          0,
          0,
          0,
          0,
          0,
          0,
          0,
          0,
          0,
          0,
          0,
          0,
          0,
          0,
          0,
          0,
          0,
          0,
          0,
          0,
          0,
          0,
          0,
          0,
          0,
          0,
          0,
          0,
          0,
          0,
          0,
          0,
          0,
          0,
          0
         ]
        },
        {
         "line": {
          "shape": "spline"
         },
         "mode": "lines",
         "name": "1100",
         "type": "scatter",
         "x": [
          0,
          5.147058823529412e-10,
          1.0294117647058825e-9,
          1.5441176470588236e-9,
          2.058823529411765e-9,
          2.5735294117647063e-9,
          3.088235294117647e-9,
          3.6029411764705885e-9,
          4.11764705882353e-9,
          4.632352941176471e-9,
          5.1470588235294125e-9,
          5.6617647058823534e-9,
          6.176470588235294e-9,
          6.691176470588236e-9,
          7.205882352941177e-9,
          7.720588235294119e-9,
          8.23529411764706e-9,
          8.75e-9,
          9.264705882352942e-9,
          9.779411764705884e-9,
          1.0294117647058825e-8,
          1.0808823529411766e-8,
          1.1323529411764707e-8,
          1.1838235294117648e-8,
          1.2352941176470589e-8,
          1.2867647058823531e-8,
          1.3382352941176472e-8,
          1.3897058823529413e-8,
          1.4411764705882354e-8,
          1.4926470588235297e-8,
          1.5441176470588238e-8,
          1.595588235294118e-8,
          1.647058823529412e-8,
          1.698529411764706e-8,
          1.75e-8
         ],
         "y": [
          0,
          0,
          0,
          0,
          0,
          0,
          0,
          0,
          0,
          0,
          0,
          0,
          0,
          0,
          0,
          0,
          0,
          0,
          0,
          0,
          0,
          0,
          0,
          0,
          0,
          0,
          0,
          0,
          0,
          0,
          0,
          0,
          0,
          0,
          0
         ]
        },
        {
         "line": {
          "shape": "spline"
         },
         "mode": "lines",
         "name": "1101",
         "type": "scatter",
         "x": [
          0,
          5.147058823529412e-10,
          1.0294117647058825e-9,
          1.5441176470588236e-9,
          2.058823529411765e-9,
          2.5735294117647063e-9,
          3.088235294117647e-9,
          3.6029411764705885e-9,
          4.11764705882353e-9,
          4.632352941176471e-9,
          5.1470588235294125e-9,
          5.6617647058823534e-9,
          6.176470588235294e-9,
          6.691176470588236e-9,
          7.205882352941177e-9,
          7.720588235294119e-9,
          8.23529411764706e-9,
          8.75e-9,
          9.264705882352942e-9,
          9.779411764705884e-9,
          1.0294117647058825e-8,
          1.0808823529411766e-8,
          1.1323529411764707e-8,
          1.1838235294117648e-8,
          1.2352941176470589e-8,
          1.2867647058823531e-8,
          1.3382352941176472e-8,
          1.3897058823529413e-8,
          1.4411764705882354e-8,
          1.4926470588235297e-8,
          1.5441176470588238e-8,
          1.595588235294118e-8,
          1.647058823529412e-8,
          1.698529411764706e-8,
          1.75e-8
         ],
         "y": [
          0,
          0,
          0,
          0,
          0,
          0,
          0,
          0,
          0,
          0,
          0,
          0,
          0,
          0,
          0,
          0,
          0,
          0,
          0,
          0,
          0,
          0,
          0,
          0,
          0,
          0,
          0,
          0,
          0,
          0,
          0,
          0,
          0,
          0,
          0
         ]
        }
       ],
       "layout": {
        "margin": {
         "b": 20,
         "t": 20
        },
        "template": {
         "data": {
          "bar": [
           {
            "error_x": {
             "color": "#2a3f5f"
            },
            "error_y": {
             "color": "#2a3f5f"
            },
            "marker": {
             "line": {
              "color": "#E5ECF6",
              "width": 0.5
             },
             "pattern": {
              "fillmode": "overlay",
              "size": 10,
              "solidity": 0.2
             }
            },
            "type": "bar"
           }
          ],
          "barpolar": [
           {
            "marker": {
             "line": {
              "color": "#E5ECF6",
              "width": 0.5
             },
             "pattern": {
              "fillmode": "overlay",
              "size": 10,
              "solidity": 0.2
             }
            },
            "type": "barpolar"
           }
          ],
          "carpet": [
           {
            "aaxis": {
             "endlinecolor": "#2a3f5f",
             "gridcolor": "white",
             "linecolor": "white",
             "minorgridcolor": "white",
             "startlinecolor": "#2a3f5f"
            },
            "baxis": {
             "endlinecolor": "#2a3f5f",
             "gridcolor": "white",
             "linecolor": "white",
             "minorgridcolor": "white",
             "startlinecolor": "#2a3f5f"
            },
            "type": "carpet"
           }
          ],
          "choropleth": [
           {
            "colorbar": {
             "outlinewidth": 0,
             "ticks": ""
            },
            "type": "choropleth"
           }
          ],
          "contour": [
           {
            "colorbar": {
             "outlinewidth": 0,
             "ticks": ""
            },
            "colorscale": [
             [
              0,
              "#0d0887"
             ],
             [
              0.1111111111111111,
              "#46039f"
             ],
             [
              0.2222222222222222,
              "#7201a8"
             ],
             [
              0.3333333333333333,
              "#9c179e"
             ],
             [
              0.4444444444444444,
              "#bd3786"
             ],
             [
              0.5555555555555556,
              "#d8576b"
             ],
             [
              0.6666666666666666,
              "#ed7953"
             ],
             [
              0.7777777777777778,
              "#fb9f3a"
             ],
             [
              0.8888888888888888,
              "#fdca26"
             ],
             [
              1,
              "#f0f921"
             ]
            ],
            "type": "contour"
           }
          ],
          "contourcarpet": [
           {
            "colorbar": {
             "outlinewidth": 0,
             "ticks": ""
            },
            "type": "contourcarpet"
           }
          ],
          "heatmap": [
           {
            "colorbar": {
             "outlinewidth": 0,
             "ticks": ""
            },
            "colorscale": [
             [
              0,
              "#0d0887"
             ],
             [
              0.1111111111111111,
              "#46039f"
             ],
             [
              0.2222222222222222,
              "#7201a8"
             ],
             [
              0.3333333333333333,
              "#9c179e"
             ],
             [
              0.4444444444444444,
              "#bd3786"
             ],
             [
              0.5555555555555556,
              "#d8576b"
             ],
             [
              0.6666666666666666,
              "#ed7953"
             ],
             [
              0.7777777777777778,
              "#fb9f3a"
             ],
             [
              0.8888888888888888,
              "#fdca26"
             ],
             [
              1,
              "#f0f921"
             ]
            ],
            "type": "heatmap"
           }
          ],
          "heatmapgl": [
           {
            "colorbar": {
             "outlinewidth": 0,
             "ticks": ""
            },
            "colorscale": [
             [
              0,
              "#0d0887"
             ],
             [
              0.1111111111111111,
              "#46039f"
             ],
             [
              0.2222222222222222,
              "#7201a8"
             ],
             [
              0.3333333333333333,
              "#9c179e"
             ],
             [
              0.4444444444444444,
              "#bd3786"
             ],
             [
              0.5555555555555556,
              "#d8576b"
             ],
             [
              0.6666666666666666,
              "#ed7953"
             ],
             [
              0.7777777777777778,
              "#fb9f3a"
             ],
             [
              0.8888888888888888,
              "#fdca26"
             ],
             [
              1,
              "#f0f921"
             ]
            ],
            "type": "heatmapgl"
           }
          ],
          "histogram": [
           {
            "marker": {
             "pattern": {
              "fillmode": "overlay",
              "size": 10,
              "solidity": 0.2
             }
            },
            "type": "histogram"
           }
          ],
          "histogram2d": [
           {
            "colorbar": {
             "outlinewidth": 0,
             "ticks": ""
            },
            "colorscale": [
             [
              0,
              "#0d0887"
             ],
             [
              0.1111111111111111,
              "#46039f"
             ],
             [
              0.2222222222222222,
              "#7201a8"
             ],
             [
              0.3333333333333333,
              "#9c179e"
             ],
             [
              0.4444444444444444,
              "#bd3786"
             ],
             [
              0.5555555555555556,
              "#d8576b"
             ],
             [
              0.6666666666666666,
              "#ed7953"
             ],
             [
              0.7777777777777778,
              "#fb9f3a"
             ],
             [
              0.8888888888888888,
              "#fdca26"
             ],
             [
              1,
              "#f0f921"
             ]
            ],
            "type": "histogram2d"
           }
          ],
          "histogram2dcontour": [
           {
            "colorbar": {
             "outlinewidth": 0,
             "ticks": ""
            },
            "colorscale": [
             [
              0,
              "#0d0887"
             ],
             [
              0.1111111111111111,
              "#46039f"
             ],
             [
              0.2222222222222222,
              "#7201a8"
             ],
             [
              0.3333333333333333,
              "#9c179e"
             ],
             [
              0.4444444444444444,
              "#bd3786"
             ],
             [
              0.5555555555555556,
              "#d8576b"
             ],
             [
              0.6666666666666666,
              "#ed7953"
             ],
             [
              0.7777777777777778,
              "#fb9f3a"
             ],
             [
              0.8888888888888888,
              "#fdca26"
             ],
             [
              1,
              "#f0f921"
             ]
            ],
            "type": "histogram2dcontour"
           }
          ],
          "mesh3d": [
           {
            "colorbar": {
             "outlinewidth": 0,
             "ticks": ""
            },
            "type": "mesh3d"
           }
          ],
          "parcoords": [
           {
            "line": {
             "colorbar": {
              "outlinewidth": 0,
              "ticks": ""
             }
            },
            "type": "parcoords"
           }
          ],
          "pie": [
           {
            "automargin": true,
            "type": "pie"
           }
          ],
          "scatter": [
           {
            "fillpattern": {
             "fillmode": "overlay",
             "size": 10,
             "solidity": 0.2
            },
            "type": "scatter"
           }
          ],
          "scatter3d": [
           {
            "line": {
             "colorbar": {
              "outlinewidth": 0,
              "ticks": ""
             }
            },
            "marker": {
             "colorbar": {
              "outlinewidth": 0,
              "ticks": ""
             }
            },
            "type": "scatter3d"
           }
          ],
          "scattercarpet": [
           {
            "marker": {
             "colorbar": {
              "outlinewidth": 0,
              "ticks": ""
             }
            },
            "type": "scattercarpet"
           }
          ],
          "scattergeo": [
           {
            "marker": {
             "colorbar": {
              "outlinewidth": 0,
              "ticks": ""
             }
            },
            "type": "scattergeo"
           }
          ],
          "scattergl": [
           {
            "marker": {
             "colorbar": {
              "outlinewidth": 0,
              "ticks": ""
             }
            },
            "type": "scattergl"
           }
          ],
          "scattermapbox": [
           {
            "marker": {
             "colorbar": {
              "outlinewidth": 0,
              "ticks": ""
             }
            },
            "type": "scattermapbox"
           }
          ],
          "scatterpolar": [
           {
            "marker": {
             "colorbar": {
              "outlinewidth": 0,
              "ticks": ""
             }
            },
            "type": "scatterpolar"
           }
          ],
          "scatterpolargl": [
           {
            "marker": {
             "colorbar": {
              "outlinewidth": 0,
              "ticks": ""
             }
            },
            "type": "scatterpolargl"
           }
          ],
          "scatterternary": [
           {
            "marker": {
             "colorbar": {
              "outlinewidth": 0,
              "ticks": ""
             }
            },
            "type": "scatterternary"
           }
          ],
          "surface": [
           {
            "colorbar": {
             "outlinewidth": 0,
             "ticks": ""
            },
            "colorscale": [
             [
              0,
              "#0d0887"
             ],
             [
              0.1111111111111111,
              "#46039f"
             ],
             [
              0.2222222222222222,
              "#7201a8"
             ],
             [
              0.3333333333333333,
              "#9c179e"
             ],
             [
              0.4444444444444444,
              "#bd3786"
             ],
             [
              0.5555555555555556,
              "#d8576b"
             ],
             [
              0.6666666666666666,
              "#ed7953"
             ],
             [
              0.7777777777777778,
              "#fb9f3a"
             ],
             [
              0.8888888888888888,
              "#fdca26"
             ],
             [
              1,
              "#f0f921"
             ]
            ],
            "type": "surface"
           }
          ],
          "table": [
           {
            "cells": {
             "fill": {
              "color": "#EBF0F8"
             },
             "line": {
              "color": "white"
             }
            },
            "header": {
             "fill": {
              "color": "#C8D4E3"
             },
             "line": {
              "color": "white"
             }
            },
            "type": "table"
           }
          ]
         },
         "layout": {
          "annotationdefaults": {
           "arrowcolor": "#2a3f5f",
           "arrowhead": 0,
           "arrowwidth": 1
          },
          "autotypenumbers": "strict",
          "coloraxis": {
           "colorbar": {
            "outlinewidth": 0,
            "ticks": ""
           }
          },
          "colorscale": {
           "diverging": [
            [
             0,
             "#8e0152"
            ],
            [
             0.1,
             "#c51b7d"
            ],
            [
             0.2,
             "#de77ae"
            ],
            [
             0.3,
             "#f1b6da"
            ],
            [
             0.4,
             "#fde0ef"
            ],
            [
             0.5,
             "#f7f7f7"
            ],
            [
             0.6,
             "#e6f5d0"
            ],
            [
             0.7,
             "#b8e186"
            ],
            [
             0.8,
             "#7fbc41"
            ],
            [
             0.9,
             "#4d9221"
            ],
            [
             1,
             "#276419"
            ]
           ],
           "sequential": [
            [
             0,
             "#0d0887"
            ],
            [
             0.1111111111111111,
             "#46039f"
            ],
            [
             0.2222222222222222,
             "#7201a8"
            ],
            [
             0.3333333333333333,
             "#9c179e"
            ],
            [
             0.4444444444444444,
             "#bd3786"
            ],
            [
             0.5555555555555556,
             "#d8576b"
            ],
            [
             0.6666666666666666,
             "#ed7953"
            ],
            [
             0.7777777777777778,
             "#fb9f3a"
            ],
            [
             0.8888888888888888,
             "#fdca26"
            ],
            [
             1,
             "#f0f921"
            ]
           ],
           "sequentialminus": [
            [
             0,
             "#0d0887"
            ],
            [
             0.1111111111111111,
             "#46039f"
            ],
            [
             0.2222222222222222,
             "#7201a8"
            ],
            [
             0.3333333333333333,
             "#9c179e"
            ],
            [
             0.4444444444444444,
             "#bd3786"
            ],
            [
             0.5555555555555556,
             "#d8576b"
            ],
            [
             0.6666666666666666,
             "#ed7953"
            ],
            [
             0.7777777777777778,
             "#fb9f3a"
            ],
            [
             0.8888888888888888,
             "#fdca26"
            ],
            [
             1,
             "#f0f921"
            ]
           ]
          },
          "colorway": [
           "#636efa",
           "#EF553B",
           "#00cc96",
           "#ab63fa",
           "#FFA15A",
           "#19d3f3",
           "#FF6692",
           "#B6E880",
           "#FF97FF",
           "#FECB52"
          ],
          "font": {
           "color": "#2a3f5f"
          },
          "geo": {
           "bgcolor": "white",
           "lakecolor": "white",
           "landcolor": "#E5ECF6",
           "showlakes": true,
           "showland": true,
           "subunitcolor": "white"
          },
          "hoverlabel": {
           "align": "left"
          },
          "hovermode": "closest",
          "mapbox": {
           "style": "light"
          },
          "paper_bgcolor": "white",
          "plot_bgcolor": "#E5ECF6",
          "polar": {
           "angularaxis": {
            "gridcolor": "white",
            "linecolor": "white",
            "ticks": ""
           },
           "bgcolor": "#E5ECF6",
           "radialaxis": {
            "gridcolor": "white",
            "linecolor": "white",
            "ticks": ""
           }
          },
          "scene": {
           "xaxis": {
            "backgroundcolor": "#E5ECF6",
            "gridcolor": "white",
            "gridwidth": 2,
            "linecolor": "white",
            "showbackground": true,
            "ticks": "",
            "zerolinecolor": "white"
           },
           "yaxis": {
            "backgroundcolor": "#E5ECF6",
            "gridcolor": "white",
            "gridwidth": 2,
            "linecolor": "white",
            "showbackground": true,
            "ticks": "",
            "zerolinecolor": "white"
           },
           "zaxis": {
            "backgroundcolor": "#E5ECF6",
            "gridcolor": "white",
            "gridwidth": 2,
            "linecolor": "white",
            "showbackground": true,
            "ticks": "",
            "zerolinecolor": "white"
           }
          },
          "shapedefaults": {
           "line": {
            "color": "#2a3f5f"
           }
          },
          "ternary": {
           "aaxis": {
            "gridcolor": "white",
            "linecolor": "white",
            "ticks": ""
           },
           "baxis": {
            "gridcolor": "white",
            "linecolor": "white",
            "ticks": ""
           },
           "bgcolor": "#E5ECF6",
           "caxis": {
            "gridcolor": "white",
            "linecolor": "white",
            "ticks": ""
           }
          },
          "title": {
           "x": 0.05
          },
          "xaxis": {
           "automargin": true,
           "gridcolor": "white",
           "linecolor": "white",
           "ticks": "",
           "title": {
            "standoff": 15
           },
           "zerolinecolor": "white",
           "zerolinewidth": 2
          },
          "yaxis": {
           "automargin": true,
           "gridcolor": "white",
           "linecolor": "white",
           "ticks": "",
           "title": {
            "standoff": 15
           },
           "zerolinecolor": "white",
           "zerolinewidth": 2
          }
         }
        },
        "width": 800,
        "xaxis": {
         "title": {
          "text": "Time [s]"
         }
        },
        "yaxis": {
         "title": {
          "text": "Population"
         }
        }
       }
      }
     },
     "metadata": {},
     "output_type": "display_data"
    }
   ],
   "source": [
    "ryd_system.experiment.draw_dynamics(sequence=[ryd_system.instruction_list[0].get_key()], state=ryd_system.model.get_init_state())"
   ]
  },
  {
   "cell_type": "code",
   "execution_count": 36,
   "metadata": {},
   "outputs": [],
   "source": [
    "qruise_experiment = ryd_system.experiment"
   ]
  },
  {
   "cell_type": "code",
   "execution_count": 37,
   "metadata": {},
   "outputs": [],
   "source": [
    "# qruise_experiment.compute_propagators()"
   ]
  },
  {
   "cell_type": "code",
   "execution_count": 38,
   "metadata": {},
   "outputs": [
    {
     "data": {
      "image/png": "[encoded data removed]",
      "text/plain": [
       "<Figure size 700x500 with 1 Axes>"
      ]
     },
     "execution_count": 38,
     "metadata": {},
     "output_type": "execute_result"
    }
   ],
   "source": [
    "from qiskit.quantum_info import Statevector\n",
    "from qiskit.visualization import plot_histogram\n",
    "ideal_results = Statevector.from_instruction(qv_circuit).probabilities_dict()\n",
    "plot_histogram(ideal_results)"
   ]
  },
  {
   "cell_type": "markdown",
   "metadata": {},
   "source": [
    "Qruise backend"
   ]
  },
  {
   "cell_type": "code",
   "execution_count": 39,
   "metadata": {},
   "outputs": [],
   "source": [
    "from qruise.toolset.qiskit import QruiseProvider"
   ]
  },
  {
   "cell_type": "code",
   "execution_count": 40,
   "metadata": {},
   "outputs": [],
   "source": [
    "from qruise.toolset.libraries.rydberg import RydbergAtom\n"
   ]
  },
  {
   "cell_type": "code",
   "execution_count": 41,
   "metadata": {},
   "outputs": [
    {
     "name": "stderr",
     "output_type": "stream",
     "text": [
      "/home/marco/GitHub_Qruise/qruise-toolset/src/qruise/toolset/experiment.py:153: UserWarning:\n",
      "\n",
      "Using default simulation resolution in experiment, make sure this is what you expect (or you have set sim_res in the Instructions)\n",
      "\n"
     ]
    },
    {
     "name": "stdout",
     "output_type": "stream",
     "text": [
      "I am in invalidate_propagators\n",
      "I am in invalidate_propagators\n",
      "I am in invalidate_propagators\n",
      "Out {'gate': 'rx', 'name': 'rx_-0.244421_0[0]', 'parameters': [{'date': '2024-04-15T18:13:01.821630', 'name': 'gate_error', 'unit': '', 'value': 0.0}, {'date': '2024-04-15T18:13:01.821630', 'name': 'gate_duration', 'unit': 's', 'value': 1.6e-08}], 'qubits': [0]}\n",
      "Out {'gate': 'ry', 'name': 'ry_1.733845_0[0]', 'parameters': [{'date': '2024-04-15T18:13:01.821630', 'name': 'gate_error', 'unit': '', 'value': 0.0}, {'date': '2024-04-15T18:13:01.821630', 'name': 'gate_duration', 'unit': 's', 'value': 1.1e-07}], 'qubits': [0]}\n",
      "Out {'gate': 'rx', 'name': 'rx_2.820336_0[0]', 'parameters': [{'date': '2024-04-15T18:13:01.821630', 'name': 'gate_error', 'unit': '', 'value': 0.0}, {'date': '2024-04-15T18:13:01.821630', 'name': 'gate_duration', 'unit': 's', 'value': 1.8e-07}], 'qubits': [0]}\n",
      "Out {'gate': 'rx', 'name': 'rx_-0.224827_1[1]', 'parameters': [{'date': '2024-04-15T18:13:01.821630', 'name': 'gate_error', 'unit': '', 'value': 0.0}, {'date': '2024-04-15T18:13:01.821630', 'name': 'gate_duration', 'unit': 's', 'value': 1.4e-08}], 'qubits': [1]}\n",
      "Out {'gate': 'ry', 'name': 'ry_1.964055_1[1]', 'parameters': [{'date': '2024-04-15T18:13:01.821630', 'name': 'gate_error', 'unit': '', 'value': 0.0}, {'date': '2024-04-15T18:13:01.821630', 'name': 'gate_duration', 'unit': 's', 'value': 1.25e-07}], 'qubits': [1]}\n",
      "Out {'gate': 'rx', 'name': 'rx_1.380926_1[1]', 'parameters': [{'date': '2024-04-15T18:13:01.821630', 'name': 'gate_error', 'unit': '', 'value': 0.0}, {'date': '2024-04-15T18:13:01.821630', 'name': 'gate_duration', 'unit': 's', 'value': 8.8e-08}], 'qubits': [1]}\n",
      "Out {'gate': 'rx', 'name': 'rx_-2.995232_2[2]', 'parameters': [{'date': '2024-04-15T18:13:01.821630', 'name': 'gate_error', 'unit': '', 'value': 0.0}, {'date': '2024-04-15T18:13:01.821630', 'name': 'gate_duration', 'unit': 's', 'value': 1.91e-07}], 'qubits': [2]}\n",
      "Out {'gate': 'ry', 'name': 'ry_2.030778_2[2]', 'parameters': [{'date': '2024-04-15T18:13:01.821630', 'name': 'gate_error', 'unit': '', 'value': 0.0}, {'date': '2024-04-15T18:13:01.821630', 'name': 'gate_duration', 'unit': 's', 'value': 1.29e-07}], 'qubits': [2]}\n",
      "Out {'gate': 'rx', 'name': 'rx_-1.332986_2[2]', 'parameters': [{'date': '2024-04-15T18:13:01.821630', 'name': 'gate_error', 'unit': '', 'value': 0.0}, {'date': '2024-04-15T18:13:01.821630', 'name': 'gate_duration', 'unit': 's', 'value': 8.5e-08}], 'qubits': [2]}\n",
      "Out {'gate': 'cz', 'name': 'cz_02_1[0,2]', 'parameters': [{'date': '2024-04-15T18:13:01.821630', 'name': 'gate_error', 'unit': '', 'value': 0.0}, {'date': '2024-04-15T18:13:01.821630', 'name': 'gate_duration', 'unit': 's', 'value': 2.0000000000000002e-07}], 'qubits': [0, 2]}\n",
      "Out {'gate': 'cz', 'name': 'cz_02_2[0,2]', 'parameters': [{'date': '2024-04-15T18:13:01.821630', 'name': 'gate_error', 'unit': '', 'value': 0.0}, {'date': '2024-04-15T18:13:01.821630', 'name': 'gate_duration', 'unit': 's', 'value': 4.0000000000000003e-07}], 'qubits': [0, 2]}\n",
      "Out {'gate': 'cz', 'name': 'cz_02_3[0,2]', 'parameters': [{'date': '2024-04-15T18:13:01.821630', 'name': 'gate_error', 'unit': '', 'value': 0.0}, {'date': '2024-04-15T18:13:01.821630', 'name': 'gate_duration', 'unit': 's', 'value': 2.0000000000000002e-07}], 'qubits': [0, 2]}\n",
      "Out {'gate': 'rx', 'name': 'rx_0.656951_0[0]', 'parameters': [{'date': '2024-04-15T18:13:01.821630', 'name': 'gate_error', 'unit': '', 'value': 0.0}, {'date': '2024-04-15T18:13:01.821630', 'name': 'gate_duration', 'unit': 's', 'value': 4.2e-08}], 'qubits': [0]}\n",
      "Out {'gate': 'rx', 'name': 'rx_2.898652_2[2]', 'parameters': [{'date': '2024-04-15T18:13:01.821630', 'name': 'gate_error', 'unit': '', 'value': 0.0}, {'date': '2024-04-15T18:13:01.821630', 'name': 'gate_duration', 'unit': 's', 'value': 1.85e-07}], 'qubits': [2]}\n",
      "Out {'gate': 'ry', 'name': 'ry_1.570796_2[2]', 'parameters': [{'date': '2024-04-15T18:13:01.821630', 'name': 'gate_error', 'unit': '', 'value': 0.0}, {'date': '2024-04-15T18:13:01.821630', 'name': 'gate_duration', 'unit': 's', 'value': 1e-07}], 'qubits': [2]}\n",
      "Out {'gate': 'rx', 'name': 'rx_-1.494957_0[0]', 'parameters': [{'date': '2024-04-15T18:13:01.821630', 'name': 'gate_error', 'unit': '', 'value': 0.0}, {'date': '2024-04-15T18:13:01.821630', 'name': 'gate_duration', 'unit': 's', 'value': 9.5e-08}], 'qubits': [0]}\n",
      "Out {'gate': 'ry', 'name': 'ry_1.570796_0[0]', 'parameters': [{'date': '2024-04-15T18:13:01.821630', 'name': 'gate_error', 'unit': '', 'value': 0.0}, {'date': '2024-04-15T18:13:01.821630', 'name': 'gate_duration', 'unit': 's', 'value': 1e-07}], 'qubits': [0]}\n",
      "Out {'gate': 'rx', 'name': 'rx_1.570796_0[0]', 'parameters': [{'date': '2024-04-15T18:13:01.821630', 'name': 'gate_error', 'unit': '', 'value': 0.0}, {'date': '2024-04-15T18:13:01.821630', 'name': 'gate_duration', 'unit': 's', 'value': 1e-07}], 'qubits': [0]}\n",
      "Out {'gate': 'rx', 'name': 'rx_1.570796_2[2]', 'parameters': [{'date': '2024-04-15T18:13:01.821630', 'name': 'gate_error', 'unit': '', 'value': 0.0}, {'date': '2024-04-15T18:13:01.821630', 'name': 'gate_duration', 'unit': 's', 'value': 1e-07}], 'qubits': [2]}\n",
      "Out {'gate': 'ry', 'name': 'ry_-1.570796_2[2]', 'parameters': [{'date': '2024-04-15T18:13:01.821630', 'name': 'gate_error', 'unit': '', 'value': 0.0}, {'date': '2024-04-15T18:13:01.821630', 'name': 'gate_duration', 'unit': 's', 'value': 1e-07}], 'qubits': [2]}\n",
      "Out {'gate': 'rx', 'name': 'rx_2.972133_0[0]', 'parameters': [{'date': '2024-04-15T18:13:01.821630', 'name': 'gate_error', 'unit': '', 'value': 0.0}, {'date': '2024-04-15T18:13:01.821630', 'name': 'gate_duration', 'unit': 's', 'value': 1.89e-07}], 'qubits': [0]}\n",
      "Out {'gate': 'ry', 'name': 'ry_1.614811_0[0]', 'parameters': [{'date': '2024-04-15T18:13:01.821630', 'name': 'gate_error', 'unit': '', 'value': 0.0}, {'date': '2024-04-15T18:13:01.821630', 'name': 'gate_duration', 'unit': 's', 'value': 1.03e-07}], 'qubits': [0]}\n",
      "Out {'gate': 'rx', 'name': 'rx_1.975597_0[0]', 'parameters': [{'date': '2024-04-15T18:13:01.821630', 'name': 'gate_error', 'unit': '', 'value': 0.0}, {'date': '2024-04-15T18:13:01.821630', 'name': 'gate_duration', 'unit': 's', 'value': 1.26e-07}], 'qubits': [0]}\n",
      "Out {'gate': 'rx', 'name': 'rx_-1.557723_2[2]', 'parameters': [{'date': '2024-04-15T18:13:01.821630', 'name': 'gate_error', 'unit': '', 'value': 0.0}, {'date': '2024-04-15T18:13:01.821630', 'name': 'gate_duration', 'unit': 's', 'value': 9.9e-08}], 'qubits': [2]}\n",
      "Out {'gate': 'ry', 'name': 'ry_2.660799_2[2]', 'parameters': [{'date': '2024-04-15T18:13:01.821630', 'name': 'gate_error', 'unit': '', 'value': 0.0}, {'date': '2024-04-15T18:13:01.821630', 'name': 'gate_duration', 'unit': 's', 'value': 1.69e-07}], 'qubits': [2]}\n",
      "Out {'gate': 'rx', 'name': 'rx_0.768566_2[2]', 'parameters': [{'date': '2024-04-15T18:13:01.821630', 'name': 'gate_error', 'unit': '', 'value': 0.0}, {'date': '2024-04-15T18:13:01.821630', 'name': 'gate_duration', 'unit': 's', 'value': 4.9e-08}], 'qubits': [2]}\n",
      "Out {'gate': 'rx', 'name': 'rx_3.094099_3[3]', 'parameters': [{'date': '2024-04-15T18:13:01.821630', 'name': 'gate_error', 'unit': '', 'value': 0.0}, {'date': '2024-04-15T18:13:01.821630', 'name': 'gate_duration', 'unit': 's', 'value': 1.97e-07}], 'qubits': [3]}\n",
      "Out {'gate': 'ry', 'name': 'ry_2.025474_3[3]', 'parameters': [{'date': '2024-04-15T18:13:01.821630', 'name': 'gate_error', 'unit': '', 'value': 0.0}, {'date': '2024-04-15T18:13:01.821630', 'name': 'gate_duration', 'unit': 's', 'value': 1.29e-07}], 'qubits': [3]}\n",
      "Out {'gate': 'rx', 'name': 'rx_2.982176_3[3]', 'parameters': [{'date': '2024-04-15T18:13:01.821630', 'name': 'gate_error', 'unit': '', 'value': 0.0}, {'date': '2024-04-15T18:13:01.821630', 'name': 'gate_duration', 'unit': 's', 'value': 1.9e-07}], 'qubits': [3]}\n",
      "Out {'gate': 'cz', 'name': 'cz_13_1[1,3]', 'parameters': [{'date': '2024-04-15T18:13:01.821630', 'name': 'gate_error', 'unit': '', 'value': 0.0}, {'date': '2024-04-15T18:13:01.821630', 'name': 'gate_duration', 'unit': 's', 'value': 2.0000000000000002e-07}], 'qubits': [1, 3]}\n",
      "Out {'gate': 'cz', 'name': 'cz_13_2[1,3]', 'parameters': [{'date': '2024-04-15T18:13:01.821630', 'name': 'gate_error', 'unit': '', 'value': 0.0}, {'date': '2024-04-15T18:13:01.821630', 'name': 'gate_duration', 'unit': 's', 'value': 4.0000000000000003e-07}], 'qubits': [1, 3]}\n",
      "Out {'gate': 'cz', 'name': 'cz_13_3[1,3]', 'parameters': [{'date': '2024-04-15T18:13:01.821630', 'name': 'gate_error', 'unit': '', 'value': 0.0}, {'date': '2024-04-15T18:13:01.821630', 'name': 'gate_duration', 'unit': 's', 'value': 2.0000000000000002e-07}], 'qubits': [1, 3]}\n",
      "Out {'gate': 'rx', 'name': 'rx_1.081942_1[1]', 'parameters': [{'date': '2024-04-15T18:13:01.821630', 'name': 'gate_error', 'unit': '', 'value': 0.0}, {'date': '2024-04-15T18:13:01.821630', 'name': 'gate_duration', 'unit': 's', 'value': 6.9e-08}], 'qubits': [1]}\n",
      "Out {'gate': 'rx', 'name': 'rx_3.13056_3[3]', 'parameters': [{'date': '2024-04-15T18:13:01.821630', 'name': 'gate_error', 'unit': '', 'value': 0.0}, {'date': '2024-04-15T18:13:01.821630', 'name': 'gate_duration', 'unit': 's', 'value': 1.99e-07}], 'qubits': [3]}\n",
      "Out {'gate': 'ry', 'name': 'ry_1.570796_3[3]', 'parameters': [{'date': '2024-04-15T18:13:01.821630', 'name': 'gate_error', 'unit': '', 'value': 0.0}, {'date': '2024-04-15T18:13:01.821630', 'name': 'gate_duration', 'unit': 's', 'value': 1e-07}], 'qubits': [3]}\n",
      "Out {'gate': 'rx', 'name': 'rx_-2.266059_1[1]', 'parameters': [{'date': '2024-04-15T18:13:01.821630', 'name': 'gate_error', 'unit': '', 'value': 0.0}, {'date': '2024-04-15T18:13:01.821630', 'name': 'gate_duration', 'unit': 's', 'value': 1.44e-07}], 'qubits': [1]}\n",
      "Out {'gate': 'ry', 'name': 'ry_1.570796_1[1]', 'parameters': [{'date': '2024-04-15T18:13:01.821630', 'name': 'gate_error', 'unit': '', 'value': 0.0}, {'date': '2024-04-15T18:13:01.821630', 'name': 'gate_duration', 'unit': 's', 'value': 1e-07}], 'qubits': [1]}\n",
      "Out {'gate': 'rx', 'name': 'rx_1.570796_1[1]', 'parameters': [{'date': '2024-04-15T18:13:01.821630', 'name': 'gate_error', 'unit': '', 'value': 0.0}, {'date': '2024-04-15T18:13:01.821630', 'name': 'gate_duration', 'unit': 's', 'value': 1e-07}], 'qubits': [1]}\n",
      "Out {'gate': 'rx', 'name': 'rx_1.570796_3[3]', 'parameters': [{'date': '2024-04-15T18:13:01.821630', 'name': 'gate_error', 'unit': '', 'value': 0.0}, {'date': '2024-04-15T18:13:01.821630', 'name': 'gate_duration', 'unit': 's', 'value': 1e-07}], 'qubits': [3]}\n",
      "Out {'gate': 'ry', 'name': 'ry_-1.570796_3[3]', 'parameters': [{'date': '2024-04-15T18:13:01.821630', 'name': 'gate_error', 'unit': '', 'value': 0.0}, {'date': '2024-04-15T18:13:01.821630', 'name': 'gate_duration', 'unit': 's', 'value': 1e-07}], 'qubits': [3]}\n",
      "Out {'gate': 'rx', 'name': 'rx_1.382899_1[1]', 'parameters': [{'date': '2024-04-15T18:13:01.821630', 'name': 'gate_error', 'unit': '', 'value': 0.0}, {'date': '2024-04-15T18:13:01.821630', 'name': 'gate_duration', 'unit': 's', 'value': 8.8e-08}], 'qubits': [1]}\n",
      "Out {'gate': 'ry', 'name': 'ry_1.84174_1[1]', 'parameters': [{'date': '2024-04-15T18:13:01.821630', 'name': 'gate_error', 'unit': '', 'value': 0.0}, {'date': '2024-04-15T18:13:01.821630', 'name': 'gate_duration', 'unit': 's', 'value': 1.17e-07}], 'qubits': [1]}\n",
      "Out {'gate': 'rx', 'name': 'rx_1.836609_1[1]', 'parameters': [{'date': '2024-04-15T18:13:01.821630', 'name': 'gate_error', 'unit': '', 'value': 0.0}, {'date': '2024-04-15T18:13:01.821630', 'name': 'gate_duration', 'unit': 's', 'value': 1.17e-07}], 'qubits': [1]}\n",
      "Out {'gate': 'cz', 'name': 'cz_01_1[0,1]', 'parameters': [{'date': '2024-04-15T18:13:01.821630', 'name': 'gate_error', 'unit': '', 'value': 0.0}, {'date': '2024-04-15T18:13:01.821630', 'name': 'gate_duration', 'unit': 's', 'value': 2.0000000000000002e-07}], 'qubits': [0, 1]}\n",
      "Out {'gate': 'cz', 'name': 'cz_01_2[0,1]', 'parameters': [{'date': '2024-04-15T18:13:01.821630', 'name': 'gate_error', 'unit': '', 'value': 0.0}, {'date': '2024-04-15T18:13:01.821630', 'name': 'gate_duration', 'unit': 's', 'value': 4.0000000000000003e-07}], 'qubits': [0, 1]}\n",
      "Out {'gate': 'cz', 'name': 'cz_01_3[0,1]', 'parameters': [{'date': '2024-04-15T18:13:01.821630', 'name': 'gate_error', 'unit': '', 'value': 0.0}, {'date': '2024-04-15T18:13:01.821630', 'name': 'gate_duration', 'unit': 's', 'value': 2.0000000000000002e-07}], 'qubits': [0, 1]}\n",
      "Out {'gate': 'rx', 'name': 'rx_0.825933_0[0]', 'parameters': [{'date': '2024-04-15T18:13:01.821630', 'name': 'gate_error', 'unit': '', 'value': 0.0}, {'date': '2024-04-15T18:13:01.821630', 'name': 'gate_duration', 'unit': 's', 'value': 5.3e-08}], 'qubits': [0]}\n",
      "Out {'gate': 'rx', 'name': 'rx_2.637566_1[1]', 'parameters': [{'date': '2024-04-15T18:13:01.821630', 'name': 'gate_error', 'unit': '', 'value': 0.0}, {'date': '2024-04-15T18:13:01.821630', 'name': 'gate_duration', 'unit': 's', 'value': 1.68e-07}], 'qubits': [1]}\n",
      "Out {'gate': 'rx', 'name': 'rx_-1.266622_0[0]', 'parameters': [{'date': '2024-04-15T18:13:01.821630', 'name': 'gate_error', 'unit': '', 'value': 0.0}, {'date': '2024-04-15T18:13:01.821630', 'name': 'gate_duration', 'unit': 's', 'value': 8.1e-08}], 'qubits': [0]}\n",
      "Out {'gate': 'ry', 'name': 'ry_-1.570796_1[1]', 'parameters': [{'date': '2024-04-15T18:13:01.821630', 'name': 'gate_error', 'unit': '', 'value': 0.0}, {'date': '2024-04-15T18:13:01.821630', 'name': 'gate_duration', 'unit': 's', 'value': 1e-07}], 'qubits': [1]}\n",
      "Out {'gate': 'rx', 'name': 'rx_1.630259_0[0]', 'parameters': [{'date': '2024-04-15T18:13:01.821630', 'name': 'gate_error', 'unit': '', 'value': 0.0}, {'date': '2024-04-15T18:13:01.821630', 'name': 'gate_duration', 'unit': 's', 'value': 1.04e-07}], 'qubits': [0]}\n",
      "Out {'gate': 'ry', 'name': 'ry_2.520875_0[0]', 'parameters': [{'date': '2024-04-15T18:13:01.821630', 'name': 'gate_error', 'unit': '', 'value': 0.0}, {'date': '2024-04-15T18:13:01.821630', 'name': 'gate_duration', 'unit': 's', 'value': 1.6e-07}], 'qubits': [0]}\n",
      "Out {'gate': 'rx', 'name': 'rx_0.812805_0[0]', 'parameters': [{'date': '2024-04-15T18:13:01.821630', 'name': 'gate_error', 'unit': '', 'value': 0.0}, {'date': '2024-04-15T18:13:01.821630', 'name': 'gate_duration', 'unit': 's', 'value': 5.2e-08}], 'qubits': [0]}\n",
      "Out {'gate': 'rx', 'name': 'rx_0.230817_1[1]', 'parameters': [{'date': '2024-04-15T18:13:01.821630', 'name': 'gate_error', 'unit': '', 'value': 0.0}, {'date': '2024-04-15T18:13:01.821630', 'name': 'gate_duration', 'unit': 's', 'value': 1.5e-08}], 'qubits': [1]}\n",
      "Out {'gate': 'ry', 'name': 'ry_1.309623_1[1]', 'parameters': [{'date': '2024-04-15T18:13:01.821630', 'name': 'gate_error', 'unit': '', 'value': 0.0}, {'date': '2024-04-15T18:13:01.821630', 'name': 'gate_duration', 'unit': 's', 'value': 8.3e-08}], 'qubits': [1]}\n",
      "Out {'gate': 'rx', 'name': 'rx_1.938001_1[1]', 'parameters': [{'date': '2024-04-15T18:13:01.821630', 'name': 'gate_error', 'unit': '', 'value': 0.0}, {'date': '2024-04-15T18:13:01.821630', 'name': 'gate_duration', 'unit': 's', 'value': 1.23e-07}], 'qubits': [1]}\n",
      "Out {'gate': 'rx', 'name': 'rx_-2.710646_3[3]', 'parameters': [{'date': '2024-04-15T18:13:01.821630', 'name': 'gate_error', 'unit': '', 'value': 0.0}, {'date': '2024-04-15T18:13:01.821630', 'name': 'gate_duration', 'unit': 's', 'value': 1.73e-07}], 'qubits': [3]}\n",
      "Out {'gate': 'ry', 'name': 'ry_2.315805_3[3]', 'parameters': [{'date': '2024-04-15T18:13:01.821630', 'name': 'gate_error', 'unit': '', 'value': 0.0}, {'date': '2024-04-15T18:13:01.821630', 'name': 'gate_duration', 'unit': 's', 'value': 1.47e-07}], 'qubits': [3]}\n",
      "Out {'gate': 'rx', 'name': 'rx_-1.544489_3[3]', 'parameters': [{'date': '2024-04-15T18:13:01.821630', 'name': 'gate_error', 'unit': '', 'value': 0.0}, {'date': '2024-04-15T18:13:01.821630', 'name': 'gate_duration', 'unit': 's', 'value': 9.8e-08}], 'qubits': [3]}\n",
      "Out {'gate': 'cz', 'name': 'cz_23_1[2,3]', 'parameters': [{'date': '2024-04-15T18:13:01.821630', 'name': 'gate_error', 'unit': '', 'value': 0.0}, {'date': '2024-04-15T18:13:01.821630', 'name': 'gate_duration', 'unit': 's', 'value': 2.0000000000000002e-07}], 'qubits': [2, 3]}\n",
      "Out {'gate': 'cz', 'name': 'cz_23_2[2,3]', 'parameters': [{'date': '2024-04-15T18:13:01.821630', 'name': 'gate_error', 'unit': '', 'value': 0.0}, {'date': '2024-04-15T18:13:01.821630', 'name': 'gate_duration', 'unit': 's', 'value': 4.0000000000000003e-07}], 'qubits': [2, 3]}\n",
      "Out {'gate': 'cz', 'name': 'cz_23_3[2,3]', 'parameters': [{'date': '2024-04-15T18:13:01.821630', 'name': 'gate_error', 'unit': '', 'value': 0.0}, {'date': '2024-04-15T18:13:01.821630', 'name': 'gate_duration', 'unit': 's', 'value': 2.0000000000000002e-07}], 'qubits': [2, 3]}\n",
      "Out {'gate': 'rx', 'name': 'rx_1.000664_2[2]', 'parameters': [{'date': '2024-04-15T18:13:01.821630', 'name': 'gate_error', 'unit': '', 'value': 0.0}, {'date': '2024-04-15T18:13:01.821630', 'name': 'gate_duration', 'unit': 's', 'value': 6.4e-08}], 'qubits': [2]}\n",
      "Out {'gate': 'rx', 'name': 'rx_2.900798_3[3]', 'parameters': [{'date': '2024-04-15T18:13:01.821630', 'name': 'gate_error', 'unit': '', 'value': 0.0}, {'date': '2024-04-15T18:13:01.821630', 'name': 'gate_duration', 'unit': 's', 'value': 1.85e-07}], 'qubits': [3]}\n",
      "Out {'gate': 'rx', 'name': 'rx_-1.262326_2[2]', 'parameters': [{'date': '2024-04-15T18:13:01.821630', 'name': 'gate_error', 'unit': '', 'value': 0.0}, {'date': '2024-04-15T18:13:01.821630', 'name': 'gate_duration', 'unit': 's', 'value': 8e-08}], 'qubits': [2]}\n",
      "Out {'gate': 'rx', 'name': 'rx_-1.57845_2[2]', 'parameters': [{'date': '2024-04-15T18:13:01.821630', 'name': 'gate_error', 'unit': '', 'value': 0.0}, {'date': '2024-04-15T18:13:01.821630', 'name': 'gate_duration', 'unit': 's', 'value': 1e-07}], 'qubits': [2]}\n",
      "Out {'gate': 'ry', 'name': 'ry_1.842621_2[2]', 'parameters': [{'date': '2024-04-15T18:13:01.821630', 'name': 'gate_error', 'unit': '', 'value': 0.0}, {'date': '2024-04-15T18:13:01.821630', 'name': 'gate_duration', 'unit': 's', 'value': 1.17e-07}], 'qubits': [2]}\n",
      "Out {'gate': 'rx', 'name': 'rx_-1.96749_2[2]', 'parameters': [{'date': '2024-04-15T18:13:01.821630', 'name': 'gate_error', 'unit': '', 'value': 0.0}, {'date': '2024-04-15T18:13:01.821630', 'name': 'gate_duration', 'unit': 's', 'value': 1.25e-07}], 'qubits': [2]}\n",
      "Out {'gate': 'rx', 'name': 'rx_-2.868163_3[3]', 'parameters': [{'date': '2024-04-15T18:13:01.821630', 'name': 'gate_error', 'unit': '', 'value': 0.0}, {'date': '2024-04-15T18:13:01.821630', 'name': 'gate_duration', 'unit': 's', 'value': 1.83e-07}], 'qubits': [3]}\n",
      "Out {'gate': 'ry', 'name': 'ry_1.403824_3[3]', 'parameters': [{'date': '2024-04-15T18:13:01.821630', 'name': 'gate_error', 'unit': '', 'value': 0.0}, {'date': '2024-04-15T18:13:01.821630', 'name': 'gate_duration', 'unit': 's', 'value': 8.9e-08}], 'qubits': [3]}\n",
      "Out {'gate': 'rx', 'name': 'rx_-2.126859_3[3]', 'parameters': [{'date': '2024-04-15T18:13:01.821630', 'name': 'gate_error', 'unit': '', 'value': 0.0}, {'date': '2024-04-15T18:13:01.821630', 'name': 'gate_duration', 'unit': 's', 'value': 1.35e-07}], 'qubits': [3]}\n",
      "Out {'gate': 'rz', 'name': 'rz[0]', 'parameters': [{'date': '2024-04-15T18:13:01.821630', 'name': 'gate_error', 'unit': '', 'value': 0.0}, {'date': '2024-04-15T18:13:01.821630', 'name': 'gate_duration', 'unit': 's', 'value': 0.0}], 'qubits': [0]}\n",
      "Out {'gate': 'rz', 'name': 'rz[1]', 'parameters': [{'date': '2024-04-15T18:13:01.821630', 'name': 'gate_error', 'unit': '', 'value': 0.0}, {'date': '2024-04-15T18:13:01.821630', 'name': 'gate_duration', 'unit': 's', 'value': 0.0}], 'qubits': [1]}\n",
      "Out {'gate': 'rz', 'name': 'rz[2]', 'parameters': [{'date': '2024-04-15T18:13:01.821630', 'name': 'gate_error', 'unit': '', 'value': 0.0}, {'date': '2024-04-15T18:13:01.821630', 'name': 'gate_duration', 'unit': 's', 'value': 0.0}], 'qubits': [2]}\n",
      "Out {'gate': 'rz', 'name': 'rz[3]', 'parameters': [{'date': '2024-04-15T18:13:01.821630', 'name': 'gate_error', 'unit': '', 'value': 0.0}, {'date': '2024-04-15T18:13:01.821630', 'name': 'gate_duration', 'unit': 's', 'value': 0.0}], 'qubits': [3]}\n"
     ]
    }
   ],
   "source": [
    "qruise_provider = QruiseProvider()\n",
    "qruise_backend = qruise_provider.get_backend(\"qruise_qasm_rydberg_simulator\")\n",
    "# Set qubit type to Rydberg atom\n",
    "qruise_backend.qubit_type = RydbergAtom\n",
    "qruise_backend.set_qruise_experiment(qruise_experiment)\n",
    "# qruise_backend._experiment_mode = \"quantum_volume\""
   ]
  },
  {
   "cell_type": "code",
   "execution_count": 42,
   "metadata": {},
   "outputs": [],
   "source": [
    "qruise_backend._experiment_mode = \"populations\""
   ]
  },
  {
   "cell_type": "code",
   "execution_count": 43,
   "metadata": {},
   "outputs": [],
   "source": [
    "# # Look up propagator function\n",
    "# def lookup_transform_function(drive_index: int) -> callable:\n",
    "#     def lookup_transform(gate_dict: dict):\n",
    "#         prop_dict = {}\n",
    "#         sequence_list = []\n",
    "#         for pulse_index in [1, 2, 3]:\n",
    "#             name = gate_dict[\"name\"]\n",
    "#             gate_name = f\"{name}{str(drive_index)}_{str(pulse_index)}\"\n",
    "#             prop_dict[gate_name] = qruise_experiment.lookup_propagator(\n",
    "#                 **gate_dict,\n",
    "#                 compute=False,\n",
    "#                 gate_index=f\"{str(drive_index)}_{str(pulse_index)}\",\n",
    "#             )\n",
    "#             sequence_list.append(gate_name)\n",
    "\n",
    "#         return prop_dict, sequence_list\n",
    "\n",
    "#     return lookup_transform"
   ]
  },
  {
   "cell_type": "code",
   "execution_count": 44,
   "metadata": {},
   "outputs": [],
   "source": [
    "# t_circuit = transpile(qv_circuit, qruise_backend, basis_gates=[\"rx\", \"ry\", \"cz\"])#, optimization_level=3)\n",
    "# t_circuit.draw()"
   ]
  },
  {
   "cell_type": "code",
   "execution_count": 45,
   "metadata": {},
   "outputs": [],
   "source": [
    "def state_transform_function() -> callable:\n",
    "    def state_transform(\n",
    "        state: tf.Tensor, gate_dict: dict, reshape_after: bool, reshape_before: bool\n",
    "    ):\n",
    "        # Gate dict name\n",
    "        gate_name = gate_dict[\"name\"]\n",
    "        if gate_name == \"cz\":\n",
    "            atom1 = gate_dict[\"qubits\"][0]\n",
    "            atom2 = gate_dict[\"qubits\"][1]\n",
    "            gate_dict[\"name\"] = name_cz_gate(atom1, atom2)\n",
    "            for pulse_index in [1, 2, 3]:\n",
    "                reshape_after = (\n",
    "                None if reshape_after is None and pulse_index == 3 else False\n",
    "                )\n",
    "                state = qruise_experiment.lookup_propagator(\n",
    "                    **gate_dict,\n",
    "                    compute=False,\n",
    "                    gate_index=f\"_{str(pulse_index)}\",\n",
    "                ).propagate_state(\n",
    "                    state, reshape_after=reshape_after, reshape_before=reshape_before\n",
    "                )\n",
    "                reshape_before = False\n",
    "        else:\n",
    "            print(\"Gate dict\", gate_dict)\n",
    "            angle = gate_dict[\"params\"][0]\n",
    "            atom = gate_dict[\"qubits\"][0]\n",
    "            gate_dict[\"name\"] = name_rx_gate(angle, atom) if \"rx\" in gate_name else name_ry_gate(angle, atom)\n",
    "            state = qruise_experiment.lookup_propagator(\n",
    "                **gate_dict,\n",
    "                compute=False,\n",
    "            ).propagate_state(\n",
    "                state, reshape_after=reshape_after, reshape_before=reshape_before\n",
    "            )\n",
    "        return state\n",
    "\n",
    "    return state_transform"
   ]
  },
  {
   "cell_type": "code",
   "execution_count": 46,
   "metadata": {},
   "outputs": [],
   "source": [
    "# qruise_backend._lookup_propagator_function = lookup_transform_function"
   ]
  },
  {
   "cell_type": "code",
   "execution_count": 47,
   "metadata": {},
   "outputs": [],
   "source": [
    "qruise_backend._state_propagation_function = state_transform_function()"
   ]
  },
  {
   "cell_type": "code",
   "execution_count": 48,
   "metadata": {},
   "outputs": [],
   "source": [
    "# qruise_backend.configuration().coupling_map"
   ]
  },
  {
   "cell_type": "code",
   "execution_count": 49,
   "metadata": {},
   "outputs": [
    {
     "data": {
      "text/html": [
       "<pre style=\"word-wrap: normal;white-space: pre;background: #fff0;line-height: 1.1;font-family: &quot;Courier New&quot;,Courier,monospace\">global phase: 4.4448\n",
       "        ┌──────────────┐┌────────────┐┌────────────┐   ┌─────────────┐»\n",
       "   q_0: ┤ Rx(-0.24442) ├┤ Ry(1.7338) ├┤ Rx(2.8203) ├─■─┤ Rx(0.65695) ├»\n",
       "        ├──────────────┤├────────────┤├────────────┤ │ └─────────────┘»\n",
       "   q_1: ┤ Rx(-0.22483) ├┤ Ry(1.9641) ├┤ Rx(1.3809) ├─┼────────■───────»\n",
       "        ├─────────────┬┘├────────────┤├────────────┤ │        │       »\n",
       "   q_2: ┤ Rx(-2.9952) ├─┤ Ry(2.0308) ├┤ Rx(-1.333) ├─■────────┼───────»\n",
       "        └┬────────────┤ ├────────────┤├────────────┤          │       »\n",
       "   q_3: ─┤ Rx(3.0941) ├─┤ Ry(2.0255) ├┤ Rx(2.9822) ├──────────■───────»\n",
       "         └────────────┘ └────────────┘└────────────┘                  »\n",
       "meas: 4/══════════════════════════════════════════════════════════════»\n",
       "                                                                      »\n",
       "«                                    ┌────────────┐  ┌─────────┐  ┌─────────┐ »\n",
       "«   q_0: ──────────────────────────■─┤ Rx(-1.495) ├──┤ Ry(π/2) ├──┤ Rx(π/2) ├─»\n",
       "«        ┌────────────┐            │ └────────────┘┌─┴─────────┴─┐├─────────┤ »\n",
       "«   q_1: ┤ Rx(1.0819) ├────────────┼───────■───────┤ Rx(-2.2661) ├┤ Ry(π/2) ├─»\n",
       "«        ├────────────┤┌─────────┐ │       │       └─┬─────────┬─┘├─────────┴┐»\n",
       "«   q_2: ┤ Rx(2.8987) ├┤ Ry(π/2) ├─■───────┼─────────┤ Rx(π/2) ├──┤ Ry(-π/2) ├»\n",
       "«        ├────────────┤├─────────┤         │         ├─────────┤  ├──────────┤»\n",
       "«   q_3: ┤ Rx(3.1306) ├┤ Ry(π/2) ├─────────■─────────┤ Rx(π/2) ├──┤ Ry(-π/2) ├»\n",
       "«        └────────────┘└─────────┘                   └─────────┘  └──────────┘»\n",
       "«meas: 4/═════════════════════════════════════════════════════════════════════»\n",
       "«                                                                             »\n",
       "«                      ┌────────────┐ ┌────────────┐┌────────────┐»\n",
       "«   q_0: ────────────■─┤ Rx(2.9721) ├─┤ Ry(1.6148) ├┤ Rx(1.9756) ├»\n",
       "«        ┌─────────┐ │ └────────────┘ ├────────────┤├────────────┤»\n",
       "«   q_1: ┤ Rx(π/2) ├─┼───────■────────┤ Rx(1.3829) ├┤ Ry(1.8417) ├»\n",
       "«        └─────────┘ │       │       ┌┴────────────┤├────────────┤»\n",
       "«   q_2: ────────────■───────┼───────┤ Rx(-1.5577) ├┤ Ry(2.6608) ├»\n",
       "«                            │       ├─────────────┤├────────────┤»\n",
       "«   q_3: ────────────────────■───────┤ Rx(-2.7106) ├┤ Ry(2.3158) ├»\n",
       "«                                    └─────────────┘└────────────┘»\n",
       "«meas: 4/═════════════════════════════════════════════════════════»\n",
       "«                                                                 »\n",
       "«                          ┌─────────────┐              ┌─────────────┐»\n",
       "«   q_0: ────────────────■─┤ Rx(0.82593) ├────────────■─┤ Rx(-1.2666) ├»\n",
       "«         ┌────────────┐ │ └┬────────────┤┌─────────┐ │ └─┬─────────┬─┘»\n",
       "«   q_1: ─┤ Rx(1.8366) ├─■──┤ Rx(2.6376) ├┤ Ry(π/2) ├─■───┤ Rx(π/2) ├──»\n",
       "«        ┌┴────────────┤    ├────────────┤└─────────┘   ┌─┴─────────┴─┐»\n",
       "«   q_2: ┤ Rx(0.76857) ├─■──┤ Rx(1.0007) ├────────────■─┤ Rx(-1.2623) ├»\n",
       "«        ├─────────────┤ │  ├────────────┤┌─────────┐ │ └─┬─────────┬─┘»\n",
       "«   q_3: ┤ Rx(-1.5445) ├─■──┤ Rx(2.9008) ├┤ Ry(π/2) ├─■───┤ Rx(π/2) ├──»\n",
       "«        └─────────────┘    └────────────┘└─────────┘     └─────────┘  »\n",
       "«meas: 4/══════════════════════════════════════════════════════════════»\n",
       "«                                                                      »\n",
       "«        ┌─────────┐ ┌─────────┐    ┌────────────┐┌────────────┐┌─────────────┐»\n",
       "«   q_0: ┤ Ry(π/2) ├─┤ Rx(π/2) ├─■──┤ Rx(1.6303) ├┤ Ry(2.5209) ├┤ Rx(0.81281) ├»\n",
       "«        ├─────────┴┐└─────────┘ │ ┌┴────────────┤├────────────┤└┬───────────┬┘»\n",
       "«   q_1: ┤ Ry(-π/2) ├────────────■─┤ Rx(0.23082) ├┤ Ry(1.3096) ├─┤ Rx(1.938) ├─»\n",
       "«        ├─────────┬┘┌─────────┐   ├─────────────┤├────────────┤┌┴───────────┴┐»\n",
       "«   q_2: ┤ Ry(π/2) ├─┤ Rx(π/2) ├─■─┤ Rx(-1.5784) ├┤ Ry(1.8426) ├┤ Rx(-1.9675) ├»\n",
       "«        ├─────────┴┐└─────────┘ │ ├─────────────┤├────────────┤├─────────────┤»\n",
       "«   q_3: ┤ Ry(-π/2) ├────────────■─┤ Rx(-2.8682) ├┤ Ry(1.4038) ├┤ Rx(-2.1269) ├»\n",
       "«        └──────────┘              └─────────────┘└────────────┘└─────────────┘»\n",
       "«meas: 4/══════════════════════════════════════════════════════════════════════»\n",
       "«                                                                              »\n",
       "«         ░ ┌─┐         \n",
       "«   q_0: ─░─┤M├─────────\n",
       "«         ░ └╥┘┌─┐      \n",
       "«   q_1: ─░──╫─┤M├──────\n",
       "«         ░  ║ └╥┘┌─┐   \n",
       "«   q_2: ─░──╫──╫─┤M├───\n",
       "«         ░  ║  ║ └╥┘┌─┐\n",
       "«   q_3: ─░──╫──╫──╫─┤M├\n",
       "«         ░  ║  ║  ║ └╥┘\n",
       "«meas: 4/════╩══╩══╩══╩═\n",
       "«            0  1  2  3 </pre>"
      ],
      "text/plain": [
       "global phase: 4.4448\n",
       "        ┌──────────────┐┌────────────┐┌────────────┐   ┌─────────────┐»\n",
       "   q_0: ┤ Rx(-0.24442) ├┤ Ry(1.7338) ├┤ Rx(2.8203) ├─■─┤ Rx(0.65695) ├»\n",
       "        ├──────────────┤├────────────┤├────────────┤ │ └─────────────┘»\n",
       "   q_1: ┤ Rx(-0.22483) ├┤ Ry(1.9641) ├┤ Rx(1.3809) ├─┼────────■───────»\n",
       "        ├─────────────┬┘├────────────┤├────────────┤ │        │       »\n",
       "   q_2: ┤ Rx(-2.9952) ├─┤ Ry(2.0308) ├┤ Rx(-1.333) ├─■────────┼───────»\n",
       "        └┬────────────┤ ├────────────┤├────────────┤          │       »\n",
       "   q_3: ─┤ Rx(3.0941) ├─┤ Ry(2.0255) ├┤ Rx(2.9822) ├──────────■───────»\n",
       "         └────────────┘ └────────────┘└────────────┘                  »\n",
       "meas: 4/══════════════════════════════════════════════════════════════»\n",
       "                                                                      »\n",
       "«                                    ┌────────────┐  ┌─────────┐  ┌─────────┐ »\n",
       "«   q_0: ──────────────────────────■─┤ Rx(-1.495) ├──┤ Ry(π/2) ├──┤ Rx(π/2) ├─»\n",
       "«        ┌────────────┐            │ └────────────┘┌─┴─────────┴─┐├─────────┤ »\n",
       "«   q_1: ┤ Rx(1.0819) ├────────────┼───────■───────┤ Rx(-2.2661) ├┤ Ry(π/2) ├─»\n",
       "«        ├────────────┤┌─────────┐ │       │       └─┬─────────┬─┘├─────────┴┐»\n",
       "«   q_2: ┤ Rx(2.8987) ├┤ Ry(π/2) ├─■───────┼─────────┤ Rx(π/2) ├──┤ Ry(-π/2) ├»\n",
       "«        ├────────────┤├─────────┤         │         ├─────────┤  ├──────────┤»\n",
       "«   q_3: ┤ Rx(3.1306) ├┤ Ry(π/2) ├─────────■─────────┤ Rx(π/2) ├──┤ Ry(-π/2) ├»\n",
       "«        └────────────┘└─────────┘                   └─────────┘  └──────────┘»\n",
       "«meas: 4/═════════════════════════════════════════════════════════════════════»\n",
       "«                                                                             »\n",
       "«                      ┌────────────┐ ┌────────────┐┌────────────┐»\n",
       "«   q_0: ────────────■─┤ Rx(2.9721) ├─┤ Ry(1.6148) ├┤ Rx(1.9756) ├»\n",
       "«        ┌─────────┐ │ └────────────┘ ├────────────┤├────────────┤»\n",
       "«   q_1: ┤ Rx(π/2) ├─┼───────■────────┤ Rx(1.3829) ├┤ Ry(1.8417) ├»\n",
       "«        └─────────┘ │       │       ┌┴────────────┤├────────────┤»\n",
       "«   q_2: ────────────■───────┼───────┤ Rx(-1.5577) ├┤ Ry(2.6608) ├»\n",
       "«                            │       ├─────────────┤├────────────┤»\n",
       "«   q_3: ────────────────────■───────┤ Rx(-2.7106) ├┤ Ry(2.3158) ├»\n",
       "«                                    └─────────────┘└────────────┘»\n",
       "«meas: 4/═════════════════════════════════════════════════════════»\n",
       "«                                                                 »\n",
       "«                          ┌─────────────┐              ┌─────────────┐»\n",
       "«   q_0: ────────────────■─┤ Rx(0.82593) ├────────────■─┤ Rx(-1.2666) ├»\n",
       "«         ┌────────────┐ │ └┬────────────┤┌─────────┐ │ └─┬─────────┬─┘»\n",
       "«   q_1: ─┤ Rx(1.8366) ├─■──┤ Rx(2.6376) ├┤ Ry(π/2) ├─■───┤ Rx(π/2) ├──»\n",
       "«        ┌┴────────────┤    ├────────────┤└─────────┘   ┌─┴─────────┴─┐»\n",
       "«   q_2: ┤ Rx(0.76857) ├─■──┤ Rx(1.0007) ├────────────■─┤ Rx(-1.2623) ├»\n",
       "«        ├─────────────┤ │  ├────────────┤┌─────────┐ │ └─┬─────────┬─┘»\n",
       "«   q_3: ┤ Rx(-1.5445) ├─■──┤ Rx(2.9008) ├┤ Ry(π/2) ├─■───┤ Rx(π/2) ├──»\n",
       "«        └─────────────┘    └────────────┘└─────────┘     └─────────┘  »\n",
       "«meas: 4/══════════════════════════════════════════════════════════════»\n",
       "«                                                                      »\n",
       "«        ┌─────────┐ ┌─────────┐    ┌────────────┐┌────────────┐┌─────────────┐»\n",
       "«   q_0: ┤ Ry(π/2) ├─┤ Rx(π/2) ├─■──┤ Rx(1.6303) ├┤ Ry(2.5209) ├┤ Rx(0.81281) ├»\n",
       "«        ├─────────┴┐└─────────┘ │ ┌┴────────────┤├────────────┤└┬───────────┬┘»\n",
       "«   q_1: ┤ Ry(-π/2) ├────────────■─┤ Rx(0.23082) ├┤ Ry(1.3096) ├─┤ Rx(1.938) ├─»\n",
       "«        ├─────────┬┘┌─────────┐   ├─────────────┤├────────────┤┌┴───────────┴┐»\n",
       "«   q_2: ┤ Ry(π/2) ├─┤ Rx(π/2) ├─■─┤ Rx(-1.5784) ├┤ Ry(1.8426) ├┤ Rx(-1.9675) ├»\n",
       "«        ├─────────┴┐└─────────┘ │ ├─────────────┤├────────────┤├─────────────┤»\n",
       "«   q_3: ┤ Ry(-π/2) ├────────────■─┤ Rx(-2.8682) ├┤ Ry(1.4038) ├┤ Rx(-2.1269) ├»\n",
       "«        └──────────┘              └─────────────┘└────────────┘└─────────────┘»\n",
       "«meas: 4/══════════════════════════════════════════════════════════════════════»\n",
       "«                                                                              »\n",
       "«         ░ ┌─┐         \n",
       "«   q_0: ─░─┤M├─────────\n",
       "«         ░ └╥┘┌─┐      \n",
       "«   q_1: ─░──╫─┤M├──────\n",
       "«         ░  ║ └╥┘┌─┐   \n",
       "«   q_2: ─░──╫──╫─┤M├───\n",
       "«         ░  ║  ║ └╥┘┌─┐\n",
       "«   q_3: ─░──╫──╫──╫─┤M├\n",
       "«         ░  ║  ║  ║ └╥┘\n",
       "«meas: 4/════╩══╩══╩══╩═\n",
       "«            0  1  2  3 "
      ]
     },
     "execution_count": 49,
     "metadata": {},
     "output_type": "execute_result"
    }
   ],
   "source": [
    "decomposed_circuit.draw()"
   ]
  },
  {
   "cell_type": "code",
   "execution_count": 50,
   "metadata": {},
   "outputs": [
    {
     "name": "stdout",
     "output_type": "stream",
     "text": [
      "Gate dict {'name': 'rx', 'params': [-0.24442111082617135], 'qubits': [0]}\n",
      "Is propagator None? False\n",
      "Gate dict {'name': 'ry', 'params': [1.7338448368921913], 'qubits': [0]}\n",
      "Is propagator None? False\n",
      "Gate dict {'name': 'rx', 'params': [2.8203357598818624], 'qubits': [0]}\n",
      "Is propagator None? False\n",
      "Gate dict {'name': 'rx', 'params': [-0.22482651461735825], 'qubits': [1]}\n",
      "Is propagator None? False\n",
      "Gate dict {'name': 'ry', 'params': [1.9640552379691587], 'qubits': [1]}\n",
      "Is propagator None? False\n",
      "Gate dict {'name': 'rx', 'params': [1.3809257353202256], 'qubits': [1]}\n",
      "Is propagator None? False\n",
      "Gate dict {'name': 'rx', 'params': [-2.995231993477482], 'qubits': [2]}\n",
      "Is propagator None? False\n",
      "Gate dict {'name': 'ry', 'params': [2.030778489541315], 'qubits': [2]}\n",
      "Is propagator None? False\n",
      "Gate dict {'name': 'rx', 'params': [-1.3329861800391765], 'qubits': [2]}\n",
      "Is propagator None? False\n",
      "Is propagator None? False\n",
      "Is propagator None? False\n",
      "Is propagator None? False\n",
      "Gate dict {'name': 'rx', 'params': [0.6569508550110275], 'qubits': [0]}\n",
      "Is propagator None? False\n",
      "Gate dict {'name': 'rx', 'params': [2.89865248101553], 'qubits': [2]}\n",
      "Is propagator None? False\n",
      "Gate dict {'name': 'ry', 'params': [1.5707963267948968], 'qubits': [2]}\n",
      "Is propagator None? False\n",
      "Is propagator None? False\n",
      "Is propagator None? False\n",
      "Is propagator None? False\n",
      "Gate dict {'name': 'rx', 'params': [-1.4949565671187965], 'qubits': [0]}\n",
      "Is propagator None? False\n",
      "Gate dict {'name': 'ry', 'params': [1.5707963267948968], 'qubits': [0]}\n",
      "Is propagator None? False\n",
      "Gate dict {'name': 'rx', 'params': [1.5707963267948966], 'qubits': [0]}\n",
      "Is propagator None? False\n",
      "Gate dict {'name': 'rx', 'params': [1.5707963267948966], 'qubits': [2]}\n",
      "Is propagator None? False\n",
      "Gate dict {'name': 'ry', 'params': [-1.5707963267948966], 'qubits': [2]}\n",
      "Is propagator None? False\n",
      "Is propagator None? False\n",
      "Is propagator None? False\n",
      "Is propagator None? False\n",
      "Gate dict {'name': 'rx', 'params': [2.972133260531594], 'qubits': [0]}\n",
      "Is propagator None? False\n",
      "Gate dict {'name': 'ry', 'params': [1.614810733429455], 'qubits': [0]}\n",
      "Is propagator None? False\n",
      "Gate dict {'name': 'rx', 'params': [1.975597299142251], 'qubits': [0]}\n",
      "Is propagator None? False\n",
      "Gate dict {'name': 'rx', 'params': [-1.5577234946500198], 'qubits': [2]}\n",
      "Is propagator None? False\n",
      "Gate dict {'name': 'ry', 'params': [2.6607993378404142], 'qubits': [2]}\n",
      "Is propagator None? False\n",
      "Gate dict {'name': 'rx', 'params': [0.7685662367980717], 'qubits': [2]}\n",
      "Is propagator None? False\n",
      "Gate dict {'name': 'rx', 'params': [3.0940986585816592], 'qubits': [3]}\n",
      "Is propagator None? False\n",
      "Gate dict {'name': 'ry', 'params': [2.0254737587708287], 'qubits': [3]}\n",
      "Is propagator None? False\n",
      "Gate dict {'name': 'rx', 'params': [2.982176126619498], 'qubits': [3]}\n",
      "Is propagator None? False\n",
      "Is propagator None? False\n",
      "Is propagator None? False\n",
      "Is propagator None? False\n",
      "Gate dict {'name': 'rx', 'params': [1.0819421328454766], 'qubits': [1]}\n",
      "Is propagator None? False\n",
      "Gate dict {'name': 'rx', 'params': [3.1305597537388756], 'qubits': [3]}\n",
      "Is propagator None? False\n",
      "Gate dict {'name': 'ry', 'params': [1.5707963267948966], 'qubits': [3]}\n",
      "Is propagator None? False\n",
      "Is propagator None? False\n",
      "Is propagator None? False\n",
      "Is propagator None? False\n",
      "Gate dict {'name': 'rx', 'params': [-2.266059153391522], 'qubits': [1]}\n",
      "Is propagator None? False\n",
      "Gate dict {'name': 'ry', 'params': [1.5707963267948966], 'qubits': [1]}\n",
      "Is propagator None? False\n",
      "Gate dict {'name': 'rx', 'params': [1.5707963267948966], 'qubits': [1]}\n",
      "Is propagator None? False\n",
      "Gate dict {'name': 'rx', 'params': [1.5707963267948966], 'qubits': [3]}\n",
      "Is propagator None? False\n",
      "Gate dict {'name': 'ry', 'params': [-1.5707963267948966], 'qubits': [3]}\n",
      "Is propagator None? False\n",
      "Is propagator None? False\n",
      "Is propagator None? False\n",
      "Is propagator None? False\n",
      "Gate dict {'name': 'rx', 'params': [1.3828989446774056], 'qubits': [1]}\n",
      "Is propagator None? False\n",
      "Gate dict {'name': 'ry', 'params': [1.8417404986496924], 'qubits': [1]}\n",
      "Is propagator None? False\n",
      "Gate dict {'name': 'rx', 'params': [1.8366089558483951], 'qubits': [1]}\n",
      "Is propagator None? False\n",
      "Is propagator None? False\n",
      "Is propagator None? False\n",
      "Is propagator None? False\n",
      "Gate dict {'name': 'rx', 'params': [0.825932780400624], 'qubits': [0]}\n",
      "Is propagator None? False\n",
      "Gate dict {'name': 'rx', 'params': [2.637566260868624], 'qubits': [1]}\n",
      "Is propagator None? False\n",
      "Gate dict {'name': 'ry', 'params': [1.5707963267948966], 'qubits': [1]}\n",
      "Is propagator None? False\n",
      "Is propagator None? False\n",
      "Is propagator None? False\n",
      "Is propagator None? False\n",
      "Gate dict {'name': 'rx', 'params': [-1.2666224127606753], 'qubits': [0]}\n",
      "Is propagator None? False\n",
      "Gate dict {'name': 'ry', 'params': [1.5707963267948968], 'qubits': [0]}\n",
      "Is propagator None? False\n",
      "Gate dict {'name': 'rx', 'params': [1.5707963267948966], 'qubits': [0]}\n",
      "Is propagator None? False\n",
      "Gate dict {'name': 'rx', 'params': [1.5707963267948966], 'qubits': [1]}\n",
      "Is propagator None? False\n",
      "Gate dict {'name': 'ry', 'params': [-1.5707963267948966], 'qubits': [1]}\n",
      "Is propagator None? False\n",
      "Is propagator None? False\n",
      "Is propagator None? False\n",
      "Is propagator None? False\n",
      "Gate dict {'name': 'rx', 'params': [1.6302593156918803], 'qubits': [0]}\n",
      "Is propagator None? False\n",
      "Gate dict {'name': 'ry', 'params': [2.5208751431044965], 'qubits': [0]}\n",
      "Is propagator None? False\n",
      "Gate dict {'name': 'rx', 'params': [0.8128053604021694], 'qubits': [0]}\n",
      "Is propagator None? False\n",
      "Gate dict {'name': 'rx', 'params': [0.2308166846738331], 'qubits': [1]}\n",
      "Is propagator None? False\n",
      "Gate dict {'name': 'ry', 'params': [1.3096227795419264], 'qubits': [1]}\n",
      "Is propagator None? False\n",
      "Gate dict {'name': 'rx', 'params': [1.9380007415858582], 'qubits': [1]}\n",
      "Is propagator None? False\n",
      "Gate dict {'name': 'rx', 'params': [-2.7106456852024206], 'qubits': [3]}\n",
      "Is propagator None? False\n",
      "Gate dict {'name': 'ry', 'params': [2.315805089166289], 'qubits': [3]}\n",
      "Is propagator None? False\n",
      "Gate dict {'name': 'rx', 'params': [-1.5444892319562165], 'qubits': [3]}\n",
      "Is propagator None? False\n",
      "Is propagator None? False\n",
      "Is propagator None? False\n",
      "Is propagator None? False\n",
      "Gate dict {'name': 'rx', 'params': [1.0006644150101422], 'qubits': [2]}\n",
      "Is propagator None? False\n",
      "Gate dict {'name': 'rx', 'params': [2.900798476056732], 'qubits': [3]}\n",
      "Is propagator None? False\n",
      "Gate dict {'name': 'ry', 'params': [1.5707963267948968], 'qubits': [3]}\n",
      "Is propagator None? False\n",
      "Is propagator None? False\n",
      "Is propagator None? False\n",
      "Is propagator None? False\n",
      "Gate dict {'name': 'rx', 'params': [-1.2623262366347472], 'qubits': [2]}\n",
      "Is propagator None? False\n",
      "Gate dict {'name': 'ry', 'params': [1.5707963267948968], 'qubits': [2]}\n",
      "Is propagator None? False\n",
      "Gate dict {'name': 'rx', 'params': [1.5707963267948966], 'qubits': [2]}\n",
      "Is propagator None? False\n",
      "Gate dict {'name': 'rx', 'params': [1.5707963267948966], 'qubits': [3]}\n",
      "Is propagator None? False\n",
      "Gate dict {'name': 'ry', 'params': [-1.5707963267948966], 'qubits': [3]}\n",
      "Is propagator None? False\n",
      "Is propagator None? False\n",
      "Is propagator None? False\n",
      "Is propagator None? False\n",
      "Gate dict {'name': 'rx', 'params': [-1.5784496938347585], 'qubits': [2]}\n",
      "Is propagator None? False\n",
      "Gate dict {'name': 'ry', 'params': [1.8426205892287875], 'qubits': [2]}\n",
      "Is propagator None? False\n",
      "Gate dict {'name': 'rx', 'params': [-1.9674898863683783], 'qubits': [2]}\n",
      "Is propagator None? False\n",
      "Gate dict {'name': 'rx', 'params': [-2.86816286218777], 'qubits': [3]}\n",
      "Is propagator None? False\n",
      "Gate dict {'name': 'ry', 'params': [1.4038243127811474], 'qubits': [3]}\n",
      "Is propagator None? False\n",
      "Gate dict {'name': 'rx', 'params': [-2.1268591663260015], 'qubits': [3]}\n",
      "Is propagator None? False\n",
      "Meas_index [81, 82, 83, 84]\n",
      "Pops array [3.64659927e-01 7.73221165e-02 3.48805386e-07 5.54152037e-02\n",
      " 9.01528833e-02 4.04247687e-07 1.38749545e-07 3.28864996e-07\n",
      " 9.90318727e-07 1.00085494e-02 1.88615615e-02 7.56876025e-08\n",
      " 4.01525729e-02 2.81508611e-02 1.69731409e-07 1.01913258e-07\n",
      " 2.96148036e-07 1.91487487e-06 2.03422372e-07 6.37943539e-08\n",
      " 6.87811533e-06 1.93432011e-06 5.63024955e-07 4.78124923e-05\n",
      " 7.97564361e-08 1.93826495e-08 7.42372136e-11 5.24636264e-02\n",
      " 2.82070096e-02 1.26012918e-08 1.13959211e-02 4.31980435e-03\n",
      " 3.79414549e-08 8.04386198e-08 8.73153698e-08 5.53284962e-07\n",
      " 9.99596482e-02 6.26445013e-02 8.93428619e-08 1.27789976e-02\n",
      " 4.34057678e-02 3.01194068e-08 5.00743075e-08 7.67902207e-08\n",
      " 6.69986663e-08 2.84462821e-08 5.91546062e-09 9.19157367e-07\n",
      " 1.92280755e-07 3.63119848e-08 1.77736748e-05 1.12018297e-08\n",
      " 4.40674523e-09 1.18360638e-10 1.01582198e-07 1.27192129e-07\n",
      " 5.96453642e-09 3.70769598e-08 4.55736707e-08 3.72991589e-09\n",
      " 5.56894052e-06 8.84566619e-06 8.74532142e-11 2.51751037e-08\n",
      " 9.37805704e-09 6.86735116e-10 5.97695001e-08 1.37252340e-07\n",
      " 1.22409072e-09 6.00681078e-07 9.54084885e-07 1.07352950e-11\n",
      " 5.36693492e-08 7.56367459e-09 4.78956425e-10 1.22406444e-06\n",
      " 8.51896078e-07 4.68930938e-09 7.74453718e-10 1.16677046e-09\n",
      " 4.83299723e-14]\n",
      "Inside _generate_shot_readout\n",
      "Qruise labels ((0, 0, 0, 0), (0, 0, 0, 1), (0, 0, 0, 2), (0, 0, 1, 0), (0, 0, 1, 1), (0, 0, 1, 2), (0, 0, 2, 0), (0, 0, 2, 1), (0, 0, 2, 2), (0, 1, 0, 0), (0, 1, 0, 1), (0, 1, 0, 2), (0, 1, 1, 0), (0, 1, 1, 1), (0, 1, 1, 2), (0, 1, 2, 0), (0, 1, 2, 1), (0, 1, 2, 2), (0, 2, 0, 0), (0, 2, 0, 1), (0, 2, 0, 2), (0, 2, 1, 0), (0, 2, 1, 1), (0, 2, 1, 2), (0, 2, 2, 0), (0, 2, 2, 1), (0, 2, 2, 2), (1, 0, 0, 0), (1, 0, 0, 1), (1, 0, 0, 2), (1, 0, 1, 0), (1, 0, 1, 1), (1, 0, 1, 2), (1, 0, 2, 0), (1, 0, 2, 1), (1, 0, 2, 2), (1, 1, 0, 0), (1, 1, 0, 1), (1, 1, 0, 2), (1, 1, 1, 0), (1, 1, 1, 1), (1, 1, 1, 2), (1, 1, 2, 0), (1, 1, 2, 1), (1, 1, 2, 2), (1, 2, 0, 0), (1, 2, 0, 1), (1, 2, 0, 2), (1, 2, 1, 0), (1, 2, 1, 1), (1, 2, 1, 2), (1, 2, 2, 0), (1, 2, 2, 1), (1, 2, 2, 2), (2, 0, 0, 0), (2, 0, 0, 1), (2, 0, 0, 2), (2, 0, 1, 0), (2, 0, 1, 1), (2, 0, 1, 2), (2, 0, 2, 0), (2, 0, 2, 1), (2, 0, 2, 2), (2, 1, 0, 0), (2, 1, 0, 1), (2, 1, 0, 2), (2, 1, 1, 0), (2, 1, 1, 1), (2, 1, 1, 2), (2, 1, 2, 0), (2, 1, 2, 1), (2, 1, 2, 2), (2, 2, 0, 0), (2, 2, 0, 1), (2, 2, 0, 2), (2, 2, 1, 0), (2, 2, 1, 1), (2, 2, 1, 2), (2, 2, 2, 0), (2, 2, 2, 1), (2, 2, 2, 2))\n",
      "I am inside get_labels\n",
      "Qubits 4\n",
      "Levels 3\n",
      "Labels ['0x0', '0x1', '0x2', '0x3', '0x4', '0x5', '0x6', '0x7', '0x8', '0x9', '0xa', '0xb', '0xc', '0xd', '0xe', '0xf', '0x10', '0x11', '0x12', '0x13', '0x14', '0x15', '0x16', '0x17', '0x18', '0x19', '0x1a', '0x1b', '0x1c', '0x1d', '0x1e', '0x1f', '0x20', '0x21', '0x22', '0x23', '0x24', '0x25', '0x26', '0x27', '0x28', '0x29', '0x2a', '0x2b', '0x2c', '0x2d', '0x2e', '0x2f', '0x30', '0x31', '0x32', '0x33', '0x34', '0x35', '0x36', '0x37', '0x38', '0x39', '0x3a', '0x3b', '0x3c', '0x3d', '0x3e', '0x3f', '0x40', '0x41', '0x42', '0x43', '0x44', '0x45', '0x46', '0x47', '0x48', '0x49', '0x4a', '0x4b', '0x4c', '0x4d', '0x4e', '0x4f', '0x50']\n",
      "I am inside get_labels\n",
      "Qubits 4\n",
      "Levels 3\n",
      "Labels ['(0, 0, 0, 0)', '(0, 0, 0, 1)', '(0, 0, 0, 2)', '(0, 0, 1, 0)', '(0, 0, 1, 1)', '(0, 0, 1, 2)', '(0, 0, 2, 0)', '(0, 0, 2, 1)', '(0, 0, 2, 2)', '(0, 1, 0, 0)', '(0, 1, 0, 1)', '(0, 1, 0, 2)', '(0, 1, 1, 0)', '(0, 1, 1, 1)', '(0, 1, 1, 2)', '(0, 1, 2, 0)', '(0, 1, 2, 1)', '(0, 1, 2, 2)', '(0, 2, 0, 0)', '(0, 2, 0, 1)', '(0, 2, 0, 2)', '(0, 2, 1, 0)', '(0, 2, 1, 1)', '(0, 2, 1, 2)', '(0, 2, 2, 0)', '(0, 2, 2, 1)', '(0, 2, 2, 2)', '(1, 0, 0, 0)', '(1, 0, 0, 1)', '(1, 0, 0, 2)', '(1, 0, 1, 0)', '(1, 0, 1, 1)', '(1, 0, 1, 2)', '(1, 0, 2, 0)', '(1, 0, 2, 1)', '(1, 0, 2, 2)', '(1, 1, 0, 0)', '(1, 1, 0, 1)', '(1, 1, 0, 2)', '(1, 1, 1, 0)', '(1, 1, 1, 1)', '(1, 1, 1, 2)', '(1, 1, 2, 0)', '(1, 1, 2, 1)', '(1, 1, 2, 2)', '(1, 2, 0, 0)', '(1, 2, 0, 1)', '(1, 2, 0, 2)', '(1, 2, 1, 0)', '(1, 2, 1, 1)', '(1, 2, 1, 2)', '(1, 2, 2, 0)', '(1, 2, 2, 1)', '(1, 2, 2, 2)', '(2, 0, 0, 0)', '(2, 0, 0, 1)', '(2, 0, 0, 2)', '(2, 0, 1, 0)', '(2, 0, 1, 1)', '(2, 0, 1, 2)', '(2, 0, 2, 0)', '(2, 0, 2, 1)', '(2, 0, 2, 2)', '(2, 1, 0, 0)', '(2, 1, 0, 1)', '(2, 1, 0, 2)', '(2, 1, 1, 0)', '(2, 1, 1, 1)', '(2, 1, 1, 2)', '(2, 1, 2, 0)', '(2, 1, 2, 1)', '(2, 1, 2, 2)', '(2, 2, 0, 0)', '(2, 2, 0, 1)', '(2, 2, 0, 2)', '(2, 2, 1, 0)', '(2, 2, 1, 1)', '(2, 2, 1, 2)', '(2, 2, 2, 0)', '(2, 2, 2, 1)', '(2, 2, 2, 2)']\n",
      "Counts before flipping {'0x0': 350, '0x1': 74, '0x2': 66, '0x3': 87, '0x4': 10, '0x5': 22, '0x6': 39, '0x7': 38, '0x8': 52, '0x9': 26, '0xa': 11, '0xb': 6, '0xc': 114, '0xd': 61, '0xe': 9, '0xf': 35}\n"
     ]
    },
    {
     "name": "stderr",
     "output_type": "stream",
     "text": [
      "/home/marco/GitHub_Qruise/qruise-toolset/src/qruise/toolset/qiskit/backends.py:336: UserWarning:\n",
      "\n",
      "The following operations are not supported yet: ['measure', 'barrier']\n",
      "\n"
     ]
    }
   ],
   "source": [
    "job_results = qruise_backend.run(decomposed_circuit, shots=1000, memory=True)"
   ]
  },
  {
   "cell_type": "code",
   "execution_count": 51,
   "metadata": {},
   "outputs": [
    {
     "data": {
      "image/png": "[encoded data removed]",
      "text/plain": [
       "<Figure size 700x500 with 1 Axes>"
      ]
     },
     "execution_count": 51,
     "metadata": {},
     "output_type": "execute_result"
    }
   ],
   "source": [
    "plot_histogram(job_results.result().get_counts())"
   ]
  },
  {
   "cell_type": "code",
   "execution_count": 52,
   "metadata": {},
   "outputs": [
    {
     "data": {
      "image/png": "[encoded data removed]",
      "text/plain": [
       "<Figure size 700x500 with 1 Axes>"
      ]
     },
     "execution_count": 52,
     "metadata": {},
     "output_type": "execute_result"
    }
   ],
   "source": [
    "plot_histogram(ideal_results)"
   ]
  },
  {
   "cell_type": "code",
   "execution_count": null,
   "metadata": {},
   "outputs": [],
   "source": []
  }
 ],
 "metadata": {
  "kernelspec": {
   "display_name": "qruise-env",
   "language": "python",
   "name": "python3"
  },
  "language_info": {
   "codemirror_mode": {
    "name": "ipython",
    "version": 3
   },
   "file_extension": ".py",
   "mimetype": "text/x-python",
   "name": "python",
   "nbconvert_exporter": "python",
   "pygments_lexer": "ipython3",
   "version": "3.10.12"
  }
 },
 "nbformat": 4,
 "nbformat_minor": 2
}
