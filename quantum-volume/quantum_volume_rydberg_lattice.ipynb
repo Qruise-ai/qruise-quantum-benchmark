{
 "cells": [
  {
   "cell_type": "code",
   "execution_count": 1,
   "metadata": {},
   "outputs": [],
   "source": [
    "sim_res = 1e9\n",
    "awg_res = 5e8"
   ]
  },
  {
   "cell_type": "markdown",
   "metadata": {},
   "source": [
    "# Quantum Volume"
   ]
  },
  {
   "cell_type": "code",
   "execution_count": 2,
   "metadata": {},
   "outputs": [
    {
     "name": "stderr",
     "output_type": "stream",
     "text": [
      "2024-04-19 16:29:51.545256: I tensorflow/core/util/port.cc:110] oneDNN custom operations are on. You may see slightly different numerical results due to floating-point round-off errors from different computation orders. To turn them off, set the environment variable `TF_ENABLE_ONEDNN_OPTS=0`.\n",
      "2024-04-19 16:29:51.546734: I tensorflow/tsl/cuda/cudart_stub.cc:28] Could not find cuda drivers on your machine, GPU will not be used.\n",
      "2024-04-19 16:29:51.578430: I tensorflow/tsl/cuda/cudart_stub.cc:28] Could not find cuda drivers on your machine, GPU will not be used.\n",
      "2024-04-19 16:29:51.578949: I tensorflow/core/platform/cpu_feature_guard.cc:182] This TensorFlow binary is optimized to use available CPU instructions in performance-critical operations.\n",
      "To enable the following instructions: AVX2 AVX512F AVX512_VNNI FMA, in other operations, rebuild TensorFlow with the appropriate compiler flags.\n",
      "2024-04-19 16:29:52.322736: W tensorflow/compiler/tf2tensorrt/utils/py_utils.cc:38] TF-TRT Warning: Could not find TensorRT\n"
     ]
    }
   ],
   "source": [
    "import tensorflow as tf\n",
    "from qiskit.circuit.library import QuantumVolume as QuantumVolumeCircuit"
   ]
  },
  {
   "cell_type": "markdown",
   "metadata": {},
   "source": [
    "## Create Lattice with qruise-toolset"
   ]
  },
  {
   "cell_type": "code",
   "execution_count": 3,
   "metadata": {},
   "outputs": [
    {
     "data": {
      "application/vnd.plotly.v1+json": {
       "config": {
        "plotlyServerURL": "https://plot.ly"
       },
       "data": [
        {
         "marker": {
          "color": "blue",
          "size": 20
         },
         "mode": "markers",
         "name": "Q0",
         "type": "scatter",
         "x": [
          -4
         ],
         "y": [
          -4
         ]
        },
        {
         "marker": {
          "color": "blue",
          "size": 20
         },
         "mode": "markers",
         "name": "Q1",
         "type": "scatter",
         "x": [
          0
         ],
         "y": [
          -4
         ]
        },
        {
         "marker": {
          "color": "blue",
          "size": 20
         },
         "mode": "markers",
         "name": "Q2",
         "type": "scatter",
         "x": [
          -4
         ],
         "y": [
          0
         ]
        },
        {
         "marker": {
          "color": "blue",
          "size": 20
         },
         "mode": "markers",
         "name": "Q3",
         "type": "scatter",
         "x": [
          0
         ],
         "y": [
          0
         ]
        }
       ],
       "layout": {
        "height": 400,
        "margin": {
         "t": 60
        },
        "showlegend": false,
        "template": {
         "data": {
          "bar": [
           {
            "error_x": {
             "color": "#2a3f5f"
            },
            "error_y": {
             "color": "#2a3f5f"
            },
            "marker": {
             "line": {
              "color": "#E5ECF6",
              "width": 0.5
             },
             "pattern": {
              "fillmode": "overlay",
              "size": 10,
              "solidity": 0.2
             }
            },
            "type": "bar"
           }
          ],
          "barpolar": [
           {
            "marker": {
             "line": {
              "color": "#E5ECF6",
              "width": 0.5
             },
             "pattern": {
              "fillmode": "overlay",
              "size": 10,
              "solidity": 0.2
             }
            },
            "type": "barpolar"
           }
          ],
          "carpet": [
           {
            "aaxis": {
             "endlinecolor": "#2a3f5f",
             "gridcolor": "white",
             "linecolor": "white",
             "minorgridcolor": "white",
             "startlinecolor": "#2a3f5f"
            },
            "baxis": {
             "endlinecolor": "#2a3f5f",
             "gridcolor": "white",
             "linecolor": "white",
             "minorgridcolor": "white",
             "startlinecolor": "#2a3f5f"
            },
            "type": "carpet"
           }
          ],
          "choropleth": [
           {
            "colorbar": {
             "outlinewidth": 0,
             "ticks": ""
            },
            "type": "choropleth"
           }
          ],
          "contour": [
           {
            "colorbar": {
             "outlinewidth": 0,
             "ticks": ""
            },
            "colorscale": [
             [
              0,
              "#0d0887"
             ],
             [
              0.1111111111111111,
              "#46039f"
             ],
             [
              0.2222222222222222,
              "#7201a8"
             ],
             [
              0.3333333333333333,
              "#9c179e"
             ],
             [
              0.4444444444444444,
              "#bd3786"
             ],
             [
              0.5555555555555556,
              "#d8576b"
             ],
             [
              0.6666666666666666,
              "#ed7953"
             ],
             [
              0.7777777777777778,
              "#fb9f3a"
             ],
             [
              0.8888888888888888,
              "#fdca26"
             ],
             [
              1,
              "#f0f921"
             ]
            ],
            "type": "contour"
           }
          ],
          "contourcarpet": [
           {
            "colorbar": {
             "outlinewidth": 0,
             "ticks": ""
            },
            "type": "contourcarpet"
           }
          ],
          "heatmap": [
           {
            "colorbar": {
             "outlinewidth": 0,
             "ticks": ""
            },
            "colorscale": [
             [
              0,
              "#0d0887"
             ],
             [
              0.1111111111111111,
              "#46039f"
             ],
             [
              0.2222222222222222,
              "#7201a8"
             ],
             [
              0.3333333333333333,
              "#9c179e"
             ],
             [
              0.4444444444444444,
              "#bd3786"
             ],
             [
              0.5555555555555556,
              "#d8576b"
             ],
             [
              0.6666666666666666,
              "#ed7953"
             ],
             [
              0.7777777777777778,
              "#fb9f3a"
             ],
             [
              0.8888888888888888,
              "#fdca26"
             ],
             [
              1,
              "#f0f921"
             ]
            ],
            "type": "heatmap"
           }
          ],
          "heatmapgl": [
           {
            "colorbar": {
             "outlinewidth": 0,
             "ticks": ""
            },
            "colorscale": [
             [
              0,
              "#0d0887"
             ],
             [
              0.1111111111111111,
              "#46039f"
             ],
             [
              0.2222222222222222,
              "#7201a8"
             ],
             [
              0.3333333333333333,
              "#9c179e"
             ],
             [
              0.4444444444444444,
              "#bd3786"
             ],
             [
              0.5555555555555556,
              "#d8576b"
             ],
             [
              0.6666666666666666,
              "#ed7953"
             ],
             [
              0.7777777777777778,
              "#fb9f3a"
             ],
             [
              0.8888888888888888,
              "#fdca26"
             ],
             [
              1,
              "#f0f921"
             ]
            ],
            "type": "heatmapgl"
           }
          ],
          "histogram": [
           {
            "marker": {
             "pattern": {
              "fillmode": "overlay",
              "size": 10,
              "solidity": 0.2
             }
            },
            "type": "histogram"
           }
          ],
          "histogram2d": [
           {
            "colorbar": {
             "outlinewidth": 0,
             "ticks": ""
            },
            "colorscale": [
             [
              0,
              "#0d0887"
             ],
             [
              0.1111111111111111,
              "#46039f"
             ],
             [
              0.2222222222222222,
              "#7201a8"
             ],
             [
              0.3333333333333333,
              "#9c179e"
             ],
             [
              0.4444444444444444,
              "#bd3786"
             ],
             [
              0.5555555555555556,
              "#d8576b"
             ],
             [
              0.6666666666666666,
              "#ed7953"
             ],
             [
              0.7777777777777778,
              "#fb9f3a"
             ],
             [
              0.8888888888888888,
              "#fdca26"
             ],
             [
              1,
              "#f0f921"
             ]
            ],
            "type": "histogram2d"
           }
          ],
          "histogram2dcontour": [
           {
            "colorbar": {
             "outlinewidth": 0,
             "ticks": ""
            },
            "colorscale": [
             [
              0,
              "#0d0887"
             ],
             [
              0.1111111111111111,
              "#46039f"
             ],
             [
              0.2222222222222222,
              "#7201a8"
             ],
             [
              0.3333333333333333,
              "#9c179e"
             ],
             [
              0.4444444444444444,
              "#bd3786"
             ],
             [
              0.5555555555555556,
              "#d8576b"
             ],
             [
              0.6666666666666666,
              "#ed7953"
             ],
             [
              0.7777777777777778,
              "#fb9f3a"
             ],
             [
              0.8888888888888888,
              "#fdca26"
             ],
             [
              1,
              "#f0f921"
             ]
            ],
            "type": "histogram2dcontour"
           }
          ],
          "mesh3d": [
           {
            "colorbar": {
             "outlinewidth": 0,
             "ticks": ""
            },
            "type": "mesh3d"
           }
          ],
          "parcoords": [
           {
            "line": {
             "colorbar": {
              "outlinewidth": 0,
              "ticks": ""
             }
            },
            "type": "parcoords"
           }
          ],
          "pie": [
           {
            "automargin": true,
            "type": "pie"
           }
          ],
          "scatter": [
           {
            "fillpattern": {
             "fillmode": "overlay",
             "size": 10,
             "solidity": 0.2
            },
            "type": "scatter"
           }
          ],
          "scatter3d": [
           {
            "line": {
             "colorbar": {
              "outlinewidth": 0,
              "ticks": ""
             }
            },
            "marker": {
             "colorbar": {
              "outlinewidth": 0,
              "ticks": ""
             }
            },
            "type": "scatter3d"
           }
          ],
          "scattercarpet": [
           {
            "marker": {
             "colorbar": {
              "outlinewidth": 0,
              "ticks": ""
             }
            },
            "type": "scattercarpet"
           }
          ],
          "scattergeo": [
           {
            "marker": {
             "colorbar": {
              "outlinewidth": 0,
              "ticks": ""
             }
            },
            "type": "scattergeo"
           }
          ],
          "scattergl": [
           {
            "marker": {
             "colorbar": {
              "outlinewidth": 0,
              "ticks": ""
             }
            },
            "type": "scattergl"
           }
          ],
          "scattermapbox": [
           {
            "marker": {
             "colorbar": {
              "outlinewidth": 0,
              "ticks": ""
             }
            },
            "type": "scattermapbox"
           }
          ],
          "scatterpolar": [
           {
            "marker": {
             "colorbar": {
              "outlinewidth": 0,
              "ticks": ""
             }
            },
            "type": "scatterpolar"
           }
          ],
          "scatterpolargl": [
           {
            "marker": {
             "colorbar": {
              "outlinewidth": 0,
              "ticks": ""
             }
            },
            "type": "scatterpolargl"
           }
          ],
          "scatterternary": [
           {
            "marker": {
             "colorbar": {
              "outlinewidth": 0,
              "ticks": ""
             }
            },
            "type": "scatterternary"
           }
          ],
          "surface": [
           {
            "colorbar": {
             "outlinewidth": 0,
             "ticks": ""
            },
            "colorscale": [
             [
              0,
              "#0d0887"
             ],
             [
              0.1111111111111111,
              "#46039f"
             ],
             [
              0.2222222222222222,
              "#7201a8"
             ],
             [
              0.3333333333333333,
              "#9c179e"
             ],
             [
              0.4444444444444444,
              "#bd3786"
             ],
             [
              0.5555555555555556,
              "#d8576b"
             ],
             [
              0.6666666666666666,
              "#ed7953"
             ],
             [
              0.7777777777777778,
              "#fb9f3a"
             ],
             [
              0.8888888888888888,
              "#fdca26"
             ],
             [
              1,
              "#f0f921"
             ]
            ],
            "type": "surface"
           }
          ],
          "table": [
           {
            "cells": {
             "fill": {
              "color": "#EBF0F8"
             },
             "line": {
              "color": "white"
             }
            },
            "header": {
             "fill": {
              "color": "#C8D4E3"
             },
             "line": {
              "color": "white"
             }
            },
            "type": "table"
           }
          ]
         },
         "layout": {
          "annotationdefaults": {
           "arrowcolor": "#2a3f5f",
           "arrowhead": 0,
           "arrowwidth": 1
          },
          "autotypenumbers": "strict",
          "coloraxis": {
           "colorbar": {
            "outlinewidth": 0,
            "ticks": ""
           }
          },
          "colorscale": {
           "diverging": [
            [
             0,
             "#8e0152"
            ],
            [
             0.1,
             "#c51b7d"
            ],
            [
             0.2,
             "#de77ae"
            ],
            [
             0.3,
             "#f1b6da"
            ],
            [
             0.4,
             "#fde0ef"
            ],
            [
             0.5,
             "#f7f7f7"
            ],
            [
             0.6,
             "#e6f5d0"
            ],
            [
             0.7,
             "#b8e186"
            ],
            [
             0.8,
             "#7fbc41"
            ],
            [
             0.9,
             "#4d9221"
            ],
            [
             1,
             "#276419"
            ]
           ],
           "sequential": [
            [
             0,
             "#0d0887"
            ],
            [
             0.1111111111111111,
             "#46039f"
            ],
            [
             0.2222222222222222,
             "#7201a8"
            ],
            [
             0.3333333333333333,
             "#9c179e"
            ],
            [
             0.4444444444444444,
             "#bd3786"
            ],
            [
             0.5555555555555556,
             "#d8576b"
            ],
            [
             0.6666666666666666,
             "#ed7953"
            ],
            [
             0.7777777777777778,
             "#fb9f3a"
            ],
            [
             0.8888888888888888,
             "#fdca26"
            ],
            [
             1,
             "#f0f921"
            ]
           ],
           "sequentialminus": [
            [
             0,
             "#0d0887"
            ],
            [
             0.1111111111111111,
             "#46039f"
            ],
            [
             0.2222222222222222,
             "#7201a8"
            ],
            [
             0.3333333333333333,
             "#9c179e"
            ],
            [
             0.4444444444444444,
             "#bd3786"
            ],
            [
             0.5555555555555556,
             "#d8576b"
            ],
            [
             0.6666666666666666,
             "#ed7953"
            ],
            [
             0.7777777777777778,
             "#fb9f3a"
            ],
            [
             0.8888888888888888,
             "#fdca26"
            ],
            [
             1,
             "#f0f921"
            ]
           ]
          },
          "colorway": [
           "#636efa",
           "#EF553B",
           "#00cc96",
           "#ab63fa",
           "#FFA15A",
           "#19d3f3",
           "#FF6692",
           "#B6E880",
           "#FF97FF",
           "#FECB52"
          ],
          "font": {
           "color": "#2a3f5f"
          },
          "geo": {
           "bgcolor": "white",
           "lakecolor": "white",
           "landcolor": "#E5ECF6",
           "showlakes": true,
           "showland": true,
           "subunitcolor": "white"
          },
          "hoverlabel": {
           "align": "left"
          },
          "hovermode": "closest",
          "mapbox": {
           "style": "light"
          },
          "paper_bgcolor": "white",
          "plot_bgcolor": "#E5ECF6",
          "polar": {
           "angularaxis": {
            "gridcolor": "white",
            "linecolor": "white",
            "ticks": ""
           },
           "bgcolor": "#E5ECF6",
           "radialaxis": {
            "gridcolor": "white",
            "linecolor": "white",
            "ticks": ""
           }
          },
          "scene": {
           "xaxis": {
            "backgroundcolor": "#E5ECF6",
            "gridcolor": "white",
            "gridwidth": 2,
            "linecolor": "white",
            "showbackground": true,
            "ticks": "",
            "zerolinecolor": "white"
           },
           "yaxis": {
            "backgroundcolor": "#E5ECF6",
            "gridcolor": "white",
            "gridwidth": 2,
            "linecolor": "white",
            "showbackground": true,
            "ticks": "",
            "zerolinecolor": "white"
           },
           "zaxis": {
            "backgroundcolor": "#E5ECF6",
            "gridcolor": "white",
            "gridwidth": 2,
            "linecolor": "white",
            "showbackground": true,
            "ticks": "",
            "zerolinecolor": "white"
           }
          },
          "shapedefaults": {
           "line": {
            "color": "#2a3f5f"
           }
          },
          "ternary": {
           "aaxis": {
            "gridcolor": "white",
            "linecolor": "white",
            "ticks": ""
           },
           "baxis": {
            "gridcolor": "white",
            "linecolor": "white",
            "ticks": ""
           },
           "bgcolor": "#E5ECF6",
           "caxis": {
            "gridcolor": "white",
            "linecolor": "white",
            "ticks": ""
           }
          },
          "title": {
           "x": 0.05
          },
          "xaxis": {
           "automargin": true,
           "gridcolor": "white",
           "linecolor": "white",
           "ticks": "",
           "title": {
            "standoff": 15
           },
           "zerolinecolor": "white",
           "zerolinewidth": 2
          },
          "yaxis": {
           "automargin": true,
           "gridcolor": "white",
           "linecolor": "white",
           "ticks": "",
           "title": {
            "standoff": 15
           },
           "zerolinecolor": "white",
           "zerolinewidth": 2
          }
         }
        },
        "width": 500,
        "xaxis": {
         "title": {
          "text": "X"
         }
        },
        "yaxis": {
         "title": {
          "text": "Y"
         }
        }
       }
      }
     },
     "metadata": {},
     "output_type": "display_data"
    }
   ],
   "source": [
    "from qruise.toolset.libraries.rydberg.lattice import SquareLattice\n",
    "r12 = 4.0\n",
    "lattice = SquareLattice(n_side=2, r_interatomic=r12)\n",
    "lattice.draw()"
   ]
  },
  {
   "cell_type": "code",
   "execution_count": 4,
   "metadata": {},
   "outputs": [],
   "source": [
    "from qruise.toolset.libraries.rydberg.rydbergsystem import RydbergSystem\n",
    "hilbert_dim = 3\n",
    "ryd_system = RydbergSystem(lattice=lattice, hilbert_dim=hilbert_dim)"
   ]
  },
  {
   "cell_type": "code",
   "execution_count": 5,
   "metadata": {},
   "outputs": [],
   "source": [
    "rydberg_atom_list = ryd_system.rydberg_atom_list"
   ]
  },
  {
   "cell_type": "markdown",
   "metadata": {},
   "source": [
    "Create the drives needed in the quantum volume sequence"
   ]
  },
  {
   "cell_type": "markdown",
   "metadata": {},
   "source": [
    "$R_x$ and $R_y$ gates for all the qubits"
   ]
  },
  {
   "cell_type": "code",
   "execution_count": 6,
   "metadata": {},
   "outputs": [],
   "source": [
    "import numpy as np\n",
    "from qruise.toolset.objects import Quantity\n",
    "phase_yp = Quantity(value=0.5 * np.pi, unit=\"rads\")\n",
    "phase_xp = Quantity(value=0.0, unit=\"rads\")\n",
    "phase_xm = Quantity(value=np.pi, unit=\"rads\")\n",
    "phase_ym = Quantity(value=-0.5 * np.pi, unit=\"rads\")\n"
   ]
  },
  {
   "cell_type": "code",
   "execution_count": 7,
   "metadata": {},
   "outputs": [],
   "source": [
    "qubit_names = [atom.name for atom in ryd_system.rydberg_atom_list]\n",
    "# Global drives for sigle qubit gates\n",
    "# Rx90p\n",
    "ryd_system.add_drive(\n",
    "    \"amplitude-phase\",\n",
    "    \"rx90p_global\",\n",
    "    channel=\"raman\",\n",
    "    connected=qubit_names,\n",
    "    phase=phase_xp,\n",
    ")\n",
    "# Rx90m\n",
    "ryd_system.add_drive(\n",
    "    \"amplitude-phase\",\n",
    "    \"rx90m_global\",\n",
    "    channel=\"raman\",\n",
    "    connected=qubit_names,\n",
    "    phase=phase_xm,\n",
    ")\n",
    "# Ry90p\n",
    "ryd_system.add_drive(\n",
    "    \"amplitude-phase\",\n",
    "    \"ry90p_global\",\n",
    "    channel=\"raman\",\n",
    "    connected=qubit_names,\n",
    "    phase=phase_yp,\n",
    ")\n",
    "# Ry90m\n",
    "ryd_system.add_drive(\n",
    "    \"amplitude-phase\",\n",
    "    \"ry90m_global\",\n",
    "    channel=\"raman\",\n",
    "    connected=qubit_names,\n",
    "    phase=phase_ym,\n",
    ")\n",
    "\n",
    "# Local drives for CZ gates\n",
    "for atom in ryd_system.rydberg_atom_list:\n",
    "    name = atom.name\n",
    "    ryd_system.add_drive(\n",
    "        \"amplitude-phase\",\n",
    "        f\"rydbergx{name}\",\n",
    "        channel=\"rydberg\",\n",
    "        connected=[name],\n",
    "        phase=phase_xp,\n",
    "    )\n"
   ]
  },
  {
   "cell_type": "code",
   "execution_count": 8,
   "metadata": {},
   "outputs": [],
   "source": [
    "rabi_amplitude = 2e6 # MHz\n",
    "t_pi_2 = np.around(1 / (4 * rabi_amplitude), 9)\n",
    "t_pi = np.around(1 / (2 * rabi_amplitude), 9)"
   ]
  },
  {
   "cell_type": "markdown",
   "metadata": {},
   "source": [
    "Create all possible instructions for the qubits"
   ]
  },
  {
   "cell_type": "code",
   "execution_count": 9,
   "metadata": {},
   "outputs": [
    {
     "name": "stderr",
     "output_type": "stream",
     "text": [
      "/home/marco/GitHub_Qruise/qruise-toolset/src/qruise/toolset/signal/gates.py:211: UserWarning:\n",
      "\n",
      "No ideal gate found for gate: global. Use set_ideal() explicitly.\n",
      "\n",
      "/home/marco/GitHub_Qruise/qruise-toolset/src/qruise/toolset/signal/gates.py:211: UserWarning:\n",
      "\n",
      "No ideal gate found for gate: ryd. Use set_ideal() explicitly.\n",
      "\n",
      "/home/marco/GitHub_Qruise/qruise-toolset/src/qruise/toolset/signal/gates.py:211: UserWarning:\n",
      "\n",
      "No ideal gate found for gate: 0. Use set_ideal() explicitly.\n",
      "\n",
      "/home/marco/GitHub_Qruise/qruise-toolset/src/qruise/toolset/signal/gates.py:211: UserWarning:\n",
      "\n",
      "No ideal gate found for gate: pi. Use set_ideal() explicitly.\n",
      "\n",
      "/home/marco/GitHub_Qruise/qruise-toolset/src/qruise/toolset/signal/gates.py:211: UserWarning:\n",
      "\n",
      "No ideal gate found for gate: 2pi. Use set_ideal() explicitly.\n",
      "\n",
      "/home/marco/GitHub_Qruise/qruise-toolset/src/qruise/toolset/signal/gates.py:211: UserWarning:\n",
      "\n",
      "No ideal gate found for gate: 1. Use set_ideal() explicitly.\n",
      "\n",
      "/home/marco/GitHub_Qruise/qruise-toolset/src/qruise/toolset/signal/gates.py:211: UserWarning:\n",
      "\n",
      "No ideal gate found for gate: 2. Use set_ideal() explicitly.\n",
      "\n",
      "/home/marco/GitHub_Qruise/qruise-toolset/src/qruise/toolset/signal/gates.py:211: UserWarning:\n",
      "\n",
      "No ideal gate found for gate: 3. Use set_ideal() explicitly.\n",
      "\n"
     ]
    }
   ],
   "source": [
    "from qruise.toolset.signal import gates\n",
    "from qruise.toolset.libraries.rydberg.envelopes import rect_envelope\n",
    "\n",
    "target_labels = [int(atom.name) for atom in rydberg_atom_list]\n",
    "\n",
    "gate = gates.Instruction(\n",
    "    name=\"rx90p_global\",\n",
    "    t_end=t_pi_2,\n",
    "    targets=target_labels,\n",
    "    channels=[\"rx90p_global\"],\n",
    "    qiskit_name=\"rx90p\",\n",
    ")\n",
    "gate.ideal = None\n",
    "ryd_system.add_instruction(gate,\n",
    "                           envelope=rect_envelope(\"rectangular_envelope\", amp=2 * np.pi * rabi_amplitude*1e-6, t_final=t_pi_2),\n",
    "                           drive_name=\"rx90p_global\")\n",
    "gate = gates.Instruction(\n",
    "    name=\"rx90m_global\",\n",
    "    t_end=t_pi_2,\n",
    "    targets=target_labels,\n",
    "    channels=[\"rx90m_global\"],\n",
    "    qiskit_name=\"rx90m\",\n",
    ")\n",
    "gate.ideal = None\n",
    "ryd_system.add_instruction(gate,\n",
    "                           envelope=rect_envelope(\"rectangular_envelope\", amp= 2 * np.pi * rabi_amplitude*1e-6, t_final=t_pi_2),\n",
    "                           drive_name=\"rx90m_global\")\n",
    "\n",
    "gate = gates.Instruction(\n",
    "    name=\"ry90p_global\",\n",
    "    t_end=t_pi_2,\n",
    "    targets=target_labels,\n",
    "    channels=[\"ry90p_global\"],\n",
    "    qiskit_name=\"ry90p\",\n",
    ")\n",
    "gate.ideal = None\n",
    "ryd_system.add_instruction(gate,\n",
    "                           envelope=rect_envelope(\"rectangular_envelope\", amp=2 * np.pi * rabi_amplitude*1e-6, t_final=t_pi_2),\n",
    "                           drive_name=\"ry90p_global\")\n",
    "gate = gates.Instruction(\n",
    "    name=\"ry90m_global\",\n",
    "    t_end=t_pi_2,\n",
    "    targets=target_labels,\n",
    "    channels=[\"rx90m_global\"],\n",
    "    qiskit_name=\"ry90m\",\n",
    ")\n",
    "gate.ideal = None\n",
    "ryd_system.add_instruction(gate,\n",
    "                           envelope=rect_envelope(\"rectangular_envelope\", amp= 2 * np.pi * rabi_amplitude*1e-6, t_final=t_pi_2),\n",
    "                           drive_name=\"ry90m_global\")\n",
    "\n",
    "\n",
    "# Create Rydberg state instructions for the CZ gates\n",
    "for atom in rydberg_atom_list:\n",
    "    ryd_pi = gates.Instruction(\n",
    "        name=f\"ryd_{atom.name}_pi\",\n",
    "        t_end=t_pi,\n",
    "        channels=[f\"rydbergx{atom.name}\"],\n",
    "        targets=[int(atom.name)],\n",
    "    )\n",
    "    ryd_pi.ideal = None\n",
    "    ryd_system.add_instruction(instruction=ryd_pi, \n",
    "                               envelope=rect_envelope(\"rectangular_envelope\", \n",
    "                                                      amp=2 * np.pi * rabi_amplitude*1e-6, \n",
    "                                                    t_final=t_pi), \n",
    "                                drive_name=f\"rydbergx{atom.name}\")\n",
    "    ryd_2pi = gates.Instruction(\n",
    "        name=f\"ryd_{atom.name}_2pi\",\n",
    "        t_end=2 * t_pi,\n",
    "        channels=[f\"rydbergx{atom.name}\"],\n",
    "        targets=[int(atom.name)],\n",
    "    )\n",
    "    ryd_2pi.ideal = None\n",
    "    ryd_system.add_instruction(instruction=ryd_2pi, \n",
    "                               envelope=rect_envelope(\"rectangular_envelope\", amp=2 * np.pi * rabi_amplitude*1e-6, t_final=2 * t_pi), \n",
    "                               drive_name=f\"rydbergx{atom.name}\")"
   ]
  },
  {
   "cell_type": "code",
   "execution_count": 10,
   "metadata": {},
   "outputs": [
    {
     "data": {
      "text/plain": [
       "[Instruction(rx90p_global[0,1,2,3]),\n",
       " Instruction(rx90m_global[0,1,2,3]),\n",
       " Instruction(ry90p_global[0,1,2,3]),\n",
       " Instruction(ry90m_global[0,1,2,3]),\n",
       " Instruction(ryd_0_pi[0]),\n",
       " Instruction(ryd_0_2pi[0]),\n",
       " Instruction(ryd_1_pi[1]),\n",
       " Instruction(ryd_1_2pi[1]),\n",
       " Instruction(ryd_2_pi[2]),\n",
       " Instruction(ryd_2_2pi[2]),\n",
       " Instruction(ryd_3_pi[3]),\n",
       " Instruction(ryd_3_2pi[3])]"
      ]
     },
     "execution_count": 10,
     "metadata": {},
     "output_type": "execute_result"
    }
   ],
   "source": [
    "qruise_instructions = ryd_system.instruction_list\n",
    "qruise_instructions"
   ]
  },
  {
   "cell_type": "markdown",
   "metadata": {},
   "source": [
    "Collect the model from the Rydberg system"
   ]
  },
  {
   "cell_type": "code",
   "execution_count": 11,
   "metadata": {},
   "outputs": [],
   "source": [
    "ryd_system.create_model(max_excitations=5)"
   ]
  },
  {
   "cell_type": "markdown",
   "metadata": {},
   "source": [
    "Set the generator"
   ]
  },
  {
   "cell_type": "code",
   "execution_count": 12,
   "metadata": {},
   "outputs": [],
   "source": [
    "import qruise.toolset.generator.devices as devices\n",
    "from qruise.toolset.generator.generator import Generator\n",
    "\n",
    "ryd_system.sim_res = sim_res\n",
    "ryd_system.awg_res = awg_res\n",
    "\n",
    "awg_res = (\n",
    "    ryd_system.awg_res\n",
    ")  # number of samples per second; realistic limited resolution of an AWG\n",
    "v2hz = 1e6\n",
    "rise_time_value = 100e-9\n",
    "\n",
    "# create a dict of all the devices\n",
    "generator_devices = {\n",
    "    \"AWG\": devices.AWG(name=\"awg\", resolution=ryd_system.awg_res),\n",
    "    \"DigitalToAnalog\": devices.DigitalToAnalog(name=\"dac\"),\n",
    "    \"VoltsToHertz\": devices.VoltsToHertz(\n",
    "        name=\"v_to_hz\", V_to_Hz=Quantity(value=v2hz, unit=\"Hz/V\")\n",
    "    ),\n",
    "}\n",
    "\n",
    "chains = {}\n",
    "for atom in ryd_system.rydberg_atom_list:\n",
    "    name = atom.name\n",
    "    name_rydbergx = f\"rydbergx{name}\"\n",
    "    chains[name_rydbergx] = {\n",
    "        \"AWG\": [],\n",
    "        \"DigitalToAnalog\": [\"AWG\"],\n",
    "        \"VoltsToHertz\": [\"DigitalToAnalog\"],\n",
    "    }\n",
    "chains[\"rx90p_global\"] = {\n",
    "    \"AWG\": [],\n",
    "    \"DigitalToAnalog\": [\"AWG\"],\n",
    "    \"VoltsToHertz\": [\"DigitalToAnalog\"],\n",
    "}\n",
    "chains[\"rx90m_global\"] = {\n",
    "    \"AWG\": [],\n",
    "    \"DigitalToAnalog\": [\"AWG\"],\n",
    "    \"VoltsToHertz\": [\"DigitalToAnalog\"],\n",
    "}\n",
    "chains[\"ry90p_global\"] = {\n",
    "    \"AWG\": [],\n",
    "    \"DigitalToAnalog\": [\"AWG\"],\n",
    "    \"VoltsToHertz\": [\"DigitalToAnalog\"],\n",
    "}\n",
    "chains[\"ry90m_global\"] = {\n",
    "    \"AWG\": [],\n",
    "    \"DigitalToAnalog\": [\"AWG\"],\n",
    "    \"VoltsToHertz\": [\"DigitalToAnalog\"],\n",
    "}\n",
    "device_generator = Generator(\n",
    "    devices=generator_devices,\n",
    "    chains=chains,\n",
    ")\n",
    "\n",
    "ryd_system.set_generator(device_generator)"
   ]
  },
  {
   "cell_type": "markdown",
   "metadata": {},
   "source": [
    "Create generator"
   ]
  },
  {
   "cell_type": "code",
   "execution_count": 13,
   "metadata": {},
   "outputs": [],
   "source": [
    "ryd_system.create_experiment()"
   ]
  },
  {
   "cell_type": "code",
   "execution_count": 14,
   "metadata": {},
   "outputs": [],
   "source": [
    "qruise_experiment = ryd_system.experiment"
   ]
  },
  {
   "cell_type": "markdown",
   "metadata": {},
   "source": [
    "Qruise backend"
   ]
  },
  {
   "cell_type": "code",
   "execution_count": 15,
   "metadata": {},
   "outputs": [
    {
     "name": "stderr",
     "output_type": "stream",
     "text": [
      "/home/marco/GitHub_Qruise/qruise-toolset/src/qruise/toolset/experiment.py:153: UserWarning:\n",
      "\n",
      "Using default simulation resolution in experiment, make sure this is what you expect (or you have set sim_res in the Instructions)\n",
      "\n"
     ]
    }
   ],
   "source": [
    "from qruise.toolset.libraries.rydberg import RydbergAtom\n",
    "from qruise.toolset.qiskit import QruiseProvider\n",
    "qruise_provider = QruiseProvider()\n",
    "qruise_backend = qruise_provider.get_backend(\"qruise_qasm_rydberg_simulator\")\n",
    "# Set qubit type to Rydberg atom\n",
    "qruise_backend.qubit_type = RydbergAtom\n",
    "qruise_backend.set_qruise_experiment(qruise_experiment)"
   ]
  },
  {
   "cell_type": "code",
   "execution_count": 16,
   "metadata": {},
   "outputs": [],
   "source": [
    "def state_transform_function() -> callable:\n",
    "    def state_transform(\n",
    "        state: tf.Tensor, gate_dict: dict, reshape_after: bool, reshape_before: bool\n",
    "    ):\n",
    "        # Gate dict name\n",
    "        gate_name = gate_dict[\"name\"]\n",
    "        if gate_name == \"cz\":\n",
    "            atom1 = gate_dict[\"qubits\"][0]\n",
    "            atom2 = gate_dict[\"qubits\"][1]\n",
    "            gate_names = [f\"ryd_{atom1}_pi\", f\"ryd_{atom2}_2pi\", f\"ryd_{atom1}_pi\"]\n",
    "            targets = [[atom1], [atom2], [atom1]]\n",
    "            for gate_index, gate_specs in enumerate(zip(gate_names, targets)):\n",
    "                gate_name, gate_targets = gate_specs\n",
    "                reshape_after = (\n",
    "                None if reshape_after is None and gate_index == 3 else False\n",
    "                )\n",
    "                gate_dict[\"name\"] = gate_name\n",
    "                gate_dict[\"qubits\"] = gate_targets\n",
    "                state = qruise_experiment.lookup_propagator(\n",
    "                    **gate_dict,\n",
    "                    compute=False,\n",
    "                ).propagate_state(\n",
    "                    state, reshape_after=reshape_after, reshape_before=reshape_before\n",
    "                )\n",
    "                reshape_before = False\n",
    "        elif \"rx\" in gate_name:\n",
    "            gate_names = [\"ry90p_global\", \"rz\", \"ry90m_global\"]\n",
    "            targets = [target_labels, gate_dict[\"qubits\"], target_labels]\n",
    "            for gate_index, gate_specs in enumerate(zip(gate_names, targets)):\n",
    "                gate_name, gate_targets = gate_specs\n",
    "                reshape_after = (\n",
    "                None if reshape_after is None and gate_index == 3 else False\n",
    "                )\n",
    "                gate_dict[\"name\"] = gate_name\n",
    "                gate_dict[\"qubits\"] = gate_targets\n",
    "                state = qruise_experiment.lookup_propagator(\n",
    "                    **gate_dict,\n",
    "                    compute=False,\n",
    "                ).propagate_state(\n",
    "                    state, reshape_after=reshape_after, reshape_before=reshape_before\n",
    "                )\n",
    "                reshape_before = False\n",
    "        elif \"ry\" in gate_name:\n",
    "            gate_names = [\"rx90m_global\", \"rz\", \"rx90p_global\"]\n",
    "            targets = [target_labels, gate_dict[\"qubits\"], target_labels]\n",
    "            for gate_index, gate_specs in enumerate(zip(gate_names, targets)):\n",
    "                gate_name, gate_targets = gate_specs\n",
    "                reshape_after = (\n",
    "                None if reshape_after is None and gate_index == 3 else False\n",
    "                )\n",
    "                gate_dict[\"name\"] = gate_name\n",
    "                gate_dict[\"qubits\"] = gate_targets\n",
    "                state = qruise_experiment.lookup_propagator(\n",
    "                    **gate_dict,\n",
    "                    compute=False,\n",
    "                ).propagate_state(\n",
    "                    state, reshape_after=reshape_after, reshape_before=reshape_before\n",
    "                )\n",
    "                reshape_before = False\n",
    "        else:\n",
    "            raise ValueError(\"Not supported gate\")\n",
    "        return state\n",
    "\n",
    "    return state_transform"
   ]
  },
  {
   "cell_type": "code",
   "execution_count": 17,
   "metadata": {},
   "outputs": [],
   "source": [
    "qruise_backend._state_propagation_function = state_transform_function()"
   ]
  },
  {
   "cell_type": "markdown",
   "metadata": {},
   "source": [
    "Run the Quantum Volume test"
   ]
  },
  {
   "cell_type": "code",
   "execution_count": 18,
   "metadata": {},
   "outputs": [
    {
     "name": "stderr",
     "output_type": "stream",
     "text": [
      "/home/marco/GitHub_Qruise/qruise-toolset/src/qruise/toolset/qiskit/backends.py:332: UserWarning:\n",
      "\n",
      "The following operations are not supported yet: ['measure', 'barrier']\n",
      "\n"
     ]
    },
    {
     "name": "stdout",
     "output_type": "stream",
     "text": [
      "Quantum Volume: 16\n",
      "Percentage Heavy Outputs: 84.1%\n",
      "Passed?: True\n",
      "\n"
     ]
    },
    {
     "data": {
      "text/plain": [
       "True"
      ]
     },
     "execution_count": 18,
     "metadata": {},
     "output_type": "execute_result"
    }
   ],
   "source": [
    "from utils import quantum_volume\n",
    "quantum_volume(qruise_backend, ncircuits=150, nqubits=4, nshots=200)"
   ]
  }
 ],
 "metadata": {
  "kernelspec": {
   "display_name": "qruise-env",
   "language": "python",
   "name": "python3"
  },
  "language_info": {
   "codemirror_mode": {
    "name": "ipython",
    "version": 3
   },
   "file_extension": ".py",
   "mimetype": "text/x-python",
   "name": "python",
   "nbconvert_exporter": "python",
   "pygments_lexer": "ipython3",
   "version": "3.10.12"
  }
 },
 "nbformat": 4,
 "nbformat_minor": 2
}
