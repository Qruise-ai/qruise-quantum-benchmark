{
 "cells": [
  {
   "cell_type": "code",
   "execution_count": 1,
   "metadata": {},
   "outputs": [],
   "source": [
    "sim_res = 1e9\n",
    "awg_res = 5e8"
   ]
  },
  {
   "cell_type": "markdown",
   "metadata": {},
   "source": [
    "# Quantum Volume"
   ]
  },
  {
   "cell_type": "code",
   "execution_count": 2,
   "metadata": {},
   "outputs": [
    {
     "name": "stderr",
     "output_type": "stream",
     "text": [
      "2024-04-19 14:21:44.110506: I tensorflow/core/util/port.cc:110] oneDNN custom operations are on. You may see slightly different numerical results due to floating-point round-off errors from different computation orders. To turn them off, set the environment variable `TF_ENABLE_ONEDNN_OPTS=0`.\n",
      "2024-04-19 14:21:44.111970: I tensorflow/tsl/cuda/cudart_stub.cc:28] Could not find cuda drivers on your machine, GPU will not be used.\n",
      "2024-04-19 14:21:44.141933: I tensorflow/tsl/cuda/cudart_stub.cc:28] Could not find cuda drivers on your machine, GPU will not be used.\n",
      "2024-04-19 14:21:44.142312: I tensorflow/core/platform/cpu_feature_guard.cc:182] This TensorFlow binary is optimized to use available CPU instructions in performance-critical operations.\n",
      "To enable the following instructions: AVX2 AVX512F AVX512_VNNI FMA, in other operations, rebuild TensorFlow with the appropriate compiler flags.\n",
      "2024-04-19 14:21:44.756260: W tensorflow/compiler/tf2tensorrt/utils/py_utils.cc:38] TF-TRT Warning: Could not find TensorRT\n"
     ]
    }
   ],
   "source": [
    "import tensorflow as tf"
   ]
  },
  {
   "cell_type": "code",
   "execution_count": 3,
   "metadata": {},
   "outputs": [],
   "source": [
    "from qiskit.circuit.library import QuantumVolume as QuantumVolumeCircuit\n"
   ]
  },
  {
   "cell_type": "code",
   "execution_count": 4,
   "metadata": {},
   "outputs": [
    {
     "data": {
      "text/html": [
       "<pre style=\"word-wrap: normal;white-space: pre;background: #fff0;line-height: 1.1;font-family: &quot;Courier New&quot;,Courier,monospace\">     ┌──────────────────────────┐\n",
       "q_0: ┤0                         ├\n",
       "     │                          │\n",
       "q_1: ┤1                         ├\n",
       "     │  quantum_volume_[4,4,24] │\n",
       "q_2: ┤2                         ├\n",
       "     │                          │\n",
       "q_3: ┤3                         ├\n",
       "     └──────────────────────────┘</pre>"
      ],
      "text/plain": [
       "     ┌──────────────────────────┐\n",
       "q_0: ┤0                         ├\n",
       "     │                          │\n",
       "q_1: ┤1                         ├\n",
       "     │  quantum_volume_[4,4,24] │\n",
       "q_2: ┤2                         ├\n",
       "     │                          │\n",
       "q_3: ┤3                         ├\n",
       "     └──────────────────────────┘"
      ]
     },
     "execution_count": 4,
     "metadata": {},
     "output_type": "execute_result"
    }
   ],
   "source": [
    "qv_circuit = QuantumVolumeCircuit(4, depth=4, seed=24)\n",
    "qv_circuit.draw()"
   ]
  },
  {
   "cell_type": "code",
   "execution_count": 5,
   "metadata": {},
   "outputs": [
    {
     "data": {
      "text/html": [
       "<pre style=\"word-wrap: normal;white-space: pre;background: #fff0;line-height: 1.1;font-family: &quot;Courier New&quot;,Courier,monospace\">                 ┌──────────┐┌──────────┐┌──────────┐┌──────────┐            \n",
       "q_0: ────────────┤0         ├┤1         ├┤0         ├┤0         ├────────────\n",
       "     ┌──────────┐│          ││  su4_751 ││  su4_784 ││          │┌──────────┐\n",
       "q_1: ┤0         ├┤          ├┤0         ├┤1         ├┤  su4_506 ├┤0         ├\n",
       "     │  su4_330 ││  su4_383 │├──────────┤├──────────┤│          ││          │\n",
       "q_2: ┤1         ├┤          ├┤1         ├┤0         ├┤1         ├┤  su4_128 ├\n",
       "     └──────────┘│          ││  su4_405 ││  su4_575 │└──────────┘│          │\n",
       "q_3: ────────────┤1         ├┤0         ├┤1         ├────────────┤1         ├\n",
       "                 └──────────┘└──────────┘└──────────┘            └──────────┘</pre>"
      ],
      "text/plain": [
       "                 ┌──────────┐┌──────────┐┌──────────┐┌──────────┐            \n",
       "q_0: ────────────┤0         ├┤1         ├┤0         ├┤0         ├────────────\n",
       "     ┌──────────┐│          ││  su4_751 ││  su4_784 ││          │┌──────────┐\n",
       "q_1: ┤0         ├┤          ├┤0         ├┤1         ├┤  su4_506 ├┤0         ├\n",
       "     │  su4_330 ││  su4_383 │├──────────┤├──────────┤│          ││          │\n",
       "q_2: ┤1         ├┤          ├┤1         ├┤0         ├┤1         ├┤  su4_128 ├\n",
       "     └──────────┘│          ││  su4_405 ││  su4_575 │└──────────┘│          │\n",
       "q_3: ────────────┤1         ├┤0         ├┤1         ├────────────┤1         ├\n",
       "                 └──────────┘└──────────┘└──────────┘            └──────────┘"
      ]
     },
     "execution_count": 5,
     "metadata": {},
     "output_type": "execute_result"
    }
   ],
   "source": [
    "qv_circuit.decompose().draw()"
   ]
  },
  {
   "cell_type": "markdown",
   "metadata": {},
   "source": [
    "Transpile the circuit to the native gates"
   ]
  },
  {
   "cell_type": "code",
   "execution_count": 6,
   "metadata": {},
   "outputs": [
    {
     "data": {
      "text/html": [
       "<pre style=\"word-wrap: normal;white-space: pre;background: #fff0;line-height: 1.1;font-family: &quot;Courier New&quot;,Courier,monospace\">global phase: 1.9591\n",
       "     ┌──────────────┐ ┌────────────┐ ┌───────────┐         ┌────────────┐»\n",
       "q_0: ┤ Rx(-0.36694) ├─┤ Ry(2.1235) ├─┤ Rx(1.009) ├──────■──┤ Rx(1.2029) ├»\n",
       "     ├─────────────┬┘┌┴────────────┤┌┴───────────┴┐     │ ┌┴────────────┤»\n",
       "q_1: ┤ Rx(0.24327) ├─┤ Ry(0.50312) ├┤ Rx(-1.3647) ├──■──┼─┤ Rx(0.91141) ├»\n",
       "     ├─────────────┤ └┬────────────┤├─────────────┴┐ │  │ └┬────────────┤»\n",
       "q_2: ┤ Rx(0.41585) ├──┤ Ry(1.8609) ├┤ Rx(0.034328) ├─■──┼──┤ Rx(2.9535) ├»\n",
       "     ├─────────────┴┐ ├────────────┤├─────────────┬┘    │  ├────────────┤»\n",
       "q_3: ┤ Rx(-0.63573) ├─┤ Ry(2.4027) ├┤ Rx(-1.2049) ├─────■──┤ Rx(2.8593) ├»\n",
       "     └──────────────┘ └────────────┘└─────────────┘        └────────────┘»\n",
       "«                      ┌─────────────┐┌─────────┐ ┌─────────┐      »\n",
       "«q_0: ───────────────■─┤ Rx(-2.0895) ├┤ Ry(π/2) ├─┤ Rx(π/2) ├────■─»\n",
       "«                    │ ├─────────────┤├─────────┤ ├─────────┤    │ »\n",
       "«q_1: ────────────■──┼─┤ Rx(-1.0984) ├┤ Ry(π/2) ├─┤ Rx(π/2) ├─■──┼─»\n",
       "«     ┌─────────┐ │  │ └─┬─────────┬─┘├─────────┴┐└─────────┘ │  │ »\n",
       "«q_2: ┤ Ry(π/2) ├─■──┼───┤ Rx(π/2) ├──┤ Ry(-π/2) ├────────────■──┼─»\n",
       "«     ├─────────┤    │   ├─────────┤  ├──────────┤               │ »\n",
       "«q_3: ┤ Ry(π/2) ├────■───┤ Rx(π/2) ├──┤ Ry(-π/2) ├───────────────■─»\n",
       "«     └─────────┘        └─────────┘  └──────────┘                 »\n",
       "«     ┌─────────────┐  ┌────────────┐┌─────────────┐    ┌─────────────┐»\n",
       "«q_0: ┤ Rx(-2.1284) ├──┤ Ry(1.6463) ├┤ Rx(-2.5257) ├──■─┤ Rx(0.82587) ├»\n",
       "«     ├─────────────┴┐┌┴────────────┤└┬────────────┤  │ └┬───────────┬┘»\n",
       "«q_1: ┤ Rx(-0.60476) ├┤ Ry(0.70816) ├─┤ Rx(2.7899) ├──■──┤ Rx(2.968) ├─»\n",
       "«     ├──────────────┤└┬────────────┤┌┴────────────┤    ┌┴───────────┴┐»\n",
       "«q_2: ┤ Rx(-0.16084) ├─┤ Ry(1.4791) ├┤ Rx(0.37687) ├──■─┤ Rx(0.65963) ├»\n",
       "«     └┬────────────┬┘ ├────────────┤├─────────────┴┐ │ └┬────────────┤»\n",
       "«q_3: ─┤ Rx(1.6073) ├──┤ Ry(1.3951) ├┤ Rx(-0.43295) ├─■──┤ Rx(2.7258) ├»\n",
       "«      └────────────┘  └────────────┘└──────────────┘    └────────────┘»\n",
       "«                   ┌─────────────┐┌─────────┐ ┌─────────┐    ┌────────────┐ »\n",
       "«q_0: ────────────■─┤ Rx(-1.9244) ├┤ Ry(π/2) ├─┤ Rx(π/2) ├─■──┤ Rx(2.3076) ├─»\n",
       "«     ┌─────────┐ │ └─┬─────────┬─┘├─────────┴┐└─────────┘ │ ┌┴────────────┤ »\n",
       "«q_1: ┤ Ry(π/2) ├─■───┤ Rx(π/2) ├──┤ Ry(-π/2) ├────────────■─┤ Rx(0.18526) ├─»\n",
       "«     └─────────┘   ┌─┴─────────┴─┐├─────────┬┘┌─────────┐   └┬────────────┤ »\n",
       "«q_2: ────────────■─┤ Rx(-1.0939) ├┤ Ry(π/2) ├─┤ Rx(π/2) ├─■──┤ Rx(-1.806) ├─»\n",
       "«     ┌─────────┐ │ └─┬─────────┬─┘├─────────┴┐└─────────┘ │ ┌┴────────────┴┐»\n",
       "«q_3: ┤ Ry(π/2) ├─■───┤ Rx(π/2) ├──┤ Ry(-π/2) ├────────────■─┤ Rx(-0.16248) ├»\n",
       "«     └─────────┘     └─────────┘  └──────────┘              └──────────────┘»\n",
       "«     ┌─────────────┐ ┌───────────┐     ┌─────────────┐               »\n",
       "«q_0: ┤ Ry(0.98107) ├─┤ Rx(1.585) ├───■─┤ Rx(0.40754) ├───────────────»\n",
       "«     └┬────────────┤┌┴───────────┴┐  │ └─────────────┘┌─────────────┐»\n",
       "«q_1: ─┤ Ry(2.5167) ├┤ Rx(-1.9465) ├──┼────────■───────┤ Rx(0.50866) ├»\n",
       "«      ├────────────┤└┬────────────┤  │        │       └┬────────────┤»\n",
       "«q_2: ─┤ Ry(2.2512) ├─┤ Rx(1.8135) ├──■────────┼────────┤ Rx(2.6092) ├»\n",
       "«     ┌┴────────────┤┌┴────────────┴┐          │        ├────────────┤»\n",
       "«q_3: ┤ Ry(0.47464) ├┤ Rx(0.071919) ├──────────■────────┤ Rx(2.7914) ├»\n",
       "«     └─────────────┘└──────────────┘                   └────────────┘»\n",
       "«                   ┌─────────────┐  ┌─────────┐  ┌─────────┐               »\n",
       "«q_0: ────────────■─┤ Rx(-1.4381) ├──┤ Ry(π/2) ├──┤ Rx(π/2) ├─────────────■─»\n",
       "«                 │ └─────────────┘┌─┴─────────┴─┐├─────────┤ ┌─────────┐ │ »\n",
       "«q_1: ────────────┼────────■───────┤ Rx(-1.7934) ├┤ Ry(π/2) ├─┤ Rx(π/2) ├─┼─»\n",
       "«     ┌─────────┐ │        │       └─┬─────────┬─┘├─────────┴┐└─────────┘ │ »\n",
       "«q_2: ┤ Ry(π/2) ├─■────────┼─────────┤ Rx(π/2) ├──┤ Ry(-π/2) ├────────────■─»\n",
       "«     ├─────────┤          │         ├─────────┤  ├──────────┤              »\n",
       "«q_3: ┤ Ry(π/2) ├──────────■─────────┤ Rx(π/2) ├──┤ Ry(-π/2) ├──────────────»\n",
       "«     └─────────┘                    └─────────┘  └──────────┘              »\n",
       "«     ┌─────────────┐ ┌────────────┐ ┌────────────┐               \n",
       "«q_0: ┤ Rx(-2.5891) ├─┤ Ry(2.8194) ├─┤ Rx(1.5361) ├───────────────\n",
       "«     └─────────────┘┌┴────────────┤ ├────────────┤┌─────────────┐\n",
       "«q_1: ───────■───────┤ Rx(-3.1027) ├─┤ Ry(1.2515) ├┤ Rx(0.79406) ├\n",
       "«            │       ├─────────────┤┌┴────────────┤├─────────────┤\n",
       "«q_2: ───────┼───────┤ Rx(-1.1436) ├┤ Ry(0.46588) ├┤ Rx(-3.0714) ├\n",
       "«            │       ├─────────────┤└┬────────────┤├─────────────┤\n",
       "«q_3: ───────■───────┤ Rx(0.52885) ├─┤ Ry(2.2818) ├┤ Rx(-1.6638) ├\n",
       "«                    └─────────────┘ └────────────┘└─────────────┘</pre>"
      ],
      "text/plain": [
       "global phase: 1.9591\n",
       "     ┌──────────────┐ ┌────────────┐ ┌───────────┐         ┌────────────┐»\n",
       "q_0: ┤ Rx(-0.36694) ├─┤ Ry(2.1235) ├─┤ Rx(1.009) ├──────■──┤ Rx(1.2029) ├»\n",
       "     ├─────────────┬┘┌┴────────────┤┌┴───────────┴┐     │ ┌┴────────────┤»\n",
       "q_1: ┤ Rx(0.24327) ├─┤ Ry(0.50312) ├┤ Rx(-1.3647) ├──■──┼─┤ Rx(0.91141) ├»\n",
       "     ├─────────────┤ └┬────────────┤├─────────────┴┐ │  │ └┬────────────┤»\n",
       "q_2: ┤ Rx(0.41585) ├──┤ Ry(1.8609) ├┤ Rx(0.034328) ├─■──┼──┤ Rx(2.9535) ├»\n",
       "     ├─────────────┴┐ ├────────────┤├─────────────┬┘    │  ├────────────┤»\n",
       "q_3: ┤ Rx(-0.63573) ├─┤ Ry(2.4027) ├┤ Rx(-1.2049) ├─────■──┤ Rx(2.8593) ├»\n",
       "     └──────────────┘ └────────────┘└─────────────┘        └────────────┘»\n",
       "«                      ┌─────────────┐┌─────────┐ ┌─────────┐      »\n",
       "«q_0: ───────────────■─┤ Rx(-2.0895) ├┤ Ry(π/2) ├─┤ Rx(π/2) ├────■─»\n",
       "«                    │ ├─────────────┤├─────────┤ ├─────────┤    │ »\n",
       "«q_1: ────────────■──┼─┤ Rx(-1.0984) ├┤ Ry(π/2) ├─┤ Rx(π/2) ├─■──┼─»\n",
       "«     ┌─────────┐ │  │ └─┬─────────┬─┘├─────────┴┐└─────────┘ │  │ »\n",
       "«q_2: ┤ Ry(π/2) ├─■──┼───┤ Rx(π/2) ├──┤ Ry(-π/2) ├────────────■──┼─»\n",
       "«     ├─────────┤    │   ├─────────┤  ├──────────┤               │ »\n",
       "«q_3: ┤ Ry(π/2) ├────■───┤ Rx(π/2) ├──┤ Ry(-π/2) ├───────────────■─»\n",
       "«     └─────────┘        └─────────┘  └──────────┘                 »\n",
       "«     ┌─────────────┐  ┌────────────┐┌─────────────┐    ┌─────────────┐»\n",
       "«q_0: ┤ Rx(-2.1284) ├──┤ Ry(1.6463) ├┤ Rx(-2.5257) ├──■─┤ Rx(0.82587) ├»\n",
       "«     ├─────────────┴┐┌┴────────────┤└┬────────────┤  │ └┬───────────┬┘»\n",
       "«q_1: ┤ Rx(-0.60476) ├┤ Ry(0.70816) ├─┤ Rx(2.7899) ├──■──┤ Rx(2.968) ├─»\n",
       "«     ├──────────────┤└┬────────────┤┌┴────────────┤    ┌┴───────────┴┐»\n",
       "«q_2: ┤ Rx(-0.16084) ├─┤ Ry(1.4791) ├┤ Rx(0.37687) ├──■─┤ Rx(0.65963) ├»\n",
       "«     └┬────────────┬┘ ├────────────┤├─────────────┴┐ │ └┬────────────┤»\n",
       "«q_3: ─┤ Rx(1.6073) ├──┤ Ry(1.3951) ├┤ Rx(-0.43295) ├─■──┤ Rx(2.7258) ├»\n",
       "«      └────────────┘  └────────────┘└──────────────┘    └────────────┘»\n",
       "«                   ┌─────────────┐┌─────────┐ ┌─────────┐    ┌────────────┐ »\n",
       "«q_0: ────────────■─┤ Rx(-1.9244) ├┤ Ry(π/2) ├─┤ Rx(π/2) ├─■──┤ Rx(2.3076) ├─»\n",
       "«     ┌─────────┐ │ └─┬─────────┬─┘├─────────┴┐└─────────┘ │ ┌┴────────────┤ »\n",
       "«q_1: ┤ Ry(π/2) ├─■───┤ Rx(π/2) ├──┤ Ry(-π/2) ├────────────■─┤ Rx(0.18526) ├─»\n",
       "«     └─────────┘   ┌─┴─────────┴─┐├─────────┬┘┌─────────┐   └┬────────────┤ »\n",
       "«q_2: ────────────■─┤ Rx(-1.0939) ├┤ Ry(π/2) ├─┤ Rx(π/2) ├─■──┤ Rx(-1.806) ├─»\n",
       "«     ┌─────────┐ │ └─┬─────────┬─┘├─────────┴┐└─────────┘ │ ┌┴────────────┴┐»\n",
       "«q_3: ┤ Ry(π/2) ├─■───┤ Rx(π/2) ├──┤ Ry(-π/2) ├────────────■─┤ Rx(-0.16248) ├»\n",
       "«     └─────────┘     └─────────┘  └──────────┘              └──────────────┘»\n",
       "«     ┌─────────────┐ ┌───────────┐     ┌─────────────┐               »\n",
       "«q_0: ┤ Ry(0.98107) ├─┤ Rx(1.585) ├───■─┤ Rx(0.40754) ├───────────────»\n",
       "«     └┬────────────┤┌┴───────────┴┐  │ └─────────────┘┌─────────────┐»\n",
       "«q_1: ─┤ Ry(2.5167) ├┤ Rx(-1.9465) ├──┼────────■───────┤ Rx(0.50866) ├»\n",
       "«      ├────────────┤└┬────────────┤  │        │       └┬────────────┤»\n",
       "«q_2: ─┤ Ry(2.2512) ├─┤ Rx(1.8135) ├──■────────┼────────┤ Rx(2.6092) ├»\n",
       "«     ┌┴────────────┤┌┴────────────┴┐          │        ├────────────┤»\n",
       "«q_3: ┤ Ry(0.47464) ├┤ Rx(0.071919) ├──────────■────────┤ Rx(2.7914) ├»\n",
       "«     └─────────────┘└──────────────┘                   └────────────┘»\n",
       "«                   ┌─────────────┐  ┌─────────┐  ┌─────────┐               »\n",
       "«q_0: ────────────■─┤ Rx(-1.4381) ├──┤ Ry(π/2) ├──┤ Rx(π/2) ├─────────────■─»\n",
       "«                 │ └─────────────┘┌─┴─────────┴─┐├─────────┤ ┌─────────┐ │ »\n",
       "«q_1: ────────────┼────────■───────┤ Rx(-1.7934) ├┤ Ry(π/2) ├─┤ Rx(π/2) ├─┼─»\n",
       "«     ┌─────────┐ │        │       └─┬─────────┬─┘├─────────┴┐└─────────┘ │ »\n",
       "«q_2: ┤ Ry(π/2) ├─■────────┼─────────┤ Rx(π/2) ├──┤ Ry(-π/2) ├────────────■─»\n",
       "«     ├─────────┤          │         ├─────────┤  ├──────────┤              »\n",
       "«q_3: ┤ Ry(π/2) ├──────────■─────────┤ Rx(π/2) ├──┤ Ry(-π/2) ├──────────────»\n",
       "«     └─────────┘                    └─────────┘  └──────────┘              »\n",
       "«     ┌─────────────┐ ┌────────────┐ ┌────────────┐               \n",
       "«q_0: ┤ Rx(-2.5891) ├─┤ Ry(2.8194) ├─┤ Rx(1.5361) ├───────────────\n",
       "«     └─────────────┘┌┴────────────┤ ├────────────┤┌─────────────┐\n",
       "«q_1: ───────■───────┤ Rx(-3.1027) ├─┤ Ry(1.2515) ├┤ Rx(0.79406) ├\n",
       "«            │       ├─────────────┤┌┴────────────┤├─────────────┤\n",
       "«q_2: ───────┼───────┤ Rx(-1.1436) ├┤ Ry(0.46588) ├┤ Rx(-3.0714) ├\n",
       "«            │       ├─────────────┤└┬────────────┤├─────────────┤\n",
       "«q_3: ───────■───────┤ Rx(0.52885) ├─┤ Ry(2.2818) ├┤ Rx(-1.6638) ├\n",
       "«                    └─────────────┘ └────────────┘└─────────────┘"
      ]
     },
     "execution_count": 6,
     "metadata": {},
     "output_type": "execute_result"
    }
   ],
   "source": [
    "from qiskit import transpile\n",
    "decomposed_circuit = transpile(qv_circuit, basis_gates=[\"rx\", \"ry\", \"cz\"], optimization_level=3)\n",
    "decomposed_circuit.draw()"
   ]
  },
  {
   "cell_type": "code",
   "execution_count": 7,
   "metadata": {},
   "outputs": [],
   "source": [
    "decomposed_circuit.measure_all()"
   ]
  },
  {
   "cell_type": "markdown",
   "metadata": {},
   "source": [
    "## Create Lattice with qruise-toolset"
   ]
  },
  {
   "cell_type": "code",
   "execution_count": 8,
   "metadata": {},
   "outputs": [
    {
     "data": {
      "application/vnd.plotly.v1+json": {
       "config": {
        "plotlyServerURL": "https://plot.ly"
       },
       "data": [
        {
         "marker": {
          "color": "blue",
          "size": 20
         },
         "mode": "markers",
         "name": "Q0",
         "type": "scatter",
         "x": [
          -4
         ],
         "y": [
          -4
         ]
        },
        {
         "marker": {
          "color": "blue",
          "size": 20
         },
         "mode": "markers",
         "name": "Q1",
         "type": "scatter",
         "x": [
          0
         ],
         "y": [
          -4
         ]
        },
        {
         "marker": {
          "color": "blue",
          "size": 20
         },
         "mode": "markers",
         "name": "Q2",
         "type": "scatter",
         "x": [
          -4
         ],
         "y": [
          0
         ]
        },
        {
         "marker": {
          "color": "blue",
          "size": 20
         },
         "mode": "markers",
         "name": "Q3",
         "type": "scatter",
         "x": [
          0
         ],
         "y": [
          0
         ]
        }
       ],
       "layout": {
        "height": 400,
        "margin": {
         "t": 60
        },
        "showlegend": false,
        "template": {
         "data": {
          "bar": [
           {
            "error_x": {
             "color": "#2a3f5f"
            },
            "error_y": {
             "color": "#2a3f5f"
            },
            "marker": {
             "line": {
              "color": "#E5ECF6",
              "width": 0.5
             },
             "pattern": {
              "fillmode": "overlay",
              "size": 10,
              "solidity": 0.2
             }
            },
            "type": "bar"
           }
          ],
          "barpolar": [
           {
            "marker": {
             "line": {
              "color": "#E5ECF6",
              "width": 0.5
             },
             "pattern": {
              "fillmode": "overlay",
              "size": 10,
              "solidity": 0.2
             }
            },
            "type": "barpolar"
           }
          ],
          "carpet": [
           {
            "aaxis": {
             "endlinecolor": "#2a3f5f",
             "gridcolor": "white",
             "linecolor": "white",
             "minorgridcolor": "white",
             "startlinecolor": "#2a3f5f"
            },
            "baxis": {
             "endlinecolor": "#2a3f5f",
             "gridcolor": "white",
             "linecolor": "white",
             "minorgridcolor": "white",
             "startlinecolor": "#2a3f5f"
            },
            "type": "carpet"
           }
          ],
          "choropleth": [
           {
            "colorbar": {
             "outlinewidth": 0,
             "ticks": ""
            },
            "type": "choropleth"
           }
          ],
          "contour": [
           {
            "colorbar": {
             "outlinewidth": 0,
             "ticks": ""
            },
            "colorscale": [
             [
              0,
              "#0d0887"
             ],
             [
              0.1111111111111111,
              "#46039f"
             ],
             [
              0.2222222222222222,
              "#7201a8"
             ],
             [
              0.3333333333333333,
              "#9c179e"
             ],
             [
              0.4444444444444444,
              "#bd3786"
             ],
             [
              0.5555555555555556,
              "#d8576b"
             ],
             [
              0.6666666666666666,
              "#ed7953"
             ],
             [
              0.7777777777777778,
              "#fb9f3a"
             ],
             [
              0.8888888888888888,
              "#fdca26"
             ],
             [
              1,
              "#f0f921"
             ]
            ],
            "type": "contour"
           }
          ],
          "contourcarpet": [
           {
            "colorbar": {
             "outlinewidth": 0,
             "ticks": ""
            },
            "type": "contourcarpet"
           }
          ],
          "heatmap": [
           {
            "colorbar": {
             "outlinewidth": 0,
             "ticks": ""
            },
            "colorscale": [
             [
              0,
              "#0d0887"
             ],
             [
              0.1111111111111111,
              "#46039f"
             ],
             [
              0.2222222222222222,
              "#7201a8"
             ],
             [
              0.3333333333333333,
              "#9c179e"
             ],
             [
              0.4444444444444444,
              "#bd3786"
             ],
             [
              0.5555555555555556,
              "#d8576b"
             ],
             [
              0.6666666666666666,
              "#ed7953"
             ],
             [
              0.7777777777777778,
              "#fb9f3a"
             ],
             [
              0.8888888888888888,
              "#fdca26"
             ],
             [
              1,
              "#f0f921"
             ]
            ],
            "type": "heatmap"
           }
          ],
          "heatmapgl": [
           {
            "colorbar": {
             "outlinewidth": 0,
             "ticks": ""
            },
            "colorscale": [
             [
              0,
              "#0d0887"
             ],
             [
              0.1111111111111111,
              "#46039f"
             ],
             [
              0.2222222222222222,
              "#7201a8"
             ],
             [
              0.3333333333333333,
              "#9c179e"
             ],
             [
              0.4444444444444444,
              "#bd3786"
             ],
             [
              0.5555555555555556,
              "#d8576b"
             ],
             [
              0.6666666666666666,
              "#ed7953"
             ],
             [
              0.7777777777777778,
              "#fb9f3a"
             ],
             [
              0.8888888888888888,
              "#fdca26"
             ],
             [
              1,
              "#f0f921"
             ]
            ],
            "type": "heatmapgl"
           }
          ],
          "histogram": [
           {
            "marker": {
             "pattern": {
              "fillmode": "overlay",
              "size": 10,
              "solidity": 0.2
             }
            },
            "type": "histogram"
           }
          ],
          "histogram2d": [
           {
            "colorbar": {
             "outlinewidth": 0,
             "ticks": ""
            },
            "colorscale": [
             [
              0,
              "#0d0887"
             ],
             [
              0.1111111111111111,
              "#46039f"
             ],
             [
              0.2222222222222222,
              "#7201a8"
             ],
             [
              0.3333333333333333,
              "#9c179e"
             ],
             [
              0.4444444444444444,
              "#bd3786"
             ],
             [
              0.5555555555555556,
              "#d8576b"
             ],
             [
              0.6666666666666666,
              "#ed7953"
             ],
             [
              0.7777777777777778,
              "#fb9f3a"
             ],
             [
              0.8888888888888888,
              "#fdca26"
             ],
             [
              1,
              "#f0f921"
             ]
            ],
            "type": "histogram2d"
           }
          ],
          "histogram2dcontour": [
           {
            "colorbar": {
             "outlinewidth": 0,
             "ticks": ""
            },
            "colorscale": [
             [
              0,
              "#0d0887"
             ],
             [
              0.1111111111111111,
              "#46039f"
             ],
             [
              0.2222222222222222,
              "#7201a8"
             ],
             [
              0.3333333333333333,
              "#9c179e"
             ],
             [
              0.4444444444444444,
              "#bd3786"
             ],
             [
              0.5555555555555556,
              "#d8576b"
             ],
             [
              0.6666666666666666,
              "#ed7953"
             ],
             [
              0.7777777777777778,
              "#fb9f3a"
             ],
             [
              0.8888888888888888,
              "#fdca26"
             ],
             [
              1,
              "#f0f921"
             ]
            ],
            "type": "histogram2dcontour"
           }
          ],
          "mesh3d": [
           {
            "colorbar": {
             "outlinewidth": 0,
             "ticks": ""
            },
            "type": "mesh3d"
           }
          ],
          "parcoords": [
           {
            "line": {
             "colorbar": {
              "outlinewidth": 0,
              "ticks": ""
             }
            },
            "type": "parcoords"
           }
          ],
          "pie": [
           {
            "automargin": true,
            "type": "pie"
           }
          ],
          "scatter": [
           {
            "fillpattern": {
             "fillmode": "overlay",
             "size": 10,
             "solidity": 0.2
            },
            "type": "scatter"
           }
          ],
          "scatter3d": [
           {
            "line": {
             "colorbar": {
              "outlinewidth": 0,
              "ticks": ""
             }
            },
            "marker": {
             "colorbar": {
              "outlinewidth": 0,
              "ticks": ""
             }
            },
            "type": "scatter3d"
           }
          ],
          "scattercarpet": [
           {
            "marker": {
             "colorbar": {
              "outlinewidth": 0,
              "ticks": ""
             }
            },
            "type": "scattercarpet"
           }
          ],
          "scattergeo": [
           {
            "marker": {
             "colorbar": {
              "outlinewidth": 0,
              "ticks": ""
             }
            },
            "type": "scattergeo"
           }
          ],
          "scattergl": [
           {
            "marker": {
             "colorbar": {
              "outlinewidth": 0,
              "ticks": ""
             }
            },
            "type": "scattergl"
           }
          ],
          "scattermapbox": [
           {
            "marker": {
             "colorbar": {
              "outlinewidth": 0,
              "ticks": ""
             }
            },
            "type": "scattermapbox"
           }
          ],
          "scatterpolar": [
           {
            "marker": {
             "colorbar": {
              "outlinewidth": 0,
              "ticks": ""
             }
            },
            "type": "scatterpolar"
           }
          ],
          "scatterpolargl": [
           {
            "marker": {
             "colorbar": {
              "outlinewidth": 0,
              "ticks": ""
             }
            },
            "type": "scatterpolargl"
           }
          ],
          "scatterternary": [
           {
            "marker": {
             "colorbar": {
              "outlinewidth": 0,
              "ticks": ""
             }
            },
            "type": "scatterternary"
           }
          ],
          "surface": [
           {
            "colorbar": {
             "outlinewidth": 0,
             "ticks": ""
            },
            "colorscale": [
             [
              0,
              "#0d0887"
             ],
             [
              0.1111111111111111,
              "#46039f"
             ],
             [
              0.2222222222222222,
              "#7201a8"
             ],
             [
              0.3333333333333333,
              "#9c179e"
             ],
             [
              0.4444444444444444,
              "#bd3786"
             ],
             [
              0.5555555555555556,
              "#d8576b"
             ],
             [
              0.6666666666666666,
              "#ed7953"
             ],
             [
              0.7777777777777778,
              "#fb9f3a"
             ],
             [
              0.8888888888888888,
              "#fdca26"
             ],
             [
              1,
              "#f0f921"
             ]
            ],
            "type": "surface"
           }
          ],
          "table": [
           {
            "cells": {
             "fill": {
              "color": "#EBF0F8"
             },
             "line": {
              "color": "white"
             }
            },
            "header": {
             "fill": {
              "color": "#C8D4E3"
             },
             "line": {
              "color": "white"
             }
            },
            "type": "table"
           }
          ]
         },
         "layout": {
          "annotationdefaults": {
           "arrowcolor": "#2a3f5f",
           "arrowhead": 0,
           "arrowwidth": 1
          },
          "autotypenumbers": "strict",
          "coloraxis": {
           "colorbar": {
            "outlinewidth": 0,
            "ticks": ""
           }
          },
          "colorscale": {
           "diverging": [
            [
             0,
             "#8e0152"
            ],
            [
             0.1,
             "#c51b7d"
            ],
            [
             0.2,
             "#de77ae"
            ],
            [
             0.3,
             "#f1b6da"
            ],
            [
             0.4,
             "#fde0ef"
            ],
            [
             0.5,
             "#f7f7f7"
            ],
            [
             0.6,
             "#e6f5d0"
            ],
            [
             0.7,
             "#b8e186"
            ],
            [
             0.8,
             "#7fbc41"
            ],
            [
             0.9,
             "#4d9221"
            ],
            [
             1,
             "#276419"
            ]
           ],
           "sequential": [
            [
             0,
             "#0d0887"
            ],
            [
             0.1111111111111111,
             "#46039f"
            ],
            [
             0.2222222222222222,
             "#7201a8"
            ],
            [
             0.3333333333333333,
             "#9c179e"
            ],
            [
             0.4444444444444444,
             "#bd3786"
            ],
            [
             0.5555555555555556,
             "#d8576b"
            ],
            [
             0.6666666666666666,
             "#ed7953"
            ],
            [
             0.7777777777777778,
             "#fb9f3a"
            ],
            [
             0.8888888888888888,
             "#fdca26"
            ],
            [
             1,
             "#f0f921"
            ]
           ],
           "sequentialminus": [
            [
             0,
             "#0d0887"
            ],
            [
             0.1111111111111111,
             "#46039f"
            ],
            [
             0.2222222222222222,
             "#7201a8"
            ],
            [
             0.3333333333333333,
             "#9c179e"
            ],
            [
             0.4444444444444444,
             "#bd3786"
            ],
            [
             0.5555555555555556,
             "#d8576b"
            ],
            [
             0.6666666666666666,
             "#ed7953"
            ],
            [
             0.7777777777777778,
             "#fb9f3a"
            ],
            [
             0.8888888888888888,
             "#fdca26"
            ],
            [
             1,
             "#f0f921"
            ]
           ]
          },
          "colorway": [
           "#636efa",
           "#EF553B",
           "#00cc96",
           "#ab63fa",
           "#FFA15A",
           "#19d3f3",
           "#FF6692",
           "#B6E880",
           "#FF97FF",
           "#FECB52"
          ],
          "font": {
           "color": "#2a3f5f"
          },
          "geo": {
           "bgcolor": "white",
           "lakecolor": "white",
           "landcolor": "#E5ECF6",
           "showlakes": true,
           "showland": true,
           "subunitcolor": "white"
          },
          "hoverlabel": {
           "align": "left"
          },
          "hovermode": "closest",
          "mapbox": {
           "style": "light"
          },
          "paper_bgcolor": "white",
          "plot_bgcolor": "#E5ECF6",
          "polar": {
           "angularaxis": {
            "gridcolor": "white",
            "linecolor": "white",
            "ticks": ""
           },
           "bgcolor": "#E5ECF6",
           "radialaxis": {
            "gridcolor": "white",
            "linecolor": "white",
            "ticks": ""
           }
          },
          "scene": {
           "xaxis": {
            "backgroundcolor": "#E5ECF6",
            "gridcolor": "white",
            "gridwidth": 2,
            "linecolor": "white",
            "showbackground": true,
            "ticks": "",
            "zerolinecolor": "white"
           },
           "yaxis": {
            "backgroundcolor": "#E5ECF6",
            "gridcolor": "white",
            "gridwidth": 2,
            "linecolor": "white",
            "showbackground": true,
            "ticks": "",
            "zerolinecolor": "white"
           },
           "zaxis": {
            "backgroundcolor": "#E5ECF6",
            "gridcolor": "white",
            "gridwidth": 2,
            "linecolor": "white",
            "showbackground": true,
            "ticks": "",
            "zerolinecolor": "white"
           }
          },
          "shapedefaults": {
           "line": {
            "color": "#2a3f5f"
           }
          },
          "ternary": {
           "aaxis": {
            "gridcolor": "white",
            "linecolor": "white",
            "ticks": ""
           },
           "baxis": {
            "gridcolor": "white",
            "linecolor": "white",
            "ticks": ""
           },
           "bgcolor": "#E5ECF6",
           "caxis": {
            "gridcolor": "white",
            "linecolor": "white",
            "ticks": ""
           }
          },
          "title": {
           "x": 0.05
          },
          "xaxis": {
           "automargin": true,
           "gridcolor": "white",
           "linecolor": "white",
           "ticks": "",
           "title": {
            "standoff": 15
           },
           "zerolinecolor": "white",
           "zerolinewidth": 2
          },
          "yaxis": {
           "automargin": true,
           "gridcolor": "white",
           "linecolor": "white",
           "ticks": "",
           "title": {
            "standoff": 15
           },
           "zerolinecolor": "white",
           "zerolinewidth": 2
          }
         }
        },
        "width": 500,
        "xaxis": {
         "title": {
          "text": "X"
         }
        },
        "yaxis": {
         "title": {
          "text": "Y"
         }
        }
       }
      }
     },
     "metadata": {},
     "output_type": "display_data"
    }
   ],
   "source": [
    "from qruise.toolset.libraries.rydberg.lattice import SquareLattice\n",
    "r12 = 4.0\n",
    "lattice = SquareLattice(n_side=2, r_interatomic=r12)\n",
    "lattice.draw()"
   ]
  },
  {
   "cell_type": "code",
   "execution_count": 9,
   "metadata": {},
   "outputs": [],
   "source": [
    "from qruise.toolset.libraries.rydberg.rydbergsystem import RydbergSystem\n",
    "hilbert_dim = 3\n",
    "ryd_system = RydbergSystem(lattice=lattice, hilbert_dim=hilbert_dim)"
   ]
  },
  {
   "cell_type": "code",
   "execution_count": 10,
   "metadata": {},
   "outputs": [],
   "source": [
    "rydberg_atom_list = ryd_system.rydberg_atom_list"
   ]
  },
  {
   "cell_type": "markdown",
   "metadata": {},
   "source": [
    "Create the drives needed in the quantum volume sequence"
   ]
  },
  {
   "cell_type": "markdown",
   "metadata": {},
   "source": [
    "$R_x$ and $R_y$ gates for all the qubits"
   ]
  },
  {
   "cell_type": "code",
   "execution_count": 11,
   "metadata": {},
   "outputs": [],
   "source": [
    "import numpy as np\n",
    "from qruise.toolset.objects import Quantity\n",
    "phase_yp = Quantity(value=0.5 * np.pi, unit=\"rads\")\n",
    "phase_xp = Quantity(value=0.0, unit=\"rads\")\n",
    "phase_xm = Quantity(value=np.pi, unit=\"rads\")\n",
    "phase_ym = Quantity(value=-0.5 * np.pi, unit=\"rads\")\n"
   ]
  },
  {
   "cell_type": "code",
   "execution_count": 12,
   "metadata": {},
   "outputs": [],
   "source": [
    "qubit_names = [atom.name for atom in ryd_system.rydberg_atom_list]\n",
    "# Global drives for sigle qubit gates\n",
    "# Rx90p\n",
    "ryd_system.add_drive(\n",
    "    \"amplitude-phase\",\n",
    "    \"rx90p_global\",\n",
    "    channel=\"raman\",\n",
    "    connected=qubit_names,\n",
    "    phase=phase_xp,\n",
    ")\n",
    "# Rx90m\n",
    "ryd_system.add_drive(\n",
    "    \"amplitude-phase\",\n",
    "    \"rx90m_global\",\n",
    "    channel=\"raman\",\n",
    "    connected=qubit_names,\n",
    "    phase=phase_xm,\n",
    ")\n",
    "# Ry90p\n",
    "ryd_system.add_drive(\n",
    "    \"amplitude-phase\",\n",
    "    \"ry90p_global\",\n",
    "    channel=\"raman\",\n",
    "    connected=qubit_names,\n",
    "    phase=phase_yp,\n",
    ")\n",
    "# Ry90m\n",
    "ryd_system.add_drive(\n",
    "    \"amplitude-phase\",\n",
    "    \"ry90m_global\",\n",
    "    channel=\"raman\",\n",
    "    connected=qubit_names,\n",
    "    phase=phase_ym,\n",
    ")\n",
    "\n",
    "# Local drives for CZ gates\n",
    "for atom in ryd_system.rydberg_atom_list:\n",
    "    name = atom.name\n",
    "    ryd_system.add_drive(\n",
    "        \"amplitude-phase\",\n",
    "        f\"rydbergx{name}\",\n",
    "        channel=\"rydberg\",\n",
    "        connected=[name],\n",
    "        phase=phase_xp,\n",
    "    )\n"
   ]
  },
  {
   "cell_type": "code",
   "execution_count": 13,
   "metadata": {},
   "outputs": [
    {
     "name": "stdout",
     "output_type": "stream",
     "text": [
      "0\n",
      "1\n",
      "2\n",
      "3\n"
     ]
    }
   ],
   "source": [
    "for atom in ryd_system.rydberg_atom_list:\n",
    "    name = atom.name\n",
    "    print(name)"
   ]
  },
  {
   "cell_type": "code",
   "execution_count": 14,
   "metadata": {},
   "outputs": [],
   "source": [
    "rabi_amplitude = 2e6 # MHz"
   ]
  },
  {
   "cell_type": "code",
   "execution_count": 15,
   "metadata": {},
   "outputs": [],
   "source": [
    "t_pi_2 = np.around(1 / (4 * rabi_amplitude), 9)\n",
    "t_pi = np.around(1 / (2 * rabi_amplitude), 9)"
   ]
  },
  {
   "cell_type": "code",
   "execution_count": 16,
   "metadata": {},
   "outputs": [
    {
     "data": {
      "text/plain": [
       "2.5e-07"
      ]
     },
     "execution_count": 16,
     "metadata": {},
     "output_type": "execute_result"
    }
   ],
   "source": [
    "t_pi"
   ]
  },
  {
   "cell_type": "markdown",
   "metadata": {},
   "source": [
    "Create all possible instructions for the qubits"
   ]
  },
  {
   "cell_type": "code",
   "execution_count": 17,
   "metadata": {},
   "outputs": [
    {
     "name": "stderr",
     "output_type": "stream",
     "text": [
      "/home/marco/GitHub_Qruise/qruise-toolset/src/qruise/toolset/signal/gates.py:211: UserWarning:\n",
      "\n",
      "No ideal gate found for gate: global. Use set_ideal() explicitly.\n",
      "\n",
      "/home/marco/GitHub_Qruise/qruise-toolset/src/qruise/toolset/signal/gates.py:211: UserWarning:\n",
      "\n",
      "No ideal gate found for gate: ryd. Use set_ideal() explicitly.\n",
      "\n",
      "/home/marco/GitHub_Qruise/qruise-toolset/src/qruise/toolset/signal/gates.py:211: UserWarning:\n",
      "\n",
      "No ideal gate found for gate: 0. Use set_ideal() explicitly.\n",
      "\n",
      "/home/marco/GitHub_Qruise/qruise-toolset/src/qruise/toolset/signal/gates.py:211: UserWarning:\n",
      "\n",
      "No ideal gate found for gate: pi. Use set_ideal() explicitly.\n",
      "\n",
      "/home/marco/GitHub_Qruise/qruise-toolset/src/qruise/toolset/signal/gates.py:211: UserWarning:\n",
      "\n",
      "No ideal gate found for gate: 2pi. Use set_ideal() explicitly.\n",
      "\n",
      "/home/marco/GitHub_Qruise/qruise-toolset/src/qruise/toolset/signal/gates.py:211: UserWarning:\n",
      "\n",
      "No ideal gate found for gate: 1. Use set_ideal() explicitly.\n",
      "\n",
      "/home/marco/GitHub_Qruise/qruise-toolset/src/qruise/toolset/signal/gates.py:211: UserWarning:\n",
      "\n",
      "No ideal gate found for gate: 2. Use set_ideal() explicitly.\n",
      "\n",
      "/home/marco/GitHub_Qruise/qruise-toolset/src/qruise/toolset/signal/gates.py:211: UserWarning:\n",
      "\n",
      "No ideal gate found for gate: 3. Use set_ideal() explicitly.\n",
      "\n"
     ]
    }
   ],
   "source": [
    "from qruise.toolset.signal import gates\n",
    "from qruise.toolset.libraries.rydberg.envelopes import rect_envelope\n",
    "\n",
    "target_labels = [int(atom.name) for atom in rydberg_atom_list]\n",
    "\n",
    "gate = gates.Instruction(\n",
    "    name=\"rx90p_global\",\n",
    "    t_end=t_pi_2,\n",
    "    targets=target_labels,\n",
    "    channels=[\"rx90p_global\"],\n",
    "    qiskit_name=\"rx90p\",\n",
    ")\n",
    "gate.ideal = None\n",
    "ryd_system.add_instruction(gate,\n",
    "                           envelope=rect_envelope(\"rectangular_envelope\", amp=2 * np.pi * rabi_amplitude*1e-6, t_final=t_pi_2),\n",
    "                           drive_name=\"rx90p_global\")\n",
    "gate = gates.Instruction(\n",
    "    name=\"rx90m_global\",\n",
    "    t_end=t_pi_2,\n",
    "    targets=target_labels,\n",
    "    channels=[\"rx90m_global\"],\n",
    "    qiskit_name=\"rx90m\",\n",
    ")\n",
    "gate.ideal = None\n",
    "ryd_system.add_instruction(gate,\n",
    "                           envelope=rect_envelope(\"rectangular_envelope\", amp= 2 * np.pi * rabi_amplitude*1e-6, t_final=t_pi_2),\n",
    "                           drive_name=\"rx90m_global\")\n",
    "\n",
    "gate = gates.Instruction(\n",
    "    name=\"ry90p_global\",\n",
    "    t_end=t_pi_2,\n",
    "    targets=target_labels,\n",
    "    channels=[\"ry90p_global\"],\n",
    "    qiskit_name=\"ry90p\",\n",
    ")\n",
    "gate.ideal = None\n",
    "ryd_system.add_instruction(gate,\n",
    "                           envelope=rect_envelope(\"rectangular_envelope\", amp=2 * np.pi * rabi_amplitude*1e-6, t_final=t_pi_2),\n",
    "                           drive_name=\"ry90p_global\")\n",
    "gate = gates.Instruction(\n",
    "    name=\"ry90m_global\",\n",
    "    t_end=t_pi_2,\n",
    "    targets=target_labels,\n",
    "    channels=[\"rx90m_global\"],\n",
    "    qiskit_name=\"ry90m\",\n",
    ")\n",
    "gate.ideal = None\n",
    "ryd_system.add_instruction(gate,\n",
    "                           envelope=rect_envelope(\"rectangular_envelope\", amp= 2 * np.pi * rabi_amplitude*1e-6, t_final=t_pi_2),\n",
    "                           drive_name=\"ry90m_global\")\n",
    "\n",
    "\n",
    "# Create all possible combinations for the CZ gates\n",
    "for atom in rydberg_atom_list:\n",
    "    ryd_pi = gates.Instruction(\n",
    "        name=f\"ryd_{atom.name}_pi\",\n",
    "        t_end=t_pi,\n",
    "        channels=[f\"rydbergx{atom.name}\"],\n",
    "        targets=[int(atom.name)],\n",
    "    )\n",
    "    ryd_pi.ideal = None\n",
    "    ryd_system.add_instruction(instruction=ryd_pi, \n",
    "                               envelope=rect_envelope(\"rectangular_envelope\", \n",
    "                                                      amp=2 * np.pi * rabi_amplitude*1e-6, \n",
    "                                                    t_final=t_pi), \n",
    "                                drive_name=f\"rydbergx{atom.name}\")\n",
    "    ryd_2pi = gates.Instruction(\n",
    "        name=f\"ryd_{atom.name}_2pi\",\n",
    "        t_end=2 * t_pi,\n",
    "        channels=[f\"rydbergx{atom.name}\"],\n",
    "        targets=[int(atom.name)],\n",
    "    )\n",
    "    ryd_2pi.ideal = None\n",
    "    ryd_system.add_instruction(instruction=ryd_2pi, \n",
    "                               envelope=rect_envelope(\"rectangular_envelope\", amp=2 * np.pi * rabi_amplitude*1e-6, t_final=2 * t_pi), \n",
    "                               drive_name=f\"rydbergx{atom.name}\")"
   ]
  },
  {
   "cell_type": "code",
   "execution_count": 18,
   "metadata": {},
   "outputs": [],
   "source": [
    "# qv_list = []\n",
    "# for _ in range(1):\n",
    "#     qv_circuit = qv_circuit = QuantumVolumeCircuit(4, depth=4)\n",
    "#     qv_list.append(qv_circuit)\n",
    "#     decomposed_circuit = transpile(qv_circuit, basis_gates=[\"rx\", \"ry\", \"cz\"], optimization_level=3)\n",
    "#     gate_list = create_instructions(rydberg_system=ryd_system, circuit=decomposed_circuit, rabi_amplitude=rabi_amplitude)\n"
   ]
  },
  {
   "cell_type": "code",
   "execution_count": 19,
   "metadata": {},
   "outputs": [
    {
     "data": {
      "text/plain": [
       "[Instruction(rx90p_global[0,1,2,3]),\n",
       " Instruction(rx90m_global[0,1,2,3]),\n",
       " Instruction(ry90p_global[0,1,2,3]),\n",
       " Instruction(ry90m_global[0,1,2,3]),\n",
       " Instruction(ryd_0_pi[0]),\n",
       " Instruction(ryd_0_2pi[0]),\n",
       " Instruction(ryd_1_pi[1]),\n",
       " Instruction(ryd_1_2pi[1]),\n",
       " Instruction(ryd_2_pi[2]),\n",
       " Instruction(ryd_2_2pi[2]),\n",
       " Instruction(ryd_3_pi[3]),\n",
       " Instruction(ryd_3_2pi[3])]"
      ]
     },
     "execution_count": 19,
     "metadata": {},
     "output_type": "execute_result"
    }
   ],
   "source": [
    "qruise_instructions = ryd_system.instruction_list\n",
    "qruise_instructions"
   ]
  },
  {
   "cell_type": "code",
   "execution_count": 20,
   "metadata": {},
   "outputs": [
    {
     "data": {
      "text/plain": [
       "12"
      ]
     },
     "execution_count": 20,
     "metadata": {},
     "output_type": "execute_result"
    }
   ],
   "source": [
    "len(ryd_system.instruction_list)"
   ]
  },
  {
   "cell_type": "code",
   "execution_count": 21,
   "metadata": {},
   "outputs": [
    {
     "data": {
      "text/plain": [
       "119"
      ]
     },
     "execution_count": 21,
     "metadata": {},
     "output_type": "execute_result"
    }
   ],
   "source": [
    "len(decomposed_circuit)"
   ]
  },
  {
   "cell_type": "markdown",
   "metadata": {},
   "source": [
    "Collect the model from the Rydberg system"
   ]
  },
  {
   "cell_type": "code",
   "execution_count": 22,
   "metadata": {},
   "outputs": [],
   "source": [
    "ryd_system.create_model(max_excitations=5)"
   ]
  },
  {
   "cell_type": "markdown",
   "metadata": {},
   "source": [
    "Set the generator"
   ]
  },
  {
   "cell_type": "code",
   "execution_count": 23,
   "metadata": {},
   "outputs": [],
   "source": [
    "import qruise.toolset.generator.devices as devices\n",
    "from qruise.toolset.generator.generator import Generator\n",
    "\n",
    "ryd_system.sim_res = sim_res\n",
    "ryd_system.awg_res = awg_res\n",
    "\n",
    "awg_res = (\n",
    "    ryd_system.awg_res\n",
    ")  # number of samples per second; realistic limited resolution of an AWG\n",
    "v2hz = 1e6\n",
    "rise_time_value = 100e-9\n",
    "\n",
    "# create a dict of all the devices\n",
    "generator_devices = {\n",
    "    \"AWG\": devices.AWG(name=\"awg\", resolution=ryd_system.awg_res),\n",
    "    \"DigitalToAnalog\": devices.DigitalToAnalog(name=\"dac\"),\n",
    "    \"VoltsToHertz\": devices.VoltsToHertz(\n",
    "        name=\"v_to_hz\", V_to_Hz=Quantity(value=v2hz, unit=\"Hz/V\")\n",
    "    ),\n",
    "}\n",
    "\n",
    "chains = {}\n",
    "for atom in ryd_system.rydberg_atom_list:\n",
    "    name = atom.name\n",
    "    name_rydbergx = f\"rydbergx{name}\"\n",
    "    chains[name_rydbergx] = {\n",
    "        \"AWG\": [],\n",
    "        \"DigitalToAnalog\": [\"AWG\"],\n",
    "        \"VoltsToHertz\": [\"DigitalToAnalog\"],\n",
    "    }\n",
    "chains[\"rx90p_global\"] = {\n",
    "    \"AWG\": [],\n",
    "    \"DigitalToAnalog\": [\"AWG\"],\n",
    "    \"VoltsToHertz\": [\"DigitalToAnalog\"],\n",
    "}\n",
    "chains[\"rx90m_global\"] = {\n",
    "    \"AWG\": [],\n",
    "    \"DigitalToAnalog\": [\"AWG\"],\n",
    "    \"VoltsToHertz\": [\"DigitalToAnalog\"],\n",
    "}\n",
    "chains[\"ry90p_global\"] = {\n",
    "    \"AWG\": [],\n",
    "    \"DigitalToAnalog\": [\"AWG\"],\n",
    "    \"VoltsToHertz\": [\"DigitalToAnalog\"],\n",
    "}\n",
    "chains[\"ry90m_global\"] = {\n",
    "    \"AWG\": [],\n",
    "    \"DigitalToAnalog\": [\"AWG\"],\n",
    "    \"VoltsToHertz\": [\"DigitalToAnalog\"],\n",
    "}\n",
    "device_generator = Generator(\n",
    "    devices=generator_devices,\n",
    "    chains=chains,\n",
    ")\n",
    "\n",
    "ryd_system.set_generator(device_generator)"
   ]
  },
  {
   "cell_type": "code",
   "execution_count": 24,
   "metadata": {},
   "outputs": [
    {
     "data": {
      "application/vnd.plotly.v1+json": {
       "config": {
        "plotlyServerURL": "https://plot.ly"
       },
       "data": [
        {
         "marker": {
          "color": "rgba(0, 0, 250, 0.1)",
          "line": {
           "color": "red",
           "width": 0.1
          }
         },
         "name": "Trace 1",
         "type": "bar",
         "uid": "b558f4b8-3937-4609-86af-c115e33941a4",
         "x": [
          1e-9,
          3.0000000000000004e-9,
          5e-9,
          7.000000000000001e-9,
          9.000000000000001e-9,
          1.1000000000000001e-8,
          1.3000000000000002e-8,
          1.5000000000000002e-8,
          1.7e-8,
          1.9e-8,
          2.1e-8,
          2.3e-8,
          2.5000000000000002e-8,
          2.7e-8,
          2.9e-8,
          3.1000000000000006e-8,
          3.3000000000000004e-8,
          3.5e-8,
          3.700000000000001e-8,
          3.9000000000000005e-8,
          4.1e-8,
          4.300000000000001e-8,
          4.5000000000000006e-8,
          4.7000000000000004e-8,
          4.900000000000001e-8,
          5.100000000000001e-8,
          5.3000000000000005e-8,
          5.5e-8,
          5.700000000000001e-8,
          5.9000000000000006e-8,
          6.1e-8,
          6.3e-8,
          6.5e-8,
          6.7e-8,
          6.9e-8,
          7.1e-8,
          7.3e-8,
          7.5e-8,
          7.7e-8,
          7.9e-8,
          8.1e-8,
          8.3e-8,
          8.500000000000001e-8,
          8.7e-8,
          8.9e-8,
          9.100000000000001e-8,
          9.3e-8,
          9.5e-8,
          9.700000000000001e-8,
          9.9e-8,
          1.01e-7,
          1.03e-7,
          1.05e-7,
          1.07e-7,
          1.09e-7,
          1.11e-7,
          1.13e-7,
          1.15e-7,
          1.17e-7,
          1.1900000000000001e-7,
          1.21e-7,
          1.23e-7,
          1.25e-7,
          1.27e-7,
          1.29e-7,
          1.31e-7,
          1.33e-7,
          1.35e-7,
          1.37e-7,
          1.3900000000000001e-7,
          1.41e-7,
          1.43e-7,
          1.4500000000000001e-7,
          1.47e-7,
          1.49e-7,
          1.5100000000000002e-7,
          1.53e-7,
          1.55e-7,
          1.5700000000000002e-7,
          1.59e-7,
          1.61e-7,
          1.6300000000000002e-7,
          1.65e-7,
          1.67e-7,
          1.6900000000000002e-7,
          1.71e-7,
          1.73e-7,
          1.7500000000000002e-7,
          1.77e-7,
          1.79e-7,
          1.8100000000000002e-7,
          1.83e-7,
          1.85e-7,
          1.8700000000000002e-7,
          1.89e-7,
          1.91e-7,
          1.9300000000000002e-7,
          1.95e-7,
          1.97e-7,
          1.99e-7,
          2.01e-7,
          2.03e-7,
          2.05e-7,
          2.0700000000000001e-7,
          2.09e-7,
          2.11e-7,
          2.1300000000000001e-7,
          2.15e-7,
          2.17e-7,
          2.1900000000000002e-7,
          2.21e-7,
          2.23e-7,
          2.2500000000000002e-7,
          2.27e-7,
          2.29e-7,
          2.3100000000000002e-7,
          2.33e-7,
          2.35e-7,
          2.3700000000000002e-7,
          2.39e-7,
          2.4100000000000005e-7,
          2.4300000000000005e-7,
          2.4500000000000004e-7,
          2.4700000000000003e-7,
          2.49e-7,
          2.5100000000000006e-7,
          2.5300000000000006e-7,
          2.5500000000000005e-7,
          2.5700000000000004e-7,
          2.5900000000000003e-7,
          2.61e-7,
          2.63e-7,
          2.6500000000000006e-7,
          2.6700000000000005e-7,
          2.6900000000000004e-7,
          2.7100000000000003e-7,
          2.73e-7,
          2.75e-7,
          2.7700000000000006e-7,
          2.7900000000000005e-7,
          2.8100000000000004e-7,
          2.8300000000000003e-7,
          2.85e-7,
          2.87e-7,
          2.8900000000000006e-7,
          2.9100000000000005e-7,
          2.9300000000000004e-7,
          2.9500000000000003e-7,
          2.97e-7,
          2.99e-7,
          3.0100000000000006e-7,
          3.0300000000000005e-7,
          3.0500000000000004e-7,
          3.0700000000000004e-7,
          3.0900000000000003e-7,
          3.11e-7,
          3.1300000000000006e-7,
          3.1500000000000005e-7,
          3.1700000000000005e-7,
          3.1900000000000004e-7,
          3.2100000000000003e-7,
          3.23e-7,
          3.2500000000000006e-7,
          3.2700000000000006e-7,
          3.2900000000000005e-7,
          3.3100000000000004e-7,
          3.3300000000000003e-7,
          3.35e-7,
          3.3700000000000007e-7,
          3.3900000000000006e-7,
          3.4100000000000005e-7,
          3.4300000000000004e-7,
          3.4500000000000003e-7,
          3.47e-7,
          3.4900000000000007e-7,
          3.5100000000000006e-7,
          3.5300000000000005e-7,
          3.5500000000000004e-7,
          3.5700000000000003e-7,
          3.59e-7,
          3.6100000000000007e-7,
          3.6300000000000006e-7,
          3.6500000000000005e-7,
          3.6700000000000004e-7,
          3.6900000000000004e-7,
          3.7100000000000003e-7,
          3.7300000000000007e-7,
          3.7500000000000006e-7,
          3.7700000000000005e-7,
          3.7900000000000005e-7,
          3.8100000000000004e-7,
          3.8300000000000003e-7,
          3.8500000000000007e-7,
          3.8700000000000006e-7,
          3.8900000000000006e-7,
          3.9100000000000005e-7,
          3.9300000000000004e-7,
          3.9500000000000003e-7,
          3.97e-7,
          3.9900000000000007e-7,
          4.0100000000000006e-7,
          4.0300000000000005e-7,
          4.0500000000000004e-7,
          4.0700000000000003e-7,
          4.09e-7,
          4.1100000000000007e-7,
          4.1300000000000006e-7,
          4.1500000000000005e-7,
          4.1700000000000004e-7,
          4.1900000000000003e-7,
          4.21e-7,
          4.2300000000000007e-7,
          4.2500000000000006e-7,
          4.2700000000000005e-7,
          4.2900000000000004e-7,
          4.3100000000000003e-7,
          4.33e-7,
          4.3500000000000007e-7,
          4.3700000000000006e-7,
          4.3900000000000005e-7,
          4.4100000000000004e-7,
          4.4300000000000004e-7,
          4.4500000000000003e-7,
          4.4700000000000007e-7,
          4.4900000000000006e-7,
          4.5100000000000005e-7,
          4.5300000000000005e-7,
          4.5500000000000004e-7,
          4.5700000000000003e-7,
          4.5900000000000007e-7,
          4.6100000000000006e-7,
          4.6300000000000006e-7,
          4.6500000000000005e-7,
          4.6700000000000004e-7,
          4.6900000000000003e-7,
          4.710000000000001e-7,
          4.7300000000000007e-7,
          4.7500000000000006e-7,
          4.77e-7,
          4.79e-7,
          4.81e-7,
          4.83e-7,
          4.85e-7,
          4.87e-7,
          4.89e-7,
          4.91e-7,
          4.93e-7,
          4.95e-7,
          4.97e-7,
          4.99e-7
         ],
         "y": [
          12566370.61435917,
          12566370.61435917,
          12566370.61435917,
          12566370.61435917,
          12566370.61435917,
          12566370.61435917,
          12566370.61435917,
          12566370.61435917,
          12566370.61435917,
          12566370.61435917,
          12566370.61435917,
          12566370.61435917,
          12566370.61435917,
          12566370.61435917,
          12566370.61435917,
          12566370.61435917,
          12566370.61435917,
          12566370.61435917,
          12566370.61435917,
          12566370.61435917,
          12566370.61435917,
          12566370.61435917,
          12566370.61435917,
          12566370.61435917,
          12566370.61435917,
          12566370.61435917,
          12566370.61435917,
          12566370.61435917,
          12566370.61435917,
          12566370.61435917,
          12566370.61435917,
          12566370.61435917,
          12566370.61435917,
          12566370.61435917,
          12566370.61435917,
          12566370.61435917,
          12566370.61435917,
          12566370.61435917,
          12566370.61435917,
          12566370.61435917,
          12566370.61435917,
          12566370.61435917,
          12566370.61435917,
          12566370.61435917,
          12566370.61435917,
          12566370.61435917,
          12566370.61435917,
          12566370.61435917,
          12566370.61435917,
          12566370.61435917,
          12566370.61435917,
          12566370.61435917,
          12566370.61435917,
          12566370.61435917,
          12566370.61435917,
          12566370.61435917,
          12566370.61435917,
          12566370.61435917,
          12566370.61435917,
          12566370.61435917,
          12566370.61435917,
          12566370.61435917,
          12566370.61435917,
          12566370.61435917,
          12566370.61435917,
          12566370.61435917,
          12566370.61435917,
          12566370.61435917,
          12566370.61435917,
          12566370.61435917,
          12566370.61435917,
          12566370.61435917,
          12566370.61435917,
          12566370.61435917,
          12566370.61435917,
          12566370.61435917,
          12566370.61435917,
          12566370.61435917,
          12566370.61435917,
          12566370.61435917,
          12566370.61435917,
          12566370.61435917,
          12566370.61435917,
          12566370.61435917,
          12566370.61435917,
          12566370.61435917,
          12566370.61435917,
          12566370.61435917,
          12566370.61435917,
          12566370.61435917,
          12566370.61435917,
          12566370.61435917,
          12566370.61435917,
          12566370.61435917,
          12566370.61435917,
          12566370.61435917,
          12566370.61435917,
          12566370.61435917,
          12566370.61435917,
          12566370.61435917,
          12566370.61435917,
          12566370.61435917,
          12566370.61435917,
          12566370.61435917,
          12566370.61435917,
          12566370.61435917,
          12566370.61435917,
          12566370.61435917,
          12566370.61435917,
          12566370.61435917,
          12566370.61435917,
          12566370.61435917,
          12566370.61435917,
          12566370.61435917,
          12566370.61435917,
          12566370.61435917,
          12566370.61435917,
          12566370.61435917,
          12566370.61435917,
          12566370.61435917,
          12566370.61435917,
          12566370.61435917,
          12566370.61435917,
          12566370.61435917,
          12566370.61435917,
          12566370.61435917,
          12566370.61435917,
          12566370.61435917,
          12566370.61435917,
          12566370.61435917,
          12566370.61435917,
          12566370.61435917,
          12566370.61435917,
          12566370.61435917,
          12566370.61435917,
          12566370.61435917,
          12566370.61435917,
          12566370.61435917,
          12566370.61435917,
          12566370.61435917,
          12566370.61435917,
          12566370.61435917,
          12566370.61435917,
          12566370.61435917,
          12566370.61435917,
          12566370.61435917,
          12566370.61435917,
          12566370.61435917,
          12566370.61435917,
          12566370.61435917,
          12566370.61435917,
          12566370.61435917,
          12566370.61435917,
          12566370.61435917,
          12566370.61435917,
          12566370.61435917,
          12566370.61435917,
          12566370.61435917,
          12566370.61435917,
          12566370.61435917,
          12566370.61435917,
          12566370.61435917,
          12566370.61435917,
          12566370.61435917,
          12566370.61435917,
          12566370.61435917,
          12566370.61435917,
          12566370.61435917,
          12566370.61435917,
          12566370.61435917,
          12566370.61435917,
          12566370.61435917,
          12566370.61435917,
          12566370.61435917,
          12566370.61435917,
          12566370.61435917,
          12566370.61435917,
          12566370.61435917,
          12566370.61435917,
          12566370.61435917,
          12566370.61435917,
          12566370.61435917,
          12566370.61435917,
          12566370.61435917,
          12566370.61435917,
          12566370.61435917,
          12566370.61435917,
          12566370.61435917,
          12566370.61435917,
          12566370.61435917,
          12566370.61435917,
          12566370.61435917,
          12566370.61435917,
          12566370.61435917,
          12566370.61435917,
          12566370.61435917,
          12566370.61435917,
          12566370.61435917,
          12566370.61435917,
          12566370.61435917,
          12566370.61435917,
          12566370.61435917,
          12566370.61435917,
          12566370.61435917,
          12566370.61435917,
          12566370.61435917,
          12566370.61435917,
          12566370.61435917,
          12566370.61435917,
          12566370.61435917,
          12566370.61435917,
          12566370.61435917,
          12566370.61435917,
          12566370.61435917,
          12566370.61435917,
          12566370.61435917,
          12566370.61435917,
          12566370.61435917,
          12566370.61435917,
          12566370.61435917,
          12566370.61435917,
          12566370.61435917,
          12566370.61435917,
          12566370.61435917,
          12566370.61435917,
          12566370.61435917,
          12566370.61435917,
          12566370.61435917,
          12566370.61435917,
          12566370.61435917,
          12566370.61435917,
          12566370.61435917,
          12566370.61435917,
          12566370.61435917,
          12566370.61435917,
          12566370.61435917,
          12566370.61435917,
          12566370.61435917,
          12566370.61435917,
          12566370.61435917,
          12566370.61435917,
          12566370.61435917,
          12566370.61435917,
          12566370.61435917,
          12566370.61435917,
          12566370.61435917,
          12566370.61435917,
          12566370.61435917,
          12566370.61435917,
          12566370.61435917
         ]
        }
       ],
       "layout": {
        "bargap": 0,
        "bargroupgap": 0,
        "barmode": "group",
        "template": {
         "data": {
          "bar": [
           {
            "error_x": {
             "color": "#2a3f5f"
            },
            "error_y": {
             "color": "#2a3f5f"
            },
            "marker": {
             "line": {
              "color": "#E5ECF6",
              "width": 0.5
             },
             "pattern": {
              "fillmode": "overlay",
              "size": 10,
              "solidity": 0.2
             }
            },
            "type": "bar"
           }
          ],
          "barpolar": [
           {
            "marker": {
             "line": {
              "color": "#E5ECF6",
              "width": 0.5
             },
             "pattern": {
              "fillmode": "overlay",
              "size": 10,
              "solidity": 0.2
             }
            },
            "type": "barpolar"
           }
          ],
          "carpet": [
           {
            "aaxis": {
             "endlinecolor": "#2a3f5f",
             "gridcolor": "white",
             "linecolor": "white",
             "minorgridcolor": "white",
             "startlinecolor": "#2a3f5f"
            },
            "baxis": {
             "endlinecolor": "#2a3f5f",
             "gridcolor": "white",
             "linecolor": "white",
             "minorgridcolor": "white",
             "startlinecolor": "#2a3f5f"
            },
            "type": "carpet"
           }
          ],
          "choropleth": [
           {
            "colorbar": {
             "outlinewidth": 0,
             "ticks": ""
            },
            "type": "choropleth"
           }
          ],
          "contour": [
           {
            "colorbar": {
             "outlinewidth": 0,
             "ticks": ""
            },
            "colorscale": [
             [
              0,
              "#0d0887"
             ],
             [
              0.1111111111111111,
              "#46039f"
             ],
             [
              0.2222222222222222,
              "#7201a8"
             ],
             [
              0.3333333333333333,
              "#9c179e"
             ],
             [
              0.4444444444444444,
              "#bd3786"
             ],
             [
              0.5555555555555556,
              "#d8576b"
             ],
             [
              0.6666666666666666,
              "#ed7953"
             ],
             [
              0.7777777777777778,
              "#fb9f3a"
             ],
             [
              0.8888888888888888,
              "#fdca26"
             ],
             [
              1,
              "#f0f921"
             ]
            ],
            "type": "contour"
           }
          ],
          "contourcarpet": [
           {
            "colorbar": {
             "outlinewidth": 0,
             "ticks": ""
            },
            "type": "contourcarpet"
           }
          ],
          "heatmap": [
           {
            "colorbar": {
             "outlinewidth": 0,
             "ticks": ""
            },
            "colorscale": [
             [
              0,
              "#0d0887"
             ],
             [
              0.1111111111111111,
              "#46039f"
             ],
             [
              0.2222222222222222,
              "#7201a8"
             ],
             [
              0.3333333333333333,
              "#9c179e"
             ],
             [
              0.4444444444444444,
              "#bd3786"
             ],
             [
              0.5555555555555556,
              "#d8576b"
             ],
             [
              0.6666666666666666,
              "#ed7953"
             ],
             [
              0.7777777777777778,
              "#fb9f3a"
             ],
             [
              0.8888888888888888,
              "#fdca26"
             ],
             [
              1,
              "#f0f921"
             ]
            ],
            "type": "heatmap"
           }
          ],
          "heatmapgl": [
           {
            "colorbar": {
             "outlinewidth": 0,
             "ticks": ""
            },
            "colorscale": [
             [
              0,
              "#0d0887"
             ],
             [
              0.1111111111111111,
              "#46039f"
             ],
             [
              0.2222222222222222,
              "#7201a8"
             ],
             [
              0.3333333333333333,
              "#9c179e"
             ],
             [
              0.4444444444444444,
              "#bd3786"
             ],
             [
              0.5555555555555556,
              "#d8576b"
             ],
             [
              0.6666666666666666,
              "#ed7953"
             ],
             [
              0.7777777777777778,
              "#fb9f3a"
             ],
             [
              0.8888888888888888,
              "#fdca26"
             ],
             [
              1,
              "#f0f921"
             ]
            ],
            "type": "heatmapgl"
           }
          ],
          "histogram": [
           {
            "marker": {
             "pattern": {
              "fillmode": "overlay",
              "size": 10,
              "solidity": 0.2
             }
            },
            "type": "histogram"
           }
          ],
          "histogram2d": [
           {
            "colorbar": {
             "outlinewidth": 0,
             "ticks": ""
            },
            "colorscale": [
             [
              0,
              "#0d0887"
             ],
             [
              0.1111111111111111,
              "#46039f"
             ],
             [
              0.2222222222222222,
              "#7201a8"
             ],
             [
              0.3333333333333333,
              "#9c179e"
             ],
             [
              0.4444444444444444,
              "#bd3786"
             ],
             [
              0.5555555555555556,
              "#d8576b"
             ],
             [
              0.6666666666666666,
              "#ed7953"
             ],
             [
              0.7777777777777778,
              "#fb9f3a"
             ],
             [
              0.8888888888888888,
              "#fdca26"
             ],
             [
              1,
              "#f0f921"
             ]
            ],
            "type": "histogram2d"
           }
          ],
          "histogram2dcontour": [
           {
            "colorbar": {
             "outlinewidth": 0,
             "ticks": ""
            },
            "colorscale": [
             [
              0,
              "#0d0887"
             ],
             [
              0.1111111111111111,
              "#46039f"
             ],
             [
              0.2222222222222222,
              "#7201a8"
             ],
             [
              0.3333333333333333,
              "#9c179e"
             ],
             [
              0.4444444444444444,
              "#bd3786"
             ],
             [
              0.5555555555555556,
              "#d8576b"
             ],
             [
              0.6666666666666666,
              "#ed7953"
             ],
             [
              0.7777777777777778,
              "#fb9f3a"
             ],
             [
              0.8888888888888888,
              "#fdca26"
             ],
             [
              1,
              "#f0f921"
             ]
            ],
            "type": "histogram2dcontour"
           }
          ],
          "mesh3d": [
           {
            "colorbar": {
             "outlinewidth": 0,
             "ticks": ""
            },
            "type": "mesh3d"
           }
          ],
          "parcoords": [
           {
            "line": {
             "colorbar": {
              "outlinewidth": 0,
              "ticks": ""
             }
            },
            "type": "parcoords"
           }
          ],
          "pie": [
           {
            "automargin": true,
            "type": "pie"
           }
          ],
          "scatter": [
           {
            "fillpattern": {
             "fillmode": "overlay",
             "size": 10,
             "solidity": 0.2
            },
            "type": "scatter"
           }
          ],
          "scatter3d": [
           {
            "line": {
             "colorbar": {
              "outlinewidth": 0,
              "ticks": ""
             }
            },
            "marker": {
             "colorbar": {
              "outlinewidth": 0,
              "ticks": ""
             }
            },
            "type": "scatter3d"
           }
          ],
          "scattercarpet": [
           {
            "marker": {
             "colorbar": {
              "outlinewidth": 0,
              "ticks": ""
             }
            },
            "type": "scattercarpet"
           }
          ],
          "scattergeo": [
           {
            "marker": {
             "colorbar": {
              "outlinewidth": 0,
              "ticks": ""
             }
            },
            "type": "scattergeo"
           }
          ],
          "scattergl": [
           {
            "marker": {
             "colorbar": {
              "outlinewidth": 0,
              "ticks": ""
             }
            },
            "type": "scattergl"
           }
          ],
          "scattermapbox": [
           {
            "marker": {
             "colorbar": {
              "outlinewidth": 0,
              "ticks": ""
             }
            },
            "type": "scattermapbox"
           }
          ],
          "scatterpolar": [
           {
            "marker": {
             "colorbar": {
              "outlinewidth": 0,
              "ticks": ""
             }
            },
            "type": "scatterpolar"
           }
          ],
          "scatterpolargl": [
           {
            "marker": {
             "colorbar": {
              "outlinewidth": 0,
              "ticks": ""
             }
            },
            "type": "scatterpolargl"
           }
          ],
          "scatterternary": [
           {
            "marker": {
             "colorbar": {
              "outlinewidth": 0,
              "ticks": ""
             }
            },
            "type": "scatterternary"
           }
          ],
          "surface": [
           {
            "colorbar": {
             "outlinewidth": 0,
             "ticks": ""
            },
            "colorscale": [
             [
              0,
              "#0d0887"
             ],
             [
              0.1111111111111111,
              "#46039f"
             ],
             [
              0.2222222222222222,
              "#7201a8"
             ],
             [
              0.3333333333333333,
              "#9c179e"
             ],
             [
              0.4444444444444444,
              "#bd3786"
             ],
             [
              0.5555555555555556,
              "#d8576b"
             ],
             [
              0.6666666666666666,
              "#ed7953"
             ],
             [
              0.7777777777777778,
              "#fb9f3a"
             ],
             [
              0.8888888888888888,
              "#fdca26"
             ],
             [
              1,
              "#f0f921"
             ]
            ],
            "type": "surface"
           }
          ],
          "table": [
           {
            "cells": {
             "fill": {
              "color": "#EBF0F8"
             },
             "line": {
              "color": "white"
             }
            },
            "header": {
             "fill": {
              "color": "#C8D4E3"
             },
             "line": {
              "color": "white"
             }
            },
            "type": "table"
           }
          ]
         },
         "layout": {
          "annotationdefaults": {
           "arrowcolor": "#2a3f5f",
           "arrowhead": 0,
           "arrowwidth": 1
          },
          "autotypenumbers": "strict",
          "coloraxis": {
           "colorbar": {
            "outlinewidth": 0,
            "ticks": ""
           }
          },
          "colorscale": {
           "diverging": [
            [
             0,
             "#8e0152"
            ],
            [
             0.1,
             "#c51b7d"
            ],
            [
             0.2,
             "#de77ae"
            ],
            [
             0.3,
             "#f1b6da"
            ],
            [
             0.4,
             "#fde0ef"
            ],
            [
             0.5,
             "#f7f7f7"
            ],
            [
             0.6,
             "#e6f5d0"
            ],
            [
             0.7,
             "#b8e186"
            ],
            [
             0.8,
             "#7fbc41"
            ],
            [
             0.9,
             "#4d9221"
            ],
            [
             1,
             "#276419"
            ]
           ],
           "sequential": [
            [
             0,
             "#0d0887"
            ],
            [
             0.1111111111111111,
             "#46039f"
            ],
            [
             0.2222222222222222,
             "#7201a8"
            ],
            [
             0.3333333333333333,
             "#9c179e"
            ],
            [
             0.4444444444444444,
             "#bd3786"
            ],
            [
             0.5555555555555556,
             "#d8576b"
            ],
            [
             0.6666666666666666,
             "#ed7953"
            ],
            [
             0.7777777777777778,
             "#fb9f3a"
            ],
            [
             0.8888888888888888,
             "#fdca26"
            ],
            [
             1,
             "#f0f921"
            ]
           ],
           "sequentialminus": [
            [
             0,
             "#0d0887"
            ],
            [
             0.1111111111111111,
             "#46039f"
            ],
            [
             0.2222222222222222,
             "#7201a8"
            ],
            [
             0.3333333333333333,
             "#9c179e"
            ],
            [
             0.4444444444444444,
             "#bd3786"
            ],
            [
             0.5555555555555556,
             "#d8576b"
            ],
            [
             0.6666666666666666,
             "#ed7953"
            ],
            [
             0.7777777777777778,
             "#fb9f3a"
            ],
            [
             0.8888888888888888,
             "#fdca26"
            ],
            [
             1,
             "#f0f921"
            ]
           ]
          },
          "colorway": [
           "#636efa",
           "#EF553B",
           "#00cc96",
           "#ab63fa",
           "#FFA15A",
           "#19d3f3",
           "#FF6692",
           "#B6E880",
           "#FF97FF",
           "#FECB52"
          ],
          "font": {
           "color": "#2a3f5f"
          },
          "geo": {
           "bgcolor": "white",
           "lakecolor": "white",
           "landcolor": "#E5ECF6",
           "showlakes": true,
           "showland": true,
           "subunitcolor": "white"
          },
          "hoverlabel": {
           "align": "left"
          },
          "hovermode": "closest",
          "mapbox": {
           "style": "light"
          },
          "paper_bgcolor": "white",
          "plot_bgcolor": "#E5ECF6",
          "polar": {
           "angularaxis": {
            "gridcolor": "white",
            "linecolor": "white",
            "ticks": ""
           },
           "bgcolor": "#E5ECF6",
           "radialaxis": {
            "gridcolor": "white",
            "linecolor": "white",
            "ticks": ""
           }
          },
          "scene": {
           "xaxis": {
            "backgroundcolor": "#E5ECF6",
            "gridcolor": "white",
            "gridwidth": 2,
            "linecolor": "white",
            "showbackground": true,
            "ticks": "",
            "zerolinecolor": "white"
           },
           "yaxis": {
            "backgroundcolor": "#E5ECF6",
            "gridcolor": "white",
            "gridwidth": 2,
            "linecolor": "white",
            "showbackground": true,
            "ticks": "",
            "zerolinecolor": "white"
           },
           "zaxis": {
            "backgroundcolor": "#E5ECF6",
            "gridcolor": "white",
            "gridwidth": 2,
            "linecolor": "white",
            "showbackground": true,
            "ticks": "",
            "zerolinecolor": "white"
           }
          },
          "shapedefaults": {
           "line": {
            "color": "#2a3f5f"
           }
          },
          "ternary": {
           "aaxis": {
            "gridcolor": "white",
            "linecolor": "white",
            "ticks": ""
           },
           "baxis": {
            "gridcolor": "white",
            "linecolor": "white",
            "ticks": ""
           },
           "bgcolor": "#E5ECF6",
           "caxis": {
            "gridcolor": "white",
            "linecolor": "white",
            "ticks": ""
           }
          },
          "title": {
           "x": 0.05
          },
          "xaxis": {
           "automargin": true,
           "gridcolor": "white",
           "linecolor": "white",
           "ticks": "",
           "title": {
            "standoff": 15
           },
           "zerolinecolor": "white",
           "zerolinewidth": 2
          },
          "yaxis": {
           "automargin": true,
           "gridcolor": "white",
           "linecolor": "white",
           "ticks": "",
           "title": {
            "standoff": 15
           },
           "zerolinecolor": "white",
           "zerolinewidth": 2
          }
         }
        },
        "title": {
         "text": "Signal for channel rydbergx3 of instruction ryd_3_2pi"
        },
        "width": 800,
        "xaxis": {
         "title": {
          "text": "Time [s]"
         }
        }
       }
      }
     },
     "metadata": {},
     "output_type": "display_data"
    }
   ],
   "source": [
    "ryd_system.generator.draw(qruise_instructions[-1], resolution=generator_devices[\"AWG\"].resolution, line_shape=\"vhv\")"
   ]
  },
  {
   "cell_type": "markdown",
   "metadata": {},
   "source": [
    "Create generator"
   ]
  },
  {
   "cell_type": "code",
   "execution_count": 25,
   "metadata": {},
   "outputs": [],
   "source": [
    "ryd_system.create_experiment()"
   ]
  },
  {
   "cell_type": "code",
   "execution_count": 26,
   "metadata": {},
   "outputs": [
    {
     "data": {
      "application/vnd.plotly.v1+json": {
       "config": {
        "plotlyServerURL": "https://plot.ly"
       },
       "data": [
        {
         "marker": {
          "color": "rgba(0, 0, 250, 0.1)",
          "line": {
           "color": "red",
           "width": 0.1
          }
         },
         "name": "Trace 1",
         "type": "bar",
         "uid": "860d73f3-ec09-46ef-b912-6f3bda0a74a5",
         "x": [
          1e-9,
          3.0000000000000004e-9,
          5e-9,
          7.000000000000001e-9,
          9.000000000000001e-9,
          1.1000000000000001e-8,
          1.3000000000000002e-8,
          1.5000000000000002e-8,
          1.7e-8,
          1.9e-8,
          2.1e-8,
          2.3e-8,
          2.5000000000000002e-8,
          2.7e-8,
          2.9e-8,
          3.1000000000000006e-8,
          3.3000000000000004e-8,
          3.5e-8,
          3.700000000000001e-8,
          3.9000000000000005e-8,
          4.1e-8,
          4.300000000000001e-8,
          4.5000000000000006e-8,
          4.7000000000000004e-8,
          4.900000000000001e-8,
          5.100000000000001e-8,
          5.3000000000000005e-8,
          5.5e-8,
          5.700000000000001e-8,
          5.9000000000000006e-8,
          6.1e-8,
          6.3e-8,
          6.5e-8,
          6.7e-8,
          6.9e-8,
          7.1e-8,
          7.3e-8,
          7.5e-8,
          7.7e-8,
          7.9e-8,
          8.1e-8,
          8.3e-8,
          8.500000000000001e-8,
          8.7e-8,
          8.9e-8,
          9.100000000000001e-8,
          9.3e-8,
          9.5e-8,
          9.700000000000001e-8,
          9.9e-8,
          1.01e-7,
          1.03e-7,
          1.05e-7,
          1.07e-7,
          1.09e-7,
          1.11e-7,
          1.13e-7,
          1.15e-7,
          1.17e-7,
          1.1900000000000001e-7,
          1.21e-7,
          1.23e-7,
          1.25e-7,
          1.27e-7,
          1.29e-7,
          1.31e-7,
          1.33e-7,
          1.35e-7,
          1.37e-7,
          1.3900000000000001e-7,
          1.41e-7,
          1.43e-7,
          1.4500000000000001e-7,
          1.47e-7,
          1.49e-7,
          1.5100000000000002e-7,
          1.53e-7,
          1.55e-7,
          1.5700000000000002e-7,
          1.59e-7,
          1.61e-7,
          1.6300000000000002e-7,
          1.65e-7,
          1.67e-7,
          1.6900000000000002e-7,
          1.71e-7,
          1.73e-7,
          1.7500000000000002e-7,
          1.77e-7,
          1.79e-7,
          1.8100000000000002e-7,
          1.83e-7,
          1.85e-7,
          1.8700000000000002e-7,
          1.89e-7,
          1.91e-7,
          1.9300000000000002e-7,
          1.95e-7,
          1.97e-7,
          1.99e-7,
          2.01e-7,
          2.03e-7,
          2.05e-7,
          2.0700000000000001e-7,
          2.09e-7,
          2.11e-7,
          2.1300000000000001e-7,
          2.15e-7,
          2.17e-7,
          2.1900000000000002e-7,
          2.21e-7,
          2.23e-7,
          2.2500000000000002e-7,
          2.27e-7,
          2.29e-7,
          2.3100000000000002e-7,
          2.33e-7,
          2.35e-7,
          2.3700000000000002e-7,
          2.39e-7,
          2.4100000000000005e-7,
          2.4300000000000005e-7,
          2.4500000000000004e-7,
          2.4700000000000003e-7,
          2.49e-7,
          2.5100000000000006e-7,
          2.5300000000000006e-7,
          2.5500000000000005e-7,
          2.5700000000000004e-7,
          2.5900000000000003e-7,
          2.61e-7,
          2.63e-7,
          2.6500000000000006e-7,
          2.6700000000000005e-7,
          2.6900000000000004e-7,
          2.7100000000000003e-7,
          2.73e-7,
          2.75e-7,
          2.7700000000000006e-7,
          2.7900000000000005e-7,
          2.8100000000000004e-7,
          2.8300000000000003e-7,
          2.85e-7,
          2.87e-7,
          2.8900000000000006e-7,
          2.9100000000000005e-7,
          2.9300000000000004e-7,
          2.9500000000000003e-7,
          2.97e-7,
          2.99e-7,
          3.0100000000000006e-7,
          3.0300000000000005e-7,
          3.0500000000000004e-7,
          3.0700000000000004e-7,
          3.0900000000000003e-7,
          3.11e-7,
          3.1300000000000006e-7,
          3.1500000000000005e-7,
          3.1700000000000005e-7,
          3.1900000000000004e-7,
          3.2100000000000003e-7,
          3.23e-7,
          3.2500000000000006e-7,
          3.2700000000000006e-7,
          3.2900000000000005e-7,
          3.3100000000000004e-7,
          3.3300000000000003e-7,
          3.35e-7,
          3.3700000000000007e-7,
          3.3900000000000006e-7,
          3.4100000000000005e-7,
          3.4300000000000004e-7,
          3.4500000000000003e-7,
          3.47e-7,
          3.4900000000000007e-7,
          3.5100000000000006e-7,
          3.5300000000000005e-7,
          3.5500000000000004e-7,
          3.5700000000000003e-7,
          3.59e-7,
          3.6100000000000007e-7,
          3.6300000000000006e-7,
          3.6500000000000005e-7,
          3.6700000000000004e-7,
          3.6900000000000004e-7,
          3.7100000000000003e-7,
          3.7300000000000007e-7,
          3.7500000000000006e-7,
          3.7700000000000005e-7,
          3.7900000000000005e-7,
          3.8100000000000004e-7,
          3.8300000000000003e-7,
          3.8500000000000007e-7,
          3.8700000000000006e-7,
          3.8900000000000006e-7,
          3.9100000000000005e-7,
          3.9300000000000004e-7,
          3.9500000000000003e-7,
          3.97e-7,
          3.9900000000000007e-7,
          4.0100000000000006e-7,
          4.0300000000000005e-7,
          4.0500000000000004e-7,
          4.0700000000000003e-7,
          4.09e-7,
          4.1100000000000007e-7,
          4.1300000000000006e-7,
          4.1500000000000005e-7,
          4.1700000000000004e-7,
          4.1900000000000003e-7,
          4.21e-7,
          4.2300000000000007e-7,
          4.2500000000000006e-7,
          4.2700000000000005e-7,
          4.2900000000000004e-7,
          4.3100000000000003e-7,
          4.33e-7,
          4.3500000000000007e-7,
          4.3700000000000006e-7,
          4.3900000000000005e-7,
          4.4100000000000004e-7,
          4.4300000000000004e-7,
          4.4500000000000003e-7,
          4.4700000000000007e-7,
          4.4900000000000006e-7,
          4.5100000000000005e-7,
          4.5300000000000005e-7,
          4.5500000000000004e-7,
          4.5700000000000003e-7,
          4.5900000000000007e-7,
          4.6100000000000006e-7,
          4.6300000000000006e-7,
          4.6500000000000005e-7,
          4.6700000000000004e-7,
          4.6900000000000003e-7,
          4.710000000000001e-7,
          4.7300000000000007e-7,
          4.7500000000000006e-7,
          4.77e-7,
          4.79e-7,
          4.81e-7,
          4.83e-7,
          4.85e-7,
          4.87e-7,
          4.89e-7,
          4.91e-7,
          4.93e-7,
          4.95e-7,
          4.97e-7,
          4.99e-7
         ],
         "y": [
          12566370.61435917,
          12566370.61435917,
          12566370.61435917,
          12566370.61435917,
          12566370.61435917,
          12566370.61435917,
          12566370.61435917,
          12566370.61435917,
          12566370.61435917,
          12566370.61435917,
          12566370.61435917,
          12566370.61435917,
          12566370.61435917,
          12566370.61435917,
          12566370.61435917,
          12566370.61435917,
          12566370.61435917,
          12566370.61435917,
          12566370.61435917,
          12566370.61435917,
          12566370.61435917,
          12566370.61435917,
          12566370.61435917,
          12566370.61435917,
          12566370.61435917,
          12566370.61435917,
          12566370.61435917,
          12566370.61435917,
          12566370.61435917,
          12566370.61435917,
          12566370.61435917,
          12566370.61435917,
          12566370.61435917,
          12566370.61435917,
          12566370.61435917,
          12566370.61435917,
          12566370.61435917,
          12566370.61435917,
          12566370.61435917,
          12566370.61435917,
          12566370.61435917,
          12566370.61435917,
          12566370.61435917,
          12566370.61435917,
          12566370.61435917,
          12566370.61435917,
          12566370.61435917,
          12566370.61435917,
          12566370.61435917,
          12566370.61435917,
          12566370.61435917,
          12566370.61435917,
          12566370.61435917,
          12566370.61435917,
          12566370.61435917,
          12566370.61435917,
          12566370.61435917,
          12566370.61435917,
          12566370.61435917,
          12566370.61435917,
          12566370.61435917,
          12566370.61435917,
          12566370.61435917,
          12566370.61435917,
          12566370.61435917,
          12566370.61435917,
          12566370.61435917,
          12566370.61435917,
          12566370.61435917,
          12566370.61435917,
          12566370.61435917,
          12566370.61435917,
          12566370.61435917,
          12566370.61435917,
          12566370.61435917,
          12566370.61435917,
          12566370.61435917,
          12566370.61435917,
          12566370.61435917,
          12566370.61435917,
          12566370.61435917,
          12566370.61435917,
          12566370.61435917,
          12566370.61435917,
          12566370.61435917,
          12566370.61435917,
          12566370.61435917,
          12566370.61435917,
          12566370.61435917,
          12566370.61435917,
          12566370.61435917,
          12566370.61435917,
          12566370.61435917,
          12566370.61435917,
          12566370.61435917,
          12566370.61435917,
          12566370.61435917,
          12566370.61435917,
          12566370.61435917,
          12566370.61435917,
          12566370.61435917,
          12566370.61435917,
          12566370.61435917,
          12566370.61435917,
          12566370.61435917,
          12566370.61435917,
          12566370.61435917,
          12566370.61435917,
          12566370.61435917,
          12566370.61435917,
          12566370.61435917,
          12566370.61435917,
          12566370.61435917,
          12566370.61435917,
          12566370.61435917,
          12566370.61435917,
          12566370.61435917,
          12566370.61435917,
          12566370.61435917,
          12566370.61435917,
          12566370.61435917,
          12566370.61435917,
          12566370.61435917,
          12566370.61435917,
          12566370.61435917,
          12566370.61435917,
          12566370.61435917,
          12566370.61435917,
          12566370.61435917,
          12566370.61435917,
          12566370.61435917,
          12566370.61435917,
          12566370.61435917,
          12566370.61435917,
          12566370.61435917,
          12566370.61435917,
          12566370.61435917,
          12566370.61435917,
          12566370.61435917,
          12566370.61435917,
          12566370.61435917,
          12566370.61435917,
          12566370.61435917,
          12566370.61435917,
          12566370.61435917,
          12566370.61435917,
          12566370.61435917,
          12566370.61435917,
          12566370.61435917,
          12566370.61435917,
          12566370.61435917,
          12566370.61435917,
          12566370.61435917,
          12566370.61435917,
          12566370.61435917,
          12566370.61435917,
          12566370.61435917,
          12566370.61435917,
          12566370.61435917,
          12566370.61435917,
          12566370.61435917,
          12566370.61435917,
          12566370.61435917,
          12566370.61435917,
          12566370.61435917,
          12566370.61435917,
          12566370.61435917,
          12566370.61435917,
          12566370.61435917,
          12566370.61435917,
          12566370.61435917,
          12566370.61435917,
          12566370.61435917,
          12566370.61435917,
          12566370.61435917,
          12566370.61435917,
          12566370.61435917,
          12566370.61435917,
          12566370.61435917,
          12566370.61435917,
          12566370.61435917,
          12566370.61435917,
          12566370.61435917,
          12566370.61435917,
          12566370.61435917,
          12566370.61435917,
          12566370.61435917,
          12566370.61435917,
          12566370.61435917,
          12566370.61435917,
          12566370.61435917,
          12566370.61435917,
          12566370.61435917,
          12566370.61435917,
          12566370.61435917,
          12566370.61435917,
          12566370.61435917,
          12566370.61435917,
          12566370.61435917,
          12566370.61435917,
          12566370.61435917,
          12566370.61435917,
          12566370.61435917,
          12566370.61435917,
          12566370.61435917,
          12566370.61435917,
          12566370.61435917,
          12566370.61435917,
          12566370.61435917,
          12566370.61435917,
          12566370.61435917,
          12566370.61435917,
          12566370.61435917,
          12566370.61435917,
          12566370.61435917,
          12566370.61435917,
          12566370.61435917,
          12566370.61435917,
          12566370.61435917,
          12566370.61435917,
          12566370.61435917,
          12566370.61435917,
          12566370.61435917,
          12566370.61435917,
          12566370.61435917,
          12566370.61435917,
          12566370.61435917,
          12566370.61435917,
          12566370.61435917,
          12566370.61435917,
          12566370.61435917,
          12566370.61435917,
          12566370.61435917,
          12566370.61435917,
          12566370.61435917,
          12566370.61435917,
          12566370.61435917,
          12566370.61435917,
          12566370.61435917,
          12566370.61435917,
          12566370.61435917,
          12566370.61435917,
          12566370.61435917,
          12566370.61435917,
          12566370.61435917,
          12566370.61435917,
          12566370.61435917,
          12566370.61435917,
          12566370.61435917,
          12566370.61435917
         ]
        }
       ],
       "layout": {
        "bargap": 0,
        "bargroupgap": 0,
        "barmode": "group",
        "template": {
         "data": {
          "bar": [
           {
            "error_x": {
             "color": "#2a3f5f"
            },
            "error_y": {
             "color": "#2a3f5f"
            },
            "marker": {
             "line": {
              "color": "#E5ECF6",
              "width": 0.5
             },
             "pattern": {
              "fillmode": "overlay",
              "size": 10,
              "solidity": 0.2
             }
            },
            "type": "bar"
           }
          ],
          "barpolar": [
           {
            "marker": {
             "line": {
              "color": "#E5ECF6",
              "width": 0.5
             },
             "pattern": {
              "fillmode": "overlay",
              "size": 10,
              "solidity": 0.2
             }
            },
            "type": "barpolar"
           }
          ],
          "carpet": [
           {
            "aaxis": {
             "endlinecolor": "#2a3f5f",
             "gridcolor": "white",
             "linecolor": "white",
             "minorgridcolor": "white",
             "startlinecolor": "#2a3f5f"
            },
            "baxis": {
             "endlinecolor": "#2a3f5f",
             "gridcolor": "white",
             "linecolor": "white",
             "minorgridcolor": "white",
             "startlinecolor": "#2a3f5f"
            },
            "type": "carpet"
           }
          ],
          "choropleth": [
           {
            "colorbar": {
             "outlinewidth": 0,
             "ticks": ""
            },
            "type": "choropleth"
           }
          ],
          "contour": [
           {
            "colorbar": {
             "outlinewidth": 0,
             "ticks": ""
            },
            "colorscale": [
             [
              0,
              "#0d0887"
             ],
             [
              0.1111111111111111,
              "#46039f"
             ],
             [
              0.2222222222222222,
              "#7201a8"
             ],
             [
              0.3333333333333333,
              "#9c179e"
             ],
             [
              0.4444444444444444,
              "#bd3786"
             ],
             [
              0.5555555555555556,
              "#d8576b"
             ],
             [
              0.6666666666666666,
              "#ed7953"
             ],
             [
              0.7777777777777778,
              "#fb9f3a"
             ],
             [
              0.8888888888888888,
              "#fdca26"
             ],
             [
              1,
              "#f0f921"
             ]
            ],
            "type": "contour"
           }
          ],
          "contourcarpet": [
           {
            "colorbar": {
             "outlinewidth": 0,
             "ticks": ""
            },
            "type": "contourcarpet"
           }
          ],
          "heatmap": [
           {
            "colorbar": {
             "outlinewidth": 0,
             "ticks": ""
            },
            "colorscale": [
             [
              0,
              "#0d0887"
             ],
             [
              0.1111111111111111,
              "#46039f"
             ],
             [
              0.2222222222222222,
              "#7201a8"
             ],
             [
              0.3333333333333333,
              "#9c179e"
             ],
             [
              0.4444444444444444,
              "#bd3786"
             ],
             [
              0.5555555555555556,
              "#d8576b"
             ],
             [
              0.6666666666666666,
              "#ed7953"
             ],
             [
              0.7777777777777778,
              "#fb9f3a"
             ],
             [
              0.8888888888888888,
              "#fdca26"
             ],
             [
              1,
              "#f0f921"
             ]
            ],
            "type": "heatmap"
           }
          ],
          "heatmapgl": [
           {
            "colorbar": {
             "outlinewidth": 0,
             "ticks": ""
            },
            "colorscale": [
             [
              0,
              "#0d0887"
             ],
             [
              0.1111111111111111,
              "#46039f"
             ],
             [
              0.2222222222222222,
              "#7201a8"
             ],
             [
              0.3333333333333333,
              "#9c179e"
             ],
             [
              0.4444444444444444,
              "#bd3786"
             ],
             [
              0.5555555555555556,
              "#d8576b"
             ],
             [
              0.6666666666666666,
              "#ed7953"
             ],
             [
              0.7777777777777778,
              "#fb9f3a"
             ],
             [
              0.8888888888888888,
              "#fdca26"
             ],
             [
              1,
              "#f0f921"
             ]
            ],
            "type": "heatmapgl"
           }
          ],
          "histogram": [
           {
            "marker": {
             "pattern": {
              "fillmode": "overlay",
              "size": 10,
              "solidity": 0.2
             }
            },
            "type": "histogram"
           }
          ],
          "histogram2d": [
           {
            "colorbar": {
             "outlinewidth": 0,
             "ticks": ""
            },
            "colorscale": [
             [
              0,
              "#0d0887"
             ],
             [
              0.1111111111111111,
              "#46039f"
             ],
             [
              0.2222222222222222,
              "#7201a8"
             ],
             [
              0.3333333333333333,
              "#9c179e"
             ],
             [
              0.4444444444444444,
              "#bd3786"
             ],
             [
              0.5555555555555556,
              "#d8576b"
             ],
             [
              0.6666666666666666,
              "#ed7953"
             ],
             [
              0.7777777777777778,
              "#fb9f3a"
             ],
             [
              0.8888888888888888,
              "#fdca26"
             ],
             [
              1,
              "#f0f921"
             ]
            ],
            "type": "histogram2d"
           }
          ],
          "histogram2dcontour": [
           {
            "colorbar": {
             "outlinewidth": 0,
             "ticks": ""
            },
            "colorscale": [
             [
              0,
              "#0d0887"
             ],
             [
              0.1111111111111111,
              "#46039f"
             ],
             [
              0.2222222222222222,
              "#7201a8"
             ],
             [
              0.3333333333333333,
              "#9c179e"
             ],
             [
              0.4444444444444444,
              "#bd3786"
             ],
             [
              0.5555555555555556,
              "#d8576b"
             ],
             [
              0.6666666666666666,
              "#ed7953"
             ],
             [
              0.7777777777777778,
              "#fb9f3a"
             ],
             [
              0.8888888888888888,
              "#fdca26"
             ],
             [
              1,
              "#f0f921"
             ]
            ],
            "type": "histogram2dcontour"
           }
          ],
          "mesh3d": [
           {
            "colorbar": {
             "outlinewidth": 0,
             "ticks": ""
            },
            "type": "mesh3d"
           }
          ],
          "parcoords": [
           {
            "line": {
             "colorbar": {
              "outlinewidth": 0,
              "ticks": ""
             }
            },
            "type": "parcoords"
           }
          ],
          "pie": [
           {
            "automargin": true,
            "type": "pie"
           }
          ],
          "scatter": [
           {
            "fillpattern": {
             "fillmode": "overlay",
             "size": 10,
             "solidity": 0.2
            },
            "type": "scatter"
           }
          ],
          "scatter3d": [
           {
            "line": {
             "colorbar": {
              "outlinewidth": 0,
              "ticks": ""
             }
            },
            "marker": {
             "colorbar": {
              "outlinewidth": 0,
              "ticks": ""
             }
            },
            "type": "scatter3d"
           }
          ],
          "scattercarpet": [
           {
            "marker": {
             "colorbar": {
              "outlinewidth": 0,
              "ticks": ""
             }
            },
            "type": "scattercarpet"
           }
          ],
          "scattergeo": [
           {
            "marker": {
             "colorbar": {
              "outlinewidth": 0,
              "ticks": ""
             }
            },
            "type": "scattergeo"
           }
          ],
          "scattergl": [
           {
            "marker": {
             "colorbar": {
              "outlinewidth": 0,
              "ticks": ""
             }
            },
            "type": "scattergl"
           }
          ],
          "scattermapbox": [
           {
            "marker": {
             "colorbar": {
              "outlinewidth": 0,
              "ticks": ""
             }
            },
            "type": "scattermapbox"
           }
          ],
          "scatterpolar": [
           {
            "marker": {
             "colorbar": {
              "outlinewidth": 0,
              "ticks": ""
             }
            },
            "type": "scatterpolar"
           }
          ],
          "scatterpolargl": [
           {
            "marker": {
             "colorbar": {
              "outlinewidth": 0,
              "ticks": ""
             }
            },
            "type": "scatterpolargl"
           }
          ],
          "scatterternary": [
           {
            "marker": {
             "colorbar": {
              "outlinewidth": 0,
              "ticks": ""
             }
            },
            "type": "scatterternary"
           }
          ],
          "surface": [
           {
            "colorbar": {
             "outlinewidth": 0,
             "ticks": ""
            },
            "colorscale": [
             [
              0,
              "#0d0887"
             ],
             [
              0.1111111111111111,
              "#46039f"
             ],
             [
              0.2222222222222222,
              "#7201a8"
             ],
             [
              0.3333333333333333,
              "#9c179e"
             ],
             [
              0.4444444444444444,
              "#bd3786"
             ],
             [
              0.5555555555555556,
              "#d8576b"
             ],
             [
              0.6666666666666666,
              "#ed7953"
             ],
             [
              0.7777777777777778,
              "#fb9f3a"
             ],
             [
              0.8888888888888888,
              "#fdca26"
             ],
             [
              1,
              "#f0f921"
             ]
            ],
            "type": "surface"
           }
          ],
          "table": [
           {
            "cells": {
             "fill": {
              "color": "#EBF0F8"
             },
             "line": {
              "color": "white"
             }
            },
            "header": {
             "fill": {
              "color": "#C8D4E3"
             },
             "line": {
              "color": "white"
             }
            },
            "type": "table"
           }
          ]
         },
         "layout": {
          "annotationdefaults": {
           "arrowcolor": "#2a3f5f",
           "arrowhead": 0,
           "arrowwidth": 1
          },
          "autotypenumbers": "strict",
          "coloraxis": {
           "colorbar": {
            "outlinewidth": 0,
            "ticks": ""
           }
          },
          "colorscale": {
           "diverging": [
            [
             0,
             "#8e0152"
            ],
            [
             0.1,
             "#c51b7d"
            ],
            [
             0.2,
             "#de77ae"
            ],
            [
             0.3,
             "#f1b6da"
            ],
            [
             0.4,
             "#fde0ef"
            ],
            [
             0.5,
             "#f7f7f7"
            ],
            [
             0.6,
             "#e6f5d0"
            ],
            [
             0.7,
             "#b8e186"
            ],
            [
             0.8,
             "#7fbc41"
            ],
            [
             0.9,
             "#4d9221"
            ],
            [
             1,
             "#276419"
            ]
           ],
           "sequential": [
            [
             0,
             "#0d0887"
            ],
            [
             0.1111111111111111,
             "#46039f"
            ],
            [
             0.2222222222222222,
             "#7201a8"
            ],
            [
             0.3333333333333333,
             "#9c179e"
            ],
            [
             0.4444444444444444,
             "#bd3786"
            ],
            [
             0.5555555555555556,
             "#d8576b"
            ],
            [
             0.6666666666666666,
             "#ed7953"
            ],
            [
             0.7777777777777778,
             "#fb9f3a"
            ],
            [
             0.8888888888888888,
             "#fdca26"
            ],
            [
             1,
             "#f0f921"
            ]
           ],
           "sequentialminus": [
            [
             0,
             "#0d0887"
            ],
            [
             0.1111111111111111,
             "#46039f"
            ],
            [
             0.2222222222222222,
             "#7201a8"
            ],
            [
             0.3333333333333333,
             "#9c179e"
            ],
            [
             0.4444444444444444,
             "#bd3786"
            ],
            [
             0.5555555555555556,
             "#d8576b"
            ],
            [
             0.6666666666666666,
             "#ed7953"
            ],
            [
             0.7777777777777778,
             "#fb9f3a"
            ],
            [
             0.8888888888888888,
             "#fdca26"
            ],
            [
             1,
             "#f0f921"
            ]
           ]
          },
          "colorway": [
           "#636efa",
           "#EF553B",
           "#00cc96",
           "#ab63fa",
           "#FFA15A",
           "#19d3f3",
           "#FF6692",
           "#B6E880",
           "#FF97FF",
           "#FECB52"
          ],
          "font": {
           "color": "#2a3f5f"
          },
          "geo": {
           "bgcolor": "white",
           "lakecolor": "white",
           "landcolor": "#E5ECF6",
           "showlakes": true,
           "showland": true,
           "subunitcolor": "white"
          },
          "hoverlabel": {
           "align": "left"
          },
          "hovermode": "closest",
          "mapbox": {
           "style": "light"
          },
          "paper_bgcolor": "white",
          "plot_bgcolor": "#E5ECF6",
          "polar": {
           "angularaxis": {
            "gridcolor": "white",
            "linecolor": "white",
            "ticks": ""
           },
           "bgcolor": "#E5ECF6",
           "radialaxis": {
            "gridcolor": "white",
            "linecolor": "white",
            "ticks": ""
           }
          },
          "scene": {
           "xaxis": {
            "backgroundcolor": "#E5ECF6",
            "gridcolor": "white",
            "gridwidth": 2,
            "linecolor": "white",
            "showbackground": true,
            "ticks": "",
            "zerolinecolor": "white"
           },
           "yaxis": {
            "backgroundcolor": "#E5ECF6",
            "gridcolor": "white",
            "gridwidth": 2,
            "linecolor": "white",
            "showbackground": true,
            "ticks": "",
            "zerolinecolor": "white"
           },
           "zaxis": {
            "backgroundcolor": "#E5ECF6",
            "gridcolor": "white",
            "gridwidth": 2,
            "linecolor": "white",
            "showbackground": true,
            "ticks": "",
            "zerolinecolor": "white"
           }
          },
          "shapedefaults": {
           "line": {
            "color": "#2a3f5f"
           }
          },
          "ternary": {
           "aaxis": {
            "gridcolor": "white",
            "linecolor": "white",
            "ticks": ""
           },
           "baxis": {
            "gridcolor": "white",
            "linecolor": "white",
            "ticks": ""
           },
           "bgcolor": "#E5ECF6",
           "caxis": {
            "gridcolor": "white",
            "linecolor": "white",
            "ticks": ""
           }
          },
          "title": {
           "x": 0.05
          },
          "xaxis": {
           "automargin": true,
           "gridcolor": "white",
           "linecolor": "white",
           "ticks": "",
           "title": {
            "standoff": 15
           },
           "zerolinecolor": "white",
           "zerolinewidth": 2
          },
          "yaxis": {
           "automargin": true,
           "gridcolor": "white",
           "linecolor": "white",
           "ticks": "",
           "title": {
            "standoff": 15
           },
           "zerolinecolor": "white",
           "zerolinewidth": 2
          }
         }
        },
        "title": {
         "text": "Signal for channel rydbergx3 of instruction ryd_3_2pi"
        },
        "width": 800,
        "xaxis": {
         "title": {
          "text": "Time [s]"
         }
        }
       }
      }
     },
     "metadata": {},
     "output_type": "display_data"
    }
   ],
   "source": [
    "ryd_system.generator.draw(qruise_instructions[-1], resolution=generator_devices[\"AWG\"].resolution, line_shape=\"vhv\")"
   ]
  },
  {
   "cell_type": "code",
   "execution_count": 27,
   "metadata": {},
   "outputs": [],
   "source": [
    "an_instruction = ryd_system.instruction_list[-1]\n",
    "prop = ryd_system.experiment.compute_propagators(gate_ids=[an_instruction.get_key()])"
   ]
  },
  {
   "cell_type": "code",
   "execution_count": 28,
   "metadata": {},
   "outputs": [],
   "source": [
    "U = prop[an_instruction.get_key()]._tensor"
   ]
  },
  {
   "cell_type": "code",
   "execution_count": 29,
   "metadata": {},
   "outputs": [
    {
     "data": {
      "text/plain": [
       "TensorShape([66, 66])"
      ]
     },
     "execution_count": 29,
     "metadata": {},
     "output_type": "execute_result"
    }
   ],
   "source": [
    "U.shape"
   ]
  },
  {
   "cell_type": "code",
   "execution_count": 30,
   "metadata": {},
   "outputs": [
    {
     "data": {
      "application/vnd.plotly.v1+json": {
       "config": {
        "plotlyServerURL": "https://plot.ly"
       },
       "data": [
        {
         "line": {
          "shape": "spline"
         },
         "mode": "lines",
         "name": "0000",
         "type": "scatter",
         "x": [
          0,
          1.0078740157480316e-9,
          2.015748031496063e-9,
          3.0236220472440945e-9,
          4.031496062992126e-9,
          5.039370078740158e-9,
          6.047244094488189e-9,
          7.055118110236221e-9,
          8.062992125984253e-9,
          9.070866141732284e-9,
          1.0078740157480316e-8,
          1.1086614173228347e-8,
          1.2094488188976378e-8,
          1.310236220472441e-8,
          1.4110236220472442e-8,
          1.5118110236220474e-8,
          1.6125984251968505e-8,
          1.7133858267716536e-8,
          1.8141732283464567e-8,
          1.91496062992126e-8,
          2.0157480314960632e-8,
          2.1165354330708663e-8,
          2.2173228346456694e-8,
          2.3181102362204725e-8,
          2.4188976377952756e-8,
          2.519685039370079e-8,
          2.620472440944882e-8,
          2.7212598425196852e-8,
          2.8220472440944883e-8,
          2.9228346456692914e-8,
          3.023622047244095e-8,
          3.1244094488188976e-8,
          3.225196850393701e-8,
          3.3259842519685045e-8,
          3.426771653543307e-8,
          3.527559055118111e-8,
          3.6283464566929134e-8,
          3.729133858267717e-8,
          3.82992125984252e-8,
          3.930708661417323e-8,
          4.0314960629921265e-8,
          4.132283464566929e-8,
          4.233070866141733e-8,
          4.333858267716536e-8,
          4.434645669291339e-8,
          4.535433070866142e-8,
          4.636220472440945e-8,
          4.7370078740157485e-8,
          4.837795275590551e-8,
          4.938582677165355e-8,
          5.039370078740158e-8,
          5.140157480314961e-8,
          5.240944881889764e-8,
          5.341732283464567e-8,
          5.4425196850393705e-8,
          5.543307086614174e-8,
          5.644094488188977e-8,
          5.74488188976378e-8,
          5.845669291338583e-8,
          5.946456692913386e-8,
          6.04724409448819e-8,
          6.148031496062993e-8,
          6.248818897637795e-8,
          6.349606299212599e-8,
          6.450393700787402e-8,
          6.551181102362206e-8,
          6.651968503937009e-8,
          6.752755905511811e-8,
          6.853543307086614e-8,
          6.954330708661418e-8,
          7.055118110236221e-8,
          7.155905511811025e-8,
          7.256692913385827e-8,
          7.35748031496063e-8,
          7.458267716535434e-8,
          7.559055118110237e-8,
          7.65984251968504e-8,
          7.760629921259843e-8,
          7.861417322834646e-8,
          7.96220472440945e-8,
          8.062992125984253e-8,
          8.163779527559056e-8,
          8.264566929133859e-8,
          8.365354330708662e-8,
          8.466141732283465e-8,
          8.566929133858269e-8,
          8.667716535433072e-8,
          8.768503937007874e-8,
          8.869291338582678e-8,
          8.970078740157481e-8,
          9.070866141732285e-8,
          9.171653543307088e-8,
          9.27244094488189e-8,
          9.373228346456694e-8,
          9.474015748031497e-8,
          9.5748031496063e-8,
          9.675590551181103e-8,
          9.776377952755906e-8,
          9.87716535433071e-8,
          9.977952755905513e-8,
          1.0078740157480316e-7,
          1.0179527559055118e-7,
          1.0280314960629922e-7,
          1.0381102362204725e-7,
          1.0481889763779529e-7,
          1.0582677165354332e-7,
          1.0683464566929134e-7,
          1.0784251968503938e-7,
          1.0885039370078741e-7,
          1.0985826771653544e-7,
          1.1086614173228348e-7,
          1.118740157480315e-7,
          1.1288188976377953e-7,
          1.1388976377952757e-7,
          1.148976377952756e-7,
          1.1590551181102364e-7,
          1.1691338582677166e-7,
          1.1792125984251969e-7,
          1.1892913385826773e-7,
          1.1993700787401576e-7,
          1.209448818897638e-7,
          1.2195275590551183e-7,
          1.2296062992125986e-7,
          1.239685039370079e-7,
          1.249763779527559e-7,
          1.2598425196850394e-7,
          1.2699212598425197e-7,
          1.28e-7
         ],
         "y": [
          1,
          1,
          0.9998673167215142,
          0.999420040804452,
          0.998657463988233,
          0.9975802482131483,
          0.9961893281244265,
          0.9944859098389035,
          0.9924714693542201,
          0.9901477506032131,
          0.9875167631567574,
          0.9845807795789117,
          0.9813423324388053,
          0.9778042109842536,
          0.9739694574826735,
          0.969841363235415,
          0.965423464272151,
          0.9607195367325129,
          0.955733591942656,
          0.9504698711949471,
          0.9449328402394348,
          0.9391271834962415,
          0.9330577979984529,
          0.9267297870755151,
          0.920148453787547,
          0.9133192941213857,
          0.9062479899595238,
          0.8989404018334693,
          0.8914025614733601,
          0.8836406641659897,
          0.8756610609336604,
          0.8674702505465398,
          0.8590748713814422,
          0.850481693140133,
          0.8416976084404699,
          0.8327296242938159,
          0.8235848534823271,
          0.8142705058497872,
          0.8047938795197673,
          0.7951623520549325,
          0.7853833715713435,
          0.7754644478216088,
          0.7654131432607226,
          0.7552370641083614,
          0.7449438514213605,
          0.7345411721899705,
          0.7240367104713882,
          0.7134381585739006,
          0.7027532083048086,
          0.691989542295107,
          0.6811548254136756,
          0.6702566962834974,
          0.6593027589121605,
          0.6483005744486084,
          0.6372576530778127,
          0.6261814460647079,
          0.6150793379583911,
          0.6039586389672227,
          0.5928265775150979,
          0.5816902929887472,
          0.5705568286855273,
          0.5594331249707334,
          0.5483260126530242,
          0.537242206586097,
          0.526188299504294,
          0.515170756099336,
          0.504195907344901,
          0.4932699450752748,
          0.48239891682378877,
          0.47158872092626386,
          0.4608451018941565,
          0.450173646061595,
          0.4395797775099569,
          0.4290687542731344,
          0.41864566482609267,
          0.4083154248588097,
          0.3980827743371535,
          0.3879522748517452,
          0.37792830725531423,
          0.36801506958855856,
          0.3582165752939959,
          0.34853665171679443,
          0.3389789388910732,
          0.32954688860967224,
          0.32024376377490416,
          0.3110726380273477,
          0.302036395649254,
          0.29313773173871677,
          0.2843791526503,
          0.27576297669740296,
          0.267291335111231,
          0.25896617325084664,
          0.25078925205839053,
          0.24276214975320834,
          0.23488626375826044,
          0.22716281285187223,
          0.21959283953756287,
          0.21217721262439912,
          0.20491663001004598,
          0.1978116216584269,
          0.1908625527636697,
          0.1840696270917974,
          0.17743289049142277,
          0.1709522345645297,
          0.16462740048826505,
          0.15845798297852642,
          0.15244343438601612,
          0.14658306891533296,
          0.14087606695759686,
          0.13532147952704618,
          0.12991823279200992,
          0.12466513269064328,
          0.11956086962181528,
          0.11460402320156347,
          0.10979306707557196,
          0.10512637377818998,
          0.10060221962858984,
          0.09621878965475883,
          0.09197418253613841,
          0.08786641555585444,
          0.08389342955363473,
          0.08005309387067353,
          0.0763432112778867,
          0.07276152287919635,
          0.06930571298169565,
          0.06597341392476849,
          0.06302524562241582,
          0.06302524562241582
         ]
        },
        {
         "line": {
          "shape": "spline"
         },
         "mode": "lines",
         "name": "0010",
         "type": "scatter",
         "x": [
          0,
          1.0078740157480316e-9,
          2.015748031496063e-9,
          3.0236220472440945e-9,
          4.031496062992126e-9,
          5.039370078740158e-9,
          6.047244094488189e-9,
          7.055118110236221e-9,
          8.062992125984253e-9,
          9.070866141732284e-9,
          1.0078740157480316e-8,
          1.1086614173228347e-8,
          1.2094488188976378e-8,
          1.310236220472441e-8,
          1.4110236220472442e-8,
          1.5118110236220474e-8,
          1.6125984251968505e-8,
          1.7133858267716536e-8,
          1.8141732283464567e-8,
          1.91496062992126e-8,
          2.0157480314960632e-8,
          2.1165354330708663e-8,
          2.2173228346456694e-8,
          2.3181102362204725e-8,
          2.4188976377952756e-8,
          2.519685039370079e-8,
          2.620472440944882e-8,
          2.7212598425196852e-8,
          2.8220472440944883e-8,
          2.9228346456692914e-8,
          3.023622047244095e-8,
          3.1244094488188976e-8,
          3.225196850393701e-8,
          3.3259842519685045e-8,
          3.426771653543307e-8,
          3.527559055118111e-8,
          3.6283464566929134e-8,
          3.729133858267717e-8,
          3.82992125984252e-8,
          3.930708661417323e-8,
          4.0314960629921265e-8,
          4.132283464566929e-8,
          4.233070866141733e-8,
          4.333858267716536e-8,
          4.434645669291339e-8,
          4.535433070866142e-8,
          4.636220472440945e-8,
          4.7370078740157485e-8,
          4.837795275590551e-8,
          4.938582677165355e-8,
          5.039370078740158e-8,
          5.140157480314961e-8,
          5.240944881889764e-8,
          5.341732283464567e-8,
          5.4425196850393705e-8,
          5.543307086614174e-8,
          5.644094488188977e-8,
          5.74488188976378e-8,
          5.845669291338583e-8,
          5.946456692913386e-8,
          6.04724409448819e-8,
          6.148031496062993e-8,
          6.248818897637795e-8,
          6.349606299212599e-8,
          6.450393700787402e-8,
          6.551181102362206e-8,
          6.651968503937009e-8,
          6.752755905511811e-8,
          6.853543307086614e-8,
          6.954330708661418e-8,
          7.055118110236221e-8,
          7.155905511811025e-8,
          7.256692913385827e-8,
          7.35748031496063e-8,
          7.458267716535434e-8,
          7.559055118110237e-8,
          7.65984251968504e-8,
          7.760629921259843e-8,
          7.861417322834646e-8,
          7.96220472440945e-8,
          8.062992125984253e-8,
          8.163779527559056e-8,
          8.264566929133859e-8,
          8.365354330708662e-8,
          8.466141732283465e-8,
          8.566929133858269e-8,
          8.667716535433072e-8,
          8.768503937007874e-8,
          8.869291338582678e-8,
          8.970078740157481e-8,
          9.070866141732285e-8,
          9.171653543307088e-8,
          9.27244094488189e-8,
          9.373228346456694e-8,
          9.474015748031497e-8,
          9.5748031496063e-8,
          9.675590551181103e-8,
          9.776377952755906e-8,
          9.87716535433071e-8,
          9.977952755905513e-8,
          1.0078740157480316e-7,
          1.0179527559055118e-7,
          1.0280314960629922e-7,
          1.0381102362204725e-7,
          1.0481889763779529e-7,
          1.0582677165354332e-7,
          1.0683464566929134e-7,
          1.0784251968503938e-7,
          1.0885039370078741e-7,
          1.0985826771653544e-7,
          1.1086614173228348e-7,
          1.118740157480315e-7,
          1.1288188976377953e-7,
          1.1388976377952757e-7,
          1.148976377952756e-7,
          1.1590551181102364e-7,
          1.1691338582677166e-7,
          1.1792125984251969e-7,
          1.1892913385826773e-7,
          1.1993700787401576e-7,
          1.209448818897638e-7,
          1.2195275590551183e-7,
          1.2296062992125986e-7,
          1.239685039370079e-7,
          1.249763779527559e-7,
          1.2598425196850394e-7,
          1.2699212598425197e-7,
          1.28e-7
         ],
         "y": [
          0,
          0,
          0.00003316916907519382,
          0.0001449582582016034,
          0.0003354649330709803,
          0.0006043884676362445,
          0.0009513044383122105,
          0.0013756654841957721,
          0.001876802287200021,
          0.0024539247701265312,
          0.0031061235102614482,
          0.003832371365647668,
          0.004631525310758336,
          0.005502328477876936,
          0.006443412400077444,
          0.007453299451295176,
          0.008530405478585985,
          0.009673042621289162,
          0.010879422311438815,
          0.012147658449409956,
          0.013475770748440495,
          0.014861688241338824,
          0.016303252942370013,
          0.017798223657012148,
          0.01934427993198847,
          0.020939026137712362,
          0.022579995675029715,
          0.024264655297909263,
          0.025990409543514607,
          0.02775460526089456,
          0.02955453622934914,
          0.03138744785736917,
          0.03325054195290768,
          0.0351409815556212,
          0.037055895821619306,
          0.03899238495118106,
          0.040947525149838085,
          0.042918373613185366,
          0.04490197352576291,
          0.0468953590643536,
          0.04889556039606624,
          0.05089960866161596,
          0.05290454093427739,
          0.05490740514507097,
          0.056905264964845124,
          0.05889520463404105,
          0.060874333731068965,
          0.06283979187038599,
          0.06478875332154553,
          0.06671843154068556,
          0.06862608360613899,
          0.07050901455008063,
          0.07236458157837466,
          0.07419019817105038,
          0.07598333805611339,
          0.07774153904969477,
          0.07946240675584634,
          0.08114361811961314,
          0.08278292482734614,
          0.08437815654856388,
          0.08592722401402528,
          0.08742812192504418,
          0.08887893168944717,
          0.09027782397996129,
          0.09162306111120591,
          0.09291299923186093,
          0.09414609032898276,
          0.09532088404184881,
          0.09643602928311674,
          0.09749027566550059,
          0.09848247473257804,
          0.09941158099275837,
          0.10027665275585515,
          0.10107685277212143,
          0.10181144867401741,
          0.10247981322138779,
          0.10308142435113236,
          0.10361586503285235,
          0.10408282293235059,
          0.10448208988525108,
          0.10481356118338381,
          0.10507723467695436,
          0.10527320969588097,
          0.1054016857940356,
          0.10546296132046867,
          0.10545743182203109,
          0.10538558828212478,
          0.1052480152006245,
          0.10504538852030386,
          0.10477847340538408,
          0.10444812187808661,
          0.10405527031932513,
          0.10360093683990637,
          0.1030862185288328,
          0.10251228858550053,
          0.1018803933427765,
          0.10119184918810877,
          0.10044803938997651,
          0.09965041083712312,
          0.09880047069813334,
          0.0978997830090179,
          0.09694996519654726,
          0.09595268454514617,
          0.09490965461520229,
          0.09382263162067322,
          0.09269341077388625,
          0.09152382260541567,
          0.09031572926690004,
          0.08907102082461665,
          0.08779161155157093,
          0.08647943622578116,
          0.08513644644234415,
          0.083764606946757,
          0.0823658919968444,
          0.08094228176049537,
          0.07949575875625951,
          0.07802830434367782,
          0.07654189527003616,
          0.07503850028003126,
          0.07352007679462358,
          0.07198856766512589,
          0.0704458980083389,
          0.06889397212829655,
          0.0673346705299219,
          0.06576984702962807,
          0.06420132596761774,
          0.06276179804681786,
          0.06276179804681786
         ]
        },
        {
         "line": {
          "shape": "spline"
         },
         "mode": "lines",
         "name": "0001",
         "type": "scatter",
         "x": [
          0,
          1.0078740157480316e-9,
          2.015748031496063e-9,
          3.0236220472440945e-9,
          4.031496062992126e-9,
          5.039370078740158e-9,
          6.047244094488189e-9,
          7.055118110236221e-9,
          8.062992125984253e-9,
          9.070866141732284e-9,
          1.0078740157480316e-8,
          1.1086614173228347e-8,
          1.2094488188976378e-8,
          1.310236220472441e-8,
          1.4110236220472442e-8,
          1.5118110236220474e-8,
          1.6125984251968505e-8,
          1.7133858267716536e-8,
          1.8141732283464567e-8,
          1.91496062992126e-8,
          2.0157480314960632e-8,
          2.1165354330708663e-8,
          2.2173228346456694e-8,
          2.3181102362204725e-8,
          2.4188976377952756e-8,
          2.519685039370079e-8,
          2.620472440944882e-8,
          2.7212598425196852e-8,
          2.8220472440944883e-8,
          2.9228346456692914e-8,
          3.023622047244095e-8,
          3.1244094488188976e-8,
          3.225196850393701e-8,
          3.3259842519685045e-8,
          3.426771653543307e-8,
          3.527559055118111e-8,
          3.6283464566929134e-8,
          3.729133858267717e-8,
          3.82992125984252e-8,
          3.930708661417323e-8,
          4.0314960629921265e-8,
          4.132283464566929e-8,
          4.233070866141733e-8,
          4.333858267716536e-8,
          4.434645669291339e-8,
          4.535433070866142e-8,
          4.636220472440945e-8,
          4.7370078740157485e-8,
          4.837795275590551e-8,
          4.938582677165355e-8,
          5.039370078740158e-8,
          5.140157480314961e-8,
          5.240944881889764e-8,
          5.341732283464567e-8,
          5.4425196850393705e-8,
          5.543307086614174e-8,
          5.644094488188977e-8,
          5.74488188976378e-8,
          5.845669291338583e-8,
          5.946456692913386e-8,
          6.04724409448819e-8,
          6.148031496062993e-8,
          6.248818897637795e-8,
          6.349606299212599e-8,
          6.450393700787402e-8,
          6.551181102362206e-8,
          6.651968503937009e-8,
          6.752755905511811e-8,
          6.853543307086614e-8,
          6.954330708661418e-8,
          7.055118110236221e-8,
          7.155905511811025e-8,
          7.256692913385827e-8,
          7.35748031496063e-8,
          7.458267716535434e-8,
          7.559055118110237e-8,
          7.65984251968504e-8,
          7.760629921259843e-8,
          7.861417322834646e-8,
          7.96220472440945e-8,
          8.062992125984253e-8,
          8.163779527559056e-8,
          8.264566929133859e-8,
          8.365354330708662e-8,
          8.466141732283465e-8,
          8.566929133858269e-8,
          8.667716535433072e-8,
          8.768503937007874e-8,
          8.869291338582678e-8,
          8.970078740157481e-8,
          9.070866141732285e-8,
          9.171653543307088e-8,
          9.27244094488189e-8,
          9.373228346456694e-8,
          9.474015748031497e-8,
          9.5748031496063e-8,
          9.675590551181103e-8,
          9.776377952755906e-8,
          9.87716535433071e-8,
          9.977952755905513e-8,
          1.0078740157480316e-7,
          1.0179527559055118e-7,
          1.0280314960629922e-7,
          1.0381102362204725e-7,
          1.0481889763779529e-7,
          1.0582677165354332e-7,
          1.0683464566929134e-7,
          1.0784251968503938e-7,
          1.0885039370078741e-7,
          1.0985826771653544e-7,
          1.1086614173228348e-7,
          1.118740157480315e-7,
          1.1288188976377953e-7,
          1.1388976377952757e-7,
          1.148976377952756e-7,
          1.1590551181102364e-7,
          1.1691338582677166e-7,
          1.1792125984251969e-7,
          1.1892913385826773e-7,
          1.1993700787401576e-7,
          1.209448818897638e-7,
          1.2195275590551183e-7,
          1.2296062992125986e-7,
          1.239685039370079e-7,
          1.249763779527559e-7,
          1.2598425196850394e-7,
          1.2699212598425197e-7,
          1.28e-7
         ],
         "y": [
          0,
          0,
          0.0000331691690751938,
          0.0001449582582016034,
          0.0003354649330709803,
          0.0006043884676362445,
          0.0009513044383122105,
          0.0013756654841957721,
          0.001876802287200021,
          0.0024539247701265312,
          0.0031061235102614482,
          0.003832371365647668,
          0.004631525310758336,
          0.005502328477876936,
          0.006443412400077444,
          0.007453299451295176,
          0.008530405478585988,
          0.009673042621289166,
          0.010879422311438819,
          0.012147658449409958,
          0.013475770748440499,
          0.014861688241338827,
          0.01630325294237002,
          0.017798223657012155,
          0.01934427993198848,
          0.02093902613771237,
          0.02257999567502972,
          0.024264655297909273,
          0.025990409543514618,
          0.02775460526089457,
          0.02955453622934915,
          0.031387447857369175,
          0.033250541952907685,
          0.035140981555621204,
          0.03705589582161932,
          0.03899238495118107,
          0.04094752514983809,
          0.04291837361318538,
          0.044901973525762924,
          0.04689535906435362,
          0.048895560396066254,
          0.05089960866161597,
          0.05290454093427742,
          0.05490740514507099,
          0.05690526496484515,
          0.058895204634041076,
          0.06087433373106899,
          0.06283979187038602,
          0.06478875332154556,
          0.06671843154068559,
          0.06862608360613902,
          0.07050901455008066,
          0.0723645815783747,
          0.07419019817105042,
          0.07598333805611342,
          0.0777415390496948,
          0.07946240675584637,
          0.08114361811961317,
          0.08278292482734617,
          0.08437815654856391,
          0.08592722401402532,
          0.08742812192504422,
          0.0888789316894472,
          0.09027782397996131,
          0.09162306111120595,
          0.09291299923186097,
          0.0941460903289828,
          0.09532088404184884,
          0.09643602928311677,
          0.09749027566550061,
          0.09848247473257808,
          0.09941158099275842,
          0.10027665275585519,
          0.10107685277212147,
          0.10181144867401745,
          0.10247981322138781,
          0.10308142435113239,
          0.10361586503285235,
          0.10408282293235059,
          0.10448208988525108,
          0.10481356118338381,
          0.10507723467695436,
          0.10527320969588097,
          0.1054016857940356,
          0.10546296132046865,
          0.10545743182203104,
          0.10538558828212476,
          0.10524801520062448,
          0.10504538852030382,
          0.10477847340538404,
          0.10444812187808657,
          0.10405527031932509,
          0.1036009368399063,
          0.10308621852883273,
          0.10251228858550045,
          0.10188039334277643,
          0.1011918491881087,
          0.1004480393899764,
          0.09965041083712302,
          0.09880047069813325,
          0.09789978300901779,
          0.0969499651965472,
          0.0959526845451461,
          0.09490965461520222,
          0.09382263162067316,
          0.09269341077388618,
          0.09152382260541561,
          0.09031572926689997,
          0.0890710208246166,
          0.08779161155157086,
          0.0864794362257811,
          0.08513644644234405,
          0.0837646069467569,
          0.0823658919968443,
          0.08094228176049523,
          0.07949575875625939,
          0.07802830434367769,
          0.076541895270036,
          0.0750385002800311,
          0.07352007679462343,
          0.07198856766512574,
          0.07044589800833875,
          0.0688939721282964,
          0.06733467052992174,
          0.06576984702962792,
          0.0642013259676176,
          0.0627617980468177,
          0.0627617980468177
         ]
        },
        {
         "line": {
          "shape": "spline"
         },
         "mode": "lines",
         "name": "0100",
         "type": "scatter",
         "x": [
          0,
          1.0078740157480316e-9,
          2.015748031496063e-9,
          3.0236220472440945e-9,
          4.031496062992126e-9,
          5.039370078740158e-9,
          6.047244094488189e-9,
          7.055118110236221e-9,
          8.062992125984253e-9,
          9.070866141732284e-9,
          1.0078740157480316e-8,
          1.1086614173228347e-8,
          1.2094488188976378e-8,
          1.310236220472441e-8,
          1.4110236220472442e-8,
          1.5118110236220474e-8,
          1.6125984251968505e-8,
          1.7133858267716536e-8,
          1.8141732283464567e-8,
          1.91496062992126e-8,
          2.0157480314960632e-8,
          2.1165354330708663e-8,
          2.2173228346456694e-8,
          2.3181102362204725e-8,
          2.4188976377952756e-8,
          2.519685039370079e-8,
          2.620472440944882e-8,
          2.7212598425196852e-8,
          2.8220472440944883e-8,
          2.9228346456692914e-8,
          3.023622047244095e-8,
          3.1244094488188976e-8,
          3.225196850393701e-8,
          3.3259842519685045e-8,
          3.426771653543307e-8,
          3.527559055118111e-8,
          3.6283464566929134e-8,
          3.729133858267717e-8,
          3.82992125984252e-8,
          3.930708661417323e-8,
          4.0314960629921265e-8,
          4.132283464566929e-8,
          4.233070866141733e-8,
          4.333858267716536e-8,
          4.434645669291339e-8,
          4.535433070866142e-8,
          4.636220472440945e-8,
          4.7370078740157485e-8,
          4.837795275590551e-8,
          4.938582677165355e-8,
          5.039370078740158e-8,
          5.140157480314961e-8,
          5.240944881889764e-8,
          5.341732283464567e-8,
          5.4425196850393705e-8,
          5.543307086614174e-8,
          5.644094488188977e-8,
          5.74488188976378e-8,
          5.845669291338583e-8,
          5.946456692913386e-8,
          6.04724409448819e-8,
          6.148031496062993e-8,
          6.248818897637795e-8,
          6.349606299212599e-8,
          6.450393700787402e-8,
          6.551181102362206e-8,
          6.651968503937009e-8,
          6.752755905511811e-8,
          6.853543307086614e-8,
          6.954330708661418e-8,
          7.055118110236221e-8,
          7.155905511811025e-8,
          7.256692913385827e-8,
          7.35748031496063e-8,
          7.458267716535434e-8,
          7.559055118110237e-8,
          7.65984251968504e-8,
          7.760629921259843e-8,
          7.861417322834646e-8,
          7.96220472440945e-8,
          8.062992125984253e-8,
          8.163779527559056e-8,
          8.264566929133859e-8,
          8.365354330708662e-8,
          8.466141732283465e-8,
          8.566929133858269e-8,
          8.667716535433072e-8,
          8.768503937007874e-8,
          8.869291338582678e-8,
          8.970078740157481e-8,
          9.070866141732285e-8,
          9.171653543307088e-8,
          9.27244094488189e-8,
          9.373228346456694e-8,
          9.474015748031497e-8,
          9.5748031496063e-8,
          9.675590551181103e-8,
          9.776377952755906e-8,
          9.87716535433071e-8,
          9.977952755905513e-8,
          1.0078740157480316e-7,
          1.0179527559055118e-7,
          1.0280314960629922e-7,
          1.0381102362204725e-7,
          1.0481889763779529e-7,
          1.0582677165354332e-7,
          1.0683464566929134e-7,
          1.0784251968503938e-7,
          1.0885039370078741e-7,
          1.0985826771653544e-7,
          1.1086614173228348e-7,
          1.118740157480315e-7,
          1.1288188976377953e-7,
          1.1388976377952757e-7,
          1.148976377952756e-7,
          1.1590551181102364e-7,
          1.1691338582677166e-7,
          1.1792125984251969e-7,
          1.1892913385826773e-7,
          1.1993700787401576e-7,
          1.209448818897638e-7,
          1.2195275590551183e-7,
          1.2296062992125986e-7,
          1.239685039370079e-7,
          1.249763779527559e-7,
          1.2598425196850394e-7,
          1.2699212598425197e-7,
          1.28e-7
         ],
         "y": [
          0,
          0,
          0.00003316916907519382,
          0.0001449582582016034,
          0.0003354649330709802,
          0.0006043884676362444,
          0.00095130443831221,
          0.0013756654841957721,
          0.001876802287200021,
          0.0024539247701265312,
          0.0031061235102614474,
          0.0038323713656476673,
          0.004631525310758336,
          0.005502328477876936,
          0.006443412400077444,
          0.007453299451295174,
          0.00853040547858598,
          0.00967304262128916,
          0.01087942231143881,
          0.012147658449409945,
          0.013475770748440486,
          0.014861688241338813,
          0.016303252942370006,
          0.01779822365701214,
          0.01934427993198846,
          0.02093902613771235,
          0.022579995675029715,
          0.024264655297909263,
          0.025990409543514607,
          0.02775460526089456,
          0.02955453622934913,
          0.03138744785736915,
          0.033250541952907664,
          0.03514098155562118,
          0.03705589582161929,
          0.03899238495118105,
          0.04094752514983807,
          0.04291837361318536,
          0.0449019735257629,
          0.04689535906435358,
          0.048895560396066226,
          0.050899608661615935,
          0.05290454093427738,
          0.05490740514507097,
          0.05690526496484511,
          0.058895204634041035,
          0.06087433373106895,
          0.06283979187038596,
          0.06478875332154546,
          0.0667184315406855,
          0.06862608360613892,
          0.0705090145500806,
          0.07236458157837466,
          0.07419019817105035,
          0.07598333805611335,
          0.07774153904969475,
          0.07946240675584627,
          0.08114361811961304,
          0.08278292482734605,
          0.08437815654856376,
          0.08592722401402515,
          0.08742812192504401,
          0.08887893168944701,
          0.0902778239799611,
          0.09162306111120572,
          0.0929129992318607,
          0.09414609032898245,
          0.09532088404184849,
          0.09643602928311643,
          0.09749027566550027,
          0.09848247473257776,
          0.09941158099275813,
          0.10027665275585491,
          0.10107685277212122,
          0.10181144867401723,
          0.10247981322138765,
          0.10308142435113221,
          0.10361586503285217,
          0.10408282293235045,
          0.10448208988525094,
          0.10481356118338363,
          0.10507723467695414,
          0.10527320969588079,
          0.10540168579403542,
          0.10546296132046849,
          0.1054574318220309,
          0.1053855882821246,
          0.10524801520062436,
          0.1050453885203037,
          0.1047784734053839,
          0.10444812187808643,
          0.1040552703193249,
          0.10360093683990616,
          0.1030862185288326,
          0.10251228858550031,
          0.10188039334277625,
          0.10119184918810852,
          0.10044803938997622,
          0.0996504108371228,
          0.09880047069813307,
          0.09789978300901762,
          0.09694996519654699,
          0.0959526845451459,
          0.09490965461520198,
          0.09382263162067296,
          0.09269341077388597,
          0.0915238226054154,
          0.09031572926689978,
          0.08907102082461632,
          0.08779161155157057,
          0.08647943622578076,
          0.08513644644234372,
          0.08376460694675661,
          0.082365891996844,
          0.08094228176049495,
          0.07949575875625908,
          0.07802830434367732,
          0.07654189527003563,
          0.07503850028003074,
          0.0735200767946231,
          0.07198856766512537,
          0.07044589800833843,
          0.06889397212829605,
          0.0673346705299214,
          0.06576984702962758,
          0.06420132596761725,
          0.06276179804681734,
          0.06276179804681734
         ]
        },
        {
         "line": {
          "shape": "spline"
         },
         "mode": "lines",
         "name": "1000",
         "type": "scatter",
         "x": [
          0,
          1.0078740157480316e-9,
          2.015748031496063e-9,
          3.0236220472440945e-9,
          4.031496062992126e-9,
          5.039370078740158e-9,
          6.047244094488189e-9,
          7.055118110236221e-9,
          8.062992125984253e-9,
          9.070866141732284e-9,
          1.0078740157480316e-8,
          1.1086614173228347e-8,
          1.2094488188976378e-8,
          1.310236220472441e-8,
          1.4110236220472442e-8,
          1.5118110236220474e-8,
          1.6125984251968505e-8,
          1.7133858267716536e-8,
          1.8141732283464567e-8,
          1.91496062992126e-8,
          2.0157480314960632e-8,
          2.1165354330708663e-8,
          2.2173228346456694e-8,
          2.3181102362204725e-8,
          2.4188976377952756e-8,
          2.519685039370079e-8,
          2.620472440944882e-8,
          2.7212598425196852e-8,
          2.8220472440944883e-8,
          2.9228346456692914e-8,
          3.023622047244095e-8,
          3.1244094488188976e-8,
          3.225196850393701e-8,
          3.3259842519685045e-8,
          3.426771653543307e-8,
          3.527559055118111e-8,
          3.6283464566929134e-8,
          3.729133858267717e-8,
          3.82992125984252e-8,
          3.930708661417323e-8,
          4.0314960629921265e-8,
          4.132283464566929e-8,
          4.233070866141733e-8,
          4.333858267716536e-8,
          4.434645669291339e-8,
          4.535433070866142e-8,
          4.636220472440945e-8,
          4.7370078740157485e-8,
          4.837795275590551e-8,
          4.938582677165355e-8,
          5.039370078740158e-8,
          5.140157480314961e-8,
          5.240944881889764e-8,
          5.341732283464567e-8,
          5.4425196850393705e-8,
          5.543307086614174e-8,
          5.644094488188977e-8,
          5.74488188976378e-8,
          5.845669291338583e-8,
          5.946456692913386e-8,
          6.04724409448819e-8,
          6.148031496062993e-8,
          6.248818897637795e-8,
          6.349606299212599e-8,
          6.450393700787402e-8,
          6.551181102362206e-8,
          6.651968503937009e-8,
          6.752755905511811e-8,
          6.853543307086614e-8,
          6.954330708661418e-8,
          7.055118110236221e-8,
          7.155905511811025e-8,
          7.256692913385827e-8,
          7.35748031496063e-8,
          7.458267716535434e-8,
          7.559055118110237e-8,
          7.65984251968504e-8,
          7.760629921259843e-8,
          7.861417322834646e-8,
          7.96220472440945e-8,
          8.062992125984253e-8,
          8.163779527559056e-8,
          8.264566929133859e-8,
          8.365354330708662e-8,
          8.466141732283465e-8,
          8.566929133858269e-8,
          8.667716535433072e-8,
          8.768503937007874e-8,
          8.869291338582678e-8,
          8.970078740157481e-8,
          9.070866141732285e-8,
          9.171653543307088e-8,
          9.27244094488189e-8,
          9.373228346456694e-8,
          9.474015748031497e-8,
          9.5748031496063e-8,
          9.675590551181103e-8,
          9.776377952755906e-8,
          9.87716535433071e-8,
          9.977952755905513e-8,
          1.0078740157480316e-7,
          1.0179527559055118e-7,
          1.0280314960629922e-7,
          1.0381102362204725e-7,
          1.0481889763779529e-7,
          1.0582677165354332e-7,
          1.0683464566929134e-7,
          1.0784251968503938e-7,
          1.0885039370078741e-7,
          1.0985826771653544e-7,
          1.1086614173228348e-7,
          1.118740157480315e-7,
          1.1288188976377953e-7,
          1.1388976377952757e-7,
          1.148976377952756e-7,
          1.1590551181102364e-7,
          1.1691338582677166e-7,
          1.1792125984251969e-7,
          1.1892913385826773e-7,
          1.1993700787401576e-7,
          1.209448818897638e-7,
          1.2195275590551183e-7,
          1.2296062992125986e-7,
          1.239685039370079e-7,
          1.249763779527559e-7,
          1.2598425196850394e-7,
          1.2699212598425197e-7,
          1.28e-7
         ],
         "y": [
          0,
          0,
          0.00003316916907519382,
          0.00014495825820160343,
          0.0003354649330709802,
          0.0006043884676362445,
          0.00095130443831221,
          0.0013756654841957715,
          0.0018768022872000187,
          0.0024539247701265273,
          0.0031061235102614396,
          0.0038323713656476586,
          0.004631525310758329,
          0.005502328477876927,
          0.006443412400077433,
          0.007453299451295159,
          0.008530405478585964,
          0.009673042621289141,
          0.010879422311438788,
          0.012147658449409925,
          0.013475770748440453,
          0.014861688241338772,
          0.01630325294236995,
          0.017798223657012082,
          0.019344279931988378,
          0.020939026137712258,
          0.02257999567502962,
          0.024264655297909162,
          0.025990409543514482,
          0.027754605260894405,
          0.029554536229348966,
          0.03138744785736895,
          0.03325054195290745,
          0.035140981555620975,
          0.03705589582161905,
          0.03899238495118078,
          0.04094752514983778,
          0.04291837361318506,
          0.0449019735257626,
          0.046895359064353256,
          0.048895560396065886,
          0.050899608661615574,
          0.052904540934276996,
          0.054907405145070566,
          0.05690526496484469,
          0.058895204634040604,
          0.060874333731068514,
          0.06283979187038552,
          0.06478875332154505,
          0.06671843154068502,
          0.06862608360613844,
          0.07050901455008003,
          0.07236458157837404,
          0.07419019817104973,
          0.07598333805611271,
          0.07774153904969403,
          0.0794624067558455,
          0.08114361811961222,
          0.08278292482734526,
          0.08437815654856291,
          0.0859272240140243,
          0.08742812192504316,
          0.08887893168944615,
          0.09027782397996022,
          0.09162306111120484,
          0.09291299923185978,
          0.09414609032898161,
          0.0953208840418476,
          0.09643602928311547,
          0.09749027566549923,
          0.09848247473257661,
          0.09941158099275695,
          0.10027665275585368,
          0.10107685277211988,
          0.10181144867401581,
          0.10247981322138619,
          0.10308142435113071,
          0.10361586503285065,
          0.10408282293234887,
          0.10448208988524933,
          0.10481356118338205,
          0.10507723467695262,
          0.1052732096958793,
          0.10540168579403397,
          0.10546296132046713,
          0.10545743182202953,
          0.10538558828212324,
          0.10524801520062296,
          0.10504538852030228,
          0.10477847340538239,
          0.10444812187808492,
          0.10405527031932334,
          0.10360093683990451,
          0.10308621852883092,
          0.10251228858549864,
          0.10188039334277467,
          0.10119184918810696,
          0.10044803938997475,
          0.0996504108371213,
          0.09880047069813161,
          0.0978997830090162,
          0.0969499651965455,
          0.09595268454514436,
          0.09490965461520041,
          0.09382263162067132,
          0.09269341077388432,
          0.09152382260541377,
          0.09031572926689807,
          0.0890710208246146,
          0.08779161155156887,
          0.08647943622577904,
          0.085136446442342,
          0.0837646069467549,
          0.08236589199684229,
          0.08094228176049321,
          0.07949575875625735,
          0.07802830434367565,
          0.07654189527003392,
          0.07503850028002904,
          0.07352007679462141,
          0.07198856766512371,
          0.07044589800833681,
          0.06889397212829446,
          0.06733467052991982,
          0.06576984702962604,
          0.06420132596761574,
          0.06276179804681586,
          0.06276179804681586
         ]
        },
        {
         "line": {
          "shape": "spline"
         },
         "mode": "lines",
         "name": "0011",
         "type": "scatter",
         "x": [
          0,
          1.0078740157480316e-9,
          2.015748031496063e-9,
          3.0236220472440945e-9,
          4.031496062992126e-9,
          5.039370078740158e-9,
          6.047244094488189e-9,
          7.055118110236221e-9,
          8.062992125984253e-9,
          9.070866141732284e-9,
          1.0078740157480316e-8,
          1.1086614173228347e-8,
          1.2094488188976378e-8,
          1.310236220472441e-8,
          1.4110236220472442e-8,
          1.5118110236220474e-8,
          1.6125984251968505e-8,
          1.7133858267716536e-8,
          1.8141732283464567e-8,
          1.91496062992126e-8,
          2.0157480314960632e-8,
          2.1165354330708663e-8,
          2.2173228346456694e-8,
          2.3181102362204725e-8,
          2.4188976377952756e-8,
          2.519685039370079e-8,
          2.620472440944882e-8,
          2.7212598425196852e-8,
          2.8220472440944883e-8,
          2.9228346456692914e-8,
          3.023622047244095e-8,
          3.1244094488188976e-8,
          3.225196850393701e-8,
          3.3259842519685045e-8,
          3.426771653543307e-8,
          3.527559055118111e-8,
          3.6283464566929134e-8,
          3.729133858267717e-8,
          3.82992125984252e-8,
          3.930708661417323e-8,
          4.0314960629921265e-8,
          4.132283464566929e-8,
          4.233070866141733e-8,
          4.333858267716536e-8,
          4.434645669291339e-8,
          4.535433070866142e-8,
          4.636220472440945e-8,
          4.7370078740157485e-8,
          4.837795275590551e-8,
          4.938582677165355e-8,
          5.039370078740158e-8,
          5.140157480314961e-8,
          5.240944881889764e-8,
          5.341732283464567e-8,
          5.4425196850393705e-8,
          5.543307086614174e-8,
          5.644094488188977e-8,
          5.74488188976378e-8,
          5.845669291338583e-8,
          5.946456692913386e-8,
          6.04724409448819e-8,
          6.148031496062993e-8,
          6.248818897637795e-8,
          6.349606299212599e-8,
          6.450393700787402e-8,
          6.551181102362206e-8,
          6.651968503937009e-8,
          6.752755905511811e-8,
          6.853543307086614e-8,
          6.954330708661418e-8,
          7.055118110236221e-8,
          7.155905511811025e-8,
          7.256692913385827e-8,
          7.35748031496063e-8,
          7.458267716535434e-8,
          7.559055118110237e-8,
          7.65984251968504e-8,
          7.760629921259843e-8,
          7.861417322834646e-8,
          7.96220472440945e-8,
          8.062992125984253e-8,
          8.163779527559056e-8,
          8.264566929133859e-8,
          8.365354330708662e-8,
          8.466141732283465e-8,
          8.566929133858269e-8,
          8.667716535433072e-8,
          8.768503937007874e-8,
          8.869291338582678e-8,
          8.970078740157481e-8,
          9.070866141732285e-8,
          9.171653543307088e-8,
          9.27244094488189e-8,
          9.373228346456694e-8,
          9.474015748031497e-8,
          9.5748031496063e-8,
          9.675590551181103e-8,
          9.776377952755906e-8,
          9.87716535433071e-8,
          9.977952755905513e-8,
          1.0078740157480316e-7,
          1.0179527559055118e-7,
          1.0280314960629922e-7,
          1.0381102362204725e-7,
          1.0481889763779529e-7,
          1.0582677165354332e-7,
          1.0683464566929134e-7,
          1.0784251968503938e-7,
          1.0885039370078741e-7,
          1.0985826771653544e-7,
          1.1086614173228348e-7,
          1.118740157480315e-7,
          1.1288188976377953e-7,
          1.1388976377952757e-7,
          1.148976377952756e-7,
          1.1590551181102364e-7,
          1.1691338582677166e-7,
          1.1792125984251969e-7,
          1.1892913385826773e-7,
          1.1993700787401576e-7,
          1.209448818897638e-7,
          1.2195275590551183e-7,
          1.2296062992125986e-7,
          1.239685039370079e-7,
          1.249763779527559e-7,
          1.2598425196850394e-7,
          1.2699212598425197e-7,
          1.28e-7
         ],
         "y": [
          0,
          0,
          1.1003397738274333e-9,
          2.10250903153083e-8,
          1.1268800903053502e-7,
          3.661714638656706e-7,
          9.084419083833775e-7,
          0.0000019029485543079678,
          0.0000035491063813967005,
          0.0000060816648563529935,
          0.000009769964036010341,
          0.000014917080029246071,
          0.00002185886208626659,
          0.000030962863872288014,
          0.000042627171764480335,
          0.00005727913328562835,
          0.00007537398905458591,
          0.00009739341189157881,
          0.00012384395696508487,
          0.00015525542710575187,
          0.00019217915764099084,
          0.0002351862253209192,
          0.00028486558611167165,
          0.00034182214682521283,
          0.0004066747757351866,
          0.0004800542574955464,
          0.000562601197832317,
          0.0006549638836184206,
          0.0007577961040667236,
          0.0008717549388869763,
          0.000997498519347861,
          0.0011356837682656702,
          0.001286964125006003,
          0.0014519872616341274,
          0.00163139279638313,
          0.00182581001062672,
          0.0020358555755452404,
          0.0022621312946594064,
          0.002505221868376265,
          0.0027656926866460895,
          0.003044087655767443,
          0.0033409270653006373,
          0.0036567055009574354,
          0.00399188980922733,
          0.004346917119378408,
          0.00472219292833385,
          0.0051180892537740445,
          0.005534942860649289,
          0.0059730535661096425,
          0.00643268262766717,
          0.006914051219201957,
          0.007417338999207294,
          0.007942682775442265,
          0.00849017526992178,
          0.009059863987925406,
          0.00965175019444858,
          0.010265788001252343,
          0.01090188356739251,
          0.011559894415825878,
          0.012239628868401244,
          0.012940845601246689,
          0.013663253322262854,
          0.01440651057212562,
          0.015170225649891516,
          0.0159539566639853,
          0.01675721170903388,
          0.017579449168693174,
          0.018420078144296536,
          0.019278459008835302,
          0.02015390408546513,
          0.021045678449415777,
          0.021953000851869867,
          0.022875044764065353,
          0.023810939539571637,
          0.02475977169238762,
          0.025720586288215375,
          0.02669238844597324,
          0.027674144946330987,
          0.028664785943774966,
          0.02966320677844552,
          0.03066826988373257,
          0.03167880678536813,
          0.03269362018751812,
          0.03371148614115086,
          0.03473115628974514,
          0.03575136018719963,
          0.03677080768261614,
          0.03778819136645317,
          0.03880218907238417,
          0.03981146642904627,
          0.04081467945573139,
          0.04181047719595226,
          0.04279750438271178,
          0.04377440412921512,
          0.04473982063869016,
          0.045692401926924836,
          0.04663080255108711,
          0.04755368633836844,
          0.048459729107980624,
          0.04934762138004327,
          0.0502160710649201,
          0.05106380612660183,
          0.05188957721378671,
          0.052692160252380174,
          0.05347035899322077,
          0.05422300750894007,
          0.05494897263398131,
          0.05564715634193194,
          0.056316498054470934,
          0.05695597687639246,
          0.05756461375133976,
          0.058141473533071406,
          0.05868566696728171,
          0.05919635257920887,
          0.05967273846248945,
          0.06011408396495311,
          0.06051970126729793,
          0.060888956850842696,
          0.06122127285081935,
          0.06151612829194276,
          0.061773060203278204,
          0.06199166460971777,
          0.06217159739767303,
          0.0623125750528955,
          0.062414375268643504,
          0.0624768374227279,
          0.062499451690647065,
          0.062499451690647065
         ]
        },
        {
         "line": {
          "shape": "spline"
         },
         "mode": "lines",
         "name": "1100",
         "type": "scatter",
         "x": [
          0,
          1.0078740157480316e-9,
          2.015748031496063e-9,
          3.0236220472440945e-9,
          4.031496062992126e-9,
          5.039370078740158e-9,
          6.047244094488189e-9,
          7.055118110236221e-9,
          8.062992125984253e-9,
          9.070866141732284e-9,
          1.0078740157480316e-8,
          1.1086614173228347e-8,
          1.2094488188976378e-8,
          1.310236220472441e-8,
          1.4110236220472442e-8,
          1.5118110236220474e-8,
          1.6125984251968505e-8,
          1.7133858267716536e-8,
          1.8141732283464567e-8,
          1.91496062992126e-8,
          2.0157480314960632e-8,
          2.1165354330708663e-8,
          2.2173228346456694e-8,
          2.3181102362204725e-8,
          2.4188976377952756e-8,
          2.519685039370079e-8,
          2.620472440944882e-8,
          2.7212598425196852e-8,
          2.8220472440944883e-8,
          2.9228346456692914e-8,
          3.023622047244095e-8,
          3.1244094488188976e-8,
          3.225196850393701e-8,
          3.3259842519685045e-8,
          3.426771653543307e-8,
          3.527559055118111e-8,
          3.6283464566929134e-8,
          3.729133858267717e-8,
          3.82992125984252e-8,
          3.930708661417323e-8,
          4.0314960629921265e-8,
          4.132283464566929e-8,
          4.233070866141733e-8,
          4.333858267716536e-8,
          4.434645669291339e-8,
          4.535433070866142e-8,
          4.636220472440945e-8,
          4.7370078740157485e-8,
          4.837795275590551e-8,
          4.938582677165355e-8,
          5.039370078740158e-8,
          5.140157480314961e-8,
          5.240944881889764e-8,
          5.341732283464567e-8,
          5.4425196850393705e-8,
          5.543307086614174e-8,
          5.644094488188977e-8,
          5.74488188976378e-8,
          5.845669291338583e-8,
          5.946456692913386e-8,
          6.04724409448819e-8,
          6.148031496062993e-8,
          6.248818897637795e-8,
          6.349606299212599e-8,
          6.450393700787402e-8,
          6.551181102362206e-8,
          6.651968503937009e-8,
          6.752755905511811e-8,
          6.853543307086614e-8,
          6.954330708661418e-8,
          7.055118110236221e-8,
          7.155905511811025e-8,
          7.256692913385827e-8,
          7.35748031496063e-8,
          7.458267716535434e-8,
          7.559055118110237e-8,
          7.65984251968504e-8,
          7.760629921259843e-8,
          7.861417322834646e-8,
          7.96220472440945e-8,
          8.062992125984253e-8,
          8.163779527559056e-8,
          8.264566929133859e-8,
          8.365354330708662e-8,
          8.466141732283465e-8,
          8.566929133858269e-8,
          8.667716535433072e-8,
          8.768503937007874e-8,
          8.869291338582678e-8,
          8.970078740157481e-8,
          9.070866141732285e-8,
          9.171653543307088e-8,
          9.27244094488189e-8,
          9.373228346456694e-8,
          9.474015748031497e-8,
          9.5748031496063e-8,
          9.675590551181103e-8,
          9.776377952755906e-8,
          9.87716535433071e-8,
          9.977952755905513e-8,
          1.0078740157480316e-7,
          1.0179527559055118e-7,
          1.0280314960629922e-7,
          1.0381102362204725e-7,
          1.0481889763779529e-7,
          1.0582677165354332e-7,
          1.0683464566929134e-7,
          1.0784251968503938e-7,
          1.0885039370078741e-7,
          1.0985826771653544e-7,
          1.1086614173228348e-7,
          1.118740157480315e-7,
          1.1288188976377953e-7,
          1.1388976377952757e-7,
          1.148976377952756e-7,
          1.1590551181102364e-7,
          1.1691338582677166e-7,
          1.1792125984251969e-7,
          1.1892913385826773e-7,
          1.1993700787401576e-7,
          1.209448818897638e-7,
          1.2195275590551183e-7,
          1.2296062992125986e-7,
          1.239685039370079e-7,
          1.249763779527559e-7,
          1.2598425196850394e-7,
          1.2699212598425197e-7,
          1.28e-7
         ],
         "y": [
          0,
          0,
          1.1003397738274337e-9,
          2.1025090315308323e-8,
          1.1268800903053506e-7,
          3.6617146386567076e-7,
          9.08441908383378e-7,
          0.000001902948554307969,
          0.000003549106381396702,
          0.000006081664856352998,
          0.000009769964036010347,
          0.000014917080029246074,
          0.00002185886208626659,
          0.00003096286387228801,
          0.000042627171764480315,
          0.00005727913328562832,
          0.00007537398905458591,
          0.00009739341189157881,
          0.0001238439569650848,
          0.00015525542710575187,
          0.0001921791576409909,
          0.0002351862253209193,
          0.00028486558611167165,
          0.000341822146825213,
          0.0004066747757351867,
          0.0004800542574955466,
          0.000562601197832317,
          0.0006549638836184207,
          0.0007577961040667242,
          0.0008717549388869774,
          0.000997498519347862,
          0.0011356837682656707,
          0.001286964125006004,
          0.0014519872616341268,
          0.0016313927963831295,
          0.0018258100106267193,
          0.002035855575545239,
          0.002262131294659405,
          0.0025052218683762643,
          0.0027656926866460895,
          0.003044087655767443,
          0.0033409270653006373,
          0.003656705500957437,
          0.003991889809227334,
          0.004346917119378411,
          0.004722192928333852,
          0.005118089253774049,
          0.005534942860649297,
          0.005973053566109649,
          0.006432682627667182,
          0.006914051219201968,
          0.007417338999207302,
          0.007942682775442274,
          0.00849017526992179,
          0.009059863987925416,
          0.00965175019444859,
          0.010265788001252357,
          0.010901883567392521,
          0.011559894415825884,
          0.012239628868401251,
          0.0129408456012467,
          0.01366325332226285,
          0.014406510572125622,
          0.015170225649891523,
          0.015953956663985306,
          0.01675721170903388,
          0.017579449168693168,
          0.01842007814429651,
          0.019278459008835295,
          0.02015390408546511,
          0.02104567844941577,
          0.021953000851869856,
          0.022875044764065353,
          0.02381093953957161,
          0.024759771692387585,
          0.02572058628821533,
          0.02669238844597319,
          0.02767414494633095,
          0.028664785943774918,
          0.029663206778445472,
          0.03066826988373253,
          0.03167880678536809,
          0.0326936201875181,
          0.03371148614115086,
          0.034731156289745144,
          0.03575136018719965,
          0.03677080768261614,
          0.03778819136645316,
          0.03880218907238417,
          0.03981146642904629,
          0.04081467945573141,
          0.04181047719595226,
          0.04279750438271178,
          0.04377440412921512,
          0.04473982063869018,
          0.04569240192692484,
          0.046630802551087126,
          0.04755368633836844,
          0.048459729107980624,
          0.04934762138004327,
          0.05021607106492011,
          0.05106380612660186,
          0.05188957721378673,
          0.052692160252380216,
          0.0534703589932208,
          0.05422300750894007,
          0.05494897263398134,
          0.05564715634193194,
          0.05631649805447095,
          0.05695597687639247,
          0.05756461375133975,
          0.058141473533071406,
          0.058685666967281724,
          0.0591963525792089,
          0.05967273846248945,
          0.06011408396495312,
          0.06051970126729793,
          0.060888956850842696,
          0.06122127285081937,
          0.06151612829194276,
          0.06177306020327819,
          0.06199166460971773,
          0.062171597397673,
          0.06231257505289546,
          0.06241437526864345,
          0.06247683742272783,
          0.06249945169064698,
          0.06249945169064698
         ]
        },
        {
         "line": {
          "shape": "spline"
         },
         "mode": "lines",
         "name": "0110",
         "type": "scatter",
         "x": [
          0,
          1.0078740157480316e-9,
          2.015748031496063e-9,
          3.0236220472440945e-9,
          4.031496062992126e-9,
          5.039370078740158e-9,
          6.047244094488189e-9,
          7.055118110236221e-9,
          8.062992125984253e-9,
          9.070866141732284e-9,
          1.0078740157480316e-8,
          1.1086614173228347e-8,
          1.2094488188976378e-8,
          1.310236220472441e-8,
          1.4110236220472442e-8,
          1.5118110236220474e-8,
          1.6125984251968505e-8,
          1.7133858267716536e-8,
          1.8141732283464567e-8,
          1.91496062992126e-8,
          2.0157480314960632e-8,
          2.1165354330708663e-8,
          2.2173228346456694e-8,
          2.3181102362204725e-8,
          2.4188976377952756e-8,
          2.519685039370079e-8,
          2.620472440944882e-8,
          2.7212598425196852e-8,
          2.8220472440944883e-8,
          2.9228346456692914e-8,
          3.023622047244095e-8,
          3.1244094488188976e-8,
          3.225196850393701e-8,
          3.3259842519685045e-8,
          3.426771653543307e-8,
          3.527559055118111e-8,
          3.6283464566929134e-8,
          3.729133858267717e-8,
          3.82992125984252e-8,
          3.930708661417323e-8,
          4.0314960629921265e-8,
          4.132283464566929e-8,
          4.233070866141733e-8,
          4.333858267716536e-8,
          4.434645669291339e-8,
          4.535433070866142e-8,
          4.636220472440945e-8,
          4.7370078740157485e-8,
          4.837795275590551e-8,
          4.938582677165355e-8,
          5.039370078740158e-8,
          5.140157480314961e-8,
          5.240944881889764e-8,
          5.341732283464567e-8,
          5.4425196850393705e-8,
          5.543307086614174e-8,
          5.644094488188977e-8,
          5.74488188976378e-8,
          5.845669291338583e-8,
          5.946456692913386e-8,
          6.04724409448819e-8,
          6.148031496062993e-8,
          6.248818897637795e-8,
          6.349606299212599e-8,
          6.450393700787402e-8,
          6.551181102362206e-8,
          6.651968503937009e-8,
          6.752755905511811e-8,
          6.853543307086614e-8,
          6.954330708661418e-8,
          7.055118110236221e-8,
          7.155905511811025e-8,
          7.256692913385827e-8,
          7.35748031496063e-8,
          7.458267716535434e-8,
          7.559055118110237e-8,
          7.65984251968504e-8,
          7.760629921259843e-8,
          7.861417322834646e-8,
          7.96220472440945e-8,
          8.062992125984253e-8,
          8.163779527559056e-8,
          8.264566929133859e-8,
          8.365354330708662e-8,
          8.466141732283465e-8,
          8.566929133858269e-8,
          8.667716535433072e-8,
          8.768503937007874e-8,
          8.869291338582678e-8,
          8.970078740157481e-8,
          9.070866141732285e-8,
          9.171653543307088e-8,
          9.27244094488189e-8,
          9.373228346456694e-8,
          9.474015748031497e-8,
          9.5748031496063e-8,
          9.675590551181103e-8,
          9.776377952755906e-8,
          9.87716535433071e-8,
          9.977952755905513e-8,
          1.0078740157480316e-7,
          1.0179527559055118e-7,
          1.0280314960629922e-7,
          1.0381102362204725e-7,
          1.0481889763779529e-7,
          1.0582677165354332e-7,
          1.0683464566929134e-7,
          1.0784251968503938e-7,
          1.0885039370078741e-7,
          1.0985826771653544e-7,
          1.1086614173228348e-7,
          1.118740157480315e-7,
          1.1288188976377953e-7,
          1.1388976377952757e-7,
          1.148976377952756e-7,
          1.1590551181102364e-7,
          1.1691338582677166e-7,
          1.1792125984251969e-7,
          1.1892913385826773e-7,
          1.1993700787401576e-7,
          1.209448818897638e-7,
          1.2195275590551183e-7,
          1.2296062992125986e-7,
          1.239685039370079e-7,
          1.249763779527559e-7,
          1.2598425196850394e-7,
          1.2699212598425197e-7,
          1.28e-7
         ],
         "y": [
          0,
          0,
          1.1003397738274329e-9,
          2.1025090315308316e-8,
          1.126880090305351e-7,
          3.6617146386567086e-7,
          9.08441908383378e-7,
          0.000001902948554307969,
          0.000003549106381396704,
          0.000006081664856353,
          0.000009769964036010352,
          0.000014917080029246081,
          0.0000218588620862666,
          0.00003096286387228802,
          0.00004262717176448035,
          0.000057279133285628375,
          0.00007537398905458598,
          0.00009739341189157884,
          0.0001238439569650849,
          0.00015525542710575195,
          0.00019217915764099103,
          0.00023518622532091941,
          0.00028486558611167187,
          0.000341822146825213,
          0.00040667477573518685,
          0.0004800542574955466,
          0.000562601197832317,
          0.0006549638836184209,
          0.0007577961040667242,
          0.0008717549388869769,
          0.0009974985193478615,
          0.0011356837682656707,
          0.001286964125006004,
          0.0014519872616341278,
          0.0016313927963831306,
          0.0018258100106267206,
          0.002035855575545241,
          0.002262131294659407,
          0.002505221868376266,
          0.00276569268664609,
          0.003044087655767444,
          0.003340927065300639,
          0.003656705500957437,
          0.003991889809227334,
          0.004346917119378413,
          0.004722192928333855,
          0.005118089253774053,
          0.005534942860649297,
          0.005973053566109653,
          0.006432682627667184,
          0.006914051219201971,
          0.007417338999207306,
          0.007942682775442278,
          0.008490175269921796,
          0.009059863987925422,
          0.009651750194448595,
          0.01026578800125236,
          0.010901883567392525,
          0.011559894415825892,
          0.01223962886840126,
          0.012940845601246705,
          0.013663253322262866,
          0.014406510572125636,
          0.015170225649891534,
          0.01595395666398532,
          0.0167572117090339,
          0.01757944916869319,
          0.018420078144296543,
          0.01927845900883531,
          0.02015390408546513,
          0.021045678449415777,
          0.021953000851869867,
          0.022875044764065353,
          0.02381093953957162,
          0.02475977169238759,
          0.02572058628821534,
          0.02669238844597319,
          0.02767414494633095,
          0.028664785943774928,
          0.029663206778445483,
          0.03066826988373254,
          0.031678806785368094,
          0.0326936201875181,
          0.03371148614115085,
          0.03473115628974512,
          0.03575136018719961,
          0.03677080768261612,
          0.03778819136645316,
          0.03880218907238415,
          0.039811466429046254,
          0.040814679455731376,
          0.041810477195952225,
          0.042797504382711744,
          0.0437744041292151,
          0.044739820638690156,
          0.04569240192692482,
          0.0466308025510871,
          0.047553686338368414,
          0.048459729107980604,
          0.049347621380043234,
          0.05021607106492005,
          0.05106380612660178,
          0.051889577213786654,
          0.05269216025238014,
          0.053470358993220723,
          0.054223007508940005,
          0.054948972633981234,
          0.05564715634193184,
          0.056316498054470844,
          0.05695597687639237,
          0.057564613751339644,
          0.05814147353307128,
          0.0586856669672816,
          0.059196352579208744,
          0.059672738462489314,
          0.06011408396495298,
          0.06051970126729779,
          0.060888956850842564,
          0.061221272850819214,
          0.061516128291942605,
          0.06177306020327805,
          0.06199166460971762,
          0.062171597397672876,
          0.062312575052895336,
          0.062414375268643324,
          0.06247683742272772,
          0.06249945169064694,
          0.06249945169064694
         ]
        },
        {
         "line": {
          "shape": "spline"
         },
         "mode": "lines",
         "name": "0101",
         "type": "scatter",
         "x": [
          0,
          1.0078740157480316e-9,
          2.015748031496063e-9,
          3.0236220472440945e-9,
          4.031496062992126e-9,
          5.039370078740158e-9,
          6.047244094488189e-9,
          7.055118110236221e-9,
          8.062992125984253e-9,
          9.070866141732284e-9,
          1.0078740157480316e-8,
          1.1086614173228347e-8,
          1.2094488188976378e-8,
          1.310236220472441e-8,
          1.4110236220472442e-8,
          1.5118110236220474e-8,
          1.6125984251968505e-8,
          1.7133858267716536e-8,
          1.8141732283464567e-8,
          1.91496062992126e-8,
          2.0157480314960632e-8,
          2.1165354330708663e-8,
          2.2173228346456694e-8,
          2.3181102362204725e-8,
          2.4188976377952756e-8,
          2.519685039370079e-8,
          2.620472440944882e-8,
          2.7212598425196852e-8,
          2.8220472440944883e-8,
          2.9228346456692914e-8,
          3.023622047244095e-8,
          3.1244094488188976e-8,
          3.225196850393701e-8,
          3.3259842519685045e-8,
          3.426771653543307e-8,
          3.527559055118111e-8,
          3.6283464566929134e-8,
          3.729133858267717e-8,
          3.82992125984252e-8,
          3.930708661417323e-8,
          4.0314960629921265e-8,
          4.132283464566929e-8,
          4.233070866141733e-8,
          4.333858267716536e-8,
          4.434645669291339e-8,
          4.535433070866142e-8,
          4.636220472440945e-8,
          4.7370078740157485e-8,
          4.837795275590551e-8,
          4.938582677165355e-8,
          5.039370078740158e-8,
          5.140157480314961e-8,
          5.240944881889764e-8,
          5.341732283464567e-8,
          5.4425196850393705e-8,
          5.543307086614174e-8,
          5.644094488188977e-8,
          5.74488188976378e-8,
          5.845669291338583e-8,
          5.946456692913386e-8,
          6.04724409448819e-8,
          6.148031496062993e-8,
          6.248818897637795e-8,
          6.349606299212599e-8,
          6.450393700787402e-8,
          6.551181102362206e-8,
          6.651968503937009e-8,
          6.752755905511811e-8,
          6.853543307086614e-8,
          6.954330708661418e-8,
          7.055118110236221e-8,
          7.155905511811025e-8,
          7.256692913385827e-8,
          7.35748031496063e-8,
          7.458267716535434e-8,
          7.559055118110237e-8,
          7.65984251968504e-8,
          7.760629921259843e-8,
          7.861417322834646e-8,
          7.96220472440945e-8,
          8.062992125984253e-8,
          8.163779527559056e-8,
          8.264566929133859e-8,
          8.365354330708662e-8,
          8.466141732283465e-8,
          8.566929133858269e-8,
          8.667716535433072e-8,
          8.768503937007874e-8,
          8.869291338582678e-8,
          8.970078740157481e-8,
          9.070866141732285e-8,
          9.171653543307088e-8,
          9.27244094488189e-8,
          9.373228346456694e-8,
          9.474015748031497e-8,
          9.5748031496063e-8,
          9.675590551181103e-8,
          9.776377952755906e-8,
          9.87716535433071e-8,
          9.977952755905513e-8,
          1.0078740157480316e-7,
          1.0179527559055118e-7,
          1.0280314960629922e-7,
          1.0381102362204725e-7,
          1.0481889763779529e-7,
          1.0582677165354332e-7,
          1.0683464566929134e-7,
          1.0784251968503938e-7,
          1.0885039370078741e-7,
          1.0985826771653544e-7,
          1.1086614173228348e-7,
          1.118740157480315e-7,
          1.1288188976377953e-7,
          1.1388976377952757e-7,
          1.148976377952756e-7,
          1.1590551181102364e-7,
          1.1691338582677166e-7,
          1.1792125984251969e-7,
          1.1892913385826773e-7,
          1.1993700787401576e-7,
          1.209448818897638e-7,
          1.2195275590551183e-7,
          1.2296062992125986e-7,
          1.239685039370079e-7,
          1.249763779527559e-7,
          1.2598425196850394e-7,
          1.2699212598425197e-7,
          1.28e-7
         ],
         "y": [
          0,
          0,
          1.1003397738274333e-9,
          2.1025090315308306e-8,
          1.1268800903053502e-7,
          3.661714638656706e-7,
          9.084419083833775e-7,
          0.0000019029485543079678,
          0.0000035491063813967013,
          0.000006081664856352996,
          0.000009769964036010343,
          0.000014917080029246071,
          0.00002185886208626659,
          0.000030962863872288014,
          0.000042627171764480335,
          0.00005727913328562835,
          0.00007537398905458591,
          0.00009739341189157877,
          0.0001238439569650848,
          0.00015525542710575187,
          0.00019217915764099084,
          0.00023518622532091914,
          0.00028486558611167154,
          0.0003418221468252127,
          0.0004066747757351866,
          0.0004800542574955464,
          0.0005626011978323169,
          0.0006549638836184203,
          0.0007577961040667236,
          0.0008717549388869763,
          0.0009974985193478606,
          0.0011356837682656698,
          0.001286964125006003,
          0.0014519872616341268,
          0.0016313927963831295,
          0.0018258100106267193,
          0.0020358555755452395,
          0.0022621312946594055,
          0.0025052218683762643,
          0.0027656926866460887,
          0.003044087655767442,
          0.003340927065300637,
          0.0036567055009574345,
          0.003991889809227332,
          0.0043469171193784096,
          0.004722192928333852,
          0.005118089253774049,
          0.005534942860649293,
          0.005973053566109647,
          0.006432682627667177,
          0.006914051219201964,
          0.007417338999207299,
          0.00794268277544227,
          0.008490175269921785,
          0.009059863987925411,
          0.009651750194448588,
          0.010265788001252352,
          0.010901883567392516,
          0.011559894415825884,
          0.012239628868401251,
          0.012940845601246696,
          0.013663253322262854,
          0.01440651057212562,
          0.015170225649891513,
          0.015953956663985292,
          0.016757211709033867,
          0.01757944916869316,
          0.018420078144296522,
          0.019278459008835288,
          0.02015390408546511,
          0.021045678449415763,
          0.02195300085186985,
          0.022875044764065336,
          0.023810939539571602,
          0.024759771692387585,
          0.02572058628821534,
          0.0266923884459732,
          0.02767414494633096,
          0.02866478594377494,
          0.029663206778445483,
          0.03066826988373254,
          0.031678806785368094,
          0.032693620187518084,
          0.033711486141150826,
          0.0347311562897451,
          0.03575136018719959,
          0.03677080768261609,
          0.03778819136645312,
          0.0388021890723841,
          0.0398114664290462,
          0.04081467945573132,
          0.04181047719595218,
          0.0427975043827117,
          0.04377440412921504,
          0.044739820638690087,
          0.04569240192692475,
          0.04663080255108703,
          0.047553686338368345,
          0.04845972910798052,
          0.04934762138004315,
          0.05021607106491996,
          0.0510638061266017,
          0.05188957721378657,
          0.052692160252380035,
          0.05347035899322062,
          0.054223007508939915,
          0.054948972633981144,
          0.05564715634193175,
          0.05631649805447073,
          0.05695597687639224,
          0.05756461375133952,
          0.05814147353307116,
          0.058685666967281454,
          0.059196352579208585,
          0.059672738462489154,
          0.06011408396495281,
          0.06051970126729762,
          0.060888956850842356,
          0.061221272850819006,
          0.0615161282919424,
          0.061773060203277844,
          0.061991664609717397,
          0.06217159739767264,
          0.0623125750528951,
          0.06241437526864309,
          0.062476837422727485,
          0.062499451690646635,
          0.062499451690646635
         ]
        },
        {
         "line": {
          "shape": "spline"
         },
         "mode": "lines",
         "name": "1001",
         "type": "scatter",
         "x": [
          0,
          1.0078740157480316e-9,
          2.015748031496063e-9,
          3.0236220472440945e-9,
          4.031496062992126e-9,
          5.039370078740158e-9,
          6.047244094488189e-9,
          7.055118110236221e-9,
          8.062992125984253e-9,
          9.070866141732284e-9,
          1.0078740157480316e-8,
          1.1086614173228347e-8,
          1.2094488188976378e-8,
          1.310236220472441e-8,
          1.4110236220472442e-8,
          1.5118110236220474e-8,
          1.6125984251968505e-8,
          1.7133858267716536e-8,
          1.8141732283464567e-8,
          1.91496062992126e-8,
          2.0157480314960632e-8,
          2.1165354330708663e-8,
          2.2173228346456694e-8,
          2.3181102362204725e-8,
          2.4188976377952756e-8,
          2.519685039370079e-8,
          2.620472440944882e-8,
          2.7212598425196852e-8,
          2.8220472440944883e-8,
          2.9228346456692914e-8,
          3.023622047244095e-8,
          3.1244094488188976e-8,
          3.225196850393701e-8,
          3.3259842519685045e-8,
          3.426771653543307e-8,
          3.527559055118111e-8,
          3.6283464566929134e-8,
          3.729133858267717e-8,
          3.82992125984252e-8,
          3.930708661417323e-8,
          4.0314960629921265e-8,
          4.132283464566929e-8,
          4.233070866141733e-8,
          4.333858267716536e-8,
          4.434645669291339e-8,
          4.535433070866142e-8,
          4.636220472440945e-8,
          4.7370078740157485e-8,
          4.837795275590551e-8,
          4.938582677165355e-8,
          5.039370078740158e-8,
          5.140157480314961e-8,
          5.240944881889764e-8,
          5.341732283464567e-8,
          5.4425196850393705e-8,
          5.543307086614174e-8,
          5.644094488188977e-8,
          5.74488188976378e-8,
          5.845669291338583e-8,
          5.946456692913386e-8,
          6.04724409448819e-8,
          6.148031496062993e-8,
          6.248818897637795e-8,
          6.349606299212599e-8,
          6.450393700787402e-8,
          6.551181102362206e-8,
          6.651968503937009e-8,
          6.752755905511811e-8,
          6.853543307086614e-8,
          6.954330708661418e-8,
          7.055118110236221e-8,
          7.155905511811025e-8,
          7.256692913385827e-8,
          7.35748031496063e-8,
          7.458267716535434e-8,
          7.559055118110237e-8,
          7.65984251968504e-8,
          7.760629921259843e-8,
          7.861417322834646e-8,
          7.96220472440945e-8,
          8.062992125984253e-8,
          8.163779527559056e-8,
          8.264566929133859e-8,
          8.365354330708662e-8,
          8.466141732283465e-8,
          8.566929133858269e-8,
          8.667716535433072e-8,
          8.768503937007874e-8,
          8.869291338582678e-8,
          8.970078740157481e-8,
          9.070866141732285e-8,
          9.171653543307088e-8,
          9.27244094488189e-8,
          9.373228346456694e-8,
          9.474015748031497e-8,
          9.5748031496063e-8,
          9.675590551181103e-8,
          9.776377952755906e-8,
          9.87716535433071e-8,
          9.977952755905513e-8,
          1.0078740157480316e-7,
          1.0179527559055118e-7,
          1.0280314960629922e-7,
          1.0381102362204725e-7,
          1.0481889763779529e-7,
          1.0582677165354332e-7,
          1.0683464566929134e-7,
          1.0784251968503938e-7,
          1.0885039370078741e-7,
          1.0985826771653544e-7,
          1.1086614173228348e-7,
          1.118740157480315e-7,
          1.1288188976377953e-7,
          1.1388976377952757e-7,
          1.148976377952756e-7,
          1.1590551181102364e-7,
          1.1691338582677166e-7,
          1.1792125984251969e-7,
          1.1892913385826773e-7,
          1.1993700787401576e-7,
          1.209448818897638e-7,
          1.2195275590551183e-7,
          1.2296062992125986e-7,
          1.239685039370079e-7,
          1.249763779527559e-7,
          1.2598425196850394e-7,
          1.2699212598425197e-7,
          1.28e-7
         ],
         "y": [
          0,
          0,
          1.1003397738274333e-9,
          2.1025090315308316e-8,
          1.126880090305351e-7,
          3.6617146386567086e-7,
          9.084419083833783e-7,
          0.000001902948554307969,
          0.000003549106381396704,
          0.000006081664856352998,
          0.000009769964036010343,
          0.000014917080029246074,
          0.000021858862086266583,
          0.000030962863872287994,
          0.000042627171764480294,
          0.00005727913328562827,
          0.00007537398905458583,
          0.00009739341189157874,
          0.00012384395696508476,
          0.00015525542710575178,
          0.00019217915764099073,
          0.00023518622532091914,
          0.0002848655861116714,
          0.0003418221468252127,
          0.00040667477573518615,
          0.000480054257495546,
          0.0005626011978323163,
          0.0006549638836184197,
          0.000757796104066723,
          0.000871754938886976,
          0.0009974985193478602,
          0.001135683768265669,
          0.0012869641250060021,
          0.001451987261634126,
          0.0016313927963831278,
          0.0018258100106267165,
          0.0020358555755452365,
          0.0022621312946594016,
          0.0025052218683762595,
          0.0027656926866460835,
          0.003044087655767436,
          0.0033409270653006295,
          0.003656705500957428,
          0.003991889809227321,
          0.004346917119378398,
          0.004722192928333839,
          0.005118089253774033,
          0.005534942860649276,
          0.0059730535661096295,
          0.006432682627667157,
          0.0069140512192019405,
          0.007417338999207271,
          0.007942682775442241,
          0.00849017526992175,
          0.009059863987925373,
          0.009651750194448543,
          0.010265788001252307,
          0.01090188356739247,
          0.011559894415825833,
          0.012239628868401195,
          0.012940845601246639,
          0.013663253322262791,
          0.014406510572125556,
          0.015170225649891449,
          0.015953956663985226,
          0.016757211709033812,
          0.017579449168693095,
          0.018420078144296446,
          0.01927845900883522,
          0.02015390408546504,
          0.021045678449415683,
          0.021953000851869766,
          0.022875044764065253,
          0.023810939539571516,
          0.024759771692387498,
          0.02572058628821525,
          0.02669238844597312,
          0.027674144946330866,
          0.028664785943774834,
          0.029663206778445375,
          0.030668269883732415,
          0.031678806785367955,
          0.03269362018751796,
          0.033711486141150694,
          0.03473115628974497,
          0.03575136018719946,
          0.03677080768261595,
          0.03778819136645296,
          0.03880218907238395,
          0.039811466429046045,
          0.04081467945573116,
          0.041810477195952024,
          0.042797504382711515,
          0.04377440412921483,
          0.04473982063868987,
          0.045692401926924524,
          0.046630802551086786,
          0.0475536863383681,
          0.04845972910798027,
          0.04934762138004293,
          0.05021607106491974,
          0.05106380612660147,
          0.05188957721378633,
          0.05269216025237978,
          0.05347035899322035,
          0.054223007508939616,
          0.054948972633980867,
          0.05564715634193148,
          0.0563164980544705,
          0.056955976876392006,
          0.05756461375133928,
          0.058141473533070934,
          0.05868566696728124,
          0.05919635257920838,
          0.059672738462488925,
          0.06011408396495258,
          0.06051970126729738,
          0.060888956850842155,
          0.061221272850818804,
          0.06151612829194221,
          0.06177306020327765,
          0.06199166460971719,
          0.06217159739767242,
          0.06231257505289489,
          0.06241437526864291,
          0.06247683742272728,
          0.062499451690646454,
          0.062499451690646454
         ]
        },
        {
         "line": {
          "shape": "spline"
         },
         "mode": "lines",
         "name": "1010",
         "type": "scatter",
         "x": [
          0,
          1.0078740157480316e-9,
          2.015748031496063e-9,
          3.0236220472440945e-9,
          4.031496062992126e-9,
          5.039370078740158e-9,
          6.047244094488189e-9,
          7.055118110236221e-9,
          8.062992125984253e-9,
          9.070866141732284e-9,
          1.0078740157480316e-8,
          1.1086614173228347e-8,
          1.2094488188976378e-8,
          1.310236220472441e-8,
          1.4110236220472442e-8,
          1.5118110236220474e-8,
          1.6125984251968505e-8,
          1.7133858267716536e-8,
          1.8141732283464567e-8,
          1.91496062992126e-8,
          2.0157480314960632e-8,
          2.1165354330708663e-8,
          2.2173228346456694e-8,
          2.3181102362204725e-8,
          2.4188976377952756e-8,
          2.519685039370079e-8,
          2.620472440944882e-8,
          2.7212598425196852e-8,
          2.8220472440944883e-8,
          2.9228346456692914e-8,
          3.023622047244095e-8,
          3.1244094488188976e-8,
          3.225196850393701e-8,
          3.3259842519685045e-8,
          3.426771653543307e-8,
          3.527559055118111e-8,
          3.6283464566929134e-8,
          3.729133858267717e-8,
          3.82992125984252e-8,
          3.930708661417323e-8,
          4.0314960629921265e-8,
          4.132283464566929e-8,
          4.233070866141733e-8,
          4.333858267716536e-8,
          4.434645669291339e-8,
          4.535433070866142e-8,
          4.636220472440945e-8,
          4.7370078740157485e-8,
          4.837795275590551e-8,
          4.938582677165355e-8,
          5.039370078740158e-8,
          5.140157480314961e-8,
          5.240944881889764e-8,
          5.341732283464567e-8,
          5.4425196850393705e-8,
          5.543307086614174e-8,
          5.644094488188977e-8,
          5.74488188976378e-8,
          5.845669291338583e-8,
          5.946456692913386e-8,
          6.04724409448819e-8,
          6.148031496062993e-8,
          6.248818897637795e-8,
          6.349606299212599e-8,
          6.450393700787402e-8,
          6.551181102362206e-8,
          6.651968503937009e-8,
          6.752755905511811e-8,
          6.853543307086614e-8,
          6.954330708661418e-8,
          7.055118110236221e-8,
          7.155905511811025e-8,
          7.256692913385827e-8,
          7.35748031496063e-8,
          7.458267716535434e-8,
          7.559055118110237e-8,
          7.65984251968504e-8,
          7.760629921259843e-8,
          7.861417322834646e-8,
          7.96220472440945e-8,
          8.062992125984253e-8,
          8.163779527559056e-8,
          8.264566929133859e-8,
          8.365354330708662e-8,
          8.466141732283465e-8,
          8.566929133858269e-8,
          8.667716535433072e-8,
          8.768503937007874e-8,
          8.869291338582678e-8,
          8.970078740157481e-8,
          9.070866141732285e-8,
          9.171653543307088e-8,
          9.27244094488189e-8,
          9.373228346456694e-8,
          9.474015748031497e-8,
          9.5748031496063e-8,
          9.675590551181103e-8,
          9.776377952755906e-8,
          9.87716535433071e-8,
          9.977952755905513e-8,
          1.0078740157480316e-7,
          1.0179527559055118e-7,
          1.0280314960629922e-7,
          1.0381102362204725e-7,
          1.0481889763779529e-7,
          1.0582677165354332e-7,
          1.0683464566929134e-7,
          1.0784251968503938e-7,
          1.0885039370078741e-7,
          1.0985826771653544e-7,
          1.1086614173228348e-7,
          1.118740157480315e-7,
          1.1288188976377953e-7,
          1.1388976377952757e-7,
          1.148976377952756e-7,
          1.1590551181102364e-7,
          1.1691338582677166e-7,
          1.1792125984251969e-7,
          1.1892913385826773e-7,
          1.1993700787401576e-7,
          1.209448818897638e-7,
          1.2195275590551183e-7,
          1.2296062992125986e-7,
          1.239685039370079e-7,
          1.249763779527559e-7,
          1.2598425196850394e-7,
          1.2699212598425197e-7,
          1.28e-7
         ],
         "y": [
          0,
          0,
          1.1003397738274333e-9,
          2.1025090315308323e-8,
          1.126880090305351e-7,
          3.6617146386567086e-7,
          9.084419083833782e-7,
          0.0000019029485543079684,
          0.000003549106381396702,
          0.000006081664856352996,
          0.000009769964036010341,
          0.000014917080029246071,
          0.000021858862086266576,
          0.00003096286387228797,
          0.00004262717176448027,
          0.00005727913328562824,
          0.00007537398905458579,
          0.00009739341189157867,
          0.00012384395696508462,
          0.00015525542710575162,
          0.0001921791576409905,
          0.00023518622532091882,
          0.00028486558611167106,
          0.0003418221468252122,
          0.0004066747757351857,
          0.00048005425749554533,
          0.0005626011978323156,
          0.0006549638836184189,
          0.0007577961040667221,
          0.0008717549388869747,
          0.0009974985193478582,
          0.0011356837682656665,
          0.001286964125005999,
          0.0014519872616341216,
          0.0016313927963831232,
          0.0018258100106267117,
          0.002035855575545231,
          0.0022621312946593955,
          0.0025052218683762526,
          0.0027656926866460757,
          0.003044087655767427,
          0.003340927065300619,
          0.0036567055009574163,
          0.00399188980922731,
          0.004346917119378385,
          0.004722192928333823,
          0.005118089253774017,
          0.005534942860649262,
          0.005973053566109612,
          0.006432682627667139,
          0.006914051219201922,
          0.007417338999207249,
          0.007942682775442219,
          0.008490175269921726,
          0.009059863987925347,
          0.009651750194448513,
          0.010265788001252272,
          0.010901883567392433,
          0.011559894415825788,
          0.012239628868401149,
          0.012940845601246595,
          0.013663253322262743,
          0.014406510572125502,
          0.01517022564989139,
          0.015953956663985164,
          0.016757211709033732,
          0.017579449168693004,
          0.01842007814429635,
          0.01927845900883511,
          0.020153904085464917,
          0.02104567844941555,
          0.021953000851869627,
          0.02287504476406511,
          0.023810939539571363,
          0.02475977169238733,
          0.025720586288215073,
          0.02669238844597293,
          0.02767414494633067,
          0.028664785943774636,
          0.029663206778445167,
          0.0306682698837322,
          0.03167880678536773,
          0.032693620187517716,
          0.03371148614115045,
          0.034731156289744713,
          0.03575136018719918,
          0.036770807682615675,
          0.03778819136645267,
          0.03880218907238366,
          0.03981146642904576,
          0.04081467945573086,
          0.041810477195951705,
          0.042797504382711196,
          0.0437744041292145,
          0.044739820638689545,
          0.04569240192692419,
          0.04663080255108644,
          0.04755368633836774,
          0.0484597291079799,
          0.04934762138004255,
          0.050216071064919356,
          0.051063806126601066,
          0.051889577213785926,
          0.05269216025237937,
          0.053470358993219926,
          0.0542230075089392,
          0.054948972633980436,
          0.05564715634193103,
          0.05631649805447004,
          0.05695597687639154,
          0.05756461375133879,
          0.05814147353307043,
          0.05868566696728073,
          0.05919635257920787,
          0.05967273846248839,
          0.060114083964952034,
          0.060519701267296826,
          0.06088895685084159,
          0.061221272850818236,
          0.06151612829194163,
          0.06177306020327706,
          0.061991664609716585,
          0.06217159739767182,
          0.06231257505289428,
          0.06241437526864227,
          0.06247683742272664,
          0.062499451690645816,
          0.062499451690645816
         ]
        },
        {
         "line": {
          "shape": "spline"
         },
         "mode": "lines",
         "name": "0111",
         "type": "scatter",
         "x": [
          0,
          1.0078740157480316e-9,
          2.015748031496063e-9,
          3.0236220472440945e-9,
          4.031496062992126e-9,
          5.039370078740158e-9,
          6.047244094488189e-9,
          7.055118110236221e-9,
          8.062992125984253e-9,
          9.070866141732284e-9,
          1.0078740157480316e-8,
          1.1086614173228347e-8,
          1.2094488188976378e-8,
          1.310236220472441e-8,
          1.4110236220472442e-8,
          1.5118110236220474e-8,
          1.6125984251968505e-8,
          1.7133858267716536e-8,
          1.8141732283464567e-8,
          1.91496062992126e-8,
          2.0157480314960632e-8,
          2.1165354330708663e-8,
          2.2173228346456694e-8,
          2.3181102362204725e-8,
          2.4188976377952756e-8,
          2.519685039370079e-8,
          2.620472440944882e-8,
          2.7212598425196852e-8,
          2.8220472440944883e-8,
          2.9228346456692914e-8,
          3.023622047244095e-8,
          3.1244094488188976e-8,
          3.225196850393701e-8,
          3.3259842519685045e-8,
          3.426771653543307e-8,
          3.527559055118111e-8,
          3.6283464566929134e-8,
          3.729133858267717e-8,
          3.82992125984252e-8,
          3.930708661417323e-8,
          4.0314960629921265e-8,
          4.132283464566929e-8,
          4.233070866141733e-8,
          4.333858267716536e-8,
          4.434645669291339e-8,
          4.535433070866142e-8,
          4.636220472440945e-8,
          4.7370078740157485e-8,
          4.837795275590551e-8,
          4.938582677165355e-8,
          5.039370078740158e-8,
          5.140157480314961e-8,
          5.240944881889764e-8,
          5.341732283464567e-8,
          5.4425196850393705e-8,
          5.543307086614174e-8,
          5.644094488188977e-8,
          5.74488188976378e-8,
          5.845669291338583e-8,
          5.946456692913386e-8,
          6.04724409448819e-8,
          6.148031496062993e-8,
          6.248818897637795e-8,
          6.349606299212599e-8,
          6.450393700787402e-8,
          6.551181102362206e-8,
          6.651968503937009e-8,
          6.752755905511811e-8,
          6.853543307086614e-8,
          6.954330708661418e-8,
          7.055118110236221e-8,
          7.155905511811025e-8,
          7.256692913385827e-8,
          7.35748031496063e-8,
          7.458267716535434e-8,
          7.559055118110237e-8,
          7.65984251968504e-8,
          7.760629921259843e-8,
          7.861417322834646e-8,
          7.96220472440945e-8,
          8.062992125984253e-8,
          8.163779527559056e-8,
          8.264566929133859e-8,
          8.365354330708662e-8,
          8.466141732283465e-8,
          8.566929133858269e-8,
          8.667716535433072e-8,
          8.768503937007874e-8,
          8.869291338582678e-8,
          8.970078740157481e-8,
          9.070866141732285e-8,
          9.171653543307088e-8,
          9.27244094488189e-8,
          9.373228346456694e-8,
          9.474015748031497e-8,
          9.5748031496063e-8,
          9.675590551181103e-8,
          9.776377952755906e-8,
          9.87716535433071e-8,
          9.977952755905513e-8,
          1.0078740157480316e-7,
          1.0179527559055118e-7,
          1.0280314960629922e-7,
          1.0381102362204725e-7,
          1.0481889763779529e-7,
          1.0582677165354332e-7,
          1.0683464566929134e-7,
          1.0784251968503938e-7,
          1.0885039370078741e-7,
          1.0985826771653544e-7,
          1.1086614173228348e-7,
          1.118740157480315e-7,
          1.1288188976377953e-7,
          1.1388976377952757e-7,
          1.148976377952756e-7,
          1.1590551181102364e-7,
          1.1691338582677166e-7,
          1.1792125984251969e-7,
          1.1892913385826773e-7,
          1.1993700787401576e-7,
          1.209448818897638e-7,
          1.2195275590551183e-7,
          1.2296062992125986e-7,
          1.239685039370079e-7,
          1.249763779527559e-7,
          1.2598425196850394e-7,
          1.2699212598425197e-7,
          1.28e-7
         ],
         "y": [
          0,
          0,
          3.6502199229708386e-14,
          3.049529073066508e-12,
          3.785369535652503e-11,
          2.2184662370200292e-10,
          8.675106177065761e-10,
          2.6323355800845604e-9,
          6.711498697746604e-9,
          1.5072445526963728e-8,
          3.0730328961355836e-8,
          5.806307775742565e-8,
          1.0316468542156993e-7,
          1.7423513391257033e-7,
          2.820051953552853e-7,
          4.4019418935095177e-7,
          6.659986140474261e-7,
          9.80609416421506e-7,
          0.0000014097555217287458,
          0.0000019842711042769095,
          0.0000027406839520385083,
          0.000003721822156573467,
          0.00000497743624769828,
          0.000006564833789700339,
          0.00000854952336301637,
          0.00001100586477250454,
          0.000014017722251044707,
          0.000017679117365474616,
          0.0000220948782810542,
          0.00002738128200095836,
          0.00003366668616890989,
          0.000041092147006125445,
          0.000049812019948373496,
          0.00005999453955521413,
          0.00007182237528145284,
          0.00008549315973050689,
          0.00010121998605073253,
          0.00011923187118873745,
          0.00013977418177821648,
          0.00016310901951877574,
          0.00018951556298639358,
          0.0002192903629154139,
          0.00025274758810105884,
          0.00029021921919112015,
          0.00033205518776546284,
          0.0003786234582419203,
          0.0004303100502967489,
          0.0004875189996466231,
          0.0005506722552068407,
          0.0006202095108164755,
          0.0006965879699052479,
          0.0007802820416683665,
          0.0008717829675140401,
          0.0009715983767532089,
          0.0010802517707117728,
          0.001198281934661596,
          0.0013262422771872955,
          0.0014647000968306069,
          0.001614235776082404,
          0.0017754419030235505,
          0.0019489223211490222,
          0.0021352911081445806,
          0.0023351714846209176,
          0.002549194654046039,
          0.002777998575352017,
          0.0030222266699264084,
          0.003282526464930962,
          0.0035595481751200223,
          0.003853943225557607,
          0.004166362717854788,
          0.0044974558427671694,
          0.00484786824220515,
          0.005218240323916672,
          0.005609205532302751,
          0.006021388579019487,
          0.006455403637205915,
          0.006911852503354504,
          0.007391322731009498,
          0.007894385740637392,
          0.00842159491016289,
          0.008973483650802236,
          0.009550563472953482,
          0.01015332204701942,
          0.010782221264143294,
          0.011437695301929495,
          0.012120148700301044,
          0.01282995445271212,
          0.013567452117987332,
          0.0143329459580991,
          0.015126703107220736,
          0.015948951777404696,
          0.01679987950623367,
          0.017679631451775576,
          0.01858830874014339,
          0.019525966870914922,
          0.020492614185609232,
          0.02148821040434134,
          0.022512665235689688,
          0.023565837064707933,
          0.024647531723895857,
          0.025757501351814104,
          0.02689544334388292,
          0.028060999399747537,
          0.029253754671421703,
          0.030473237016237168,
          0.03171891635843058,
          0.03299020416299064,
          0.0342864530251683,
          0.035606956378821226,
          0.036950948326521266,
          0.03831760359410195,
          0.039706037612059535,
          0.04111530672595126,
          0.04254440853765321,
          0.043992282379053546,
          0.04545780991946127,
          0.04693981590770923,
          0.048437069049622944,
          0.049948283021213846,
          0.051472117617639083,
          0.05300718003764885,
          0.05455202630291956,
          0.05610516281134443,
          0.05766504802302767,
          0.059230094277399434,
          0.06079866973954275,
          0.06223820195077288,
          0.06223820195077288
         ]
        },
        {
         "line": {
          "shape": "spline"
         },
         "mode": "lines",
         "name": "1101",
         "type": "scatter",
         "x": [
          0,
          1.0078740157480316e-9,
          2.015748031496063e-9,
          3.0236220472440945e-9,
          4.031496062992126e-9,
          5.039370078740158e-9,
          6.047244094488189e-9,
          7.055118110236221e-9,
          8.062992125984253e-9,
          9.070866141732284e-9,
          1.0078740157480316e-8,
          1.1086614173228347e-8,
          1.2094488188976378e-8,
          1.310236220472441e-8,
          1.4110236220472442e-8,
          1.5118110236220474e-8,
          1.6125984251968505e-8,
          1.7133858267716536e-8,
          1.8141732283464567e-8,
          1.91496062992126e-8,
          2.0157480314960632e-8,
          2.1165354330708663e-8,
          2.2173228346456694e-8,
          2.3181102362204725e-8,
          2.4188976377952756e-8,
          2.519685039370079e-8,
          2.620472440944882e-8,
          2.7212598425196852e-8,
          2.8220472440944883e-8,
          2.9228346456692914e-8,
          3.023622047244095e-8,
          3.1244094488188976e-8,
          3.225196850393701e-8,
          3.3259842519685045e-8,
          3.426771653543307e-8,
          3.527559055118111e-8,
          3.6283464566929134e-8,
          3.729133858267717e-8,
          3.82992125984252e-8,
          3.930708661417323e-8,
          4.0314960629921265e-8,
          4.132283464566929e-8,
          4.233070866141733e-8,
          4.333858267716536e-8,
          4.434645669291339e-8,
          4.535433070866142e-8,
          4.636220472440945e-8,
          4.7370078740157485e-8,
          4.837795275590551e-8,
          4.938582677165355e-8,
          5.039370078740158e-8,
          5.140157480314961e-8,
          5.240944881889764e-8,
          5.341732283464567e-8,
          5.4425196850393705e-8,
          5.543307086614174e-8,
          5.644094488188977e-8,
          5.74488188976378e-8,
          5.845669291338583e-8,
          5.946456692913386e-8,
          6.04724409448819e-8,
          6.148031496062993e-8,
          6.248818897637795e-8,
          6.349606299212599e-8,
          6.450393700787402e-8,
          6.551181102362206e-8,
          6.651968503937009e-8,
          6.752755905511811e-8,
          6.853543307086614e-8,
          6.954330708661418e-8,
          7.055118110236221e-8,
          7.155905511811025e-8,
          7.256692913385827e-8,
          7.35748031496063e-8,
          7.458267716535434e-8,
          7.559055118110237e-8,
          7.65984251968504e-8,
          7.760629921259843e-8,
          7.861417322834646e-8,
          7.96220472440945e-8,
          8.062992125984253e-8,
          8.163779527559056e-8,
          8.264566929133859e-8,
          8.365354330708662e-8,
          8.466141732283465e-8,
          8.566929133858269e-8,
          8.667716535433072e-8,
          8.768503937007874e-8,
          8.869291338582678e-8,
          8.970078740157481e-8,
          9.070866141732285e-8,
          9.171653543307088e-8,
          9.27244094488189e-8,
          9.373228346456694e-8,
          9.474015748031497e-8,
          9.5748031496063e-8,
          9.675590551181103e-8,
          9.776377952755906e-8,
          9.87716535433071e-8,
          9.977952755905513e-8,
          1.0078740157480316e-7,
          1.0179527559055118e-7,
          1.0280314960629922e-7,
          1.0381102362204725e-7,
          1.0481889763779529e-7,
          1.0582677165354332e-7,
          1.0683464566929134e-7,
          1.0784251968503938e-7,
          1.0885039370078741e-7,
          1.0985826771653544e-7,
          1.1086614173228348e-7,
          1.118740157480315e-7,
          1.1288188976377953e-7,
          1.1388976377952757e-7,
          1.148976377952756e-7,
          1.1590551181102364e-7,
          1.1691338582677166e-7,
          1.1792125984251969e-7,
          1.1892913385826773e-7,
          1.1993700787401576e-7,
          1.209448818897638e-7,
          1.2195275590551183e-7,
          1.2296062992125986e-7,
          1.239685039370079e-7,
          1.249763779527559e-7,
          1.2598425196850394e-7,
          1.2699212598425197e-7,
          1.28e-7
         ],
         "y": [
          0,
          0,
          3.650219922970841e-14,
          3.0495290730665103e-12,
          3.785369535652505e-11,
          2.2184662370200292e-10,
          8.675106177065765e-10,
          2.6323355800845616e-9,
          6.711498697746604e-9,
          1.507244552696372e-8,
          3.073032896135583e-8,
          5.8063077757425666e-8,
          1.0316468542156997e-7,
          1.7423513391257038e-7,
          2.820051953552853e-7,
          4.4019418935095167e-7,
          6.659986140474258e-7,
          9.806094164215057e-7,
          0.000001409755521728745,
          0.0000019842711042769095,
          0.0000027406839520385075,
          0.000003721822156573468,
          0.000004977436247698283,
          0.000006564833789700342,
          0.000008549523363016373,
          0.00001100586477250454,
          0.000014017722251044707,
          0.000017679117365474616,
          0.00002209487828105419,
          0.000027381282000958342,
          0.00003366668616890987,
          0.000041092147006125425,
          0.00004981201994837346,
          0.00005999453955521409,
          0.0000718223752814528,
          0.00008549315973050682,
          0.00010121998605073246,
          0.00011923187118873734,
          0.00013977418177821635,
          0.00016310901951877555,
          0.00018951556298639333,
          0.0002192903629154136,
          0.0002527475881010585,
          0.00029021921919112,
          0.00033205518776546246,
          0.00037862345824192,
          0.00043031005029674837,
          0.00048751899964662247,
          0.00055067225520684,
          0.000620209510816475,
          0.0006965879699052474,
          0.0007802820416683656,
          0.0008717829675140387,
          0.0009715983767532076,
          0.0010802517707117713,
          0.0011982819346615936,
          0.001326242277187293,
          0.0014647000968306032,
          0.0016142357760824005,
          0.0017754419030235457,
          0.001948922321149016,
          0.002135291108144573,
          0.002335171484620909,
          0.0025491946540460303,
          0.0027779985753520085,
          0.003022226669926398,
          0.0032825264649309497,
          0.0035595481751200093,
          0.0038539432255575933,
          0.004166362717854769,
          0.004497455842767147,
          0.004847868242205123,
          0.005218240323916642,
          0.005609205532302718,
          0.0060213885790194495,
          0.0064554036372058785,
          0.00691185250335447,
          0.007391322731009463,
          0.007894385740637357,
          0.008421594910162852,
          0.008973483650802198,
          0.009550563472953445,
          0.010153322047019386,
          0.01078222126414326,
          0.011437695301929458,
          0.012120148700301007,
          0.012829954452712082,
          0.013567452117987289,
          0.014332945958099055,
          0.015126703107220684,
          0.01594895177740464,
          0.01679987950623361,
          0.017679631451775524,
          0.018588308740143333,
          0.01952596687091489,
          0.020492614185609208,
          0.021488210404341297,
          0.022512665235689636,
          0.023565837064707884,
          0.02464753172389582,
          0.02575750135181407,
          0.026895443343882875,
          0.02806099939974748,
          0.029253754671421637,
          0.03047323701623709,
          0.03171891635843049,
          0.03299020416299055,
          0.034286453025168216,
          0.03560695637882112,
          0.036950948326521155,
          0.038317603594101815,
          0.03970603761205942,
          0.04111530672595116,
          0.04254440853765312,
          0.043992282379053456,
          0.04545780991946117,
          0.046939815907709126,
          0.048437069049622826,
          0.049948283021213735,
          0.051472117617638966,
          0.05300718003764874,
          0.05455202630291942,
          0.056105162811344284,
          0.057665048023027535,
          0.059230094277399316,
          0.06079866973954264,
          0.062238201950772766,
          0.062238201950772766
         ]
        },
        {
         "line": {
          "shape": "spline"
         },
         "mode": "lines",
         "name": "1110",
         "type": "scatter",
         "x": [
          0,
          1.0078740157480316e-9,
          2.015748031496063e-9,
          3.0236220472440945e-9,
          4.031496062992126e-9,
          5.039370078740158e-9,
          6.047244094488189e-9,
          7.055118110236221e-9,
          8.062992125984253e-9,
          9.070866141732284e-9,
          1.0078740157480316e-8,
          1.1086614173228347e-8,
          1.2094488188976378e-8,
          1.310236220472441e-8,
          1.4110236220472442e-8,
          1.5118110236220474e-8,
          1.6125984251968505e-8,
          1.7133858267716536e-8,
          1.8141732283464567e-8,
          1.91496062992126e-8,
          2.0157480314960632e-8,
          2.1165354330708663e-8,
          2.2173228346456694e-8,
          2.3181102362204725e-8,
          2.4188976377952756e-8,
          2.519685039370079e-8,
          2.620472440944882e-8,
          2.7212598425196852e-8,
          2.8220472440944883e-8,
          2.9228346456692914e-8,
          3.023622047244095e-8,
          3.1244094488188976e-8,
          3.225196850393701e-8,
          3.3259842519685045e-8,
          3.426771653543307e-8,
          3.527559055118111e-8,
          3.6283464566929134e-8,
          3.729133858267717e-8,
          3.82992125984252e-8,
          3.930708661417323e-8,
          4.0314960629921265e-8,
          4.132283464566929e-8,
          4.233070866141733e-8,
          4.333858267716536e-8,
          4.434645669291339e-8,
          4.535433070866142e-8,
          4.636220472440945e-8,
          4.7370078740157485e-8,
          4.837795275590551e-8,
          4.938582677165355e-8,
          5.039370078740158e-8,
          5.140157480314961e-8,
          5.240944881889764e-8,
          5.341732283464567e-8,
          5.4425196850393705e-8,
          5.543307086614174e-8,
          5.644094488188977e-8,
          5.74488188976378e-8,
          5.845669291338583e-8,
          5.946456692913386e-8,
          6.04724409448819e-8,
          6.148031496062993e-8,
          6.248818897637795e-8,
          6.349606299212599e-8,
          6.450393700787402e-8,
          6.551181102362206e-8,
          6.651968503937009e-8,
          6.752755905511811e-8,
          6.853543307086614e-8,
          6.954330708661418e-8,
          7.055118110236221e-8,
          7.155905511811025e-8,
          7.256692913385827e-8,
          7.35748031496063e-8,
          7.458267716535434e-8,
          7.559055118110237e-8,
          7.65984251968504e-8,
          7.760629921259843e-8,
          7.861417322834646e-8,
          7.96220472440945e-8,
          8.062992125984253e-8,
          8.163779527559056e-8,
          8.264566929133859e-8,
          8.365354330708662e-8,
          8.466141732283465e-8,
          8.566929133858269e-8,
          8.667716535433072e-8,
          8.768503937007874e-8,
          8.869291338582678e-8,
          8.970078740157481e-8,
          9.070866141732285e-8,
          9.171653543307088e-8,
          9.27244094488189e-8,
          9.373228346456694e-8,
          9.474015748031497e-8,
          9.5748031496063e-8,
          9.675590551181103e-8,
          9.776377952755906e-8,
          9.87716535433071e-8,
          9.977952755905513e-8,
          1.0078740157480316e-7,
          1.0179527559055118e-7,
          1.0280314960629922e-7,
          1.0381102362204725e-7,
          1.0481889763779529e-7,
          1.0582677165354332e-7,
          1.0683464566929134e-7,
          1.0784251968503938e-7,
          1.0885039370078741e-7,
          1.0985826771653544e-7,
          1.1086614173228348e-7,
          1.118740157480315e-7,
          1.1288188976377953e-7,
          1.1388976377952757e-7,
          1.148976377952756e-7,
          1.1590551181102364e-7,
          1.1691338582677166e-7,
          1.1792125984251969e-7,
          1.1892913385826773e-7,
          1.1993700787401576e-7,
          1.209448818897638e-7,
          1.2195275590551183e-7,
          1.2296062992125986e-7,
          1.239685039370079e-7,
          1.249763779527559e-7,
          1.2598425196850394e-7,
          1.2699212598425197e-7,
          1.28e-7
         ],
         "y": [
          0,
          0,
          3.65021992297084e-14,
          3.0495290730665094e-12,
          3.785369535652505e-11,
          2.2184662370200297e-10,
          8.675106177065767e-10,
          2.6323355800845625e-9,
          6.711498697746606e-9,
          1.5072445526963728e-8,
          3.073032896135584e-8,
          5.8063077757425706e-8,
          1.0316468542157e-7,
          1.742351339125704e-7,
          2.820051953552853e-7,
          4.4019418935095167e-7,
          6.659986140474256e-7,
          9.806094164215052e-7,
          0.0000014097555217287439,
          0.0000019842711042769078,
          0.000002740683952038505,
          0.000003721822156573464,
          0.000004977436247698277,
          0.000006564833789700335,
          0.000008549523363016366,
          0.000011005864772504525,
          0.000014017722251044689,
          0.000017679117365474596,
          0.00002209487828105416,
          0.000027381282000958305,
          0.00003366668616890983,
          0.00004109214700612538,
          0.000049812019948373415,
          0.00005999453955521403,
          0.00007182237528145271,
          0.00008549315973050676,
          0.00010121998605073239,
          0.00011923187118873726,
          0.00013977418177821624,
          0.0001631090195187754,
          0.00018951556298639304,
          0.0002192903629154132,
          0.0002527475881010581,
          0.0002902192191911194,
          0.0003320551877654617,
          0.00037862345824191893,
          0.00043031005029674706,
          0.0004875189996466206,
          0.0005506722552068379,
          0.0006202095108164726,
          0.0006965879699052446,
          0.0007802820416683625,
          0.0008717829675140352,
          0.0009715983767532035,
          0.0010802517707117667,
          0.0011982819346615893,
          0.0013262422771872873,
          0.001464700096830597,
          0.0016142357760823933,
          0.0017754419030235388,
          0.001948922321149008,
          0.0021352911081445646,
          0.0023351714846208994,
          0.0025491946540460208,
          0.0027779985753519977,
          0.0030222266699263863,
          0.003282526464930937,
          0.003559548175119995,
          0.003853943225557577,
          0.004166362717854752,
          0.00449745584276713,
          0.004847868242205106,
          0.005218240323916622,
          0.005609205532302695,
          0.006021388579019426,
          0.0064554036372058525,
          0.006911852503354442,
          0.007391322731009434,
          0.007894385740637323,
          0.008421594910162814,
          0.008973483650802153,
          0.009550563472953395,
          0.01015332204701933,
          0.010782221264143202,
          0.011437695301929398,
          0.012120148700300936,
          0.012829954452712006,
          0.01356745211798721,
          0.014332945958098971,
          0.015126703107220595,
          0.015948951777404543,
          0.016799879506233496,
          0.0176796314517754,
          0.018588308740143205,
          0.019525966870914752,
          0.02049261418560906,
          0.021488210404341134,
          0.022512665235689462,
          0.023565837064707704,
          0.024647531723895628,
          0.025757501351813865,
          0.026895443343882663,
          0.02806099939974726,
          0.0292537546714214,
          0.030473237016236856,
          0.03171891635843025,
          0.0329902041629903,
          0.03428645302516795,
          0.03560695637882084,
          0.03695094832652087,
          0.03831760359410152,
          0.039706037612059104,
          0.04111530672595083,
          0.04254440853765277,
          0.04399228237905308,
          0.045457809919460766,
          0.04693981590770869,
          0.04843706904962238,
          0.04994828302121328,
          0.05147211761763849,
          0.053007180037648254,
          0.0545520263029189,
          0.05610516281134375,
          0.057665048023026966,
          0.05923009427739872,
          0.060798669739542024,
          0.062238201950772135,
          0.062238201950772135
         ]
        },
        {
         "line": {
          "shape": "spline"
         },
         "mode": "lines",
         "name": "1011",
         "type": "scatter",
         "x": [
          0,
          1.0078740157480316e-9,
          2.015748031496063e-9,
          3.0236220472440945e-9,
          4.031496062992126e-9,
          5.039370078740158e-9,
          6.047244094488189e-9,
          7.055118110236221e-9,
          8.062992125984253e-9,
          9.070866141732284e-9,
          1.0078740157480316e-8,
          1.1086614173228347e-8,
          1.2094488188976378e-8,
          1.310236220472441e-8,
          1.4110236220472442e-8,
          1.5118110236220474e-8,
          1.6125984251968505e-8,
          1.7133858267716536e-8,
          1.8141732283464567e-8,
          1.91496062992126e-8,
          2.0157480314960632e-8,
          2.1165354330708663e-8,
          2.2173228346456694e-8,
          2.3181102362204725e-8,
          2.4188976377952756e-8,
          2.519685039370079e-8,
          2.620472440944882e-8,
          2.7212598425196852e-8,
          2.8220472440944883e-8,
          2.9228346456692914e-8,
          3.023622047244095e-8,
          3.1244094488188976e-8,
          3.225196850393701e-8,
          3.3259842519685045e-8,
          3.426771653543307e-8,
          3.527559055118111e-8,
          3.6283464566929134e-8,
          3.729133858267717e-8,
          3.82992125984252e-8,
          3.930708661417323e-8,
          4.0314960629921265e-8,
          4.132283464566929e-8,
          4.233070866141733e-8,
          4.333858267716536e-8,
          4.434645669291339e-8,
          4.535433070866142e-8,
          4.636220472440945e-8,
          4.7370078740157485e-8,
          4.837795275590551e-8,
          4.938582677165355e-8,
          5.039370078740158e-8,
          5.140157480314961e-8,
          5.240944881889764e-8,
          5.341732283464567e-8,
          5.4425196850393705e-8,
          5.543307086614174e-8,
          5.644094488188977e-8,
          5.74488188976378e-8,
          5.845669291338583e-8,
          5.946456692913386e-8,
          6.04724409448819e-8,
          6.148031496062993e-8,
          6.248818897637795e-8,
          6.349606299212599e-8,
          6.450393700787402e-8,
          6.551181102362206e-8,
          6.651968503937009e-8,
          6.752755905511811e-8,
          6.853543307086614e-8,
          6.954330708661418e-8,
          7.055118110236221e-8,
          7.155905511811025e-8,
          7.256692913385827e-8,
          7.35748031496063e-8,
          7.458267716535434e-8,
          7.559055118110237e-8,
          7.65984251968504e-8,
          7.760629921259843e-8,
          7.861417322834646e-8,
          7.96220472440945e-8,
          8.062992125984253e-8,
          8.163779527559056e-8,
          8.264566929133859e-8,
          8.365354330708662e-8,
          8.466141732283465e-8,
          8.566929133858269e-8,
          8.667716535433072e-8,
          8.768503937007874e-8,
          8.869291338582678e-8,
          8.970078740157481e-8,
          9.070866141732285e-8,
          9.171653543307088e-8,
          9.27244094488189e-8,
          9.373228346456694e-8,
          9.474015748031497e-8,
          9.5748031496063e-8,
          9.675590551181103e-8,
          9.776377952755906e-8,
          9.87716535433071e-8,
          9.977952755905513e-8,
          1.0078740157480316e-7,
          1.0179527559055118e-7,
          1.0280314960629922e-7,
          1.0381102362204725e-7,
          1.0481889763779529e-7,
          1.0582677165354332e-7,
          1.0683464566929134e-7,
          1.0784251968503938e-7,
          1.0885039370078741e-7,
          1.0985826771653544e-7,
          1.1086614173228348e-7,
          1.118740157480315e-7,
          1.1288188976377953e-7,
          1.1388976377952757e-7,
          1.148976377952756e-7,
          1.1590551181102364e-7,
          1.1691338582677166e-7,
          1.1792125984251969e-7,
          1.1892913385826773e-7,
          1.1993700787401576e-7,
          1.209448818897638e-7,
          1.2195275590551183e-7,
          1.2296062992125986e-7,
          1.239685039370079e-7,
          1.249763779527559e-7,
          1.2598425196850394e-7,
          1.2699212598425197e-7,
          1.28e-7
         ],
         "y": [
          0,
          0,
          3.650219922970841e-14,
          3.049529073066508e-12,
          3.785369535652502e-11,
          2.2184662370200276e-10,
          8.675106177065759e-10,
          2.6323355800845587e-9,
          6.711498697746599e-9,
          1.5072445526963708e-8,
          3.073032896135579e-8,
          5.8063077757425586e-8,
          1.0316468542156983e-7,
          1.742351339125701e-7,
          2.820051953552848e-7,
          4.4019418935095077e-7,
          6.659986140474245e-7,
          9.806094164215035e-7,
          0.0000014097555217287418,
          0.0000019842711042769044,
          0.0000027406839520385007,
          0.0000037218221565734574,
          0.000004977436247698269,
          0.000006564833789700324,
          0.00000854952336301635,
          0.000011005864772504503,
          0.000014017722251044656,
          0.000017679117365474545,
          0.0000220948782810541,
          0.000027381282000958234,
          0.00003366668616890972,
          0.000041092147006125235,
          0.00004981201994837322,
          0.00005999453955521378,
          0.00007182237528145239,
          0.0000854931597305063,
          0.0001012199860507318,
          0.00011923187118873655,
          0.00013977418177821534,
          0.00016310901951877436,
          0.0001895155629863919,
          0.00021929036291541183,
          0.0002527475881010565,
          0.00029021921919111755,
          0.0003320551877654594,
          0.0003786234582419164,
          0.0004303100502967442,
          0.0004875189996466176,
          0.0005506722552068342,
          0.0006202095108164683,
          0.0006965879699052395,
          0.0007802820416683567,
          0.0008717829675140283,
          0.0009715983767531956,
          0.0010802517707117576,
          0.0011982819346615789,
          0.0013262422771872762,
          0.0014647000968305852,
          0.0016142357760823799,
          0.001775441903023523,
          0.001948922321148991,
          0.002135291108144545,
          0.002335171484620879,
          0.002549194654045997,
          0.002777998575351972,
          0.0030222266699263573,
          0.0032825264649309046,
          0.0035595481751199594,
          0.0038539432255575382,
          0.00416636271785471,
          0.004497455842767084,
          0.0048478682422050555,
          0.005218240323916567,
          0.005609205532302637,
          0.006021388579019362,
          0.006455403637205783,
          0.006911852503354366,
          0.007391322731009353,
          0.00789438574063724,
          0.008421594910162722,
          0.008973483650802057,
          0.009550563472953291,
          0.010153322047019221,
          0.01078222126414308,
          0.011437695301929266,
          0.012120148700300796,
          0.012829954452711855,
          0.013567452117987048,
          0.014332945958098794,
          0.015126703107220404,
          0.015948951777404338,
          0.01679987950623328,
          0.01767963145177517,
          0.018588308740142962,
          0.019525966870914496,
          0.020492614185608778,
          0.021488210404340843,
          0.022512665235689153,
          0.02356583706470738,
          0.02464753172389528,
          0.0257575013518135,
          0.026895443343882275,
          0.02806099939974685,
          0.029253754671420964,
          0.030473237016236374,
          0.03171891635842974,
          0.03299020416298974,
          0.03428645302516736,
          0.035606956378820234,
          0.036950948326520225,
          0.038317603594100844,
          0.03970603761205839,
          0.041115306725950075,
          0.04254440853765198,
          0.043992282379052276,
          0.04545780991945994,
          0.04693981590770785,
          0.048437069049621494,
          0.04994828302121234,
          0.05147211761763752,
          0.05300718003764724,
          0.05455202630291787,
          0.05610516281134267,
          0.057665048023025856,
          0.059230094277397574,
          0.06079866973954083,
          0.06223820195077093,
          0.06223820195077093
         ]
        },
        {
         "line": {
          "shape": "spline"
         },
         "mode": "lines",
         "name": "1111",
         "type": "scatter",
         "x": [
          0,
          1.0078740157480316e-9,
          2.015748031496063e-9,
          3.0236220472440945e-9,
          4.031496062992126e-9,
          5.039370078740158e-9,
          6.047244094488189e-9,
          7.055118110236221e-9,
          8.062992125984253e-9,
          9.070866141732284e-9,
          1.0078740157480316e-8,
          1.1086614173228347e-8,
          1.2094488188976378e-8,
          1.310236220472441e-8,
          1.4110236220472442e-8,
          1.5118110236220474e-8,
          1.6125984251968505e-8,
          1.7133858267716536e-8,
          1.8141732283464567e-8,
          1.91496062992126e-8,
          2.0157480314960632e-8,
          2.1165354330708663e-8,
          2.2173228346456694e-8,
          2.3181102362204725e-8,
          2.4188976377952756e-8,
          2.519685039370079e-8,
          2.620472440944882e-8,
          2.7212598425196852e-8,
          2.8220472440944883e-8,
          2.9228346456692914e-8,
          3.023622047244095e-8,
          3.1244094488188976e-8,
          3.225196850393701e-8,
          3.3259842519685045e-8,
          3.426771653543307e-8,
          3.527559055118111e-8,
          3.6283464566929134e-8,
          3.729133858267717e-8,
          3.82992125984252e-8,
          3.930708661417323e-8,
          4.0314960629921265e-8,
          4.132283464566929e-8,
          4.233070866141733e-8,
          4.333858267716536e-8,
          4.434645669291339e-8,
          4.535433070866142e-8,
          4.636220472440945e-8,
          4.7370078740157485e-8,
          4.837795275590551e-8,
          4.938582677165355e-8,
          5.039370078740158e-8,
          5.140157480314961e-8,
          5.240944881889764e-8,
          5.341732283464567e-8,
          5.4425196850393705e-8,
          5.543307086614174e-8,
          5.644094488188977e-8,
          5.74488188976378e-8,
          5.845669291338583e-8,
          5.946456692913386e-8,
          6.04724409448819e-8,
          6.148031496062993e-8,
          6.248818897637795e-8,
          6.349606299212599e-8,
          6.450393700787402e-8,
          6.551181102362206e-8,
          6.651968503937009e-8,
          6.752755905511811e-8,
          6.853543307086614e-8,
          6.954330708661418e-8,
          7.055118110236221e-8,
          7.155905511811025e-8,
          7.256692913385827e-8,
          7.35748031496063e-8,
          7.458267716535434e-8,
          7.559055118110237e-8,
          7.65984251968504e-8,
          7.760629921259843e-8,
          7.861417322834646e-8,
          7.96220472440945e-8,
          8.062992125984253e-8,
          8.163779527559056e-8,
          8.264566929133859e-8,
          8.365354330708662e-8,
          8.466141732283465e-8,
          8.566929133858269e-8,
          8.667716535433072e-8,
          8.768503937007874e-8,
          8.869291338582678e-8,
          8.970078740157481e-8,
          9.070866141732285e-8,
          9.171653543307088e-8,
          9.27244094488189e-8,
          9.373228346456694e-8,
          9.474015748031497e-8,
          9.5748031496063e-8,
          9.675590551181103e-8,
          9.776377952755906e-8,
          9.87716535433071e-8,
          9.977952755905513e-8,
          1.0078740157480316e-7,
          1.0179527559055118e-7,
          1.0280314960629922e-7,
          1.0381102362204725e-7,
          1.0481889763779529e-7,
          1.0582677165354332e-7,
          1.0683464566929134e-7,
          1.0784251968503938e-7,
          1.0885039370078741e-7,
          1.0985826771653544e-7,
          1.1086614173228348e-7,
          1.118740157480315e-7,
          1.1288188976377953e-7,
          1.1388976377952757e-7,
          1.148976377952756e-7,
          1.1590551181102364e-7,
          1.1691338582677166e-7,
          1.1792125984251969e-7,
          1.1892913385826773e-7,
          1.1993700787401576e-7,
          1.209448818897638e-7,
          1.2195275590551183e-7,
          1.2296062992125986e-7,
          1.239685039370079e-7,
          1.249763779527559e-7,
          1.2598425196850394e-7,
          1.2699212598425197e-7,
          1.28e-7
         ],
         "y": [
          0,
          0,
          1.2109082851478246e-18,
          4.4231094506675416e-16,
          1.2715658608861679e-14,
          1.3440677197618231e-13,
          8.284235512349858e-13,
          3.641291610586399e-12,
          1.2691706004069625e-11,
          3.735467499922731e-11,
          9.665881210948448e-11,
          2.2600408337658073e-10,
          4.86894161101744e-10,
          9.80461045681948e-10,
          1.8656393777839007e-9,
          3.3829234700895784e-9,
          5.884711151374372e-9,
          9.87330466094565e-9,
          1.6047699700074907e-8,
          2.5360348998211783e-8,
          3.9085136063471136e-8,
          5.889783785704156e-8,
          8.697039167865143e-8,
          1.2608031131589746e-7,
          1.7973662025785273e-7,
          2.5232368529046904e-7,
          3.492643418900064e-7,
          4.772037033484985e-7,
          6.442150383655364e-7,
          8.600290868133595e-7,
          0.0000011362881604444704,
          0.0000014868263444071812,
          0.00000192797707653706,
          0.0000024789093345015226,
          0.0000031619936060195633,
          0.000004003198754615797,
          0.000005032520822783083,
          0.0000062844447361345935,
          0.000007798439786266288,
          0.000009619489676793833,
          0.000011798657816571557,
          0.000014393688436669411,
          0.00001746964399352807,
          0.000021099579200109717,
          0.000025365251900115074,
          0.000030357870867773048,
          0.00003617888047767985,
          0.000042940782046042764,
          0.00005076799149686686,
          0.0000597977328545285,
          0.00007018096690824296,
          0.0000820833542346138,
          0.00009568625160221864,
          0.00011118774061753341,
          0.00012880368730492633,
          0.00014876883114548482,
          0.00017133790193060163,
          0.00019678676261708402,
          0.00022541357620160956,
          0.0002575399944641939,
          0.00029351236626352445,
          0.0003337029629021126,
          0.00037851121791680433,
          0.0004283649784908301,
          0.00048372176552784733,
          0.0005450700392768951,
          0.0006129304672504137,
          0.0006878571910360367,
          0.0007704390884672934,
          0.0008613010274892084,
          0.000961105107932585,
          0.00107055188729604,
          0.0011903815865281036,
          0.0013213752717034237,
          0.0014643560073977963,
          0.0016201899774867894,
          0.0017897875690226677,
          0.0019741044147844533,
          0.0021741423900467727,
          0.002390950559074958,
          0.0026256260668270017,
          0.0028793149713278216,
          0.0031532130121780474,
          0.0034485663106685323,
          0.0037666719969932203,
          0.00410887876008706,
          0.004476587315662508,
          0.004871250788077966,
          0.005294375001744287,
          0.005747518677861454,
          0.006232293532376536,
          0.006750364271166192,
          0.00730344847857228,
          0.007893316395557305,
          0.008521790583897683,
          0.009190745472996616,
          0.009902106786074834,
          0.01065785084268634,
          0.011460003734707099,
          0.012310640373157322,
          0.013211883403442235,
          0.014165901986831413,
          0.015174910446242855,
          0.01624116677465418,
          0.01736697100472962,
          0.01855466343852681,
          0.0198066227364318,
          0.02112526386476332,
          0.02251303590178752,
          0.023972419702191886,
          0.02550592542038087,
          0.027116089893275346,
          0.028805473883622795,
          0.030576659185154356,
          0.03243224559125768,
          0.034374847729170405,
          0.03640709176203702,
          0.03853161196151149,
          0.040751047153927855,
          0.04306803704340118,
          0.04548521841556014,
          0.048005221225949364,
          0.05063066457747484,
          0.05336415259159623,
          0.056208270178297166,
          0.05916557871018606,
          0.06197804424330293,
          0.06197804424330293
         ]
        },
        {
         "line": {
          "shape": "spline"
         },
         "mode": "lines",
         "name": "0220",
         "type": "scatter",
         "x": [
          0,
          1.0078740157480316e-9,
          2.015748031496063e-9,
          3.0236220472440945e-9,
          4.031496062992126e-9,
          5.039370078740158e-9,
          6.047244094488189e-9,
          7.055118110236221e-9,
          8.062992125984253e-9,
          9.070866141732284e-9,
          1.0078740157480316e-8,
          1.1086614173228347e-8,
          1.2094488188976378e-8,
          1.310236220472441e-8,
          1.4110236220472442e-8,
          1.5118110236220474e-8,
          1.6125984251968505e-8,
          1.7133858267716536e-8,
          1.8141732283464567e-8,
          1.91496062992126e-8,
          2.0157480314960632e-8,
          2.1165354330708663e-8,
          2.2173228346456694e-8,
          2.3181102362204725e-8,
          2.4188976377952756e-8,
          2.519685039370079e-8,
          2.620472440944882e-8,
          2.7212598425196852e-8,
          2.8220472440944883e-8,
          2.9228346456692914e-8,
          3.023622047244095e-8,
          3.1244094488188976e-8,
          3.225196850393701e-8,
          3.3259842519685045e-8,
          3.426771653543307e-8,
          3.527559055118111e-8,
          3.6283464566929134e-8,
          3.729133858267717e-8,
          3.82992125984252e-8,
          3.930708661417323e-8,
          4.0314960629921265e-8,
          4.132283464566929e-8,
          4.233070866141733e-8,
          4.333858267716536e-8,
          4.434645669291339e-8,
          4.535433070866142e-8,
          4.636220472440945e-8,
          4.7370078740157485e-8,
          4.837795275590551e-8,
          4.938582677165355e-8,
          5.039370078740158e-8,
          5.140157480314961e-8,
          5.240944881889764e-8,
          5.341732283464567e-8,
          5.4425196850393705e-8,
          5.543307086614174e-8,
          5.644094488188977e-8,
          5.74488188976378e-8,
          5.845669291338583e-8,
          5.946456692913386e-8,
          6.04724409448819e-8,
          6.148031496062993e-8,
          6.248818897637795e-8,
          6.349606299212599e-8,
          6.450393700787402e-8,
          6.551181102362206e-8,
          6.651968503937009e-8,
          6.752755905511811e-8,
          6.853543307086614e-8,
          6.954330708661418e-8,
          7.055118110236221e-8,
          7.155905511811025e-8,
          7.256692913385827e-8,
          7.35748031496063e-8,
          7.458267716535434e-8,
          7.559055118110237e-8,
          7.65984251968504e-8,
          7.760629921259843e-8,
          7.861417322834646e-8,
          7.96220472440945e-8,
          8.062992125984253e-8,
          8.163779527559056e-8,
          8.264566929133859e-8,
          8.365354330708662e-8,
          8.466141732283465e-8,
          8.566929133858269e-8,
          8.667716535433072e-8,
          8.768503937007874e-8,
          8.869291338582678e-8,
          8.970078740157481e-8,
          9.070866141732285e-8,
          9.171653543307088e-8,
          9.27244094488189e-8,
          9.373228346456694e-8,
          9.474015748031497e-8,
          9.5748031496063e-8,
          9.675590551181103e-8,
          9.776377952755906e-8,
          9.87716535433071e-8,
          9.977952755905513e-8,
          1.0078740157480316e-7,
          1.0179527559055118e-7,
          1.0280314960629922e-7,
          1.0381102362204725e-7,
          1.0481889763779529e-7,
          1.0582677165354332e-7,
          1.0683464566929134e-7,
          1.0784251968503938e-7,
          1.0885039370078741e-7,
          1.0985826771653544e-7,
          1.1086614173228348e-7,
          1.118740157480315e-7,
          1.1288188976377953e-7,
          1.1388976377952757e-7,
          1.148976377952756e-7,
          1.1590551181102364e-7,
          1.1691338582677166e-7,
          1.1792125984251969e-7,
          1.1892913385826773e-7,
          1.1993700787401576e-7,
          1.209448818897638e-7,
          1.2195275590551183e-7,
          1.2296062992125986e-7,
          1.239685039370079e-7,
          1.249763779527559e-7,
          1.2598425196850394e-7,
          1.2699212598425197e-7,
          1.28e-7
         ],
         "y": [
          0,
          0,
          0,
          0,
          0,
          0,
          0,
          0,
          0,
          0,
          0,
          0,
          0,
          0,
          0,
          0,
          0,
          0,
          0,
          0,
          0,
          0,
          0,
          0,
          0,
          0,
          0,
          0,
          0,
          0,
          0,
          0,
          0,
          0,
          0,
          0,
          0,
          0,
          0,
          0,
          0,
          0,
          0,
          0,
          0,
          0,
          0,
          0,
          0,
          0,
          0,
          0,
          0,
          0,
          0,
          0,
          0,
          0,
          0,
          0,
          0,
          0,
          0,
          0,
          0,
          0,
          0,
          0,
          0,
          0,
          0,
          0,
          0,
          0,
          0,
          0,
          0,
          0,
          0,
          0,
          0,
          0,
          0,
          0,
          0,
          0,
          0,
          0,
          0,
          0,
          0,
          0,
          0,
          0,
          0,
          0,
          0,
          0,
          0,
          0,
          0,
          0,
          0,
          0,
          0,
          0,
          0,
          0,
          0,
          0,
          0,
          0,
          0,
          0,
          0,
          0,
          0,
          0,
          0,
          0,
          0,
          0,
          0,
          0,
          0,
          0,
          0,
          0
         ]
        }
       ],
       "layout": {
        "margin": {
         "b": 20,
         "t": 20
        },
        "template": {
         "data": {
          "bar": [
           {
            "error_x": {
             "color": "#2a3f5f"
            },
            "error_y": {
             "color": "#2a3f5f"
            },
            "marker": {
             "line": {
              "color": "#E5ECF6",
              "width": 0.5
             },
             "pattern": {
              "fillmode": "overlay",
              "size": 10,
              "solidity": 0.2
             }
            },
            "type": "bar"
           }
          ],
          "barpolar": [
           {
            "marker": {
             "line": {
              "color": "#E5ECF6",
              "width": 0.5
             },
             "pattern": {
              "fillmode": "overlay",
              "size": 10,
              "solidity": 0.2
             }
            },
            "type": "barpolar"
           }
          ],
          "carpet": [
           {
            "aaxis": {
             "endlinecolor": "#2a3f5f",
             "gridcolor": "white",
             "linecolor": "white",
             "minorgridcolor": "white",
             "startlinecolor": "#2a3f5f"
            },
            "baxis": {
             "endlinecolor": "#2a3f5f",
             "gridcolor": "white",
             "linecolor": "white",
             "minorgridcolor": "white",
             "startlinecolor": "#2a3f5f"
            },
            "type": "carpet"
           }
          ],
          "choropleth": [
           {
            "colorbar": {
             "outlinewidth": 0,
             "ticks": ""
            },
            "type": "choropleth"
           }
          ],
          "contour": [
           {
            "colorbar": {
             "outlinewidth": 0,
             "ticks": ""
            },
            "colorscale": [
             [
              0,
              "#0d0887"
             ],
             [
              0.1111111111111111,
              "#46039f"
             ],
             [
              0.2222222222222222,
              "#7201a8"
             ],
             [
              0.3333333333333333,
              "#9c179e"
             ],
             [
              0.4444444444444444,
              "#bd3786"
             ],
             [
              0.5555555555555556,
              "#d8576b"
             ],
             [
              0.6666666666666666,
              "#ed7953"
             ],
             [
              0.7777777777777778,
              "#fb9f3a"
             ],
             [
              0.8888888888888888,
              "#fdca26"
             ],
             [
              1,
              "#f0f921"
             ]
            ],
            "type": "contour"
           }
          ],
          "contourcarpet": [
           {
            "colorbar": {
             "outlinewidth": 0,
             "ticks": ""
            },
            "type": "contourcarpet"
           }
          ],
          "heatmap": [
           {
            "colorbar": {
             "outlinewidth": 0,
             "ticks": ""
            },
            "colorscale": [
             [
              0,
              "#0d0887"
             ],
             [
              0.1111111111111111,
              "#46039f"
             ],
             [
              0.2222222222222222,
              "#7201a8"
             ],
             [
              0.3333333333333333,
              "#9c179e"
             ],
             [
              0.4444444444444444,
              "#bd3786"
             ],
             [
              0.5555555555555556,
              "#d8576b"
             ],
             [
              0.6666666666666666,
              "#ed7953"
             ],
             [
              0.7777777777777778,
              "#fb9f3a"
             ],
             [
              0.8888888888888888,
              "#fdca26"
             ],
             [
              1,
              "#f0f921"
             ]
            ],
            "type": "heatmap"
           }
          ],
          "heatmapgl": [
           {
            "colorbar": {
             "outlinewidth": 0,
             "ticks": ""
            },
            "colorscale": [
             [
              0,
              "#0d0887"
             ],
             [
              0.1111111111111111,
              "#46039f"
             ],
             [
              0.2222222222222222,
              "#7201a8"
             ],
             [
              0.3333333333333333,
              "#9c179e"
             ],
             [
              0.4444444444444444,
              "#bd3786"
             ],
             [
              0.5555555555555556,
              "#d8576b"
             ],
             [
              0.6666666666666666,
              "#ed7953"
             ],
             [
              0.7777777777777778,
              "#fb9f3a"
             ],
             [
              0.8888888888888888,
              "#fdca26"
             ],
             [
              1,
              "#f0f921"
             ]
            ],
            "type": "heatmapgl"
           }
          ],
          "histogram": [
           {
            "marker": {
             "pattern": {
              "fillmode": "overlay",
              "size": 10,
              "solidity": 0.2
             }
            },
            "type": "histogram"
           }
          ],
          "histogram2d": [
           {
            "colorbar": {
             "outlinewidth": 0,
             "ticks": ""
            },
            "colorscale": [
             [
              0,
              "#0d0887"
             ],
             [
              0.1111111111111111,
              "#46039f"
             ],
             [
              0.2222222222222222,
              "#7201a8"
             ],
             [
              0.3333333333333333,
              "#9c179e"
             ],
             [
              0.4444444444444444,
              "#bd3786"
             ],
             [
              0.5555555555555556,
              "#d8576b"
             ],
             [
              0.6666666666666666,
              "#ed7953"
             ],
             [
              0.7777777777777778,
              "#fb9f3a"
             ],
             [
              0.8888888888888888,
              "#fdca26"
             ],
             [
              1,
              "#f0f921"
             ]
            ],
            "type": "histogram2d"
           }
          ],
          "histogram2dcontour": [
           {
            "colorbar": {
             "outlinewidth": 0,
             "ticks": ""
            },
            "colorscale": [
             [
              0,
              "#0d0887"
             ],
             [
              0.1111111111111111,
              "#46039f"
             ],
             [
              0.2222222222222222,
              "#7201a8"
             ],
             [
              0.3333333333333333,
              "#9c179e"
             ],
             [
              0.4444444444444444,
              "#bd3786"
             ],
             [
              0.5555555555555556,
              "#d8576b"
             ],
             [
              0.6666666666666666,
              "#ed7953"
             ],
             [
              0.7777777777777778,
              "#fb9f3a"
             ],
             [
              0.8888888888888888,
              "#fdca26"
             ],
             [
              1,
              "#f0f921"
             ]
            ],
            "type": "histogram2dcontour"
           }
          ],
          "mesh3d": [
           {
            "colorbar": {
             "outlinewidth": 0,
             "ticks": ""
            },
            "type": "mesh3d"
           }
          ],
          "parcoords": [
           {
            "line": {
             "colorbar": {
              "outlinewidth": 0,
              "ticks": ""
             }
            },
            "type": "parcoords"
           }
          ],
          "pie": [
           {
            "automargin": true,
            "type": "pie"
           }
          ],
          "scatter": [
           {
            "fillpattern": {
             "fillmode": "overlay",
             "size": 10,
             "solidity": 0.2
            },
            "type": "scatter"
           }
          ],
          "scatter3d": [
           {
            "line": {
             "colorbar": {
              "outlinewidth": 0,
              "ticks": ""
             }
            },
            "marker": {
             "colorbar": {
              "outlinewidth": 0,
              "ticks": ""
             }
            },
            "type": "scatter3d"
           }
          ],
          "scattercarpet": [
           {
            "marker": {
             "colorbar": {
              "outlinewidth": 0,
              "ticks": ""
             }
            },
            "type": "scattercarpet"
           }
          ],
          "scattergeo": [
           {
            "marker": {
             "colorbar": {
              "outlinewidth": 0,
              "ticks": ""
             }
            },
            "type": "scattergeo"
           }
          ],
          "scattergl": [
           {
            "marker": {
             "colorbar": {
              "outlinewidth": 0,
              "ticks": ""
             }
            },
            "type": "scattergl"
           }
          ],
          "scattermapbox": [
           {
            "marker": {
             "colorbar": {
              "outlinewidth": 0,
              "ticks": ""
             }
            },
            "type": "scattermapbox"
           }
          ],
          "scatterpolar": [
           {
            "marker": {
             "colorbar": {
              "outlinewidth": 0,
              "ticks": ""
             }
            },
            "type": "scatterpolar"
           }
          ],
          "scatterpolargl": [
           {
            "marker": {
             "colorbar": {
              "outlinewidth": 0,
              "ticks": ""
             }
            },
            "type": "scatterpolargl"
           }
          ],
          "scatterternary": [
           {
            "marker": {
             "colorbar": {
              "outlinewidth": 0,
              "ticks": ""
             }
            },
            "type": "scatterternary"
           }
          ],
          "surface": [
           {
            "colorbar": {
             "outlinewidth": 0,
             "ticks": ""
            },
            "colorscale": [
             [
              0,
              "#0d0887"
             ],
             [
              0.1111111111111111,
              "#46039f"
             ],
             [
              0.2222222222222222,
              "#7201a8"
             ],
             [
              0.3333333333333333,
              "#9c179e"
             ],
             [
              0.4444444444444444,
              "#bd3786"
             ],
             [
              0.5555555555555556,
              "#d8576b"
             ],
             [
              0.6666666666666666,
              "#ed7953"
             ],
             [
              0.7777777777777778,
              "#fb9f3a"
             ],
             [
              0.8888888888888888,
              "#fdca26"
             ],
             [
              1,
              "#f0f921"
             ]
            ],
            "type": "surface"
           }
          ],
          "table": [
           {
            "cells": {
             "fill": {
              "color": "#EBF0F8"
             },
             "line": {
              "color": "white"
             }
            },
            "header": {
             "fill": {
              "color": "#C8D4E3"
             },
             "line": {
              "color": "white"
             }
            },
            "type": "table"
           }
          ]
         },
         "layout": {
          "annotationdefaults": {
           "arrowcolor": "#2a3f5f",
           "arrowhead": 0,
           "arrowwidth": 1
          },
          "autotypenumbers": "strict",
          "coloraxis": {
           "colorbar": {
            "outlinewidth": 0,
            "ticks": ""
           }
          },
          "colorscale": {
           "diverging": [
            [
             0,
             "#8e0152"
            ],
            [
             0.1,
             "#c51b7d"
            ],
            [
             0.2,
             "#de77ae"
            ],
            [
             0.3,
             "#f1b6da"
            ],
            [
             0.4,
             "#fde0ef"
            ],
            [
             0.5,
             "#f7f7f7"
            ],
            [
             0.6,
             "#e6f5d0"
            ],
            [
             0.7,
             "#b8e186"
            ],
            [
             0.8,
             "#7fbc41"
            ],
            [
             0.9,
             "#4d9221"
            ],
            [
             1,
             "#276419"
            ]
           ],
           "sequential": [
            [
             0,
             "#0d0887"
            ],
            [
             0.1111111111111111,
             "#46039f"
            ],
            [
             0.2222222222222222,
             "#7201a8"
            ],
            [
             0.3333333333333333,
             "#9c179e"
            ],
            [
             0.4444444444444444,
             "#bd3786"
            ],
            [
             0.5555555555555556,
             "#d8576b"
            ],
            [
             0.6666666666666666,
             "#ed7953"
            ],
            [
             0.7777777777777778,
             "#fb9f3a"
            ],
            [
             0.8888888888888888,
             "#fdca26"
            ],
            [
             1,
             "#f0f921"
            ]
           ],
           "sequentialminus": [
            [
             0,
             "#0d0887"
            ],
            [
             0.1111111111111111,
             "#46039f"
            ],
            [
             0.2222222222222222,
             "#7201a8"
            ],
            [
             0.3333333333333333,
             "#9c179e"
            ],
            [
             0.4444444444444444,
             "#bd3786"
            ],
            [
             0.5555555555555556,
             "#d8576b"
            ],
            [
             0.6666666666666666,
             "#ed7953"
            ],
            [
             0.7777777777777778,
             "#fb9f3a"
            ],
            [
             0.8888888888888888,
             "#fdca26"
            ],
            [
             1,
             "#f0f921"
            ]
           ]
          },
          "colorway": [
           "#636efa",
           "#EF553B",
           "#00cc96",
           "#ab63fa",
           "#FFA15A",
           "#19d3f3",
           "#FF6692",
           "#B6E880",
           "#FF97FF",
           "#FECB52"
          ],
          "font": {
           "color": "#2a3f5f"
          },
          "geo": {
           "bgcolor": "white",
           "lakecolor": "white",
           "landcolor": "#E5ECF6",
           "showlakes": true,
           "showland": true,
           "subunitcolor": "white"
          },
          "hoverlabel": {
           "align": "left"
          },
          "hovermode": "closest",
          "mapbox": {
           "style": "light"
          },
          "paper_bgcolor": "white",
          "plot_bgcolor": "#E5ECF6",
          "polar": {
           "angularaxis": {
            "gridcolor": "white",
            "linecolor": "white",
            "ticks": ""
           },
           "bgcolor": "#E5ECF6",
           "radialaxis": {
            "gridcolor": "white",
            "linecolor": "white",
            "ticks": ""
           }
          },
          "scene": {
           "xaxis": {
            "backgroundcolor": "#E5ECF6",
            "gridcolor": "white",
            "gridwidth": 2,
            "linecolor": "white",
            "showbackground": true,
            "ticks": "",
            "zerolinecolor": "white"
           },
           "yaxis": {
            "backgroundcolor": "#E5ECF6",
            "gridcolor": "white",
            "gridwidth": 2,
            "linecolor": "white",
            "showbackground": true,
            "ticks": "",
            "zerolinecolor": "white"
           },
           "zaxis": {
            "backgroundcolor": "#E5ECF6",
            "gridcolor": "white",
            "gridwidth": 2,
            "linecolor": "white",
            "showbackground": true,
            "ticks": "",
            "zerolinecolor": "white"
           }
          },
          "shapedefaults": {
           "line": {
            "color": "#2a3f5f"
           }
          },
          "ternary": {
           "aaxis": {
            "gridcolor": "white",
            "linecolor": "white",
            "ticks": ""
           },
           "baxis": {
            "gridcolor": "white",
            "linecolor": "white",
            "ticks": ""
           },
           "bgcolor": "#E5ECF6",
           "caxis": {
            "gridcolor": "white",
            "linecolor": "white",
            "ticks": ""
           }
          },
          "title": {
           "x": 0.05
          },
          "xaxis": {
           "automargin": true,
           "gridcolor": "white",
           "linecolor": "white",
           "ticks": "",
           "title": {
            "standoff": 15
           },
           "zerolinecolor": "white",
           "zerolinewidth": 2
          },
          "yaxis": {
           "automargin": true,
           "gridcolor": "white",
           "linecolor": "white",
           "ticks": "",
           "title": {
            "standoff": 15
           },
           "zerolinecolor": "white",
           "zerolinewidth": 2
          }
         }
        },
        "width": 800,
        "xaxis": {
         "title": {
          "text": "Time [s]"
         }
        },
        "yaxis": {
         "title": {
          "text": "Population"
         }
        }
       }
      }
     },
     "metadata": {},
     "output_type": "display_data"
    }
   ],
   "source": [
    "ryd_system.experiment.draw_dynamics(sequence=[ryd_system.instruction_list[2].get_key()], state=ryd_system.model.get_init_state())"
   ]
  },
  {
   "cell_type": "code",
   "execution_count": 31,
   "metadata": {},
   "outputs": [],
   "source": [
    "qruise_experiment = ryd_system.experiment"
   ]
  },
  {
   "cell_type": "code",
   "execution_count": 32,
   "metadata": {},
   "outputs": [],
   "source": [
    "# qruise_experiment.compute_propagators()"
   ]
  },
  {
   "cell_type": "code",
   "execution_count": 33,
   "metadata": {},
   "outputs": [
    {
     "data": {
      "image/png": "[encoded data removed]",
      "text/plain": [
       "<Figure size 700x500 with 1 Axes>"
      ]
     },
     "execution_count": 33,
     "metadata": {},
     "output_type": "execute_result"
    }
   ],
   "source": [
    "from qiskit.quantum_info import Statevector\n",
    "from qiskit.visualization import plot_histogram\n",
    "ideal_results = Statevector.from_instruction(qv_circuit).probabilities_dict()\n",
    "plot_histogram(ideal_results)"
   ]
  },
  {
   "cell_type": "markdown",
   "metadata": {},
   "source": [
    "Qruise backend"
   ]
  },
  {
   "cell_type": "code",
   "execution_count": 34,
   "metadata": {},
   "outputs": [
    {
     "name": "stderr",
     "output_type": "stream",
     "text": [
      "/home/marco/GitHub_Qruise/qruise-toolset/src/qruise/toolset/experiment.py:153: UserWarning:\n",
      "\n",
      "Using default simulation resolution in experiment, make sure this is what you expect (or you have set sim_res in the Instructions)\n",
      "\n"
     ]
    }
   ],
   "source": [
    "from qruise.toolset.libraries.rydberg import RydbergAtom\n",
    "from qruise.toolset.qiskit import QruiseProvider\n",
    "qruise_provider = QruiseProvider()\n",
    "qruise_backend = qruise_provider.get_backend(\"qruise_qasm_rydberg_simulator\")\n",
    "# Set qubit type to Rydberg atom\n",
    "qruise_backend.qubit_type = RydbergAtom\n",
    "qruise_backend.set_qruise_experiment(qruise_experiment)\n",
    "# qruise_backend._experiment_mode = \"quantum_volume\""
   ]
  },
  {
   "cell_type": "code",
   "execution_count": 35,
   "metadata": {},
   "outputs": [],
   "source": [
    "qruise_backend._experiment_mode = \"populations\""
   ]
  },
  {
   "cell_type": "code",
   "execution_count": 36,
   "metadata": {},
   "outputs": [],
   "source": [
    "def state_transform_function() -> callable:\n",
    "    def state_transform(\n",
    "        state: tf.Tensor, gate_dict: dict, reshape_after: bool, reshape_before: bool\n",
    "    ):\n",
    "        # Gate dict name\n",
    "        gate_name = gate_dict[\"name\"]\n",
    "        if gate_name == \"cz\":\n",
    "            atom1 = gate_dict[\"qubits\"][0]\n",
    "            atom2 = gate_dict[\"qubits\"][1]\n",
    "            gate_names = [f\"ryd_{atom1}_pi\", f\"ryd_{atom2}_2pi\", f\"ryd_{atom1}_pi\"]\n",
    "            targets = [[atom1], [atom2], [atom1]]\n",
    "            for gate_index, gate_specs in enumerate(zip(gate_names, targets)):\n",
    "                gate_name, gate_targets = gate_specs\n",
    "                reshape_after = (\n",
    "                None if reshape_after is None and gate_index == 3 else False\n",
    "                )\n",
    "                gate_dict[\"name\"] = gate_name\n",
    "                gate_dict[\"qubits\"] = gate_targets\n",
    "                state = qruise_experiment.lookup_propagator(\n",
    "                    **gate_dict,\n",
    "                    compute=False,\n",
    "                ).propagate_state(\n",
    "                    state, reshape_after=reshape_after, reshape_before=reshape_before\n",
    "                )\n",
    "                reshape_before = False\n",
    "        elif \"rx\" in gate_name:\n",
    "            gate_names = [\"ry90p_global\", \"rz\", \"ry90m_global\"]\n",
    "            targets = [target_labels, gate_dict[\"qubits\"], target_labels]\n",
    "            for gate_index, gate_specs in enumerate(zip(gate_names, targets)):\n",
    "                gate_name, gate_targets = gate_specs\n",
    "                reshape_after = (\n",
    "                None if reshape_after is None and gate_index == 3 else False\n",
    "                )\n",
    "                gate_dict[\"name\"] = gate_name\n",
    "                gate_dict[\"qubits\"] = gate_targets\n",
    "                state = qruise_experiment.lookup_propagator(\n",
    "                    **gate_dict,\n",
    "                    compute=False,\n",
    "                ).propagate_state(\n",
    "                    state, reshape_after=reshape_after, reshape_before=reshape_before\n",
    "                )\n",
    "                reshape_before = False\n",
    "        elif \"ry\" in gate_name:\n",
    "            gate_names = [\"rx90m_global\", \"rz\", \"rx90p_global\"]\n",
    "            targets = [target_labels, gate_dict[\"qubits\"], target_labels]\n",
    "            for gate_index, gate_specs in enumerate(zip(gate_names, targets)):\n",
    "                gate_name, gate_targets = gate_specs\n",
    "                reshape_after = (\n",
    "                None if reshape_after is None and gate_index == 3 else False\n",
    "                )\n",
    "                gate_dict[\"name\"] = gate_name\n",
    "                gate_dict[\"qubits\"] = gate_targets\n",
    "                state = qruise_experiment.lookup_propagator(\n",
    "                    **gate_dict,\n",
    "                    compute=False,\n",
    "                ).propagate_state(\n",
    "                    state, reshape_after=reshape_after, reshape_before=reshape_before\n",
    "                )\n",
    "                reshape_before = False\n",
    "        else:\n",
    "            raise ValueError(\"Not supported gate\")\n",
    "        return state\n",
    "\n",
    "    return state_transform"
   ]
  },
  {
   "cell_type": "code",
   "execution_count": 37,
   "metadata": {},
   "outputs": [],
   "source": [
    "qruise_backend._state_propagation_function = state_transform_function()"
   ]
  },
  {
   "cell_type": "code",
   "execution_count": 38,
   "metadata": {},
   "outputs": [
    {
     "data": {
      "text/html": [
       "<pre style=\"word-wrap: normal;white-space: pre;background: #fff0;line-height: 1.1;font-family: &quot;Courier New&quot;,Courier,monospace\">global phase: 1.9591\n",
       "        ┌──────────────┐ ┌────────────┐ ┌───────────┐         ┌────────────┐»\n",
       "   q_0: ┤ Rx(-0.36694) ├─┤ Ry(2.1235) ├─┤ Rx(1.009) ├──────■──┤ Rx(1.2029) ├»\n",
       "        ├─────────────┬┘┌┴────────────┤┌┴───────────┴┐     │ ┌┴────────────┤»\n",
       "   q_1: ┤ Rx(0.24327) ├─┤ Ry(0.50312) ├┤ Rx(-1.3647) ├──■──┼─┤ Rx(0.91141) ├»\n",
       "        ├─────────────┤ └┬────────────┤├─────────────┴┐ │  │ └┬────────────┤»\n",
       "   q_2: ┤ Rx(0.41585) ├──┤ Ry(1.8609) ├┤ Rx(0.034328) ├─■──┼──┤ Rx(2.9535) ├»\n",
       "        ├─────────────┴┐ ├────────────┤├─────────────┬┘    │  ├────────────┤»\n",
       "   q_3: ┤ Rx(-0.63573) ├─┤ Ry(2.4027) ├┤ Rx(-1.2049) ├─────■──┤ Rx(2.8593) ├»\n",
       "        └──────────────┘ └────────────┘└─────────────┘        └────────────┘»\n",
       "meas: 4/════════════════════════════════════════════════════════════════════»\n",
       "                                                                            »\n",
       "«                         ┌─────────────┐┌─────────┐ ┌─────────┐      »\n",
       "«   q_0: ───────────────■─┤ Rx(-2.0895) ├┤ Ry(π/2) ├─┤ Rx(π/2) ├────■─»\n",
       "«                       │ ├─────────────┤├─────────┤ ├─────────┤    │ »\n",
       "«   q_1: ────────────■──┼─┤ Rx(-1.0984) ├┤ Ry(π/2) ├─┤ Rx(π/2) ├─■──┼─»\n",
       "«        ┌─────────┐ │  │ └─┬─────────┬─┘├─────────┴┐└─────────┘ │  │ »\n",
       "«   q_2: ┤ Ry(π/2) ├─■──┼───┤ Rx(π/2) ├──┤ Ry(-π/2) ├────────────■──┼─»\n",
       "«        ├─────────┤    │   ├─────────┤  ├──────────┤               │ »\n",
       "«   q_3: ┤ Ry(π/2) ├────■───┤ Rx(π/2) ├──┤ Ry(-π/2) ├───────────────■─»\n",
       "«        └─────────┘        └─────────┘  └──────────┘                 »\n",
       "«meas: 4/═════════════════════════════════════════════════════════════»\n",
       "«                                                                     »\n",
       "«        ┌─────────────┐  ┌────────────┐┌─────────────┐    ┌─────────────┐»\n",
       "«   q_0: ┤ Rx(-2.1284) ├──┤ Ry(1.6463) ├┤ Rx(-2.5257) ├──■─┤ Rx(0.82587) ├»\n",
       "«        ├─────────────┴┐┌┴────────────┤└┬────────────┤  │ └┬───────────┬┘»\n",
       "«   q_1: ┤ Rx(-0.60476) ├┤ Ry(0.70816) ├─┤ Rx(2.7899) ├──■──┤ Rx(2.968) ├─»\n",
       "«        ├──────────────┤└┬────────────┤┌┴────────────┤    ┌┴───────────┴┐»\n",
       "«   q_2: ┤ Rx(-0.16084) ├─┤ Ry(1.4791) ├┤ Rx(0.37687) ├──■─┤ Rx(0.65963) ├»\n",
       "«        └┬────────────┬┘ ├────────────┤├─────────────┴┐ │ └┬────────────┤»\n",
       "«   q_3: ─┤ Rx(1.6073) ├──┤ Ry(1.3951) ├┤ Rx(-0.43295) ├─■──┤ Rx(2.7258) ├»\n",
       "«         └────────────┘  └────────────┘└──────────────┘    └────────────┘»\n",
       "«meas: 4/═════════════════════════════════════════════════════════════════»\n",
       "«                                                                         »\n",
       "«                      ┌─────────────┐┌─────────┐ ┌─────────┐   »\n",
       "«   q_0: ────────────■─┤ Rx(-1.9244) ├┤ Ry(π/2) ├─┤ Rx(π/2) ├─■─»\n",
       "«        ┌─────────┐ │ └─┬─────────┬─┘├─────────┴┐└─────────┘ │ »\n",
       "«   q_1: ┤ Ry(π/2) ├─■───┤ Rx(π/2) ├──┤ Ry(-π/2) ├────────────■─»\n",
       "«        └─────────┘   ┌─┴─────────┴─┐├─────────┬┘┌─────────┐   »\n",
       "«   q_2: ────────────■─┤ Rx(-1.0939) ├┤ Ry(π/2) ├─┤ Rx(π/2) ├─■─»\n",
       "«        ┌─────────┐ │ └─┬─────────┬─┘├─────────┴┐└─────────┘ │ »\n",
       "«   q_3: ┤ Ry(π/2) ├─■───┤ Rx(π/2) ├──┤ Ry(-π/2) ├────────────■─»\n",
       "«        └─────────┘     └─────────┘  └──────────┘              »\n",
       "«meas: 4/═══════════════════════════════════════════════════════»\n",
       "«                                                               »\n",
       "«         ┌────────────┐ ┌─────────────┐ ┌───────────┐     ┌─────────────┐»\n",
       "«   q_0: ─┤ Rx(2.3076) ├─┤ Ry(0.98107) ├─┤ Rx(1.585) ├───■─┤ Rx(0.40754) ├»\n",
       "«        ┌┴────────────┤ └┬────────────┤┌┴───────────┴┐  │ └─────────────┘»\n",
       "«   q_1: ┤ Rx(0.18526) ├──┤ Ry(2.5167) ├┤ Rx(-1.9465) ├──┼────────■───────»\n",
       "«        └┬────────────┤  ├────────────┤└┬────────────┤  │        │       »\n",
       "«   q_2: ─┤ Rx(-1.806) ├──┤ Ry(2.2512) ├─┤ Rx(1.8135) ├──■────────┼───────»\n",
       "«        ┌┴────────────┴┐┌┴────────────┤┌┴────────────┴┐          │       »\n",
       "«   q_3: ┤ Rx(-0.16248) ├┤ Ry(0.47464) ├┤ Rx(0.071919) ├──────────■───────»\n",
       "«        └──────────────┘└─────────────┘└──────────────┘                  »\n",
       "«meas: 4/═════════════════════════════════════════════════════════════════»\n",
       "«                                                                         »\n",
       "«                                     ┌─────────────┐  ┌─────────┐  »\n",
       "«   q_0: ───────────────────────────■─┤ Rx(-1.4381) ├──┤ Ry(π/2) ├──»\n",
       "«        ┌─────────────┐            │ └─────────────┘┌─┴─────────┴─┐»\n",
       "«   q_1: ┤ Rx(0.50866) ├────────────┼────────■───────┤ Rx(-1.7934) ├»\n",
       "«        └┬────────────┤┌─────────┐ │        │       └─┬─────────┬─┘»\n",
       "«   q_2: ─┤ Rx(2.6092) ├┤ Ry(π/2) ├─■────────┼─────────┤ Rx(π/2) ├──»\n",
       "«         ├────────────┤├─────────┤          │         ├─────────┤  »\n",
       "«   q_3: ─┤ Rx(2.7914) ├┤ Ry(π/2) ├──────────■─────────┤ Rx(π/2) ├──»\n",
       "«         └────────────┘└─────────┘                    └─────────┘  »\n",
       "«meas: 4/═══════════════════════════════════════════════════════════»\n",
       "«                                                                   »\n",
       "«        ┌─────────┐               ┌─────────────┐ ┌────────────┐»\n",
       "«   q_0: ┤ Rx(π/2) ├─────────────■─┤ Rx(-2.5891) ├─┤ Ry(2.8194) ├»\n",
       "«        ├─────────┤ ┌─────────┐ │ └─────────────┘┌┴────────────┤»\n",
       "«   q_1: ┤ Ry(π/2) ├─┤ Rx(π/2) ├─┼────────■───────┤ Rx(-3.1027) ├»\n",
       "«        ├─────────┴┐└─────────┘ │        │       ├─────────────┤»\n",
       "«   q_2: ┤ Ry(-π/2) ├────────────■────────┼───────┤ Rx(-1.1436) ├»\n",
       "«        ├──────────┤                     │       ├─────────────┤»\n",
       "«   q_3: ┤ Ry(-π/2) ├─────────────────────■───────┤ Rx(0.52885) ├»\n",
       "«        └──────────┘                             └─────────────┘»\n",
       "«meas: 4/════════════════════════════════════════════════════════»\n",
       "«                                                                »\n",
       "«         ┌────────────┐                ░ ┌─┐         \n",
       "«   q_0: ─┤ Rx(1.5361) ├────────────────░─┤M├─────────\n",
       "«         ├────────────┤┌─────────────┐ ░ └╥┘┌─┐      \n",
       "«   q_1: ─┤ Ry(1.2515) ├┤ Rx(0.79406) ├─░──╫─┤M├──────\n",
       "«        ┌┴────────────┤├─────────────┤ ░  ║ └╥┘┌─┐   \n",
       "«   q_2: ┤ Ry(0.46588) ├┤ Rx(-3.0714) ├─░──╫──╫─┤M├───\n",
       "«        └┬────────────┤├─────────────┤ ░  ║  ║ └╥┘┌─┐\n",
       "«   q_3: ─┤ Ry(2.2818) ├┤ Rx(-1.6638) ├─░──╫──╫──╫─┤M├\n",
       "«         └────────────┘└─────────────┘ ░  ║  ║  ║ └╥┘\n",
       "«meas: 4/══════════════════════════════════╩══╩══╩══╩═\n",
       "«                                          0  1  2  3 </pre>"
      ],
      "text/plain": [
       "global phase: 1.9591\n",
       "        ┌──────────────┐ ┌────────────┐ ┌───────────┐         ┌────────────┐»\n",
       "   q_0: ┤ Rx(-0.36694) ├─┤ Ry(2.1235) ├─┤ Rx(1.009) ├──────■──┤ Rx(1.2029) ├»\n",
       "        ├─────────────┬┘┌┴────────────┤┌┴───────────┴┐     │ ┌┴────────────┤»\n",
       "   q_1: ┤ Rx(0.24327) ├─┤ Ry(0.50312) ├┤ Rx(-1.3647) ├──■──┼─┤ Rx(0.91141) ├»\n",
       "        ├─────────────┤ └┬────────────┤├─────────────┴┐ │  │ └┬────────────┤»\n",
       "   q_2: ┤ Rx(0.41585) ├──┤ Ry(1.8609) ├┤ Rx(0.034328) ├─■──┼──┤ Rx(2.9535) ├»\n",
       "        ├─────────────┴┐ ├────────────┤├─────────────┬┘    │  ├────────────┤»\n",
       "   q_3: ┤ Rx(-0.63573) ├─┤ Ry(2.4027) ├┤ Rx(-1.2049) ├─────■──┤ Rx(2.8593) ├»\n",
       "        └──────────────┘ └────────────┘└─────────────┘        └────────────┘»\n",
       "meas: 4/════════════════════════════════════════════════════════════════════»\n",
       "                                                                            »\n",
       "«                         ┌─────────────┐┌─────────┐ ┌─────────┐      »\n",
       "«   q_0: ───────────────■─┤ Rx(-2.0895) ├┤ Ry(π/2) ├─┤ Rx(π/2) ├────■─»\n",
       "«                       │ ├─────────────┤├─────────┤ ├─────────┤    │ »\n",
       "«   q_1: ────────────■──┼─┤ Rx(-1.0984) ├┤ Ry(π/2) ├─┤ Rx(π/2) ├─■──┼─»\n",
       "«        ┌─────────┐ │  │ └─┬─────────┬─┘├─────────┴┐└─────────┘ │  │ »\n",
       "«   q_2: ┤ Ry(π/2) ├─■──┼───┤ Rx(π/2) ├──┤ Ry(-π/2) ├────────────■──┼─»\n",
       "«        ├─────────┤    │   ├─────────┤  ├──────────┤               │ »\n",
       "«   q_3: ┤ Ry(π/2) ├────■───┤ Rx(π/2) ├──┤ Ry(-π/2) ├───────────────■─»\n",
       "«        └─────────┘        └─────────┘  └──────────┘                 »\n",
       "«meas: 4/═════════════════════════════════════════════════════════════»\n",
       "«                                                                     »\n",
       "«        ┌─────────────┐  ┌────────────┐┌─────────────┐    ┌─────────────┐»\n",
       "«   q_0: ┤ Rx(-2.1284) ├──┤ Ry(1.6463) ├┤ Rx(-2.5257) ├──■─┤ Rx(0.82587) ├»\n",
       "«        ├─────────────┴┐┌┴────────────┤└┬────────────┤  │ └┬───────────┬┘»\n",
       "«   q_1: ┤ Rx(-0.60476) ├┤ Ry(0.70816) ├─┤ Rx(2.7899) ├──■──┤ Rx(2.968) ├─»\n",
       "«        ├──────────────┤└┬────────────┤┌┴────────────┤    ┌┴───────────┴┐»\n",
       "«   q_2: ┤ Rx(-0.16084) ├─┤ Ry(1.4791) ├┤ Rx(0.37687) ├──■─┤ Rx(0.65963) ├»\n",
       "«        └┬────────────┬┘ ├────────────┤├─────────────┴┐ │ └┬────────────┤»\n",
       "«   q_3: ─┤ Rx(1.6073) ├──┤ Ry(1.3951) ├┤ Rx(-0.43295) ├─■──┤ Rx(2.7258) ├»\n",
       "«         └────────────┘  └────────────┘└──────────────┘    └────────────┘»\n",
       "«meas: 4/═════════════════════════════════════════════════════════════════»\n",
       "«                                                                         »\n",
       "«                      ┌─────────────┐┌─────────┐ ┌─────────┐   »\n",
       "«   q_0: ────────────■─┤ Rx(-1.9244) ├┤ Ry(π/2) ├─┤ Rx(π/2) ├─■─»\n",
       "«        ┌─────────┐ │ └─┬─────────┬─┘├─────────┴┐└─────────┘ │ »\n",
       "«   q_1: ┤ Ry(π/2) ├─■───┤ Rx(π/2) ├──┤ Ry(-π/2) ├────────────■─»\n",
       "«        └─────────┘   ┌─┴─────────┴─┐├─────────┬┘┌─────────┐   »\n",
       "«   q_2: ────────────■─┤ Rx(-1.0939) ├┤ Ry(π/2) ├─┤ Rx(π/2) ├─■─»\n",
       "«        ┌─────────┐ │ └─┬─────────┬─┘├─────────┴┐└─────────┘ │ »\n",
       "«   q_3: ┤ Ry(π/2) ├─■───┤ Rx(π/2) ├──┤ Ry(-π/2) ├────────────■─»\n",
       "«        └─────────┘     └─────────┘  └──────────┘              »\n",
       "«meas: 4/═══════════════════════════════════════════════════════»\n",
       "«                                                               »\n",
       "«         ┌────────────┐ ┌─────────────┐ ┌───────────┐     ┌─────────────┐»\n",
       "«   q_0: ─┤ Rx(2.3076) ├─┤ Ry(0.98107) ├─┤ Rx(1.585) ├───■─┤ Rx(0.40754) ├»\n",
       "«        ┌┴────────────┤ └┬────────────┤┌┴───────────┴┐  │ └─────────────┘»\n",
       "«   q_1: ┤ Rx(0.18526) ├──┤ Ry(2.5167) ├┤ Rx(-1.9465) ├──┼────────■───────»\n",
       "«        └┬────────────┤  ├────────────┤└┬────────────┤  │        │       »\n",
       "«   q_2: ─┤ Rx(-1.806) ├──┤ Ry(2.2512) ├─┤ Rx(1.8135) ├──■────────┼───────»\n",
       "«        ┌┴────────────┴┐┌┴────────────┤┌┴────────────┴┐          │       »\n",
       "«   q_3: ┤ Rx(-0.16248) ├┤ Ry(0.47464) ├┤ Rx(0.071919) ├──────────■───────»\n",
       "«        └──────────────┘└─────────────┘└──────────────┘                  »\n",
       "«meas: 4/═════════════════════════════════════════════════════════════════»\n",
       "«                                                                         »\n",
       "«                                     ┌─────────────┐  ┌─────────┐  »\n",
       "«   q_0: ───────────────────────────■─┤ Rx(-1.4381) ├──┤ Ry(π/2) ├──»\n",
       "«        ┌─────────────┐            │ └─────────────┘┌─┴─────────┴─┐»\n",
       "«   q_1: ┤ Rx(0.50866) ├────────────┼────────■───────┤ Rx(-1.7934) ├»\n",
       "«        └┬────────────┤┌─────────┐ │        │       └─┬─────────┬─┘»\n",
       "«   q_2: ─┤ Rx(2.6092) ├┤ Ry(π/2) ├─■────────┼─────────┤ Rx(π/2) ├──»\n",
       "«         ├────────────┤├─────────┤          │         ├─────────┤  »\n",
       "«   q_3: ─┤ Rx(2.7914) ├┤ Ry(π/2) ├──────────■─────────┤ Rx(π/2) ├──»\n",
       "«         └────────────┘└─────────┘                    └─────────┘  »\n",
       "«meas: 4/═══════════════════════════════════════════════════════════»\n",
       "«                                                                   »\n",
       "«        ┌─────────┐               ┌─────────────┐ ┌────────────┐»\n",
       "«   q_0: ┤ Rx(π/2) ├─────────────■─┤ Rx(-2.5891) ├─┤ Ry(2.8194) ├»\n",
       "«        ├─────────┤ ┌─────────┐ │ └─────────────┘┌┴────────────┤»\n",
       "«   q_1: ┤ Ry(π/2) ├─┤ Rx(π/2) ├─┼────────■───────┤ Rx(-3.1027) ├»\n",
       "«        ├─────────┴┐└─────────┘ │        │       ├─────────────┤»\n",
       "«   q_2: ┤ Ry(-π/2) ├────────────■────────┼───────┤ Rx(-1.1436) ├»\n",
       "«        ├──────────┤                     │       ├─────────────┤»\n",
       "«   q_3: ┤ Ry(-π/2) ├─────────────────────■───────┤ Rx(0.52885) ├»\n",
       "«        └──────────┘                             └─────────────┘»\n",
       "«meas: 4/════════════════════════════════════════════════════════»\n",
       "«                                                                »\n",
       "«         ┌────────────┐                ░ ┌─┐         \n",
       "«   q_0: ─┤ Rx(1.5361) ├────────────────░─┤M├─────────\n",
       "«         ├────────────┤┌─────────────┐ ░ └╥┘┌─┐      \n",
       "«   q_1: ─┤ Ry(1.2515) ├┤ Rx(0.79406) ├─░──╫─┤M├──────\n",
       "«        ┌┴────────────┤├─────────────┤ ░  ║ └╥┘┌─┐   \n",
       "«   q_2: ┤ Ry(0.46588) ├┤ Rx(-3.0714) ├─░──╫──╫─┤M├───\n",
       "«        └┬────────────┤├─────────────┤ ░  ║  ║ └╥┘┌─┐\n",
       "«   q_3: ─┤ Ry(2.2818) ├┤ Rx(-1.6638) ├─░──╫──╫──╫─┤M├\n",
       "«         └────────────┘└─────────────┘ ░  ║  ║  ║ └╥┘\n",
       "«meas: 4/══════════════════════════════════╩══╩══╩══╩═\n",
       "«                                          0  1  2  3 "
      ]
     },
     "execution_count": 38,
     "metadata": {},
     "output_type": "execute_result"
    }
   ],
   "source": [
    "decomposed_circuit.draw()"
   ]
  },
  {
   "cell_type": "code",
   "execution_count": 39,
   "metadata": {},
   "outputs": [
    {
     "name": "stderr",
     "output_type": "stream",
     "text": [
      "/home/marco/GitHub_Qruise/qruise-toolset/src/qruise/toolset/qiskit/backends.py:332: UserWarning:\n",
      "\n",
      "The following operations are not supported yet: ['measure', 'barrier']\n",
      "\n"
     ]
    }
   ],
   "source": [
    "job_results = qruise_backend.run(decomposed_circuit, shots=1000, memory=True)"
   ]
  },
  {
   "cell_type": "code",
   "execution_count": 40,
   "metadata": {},
   "outputs": [
    {
     "data": {
      "image/png": "[encoded data removed]",
      "text/plain": [
       "<Figure size 700x500 with 1 Axes>"
      ]
     },
     "execution_count": 40,
     "metadata": {},
     "output_type": "execute_result"
    }
   ],
   "source": [
    "plot_histogram(job_results.result().get_counts())"
   ]
  },
  {
   "cell_type": "code",
   "execution_count": 41,
   "metadata": {},
   "outputs": [
    {
     "data": {
      "text/plain": [
       "{'counts': {'0x0': 65,\n",
       "  '0x8': 171,\n",
       "  '0x4': 111,\n",
       "  '0xc': 31,\n",
       "  '0x2': 7,\n",
       "  '0xa': 36,\n",
       "  '0x6': 223,\n",
       "  '0xe': 42,\n",
       "  '0x1': 59,\n",
       "  '0x9': 28,\n",
       "  '0x5': 40,\n",
       "  '0xd': 20,\n",
       "  '0x3': 0,\n",
       "  '0xb': 34,\n",
       "  '0x7': 77,\n",
       "  '0xf': 52},\n",
       " 'state_pops': {'(0, 0, 0, 0)': 0.06233576399036546,\n",
       "  '(0, 0, 0, 1)': 0.18045678370310786,\n",
       "  '(0, 0, 0, 2)': 2.3161421544847867e-05,\n",
       "  '(0, 0, 1, 0)': 0.10508517822215327,\n",
       "  '(0, 0, 1, 1)': 0.0376156747671694,\n",
       "  '(0, 0, 1, 2)': 2.329331933077433e-06,\n",
       "  '(0, 0, 2, 0)': 1.7122254088009609e-06,\n",
       "  '(0, 0, 2, 1)': 1.1147675897597992e-05,\n",
       "  '(0, 0, 2, 2)': 2.5249296524034647e-05,\n",
       "  '(0, 1, 0, 0)': 0.009544722064919986,\n",
       "  '(0, 1, 0, 1)': 0.03940909113885947,\n",
       "  '(0, 1, 0, 2)': 6.45811598456768e-06,\n",
       "  '(0, 1, 1, 0)': 0.2255019134607583,\n",
       "  '(0, 1, 1, 1)': 0.03920006260930214,\n",
       "  '(0, 1, 1, 2)': 2.736872293909243e-06,\n",
       "  '(0, 1, 2, 0)': 5.632315891668746e-06,\n",
       "  '(0, 1, 2, 1)': 3.1774700635148885e-06,\n",
       "  '(0, 1, 2, 2)': 4.0625998125750215e-06,\n",
       "  '(0, 2, 0, 0)': 2.8915242643420464e-06,\n",
       "  '(0, 2, 0, 1)': 5.718697831482774e-06,\n",
       "  '(0, 2, 0, 2)': 2.2614530107276825e-06,\n",
       "  '(0, 2, 1, 0)': 9.866626127420392e-06,\n",
       "  '(0, 2, 1, 1)': 1.3209560210447137e-05,\n",
       "  '(0, 2, 1, 2)': 5.189330463924767e-07,\n",
       "  '(0, 2, 2, 0)': 0.0004523941237706557,\n",
       "  '(0, 2, 2, 1)': 0.000405367215850641,\n",
       "  '(1, 0, 0, 0)': 0.05860866401341268,\n",
       "  '(1, 0, 0, 1)': 0.03570096845166532,\n",
       "  '(1, 0, 0, 2)': 1.2140525115590444e-05,\n",
       "  '(1, 0, 1, 0)': 0.024735806970694933,\n",
       "  '(1, 0, 1, 1)': 0.012606020624492058,\n",
       "  '(1, 0, 1, 2)': 6.887241327042165e-07,\n",
       "  '(1, 0, 2, 0)': 2.038559033962025e-06,\n",
       "  '(1, 0, 2, 1)': 1.8933650064189047e-08,\n",
       "  '(1, 0, 2, 2)': 2.384677127645164e-05,\n",
       "  '(1, 1, 0, 0)': 0.0027238269531731406,\n",
       "  '(1, 1, 0, 1)': 0.02068867651088471,\n",
       "  '(1, 1, 0, 2)': 5.921266205243441e-06,\n",
       "  '(1, 1, 1, 0)': 0.08682042420990504,\n",
       "  '(1, 1, 1, 1)': 0.05687990674893744,\n",
       "  '(1, 1, 1, 2)': 1.949282769988758e-06,\n",
       "  '(1, 1, 2, 0)': 5.1168158370619745e-06,\n",
       "  '(1, 1, 2, 1)': 7.872602316176239e-06,\n",
       "  '(1, 2, 0, 0)': 5.8364651488253465e-06,\n",
       "  '(1, 2, 0, 1)': 4.1518827646002064e-06,\n",
       "  '(1, 2, 0, 2)': 1.0250577467109825e-06,\n",
       "  '(1, 2, 1, 0)': 8.92795828506227e-07,\n",
       "  '(1, 2, 1, 1)': 1.8891462341179689e-06,\n",
       "  '(1, 2, 2, 0)': 0.00023853638665525948,\n",
       "  '(2, 0, 0, 0)': 4.477002892575638e-06,\n",
       "  '(2, 0, 0, 1)': 5.537658054060384e-06,\n",
       "  '(2, 0, 0, 2)': 0.0002499460215825014,\n",
       "  '(2, 0, 1, 0)': 1.6235779652174651e-06,\n",
       "  '(2, 0, 1, 1)': 1.4483986051475025e-05,\n",
       "  '(2, 0, 1, 2)': 0.000415890144131548,\n",
       "  '(2, 0, 2, 0)': 1.2189942729057981e-05,\n",
       "  '(2, 0, 2, 1)': 1.017721672895159e-06,\n",
       "  '(2, 1, 0, 0)': 2.3060968657130978e-06,\n",
       "  '(2, 1, 0, 1)': 2.7358651759001236e-06,\n",
       "  '(2, 1, 0, 2)': 4.1329329340854315e-05,\n",
       "  '(2, 1, 1, 0)': 2.1767720478908648e-06,\n",
       "  '(2, 1, 1, 1)': 5.153702114822506e-06,\n",
       "  '(2, 1, 2, 0)': 8.102390773906196e-06,\n",
       "  '(2, 2, 0, 0)': 1.465418393477251e-05,\n",
       "  '(2, 2, 0, 1)': 5.423227780755218e-06,\n",
       "  '(2, 2, 1, 0)': 9.647268777638168e-06}}"
      ]
     },
     "execution_count": 41,
     "metadata": {},
     "output_type": "execute_result"
    }
   ],
   "source": [
    "job_results.result().data()"
   ]
  },
  {
   "cell_type": "code",
   "execution_count": 42,
   "metadata": {},
   "outputs": [
    {
     "data": {
      "image/png": "[encoded data removed]",
      "text/plain": [
       "<Figure size 700x500 with 1 Axes>"
      ]
     },
     "execution_count": 42,
     "metadata": {},
     "output_type": "execute_result"
    }
   ],
   "source": [
    "plot_histogram(ideal_results)"
   ]
  },
  {
   "cell_type": "code",
   "execution_count": 45,
   "metadata": {},
   "outputs": [
    {
     "name": "stdout",
     "output_type": "stream",
     "text": [
      "Quantum Volume: 16\n",
      "Percentage Heavy Outputs: 83.5%\n",
      "Passed?: True\n",
      "\n"
     ]
    },
    {
     "data": {
      "text/plain": [
       "True"
      ]
     },
     "execution_count": 45,
     "metadata": {},
     "output_type": "execute_result"
    }
   ],
   "source": [
    "from utils import quantum_volume\n",
    "quantum_volume(qruise_backend, ncircuits=150, nqubits=4, nshots=200)"
   ]
  },
  {
   "cell_type": "code",
   "execution_count": null,
   "metadata": {},
   "outputs": [],
   "source": []
  }
 ],
 "metadata": {
  "kernelspec": {
   "display_name": "qruise-env",
   "language": "python",
   "name": "python3"
  },
  "language_info": {
   "codemirror_mode": {
    "name": "ipython",
    "version": 3
   },
   "file_extension": ".py",
   "mimetype": "text/x-python",
   "name": "python",
   "nbconvert_exporter": "python",
   "pygments_lexer": "ipython3",
   "version": "3.10.12"
  }
 },
 "nbformat": 4,
 "nbformat_minor": 2
}
